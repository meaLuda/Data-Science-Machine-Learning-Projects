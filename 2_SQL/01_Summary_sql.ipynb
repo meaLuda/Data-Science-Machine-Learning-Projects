{
 "cells": [
  {
   "cell_type": "markdown",
   "metadata": {},
   "source": [
    "## SQL SUMMARY TUTORIOL"
   ]
  },
  {
   "cell_type": "markdown",
   "metadata": {},
   "source": [
    "### CONN. TO DATABASE\n",
    "\n",
    "* We will first load the sql extension into our environment\n",
    "* Then connect to our in memory sqlite database\n",
    "* NB: This database will cease to exist as soon as the database connection is closed. "
   ]
  },
  {
   "cell_type": "code",
   "execution_count": 46,
   "metadata": {},
   "outputs": [
    {
     "name": "stdout",
     "output_type": "stream",
     "text": [
      "Requirement already satisfied: ipython-sql in /home/eliudluda/anaconda3/envs/ds_ml_env/lib/python3.7/site-packages (0.4.0)\n",
      "Requirement already satisfied: six in /home/eliudluda/anaconda3/envs/ds_ml_env/lib/python3.7/site-packages (from ipython-sql) (1.16.0)\n",
      "Requirement already satisfied: sqlalchemy>=0.6.7 in /home/eliudluda/anaconda3/envs/ds_ml_env/lib/python3.7/site-packages (from ipython-sql) (1.4.31)\n",
      "Requirement already satisfied: ipython>=1.0 in /home/eliudluda/anaconda3/envs/ds_ml_env/lib/python3.7/site-packages (from ipython-sql) (7.31.1)\n",
      "Requirement already satisfied: prettytable<1 in /home/eliudluda/anaconda3/envs/ds_ml_env/lib/python3.7/site-packages (from ipython-sql) (0.7.2)\n",
      "Requirement already satisfied: ipython-genutils>=0.1.0 in /home/eliudluda/anaconda3/envs/ds_ml_env/lib/python3.7/site-packages (from ipython-sql) (0.2.0)\n",
      "Requirement already satisfied: sqlparse in /home/eliudluda/anaconda3/envs/ds_ml_env/lib/python3.7/site-packages (from ipython-sql) (0.4.2)\n",
      "Requirement already satisfied: jedi>=0.16 in /home/eliudluda/anaconda3/envs/ds_ml_env/lib/python3.7/site-packages (from ipython>=1.0->ipython-sql) (0.18.1)\n",
      "Requirement already satisfied: pickleshare in /home/eliudluda/anaconda3/envs/ds_ml_env/lib/python3.7/site-packages (from ipython>=1.0->ipython-sql) (0.7.5)\n",
      "Requirement already satisfied: traitlets>=4.2 in /home/eliudluda/anaconda3/envs/ds_ml_env/lib/python3.7/site-packages (from ipython>=1.0->ipython-sql) (5.1.1)\n",
      "Requirement already satisfied: prompt-toolkit!=3.0.0,!=3.0.1,<3.1.0,>=2.0.0 in /home/eliudluda/anaconda3/envs/ds_ml_env/lib/python3.7/site-packages (from ipython>=1.0->ipython-sql) (3.0.20)\n",
      "Requirement already satisfied: pexpect>4.3 in /home/eliudluda/anaconda3/envs/ds_ml_env/lib/python3.7/site-packages (from ipython>=1.0->ipython-sql) (4.8.0)\n",
      "Requirement already satisfied: decorator in /home/eliudluda/anaconda3/envs/ds_ml_env/lib/python3.7/site-packages (from ipython>=1.0->ipython-sql) (5.1.1)\n",
      "Requirement already satisfied: matplotlib-inline in /home/eliudluda/anaconda3/envs/ds_ml_env/lib/python3.7/site-packages (from ipython>=1.0->ipython-sql) (0.1.2)\n",
      "Requirement already satisfied: pygments in /home/eliudluda/anaconda3/envs/ds_ml_env/lib/python3.7/site-packages (from ipython>=1.0->ipython-sql) (2.10.0)\n",
      "Requirement already satisfied: backcall in /home/eliudluda/anaconda3/envs/ds_ml_env/lib/python3.7/site-packages (from ipython>=1.0->ipython-sql) (0.2.0)\n",
      "Requirement already satisfied: setuptools>=18.5 in /home/eliudluda/anaconda3/envs/ds_ml_env/lib/python3.7/site-packages (from ipython>=1.0->ipython-sql) (58.0.4)\n",
      "Requirement already satisfied: parso<0.9.0,>=0.8.0 in /home/eliudluda/anaconda3/envs/ds_ml_env/lib/python3.7/site-packages (from jedi>=0.16->ipython>=1.0->ipython-sql) (0.8.3)\n",
      "Requirement already satisfied: ptyprocess>=0.5 in /home/eliudluda/anaconda3/envs/ds_ml_env/lib/python3.7/site-packages (from pexpect>4.3->ipython>=1.0->ipython-sql) (0.7.0)\n",
      "Requirement already satisfied: wcwidth in /home/eliudluda/anaconda3/envs/ds_ml_env/lib/python3.7/site-packages (from prompt-toolkit!=3.0.0,!=3.0.1,<3.1.0,>=2.0.0->ipython>=1.0->ipython-sql) (0.2.5)\n",
      "Requirement already satisfied: importlib-metadata in /home/eliudluda/anaconda3/envs/ds_ml_env/lib/python3.7/site-packages (from sqlalchemy>=0.6.7->ipython-sql) (4.8.2)\n",
      "Requirement already satisfied: greenlet!=0.4.17 in /home/eliudluda/anaconda3/envs/ds_ml_env/lib/python3.7/site-packages (from sqlalchemy>=0.6.7->ipython-sql) (1.1.2)\n",
      "Requirement already satisfied: zipp>=0.5 in /home/eliudluda/anaconda3/envs/ds_ml_env/lib/python3.7/site-packages (from importlib-metadata->sqlalchemy>=0.6.7->ipython-sql) (3.7.0)\n",
      "Requirement already satisfied: typing-extensions>=3.6.4 in /home/eliudluda/anaconda3/envs/ds_ml_env/lib/python3.7/site-packages (from importlib-metadata->sqlalchemy>=0.6.7->ipython-sql) (3.10.0.2)\n"
     ]
    }
   ],
   "source": [
    "!pip install ipython-sql"
   ]
  },
  {
   "cell_type": "code",
   "execution_count": 1,
   "metadata": {},
   "outputs": [],
   "source": [
    "#python imports\n",
    "import csv\n",
    "import pandas as pd\n",
    "import sqlite3\n",
    "import sqlalchemy"
   ]
  },
  {
   "cell_type": "code",
   "execution_count": 2,
   "metadata": {},
   "outputs": [],
   "source": [
    "%load_ext sql\n",
    "%sql sqlite://"
   ]
  },
  {
   "cell_type": "code",
   "execution_count": 3,
   "metadata": {},
   "outputs": [],
   "source": [
    "# Upon uploading our file, we will then load our first table from the CSV file as shown \n",
    "# We are going to use one of pandas function which is read_csv(). This function helps us to load data from csv files into python. It takes a several arguments/ parameters but we are going to use only a few for now. \n",
    "# The first arugument is the path of the csv file. This tells the function where your csv is located and the name of the csv. It can also be a url.\n",
    "# The second argument, index_col, tells pandas to use the row indexes as the row labels.\n",
    "with open('/home/eliudluda/Desktop/Data_Science/data/HIV_Prevention_Adolescents_2021.csv','r') as f:\n",
    "    Hiv = pd.read_csv(f, index_col=0, encoding='utf-8') \n"
   ]
  },
  {
   "cell_type": "code",
   "execution_count": 4,
   "metadata": {},
   "outputs": [
    {
     "data": {
      "text/html": [
       "<div>\n",
       "<style scoped>\n",
       "    .dataframe tbody tr th:only-of-type {\n",
       "        vertical-align: middle;\n",
       "    }\n",
       "\n",
       "    .dataframe tbody tr th {\n",
       "        vertical-align: top;\n",
       "    }\n",
       "\n",
       "    .dataframe thead th {\n",
       "        text-align: right;\n",
       "    }\n",
       "</style>\n",
       "<table border=\"1\" class=\"dataframe\">\n",
       "  <thead>\n",
       "    <tr style=\"text-align: right;\">\n",
       "      <th></th>\n",
       "      <th>Unnamed: 1</th>\n",
       "      <th>Unnamed: 2</th>\n",
       "      <th>Unnamed: 3</th>\n",
       "      <th>Unnamed: 4</th>\n",
       "      <th>Unnamed: 5</th>\n",
       "      <th>Unnamed: 6</th>\n",
       "      <th>Unnamed: 7</th>\n",
       "      <th>Unnamed: 8</th>\n",
       "      <th>Unnamed: 9</th>\n",
       "      <th>Unnamed: 10</th>\n",
       "      <th>Unnamed: 11</th>\n",
       "      <th>Unnamed: 12</th>\n",
       "      <th>Unnamed: 13</th>\n",
       "      <th>Unnamed: 14</th>\n",
       "    </tr>\n",
       "    <tr>\n",
       "      <th>Key indicators in adolescent HIV prevention, 2000-2021</th>\n",
       "      <th></th>\n",
       "      <th></th>\n",
       "      <th></th>\n",
       "      <th></th>\n",
       "      <th></th>\n",
       "      <th></th>\n",
       "      <th></th>\n",
       "      <th></th>\n",
       "      <th></th>\n",
       "      <th></th>\n",
       "      <th></th>\n",
       "      <th></th>\n",
       "      <th></th>\n",
       "      <th></th>\n",
       "    </tr>\n",
       "  </thead>\n",
       "  <tbody>\n",
       "    <tr>\n",
       "      <th>ISO3</th>\n",
       "      <td>Country</td>\n",
       "      <td>UNICEF Region</td>\n",
       "      <td>Indicator</td>\n",
       "      <td>Data Source</td>\n",
       "      <td>Year</td>\n",
       "      <td>Sex</td>\n",
       "      <td>Age</td>\n",
       "      <td>DISAGG_CATEGORY</td>\n",
       "      <td>DISAGG</td>\n",
       "      <td>Value</td>\n",
       "      <td>NaN</td>\n",
       "      <td>NaN</td>\n",
       "      <td>NaN</td>\n",
       "      <td>NaN</td>\n",
       "    </tr>\n",
       "    <tr>\n",
       "      <th>AFG</th>\n",
       "      <td>Afghanistan</td>\n",
       "      <td>South Asia</td>\n",
       "      <td>Per cent with comprehensive, correct knowledge...</td>\n",
       "      <td>Demographic and Health Survey 2015</td>\n",
       "      <td>2015</td>\n",
       "      <td>Female</td>\n",
       "      <td>15-19</td>\n",
       "      <td>Age</td>\n",
       "      <td>15-19</td>\n",
       "      <td>0.60</td>\n",
       "      <td>NaN</td>\n",
       "      <td>NaN</td>\n",
       "      <td>NaN</td>\n",
       "      <td>NaN</td>\n",
       "    </tr>\n",
       "    <tr>\n",
       "      <th>AFG</th>\n",
       "      <td>Afghanistan</td>\n",
       "      <td>South Asia</td>\n",
       "      <td>Per cent with comprehensive, correct knowledge...</td>\n",
       "      <td>Demographic and Health Survey 2015</td>\n",
       "      <td>2015</td>\n",
       "      <td>Male</td>\n",
       "      <td>15-19</td>\n",
       "      <td>Age</td>\n",
       "      <td>15-19</td>\n",
       "      <td>4.30</td>\n",
       "      <td>NaN</td>\n",
       "      <td>NaN</td>\n",
       "      <td>NaN</td>\n",
       "      <td>NaN</td>\n",
       "    </tr>\n",
       "    <tr>\n",
       "      <th>AFG</th>\n",
       "      <td>Afghanistan</td>\n",
       "      <td>South Asia</td>\n",
       "      <td>Per cent with comprehensive, correct knowledge...</td>\n",
       "      <td>Demographic and Health Survey 2015</td>\n",
       "      <td>2015</td>\n",
       "      <td>Female</td>\n",
       "      <td>14-Oct</td>\n",
       "      <td>Age</td>\n",
       "      <td>14-Oct</td>\n",
       "      <td>1.00</td>\n",
       "      <td>NaN</td>\n",
       "      <td>NaN</td>\n",
       "      <td>NaN</td>\n",
       "      <td>NaN</td>\n",
       "    </tr>\n",
       "    <tr>\n",
       "      <th>AFG</th>\n",
       "      <td>Afghanistan</td>\n",
       "      <td>South Asia</td>\n",
       "      <td>Per cent with comprehensive, correct knowledge...</td>\n",
       "      <td>Demographic and Health Survey 2015</td>\n",
       "      <td>2015</td>\n",
       "      <td>Female</td>\n",
       "      <td>14-Oct</td>\n",
       "      <td>Education</td>\n",
       "      <td>Higher</td>\n",
       "      <td>5.50</td>\n",
       "      <td>NaN</td>\n",
       "      <td>NaN</td>\n",
       "      <td>NaN</td>\n",
       "      <td>NaN</td>\n",
       "    </tr>\n",
       "  </tbody>\n",
       "</table>\n",
       "</div>"
      ],
      "text/plain": [
       "                                                     Unnamed: 1  \\\n",
       "Key indicators in adolescent HIV prevention, 20...                \n",
       "ISO3                                                    Country   \n",
       "AFG                                                 Afghanistan   \n",
       "AFG                                                 Afghanistan   \n",
       "AFG                                                 Afghanistan   \n",
       "AFG                                                 Afghanistan   \n",
       "\n",
       "                                                       Unnamed: 2  \\\n",
       "Key indicators in adolescent HIV prevention, 20...                  \n",
       "ISO3                                                UNICEF Region   \n",
       "AFG                                                    South Asia   \n",
       "AFG                                                    South Asia   \n",
       "AFG                                                    South Asia   \n",
       "AFG                                                    South Asia   \n",
       "\n",
       "                                                                                           Unnamed: 3  \\\n",
       "Key indicators in adolescent HIV prevention, 20...                                                      \n",
       "ISO3                                                                                        Indicator   \n",
       "AFG                                                 Per cent with comprehensive, correct knowledge...   \n",
       "AFG                                                 Per cent with comprehensive, correct knowledge...   \n",
       "AFG                                                 Per cent with comprehensive, correct knowledge...   \n",
       "AFG                                                 Per cent with comprehensive, correct knowledge...   \n",
       "\n",
       "                                                                            Unnamed: 4  \\\n",
       "Key indicators in adolescent HIV prevention, 20...                                       \n",
       "ISO3                                                                       Data Source   \n",
       "AFG                                                 Demographic and Health Survey 2015   \n",
       "AFG                                                 Demographic and Health Survey 2015   \n",
       "AFG                                                 Demographic and Health Survey 2015   \n",
       "AFG                                                 Demographic and Health Survey 2015   \n",
       "\n",
       "                                                   Unnamed: 5 Unnamed: 6  \\\n",
       "Key indicators in adolescent HIV prevention, 20...                         \n",
       "ISO3                                                     Year        Sex   \n",
       "AFG                                                      2015     Female   \n",
       "AFG                                                      2015       Male   \n",
       "AFG                                                      2015     Female   \n",
       "AFG                                                      2015     Female   \n",
       "\n",
       "                                                   Unnamed: 7  \\\n",
       "Key indicators in adolescent HIV prevention, 20...              \n",
       "ISO3                                                      Age   \n",
       "AFG                                                     15-19   \n",
       "AFG                                                     15-19   \n",
       "AFG                                                    14-Oct   \n",
       "AFG                                                    14-Oct   \n",
       "\n",
       "                                                         Unnamed: 8  \\\n",
       "Key indicators in adolescent HIV prevention, 20...                    \n",
       "ISO3                                                DISAGG_CATEGORY   \n",
       "AFG                                                             Age   \n",
       "AFG                                                             Age   \n",
       "AFG                                                             Age   \n",
       "AFG                                                       Education   \n",
       "\n",
       "                                                   Unnamed: 9 Unnamed: 10  \\\n",
       "Key indicators in adolescent HIV prevention, 20...                          \n",
       "ISO3                                                   DISAGG       Value   \n",
       "AFG                                                     15-19        0.60   \n",
       "AFG                                                     15-19        4.30   \n",
       "AFG                                                    14-Oct        1.00   \n",
       "AFG                                                    Higher        5.50   \n",
       "\n",
       "                                                    Unnamed: 11  Unnamed: 12  \\\n",
       "Key indicators in adolescent HIV prevention, 20...                             \n",
       "ISO3                                                        NaN          NaN   \n",
       "AFG                                                         NaN          NaN   \n",
       "AFG                                                         NaN          NaN   \n",
       "AFG                                                         NaN          NaN   \n",
       "AFG                                                         NaN          NaN   \n",
       "\n",
       "                                                    Unnamed: 13  Unnamed: 14  \n",
       "Key indicators in adolescent HIV prevention, 20...                            \n",
       "ISO3                                                        NaN          NaN  \n",
       "AFG                                                         NaN          NaN  \n",
       "AFG                                                         NaN          NaN  \n",
       "AFG                                                         NaN          NaN  \n",
       "AFG                                                         NaN          NaN  "
      ]
     },
     "execution_count": 4,
     "metadata": {},
     "output_type": "execute_result"
    }
   ],
   "source": [
    "# PRE-CLEANING\n",
    "Hiv.head()"
   ]
  },
  {
   "cell_type": "code",
   "execution_count": 5,
   "metadata": {},
   "outputs": [],
   "source": [
    "Hiv.columns = Hiv.iloc[0]"
   ]
  },
  {
   "cell_type": "code",
   "execution_count": 6,
   "metadata": {},
   "outputs": [],
   "source": [
    "new_hiv = Hiv.iloc[1:,:7]"
   ]
  },
  {
   "cell_type": "markdown",
   "metadata": {},
   "source": [
    "* We will then drop existing tables similar to the one that we will work with\n",
    "* in our current sqlite environment. Then push our Interpol data into a new \n",
    "* table within our current SQLite Database "
   ]
  },
  {
   "cell_type": "code",
   "execution_count": 7,
   "metadata": {},
   "outputs": [
    {
     "name": "stdout",
     "output_type": "stream",
     "text": [
      " * sqlite://\n",
      "Done.\n"
     ]
    },
    {
     "data": {
      "text/plain": [
       "[]"
      ]
     },
     "execution_count": 7,
     "metadata": {},
     "output_type": "execute_result"
    }
   ],
   "source": [
    "%sql DROP TABLE if EXISTS new_hiv;"
   ]
  },
  {
   "cell_type": "code",
   "execution_count": 8,
   "metadata": {},
   "outputs": [
    {
     "name": "stdout",
     "output_type": "stream",
     "text": [
      " * sqlite://\n"
     ]
    },
    {
     "data": {
      "text/plain": [
       "'Persisted new_hiv'"
      ]
     },
     "execution_count": 8,
     "metadata": {},
     "output_type": "execute_result"
    }
   ],
   "source": [
    "%sql --persist new_hiv;"
   ]
  },
  {
   "cell_type": "code",
   "execution_count": 9,
   "metadata": {},
   "outputs": [
    {
     "name": "stdout",
     "output_type": "stream",
     "text": [
      " * sqlite://\n",
      "Done.\n"
     ]
    },
    {
     "data": {
      "text/html": [
       "<table>\n",
       "    <tr>\n",
       "        <th>Key indicators in adolescent HIV prevention, 2000-2021</th>\n",
       "        <th>Country</th>\n",
       "        <th>UNICEF Region</th>\n",
       "        <th>Indicator</th>\n",
       "        <th>Data Source</th>\n",
       "        <th>Year</th>\n",
       "        <th>Sex</th>\n",
       "        <th>Age</th>\n",
       "    </tr>\n",
       "    <tr>\n",
       "        <td>AFG</td>\n",
       "        <td>Afghanistan</td>\n",
       "        <td>South Asia</td>\n",
       "        <td>Per cent with comprehensive, correct knowledge of HIV</td>\n",
       "        <td>Demographic and Health Survey 2015</td>\n",
       "        <td>2015</td>\n",
       "        <td>Female</td>\n",
       "        <td>15-19</td>\n",
       "    </tr>\n",
       "    <tr>\n",
       "        <td>AFG</td>\n",
       "        <td>Afghanistan</td>\n",
       "        <td>South Asia</td>\n",
       "        <td>Per cent with comprehensive, correct knowledge of HIV</td>\n",
       "        <td>Demographic and Health Survey 2015</td>\n",
       "        <td>2015</td>\n",
       "        <td>Male</td>\n",
       "        <td>15-19</td>\n",
       "    </tr>\n",
       "    <tr>\n",
       "        <td>AFG</td>\n",
       "        <td>Afghanistan</td>\n",
       "        <td>South Asia</td>\n",
       "        <td>Per cent with comprehensive, correct knowledge of HIV</td>\n",
       "        <td>Demographic and Health Survey 2015</td>\n",
       "        <td>2015</td>\n",
       "        <td>Female</td>\n",
       "        <td>14-Oct</td>\n",
       "    </tr>\n",
       "    <tr>\n",
       "        <td>AFG</td>\n",
       "        <td>Afghanistan</td>\n",
       "        <td>South Asia</td>\n",
       "        <td>Per cent with comprehensive, correct knowledge of HIV</td>\n",
       "        <td>Demographic and Health Survey 2015</td>\n",
       "        <td>2015</td>\n",
       "        <td>Female</td>\n",
       "        <td>14-Oct</td>\n",
       "    </tr>\n",
       "    <tr>\n",
       "        <td>AFG</td>\n",
       "        <td>Afghanistan</td>\n",
       "        <td>South Asia</td>\n",
       "        <td>Per cent with comprehensive, correct knowledge of HIV</td>\n",
       "        <td>Demographic and Health Survey 2015</td>\n",
       "        <td>2015</td>\n",
       "        <td>Female</td>\n",
       "        <td>14-Oct</td>\n",
       "    </tr>\n",
       "    <tr>\n",
       "        <td>AFG</td>\n",
       "        <td>Afghanistan</td>\n",
       "        <td>South Asia</td>\n",
       "        <td>Per cent with comprehensive, correct knowledge of HIV</td>\n",
       "        <td>Demographic and Health Survey 2015</td>\n",
       "        <td>2015</td>\n",
       "        <td>Female</td>\n",
       "        <td>14-Oct</td>\n",
       "    </tr>\n",
       "    <tr>\n",
       "        <td>AFG</td>\n",
       "        <td>Afghanistan</td>\n",
       "        <td>South Asia</td>\n",
       "        <td>Per cent with comprehensive, correct knowledge of HIV</td>\n",
       "        <td>Demographic and Health Survey 2015</td>\n",
       "        <td>2015</td>\n",
       "        <td>Female</td>\n",
       "        <td>14-Oct</td>\n",
       "    </tr>\n",
       "    <tr>\n",
       "        <td>AFG</td>\n",
       "        <td>Afghanistan</td>\n",
       "        <td>South Asia</td>\n",
       "        <td>Per cent with comprehensive, correct knowledge of HIV</td>\n",
       "        <td>Demographic and Health Survey 2015</td>\n",
       "        <td>2015</td>\n",
       "        <td>Female</td>\n",
       "        <td>14-Oct</td>\n",
       "    </tr>\n",
       "    <tr>\n",
       "        <td>AFG</td>\n",
       "        <td>Afghanistan</td>\n",
       "        <td>South Asia</td>\n",
       "        <td>Per cent with comprehensive, correct knowledge of HIV</td>\n",
       "        <td>Demographic and Health Survey 2015</td>\n",
       "        <td>2015</td>\n",
       "        <td>Female</td>\n",
       "        <td>14-Oct</td>\n",
       "    </tr>\n",
       "    <tr>\n",
       "        <td>AFG</td>\n",
       "        <td>Afghanistan</td>\n",
       "        <td>South Asia</td>\n",
       "        <td>Per cent with comprehensive, correct knowledge of HIV</td>\n",
       "        <td>Demographic and Health Survey 2015</td>\n",
       "        <td>2015</td>\n",
       "        <td>Female</td>\n",
       "        <td>14-Oct</td>\n",
       "    </tr>\n",
       "</table>"
      ],
      "text/plain": [
       "[('AFG', 'Afghanistan', 'South Asia', 'Per cent with comprehensive, correct knowledge of HIV', 'Demographic and Health Survey 2015', '2015', 'Female', '15-19'),\n",
       " ('AFG', 'Afghanistan', 'South Asia', 'Per cent with comprehensive, correct knowledge of HIV', 'Demographic and Health Survey 2015', '2015', 'Male', '15-19'),\n",
       " ('AFG', 'Afghanistan', 'South Asia', 'Per cent with comprehensive, correct knowledge of HIV', 'Demographic and Health Survey 2015', '2015', 'Female', '14-Oct'),\n",
       " ('AFG', 'Afghanistan', 'South Asia', 'Per cent with comprehensive, correct knowledge of HIV', 'Demographic and Health Survey 2015', '2015', 'Female', '14-Oct'),\n",
       " ('AFG', 'Afghanistan', 'South Asia', 'Per cent with comprehensive, correct knowledge of HIV', 'Demographic and Health Survey 2015', '2015', 'Female', '14-Oct'),\n",
       " ('AFG', 'Afghanistan', 'South Asia', 'Per cent with comprehensive, correct knowledge of HIV', 'Demographic and Health Survey 2015', '2015', 'Female', '14-Oct'),\n",
       " ('AFG', 'Afghanistan', 'South Asia', 'Per cent with comprehensive, correct knowledge of HIV', 'Demographic and Health Survey 2015', '2015', 'Female', '14-Oct'),\n",
       " ('AFG', 'Afghanistan', 'South Asia', 'Per cent with comprehensive, correct knowledge of HIV', 'Demographic and Health Survey 2015', '2015', 'Female', '14-Oct'),\n",
       " ('AFG', 'Afghanistan', 'South Asia', 'Per cent with comprehensive, correct knowledge of HIV', 'Demographic and Health Survey 2015', '2015', 'Female', '14-Oct'),\n",
       " ('AFG', 'Afghanistan', 'South Asia', 'Per cent with comprehensive, correct knowledge of HIV', 'Demographic and Health Survey 2015', '2015', 'Female', '14-Oct')]"
      ]
     },
     "execution_count": 9,
     "metadata": {},
     "output_type": "execute_result"
    }
   ],
   "source": [
    "%%sql \n",
    "SELECT * FROM new_hiv\n",
    "LIMIT 10;"
   ]
  },
  {
   "cell_type": "code",
   "execution_count": 17,
   "metadata": {},
   "outputs": [
    {
     "name": "stdout",
     "output_type": "stream",
     "text": [
      " * sqlite://\n",
      "Done.\n"
     ]
    },
    {
     "data": {
      "text/html": [
       "<table>\n",
       "    <tr>\n",
       "        <th>max_yr</th>\n",
       "        <th>min_yr</th>\n",
       "    </tr>\n",
       "    <tr>\n",
       "        <td>2020</td>\n",
       "        <td>1999</td>\n",
       "    </tr>\n",
       "</table>"
      ],
      "text/plain": [
       "[('2020', '1999')]"
      ]
     },
     "execution_count": 17,
     "metadata": {},
     "output_type": "execute_result"
    }
   ],
   "source": [
    "%%sql\n",
    "SELECT MAX(Year) as max_yr, MIN(Year) as min_yr FROM new_hiv\n"
   ]
  },
  {
   "cell_type": "code",
   "execution_count": 13,
   "metadata": {},
   "outputs": [
    {
     "name": "stdout",
     "output_type": "stream",
     "text": [
      " * sqlite://\n",
      "Done.\n"
     ]
    },
    {
     "data": {
      "text/html": [
       "<table>\n",
       "    <tr>\n",
       "        <th>Country</th>\n",
       "        <th>UR</th>\n",
       "        <th>Year</th>\n",
       "        <th>Sex</th>\n",
       "        <th>Age</th>\n",
       "    </tr>\n",
       "    <tr>\n",
       "        <td>Kenya</td>\n",
       "        <td>Eastern and Southern Africa</td>\n",
       "        <td>2014</td>\n",
       "        <td>Female</td>\n",
       "        <td>15-19</td>\n",
       "    </tr>\n",
       "    <tr>\n",
       "        <td>Kenya</td>\n",
       "        <td>Eastern and Southern Africa</td>\n",
       "        <td>2014</td>\n",
       "        <td>Male</td>\n",
       "        <td>15-19</td>\n",
       "    </tr>\n",
       "    <tr>\n",
       "        <td>Kenya</td>\n",
       "        <td>Eastern and Southern Africa</td>\n",
       "        <td>2014</td>\n",
       "        <td>Female</td>\n",
       "        <td>14-Oct</td>\n",
       "    </tr>\n",
       "    <tr>\n",
       "        <td>Kenya</td>\n",
       "        <td>Eastern and Southern Africa</td>\n",
       "        <td>2014</td>\n",
       "        <td>Female</td>\n",
       "        <td>14-Oct</td>\n",
       "    </tr>\n",
       "    <tr>\n",
       "        <td>Kenya</td>\n",
       "        <td>Eastern and Southern Africa</td>\n",
       "        <td>2014</td>\n",
       "        <td>Female</td>\n",
       "        <td>14-Oct</td>\n",
       "    </tr>\n",
       "    <tr>\n",
       "        <td>Kenya</td>\n",
       "        <td>Eastern and Southern Africa</td>\n",
       "        <td>2014</td>\n",
       "        <td>Female</td>\n",
       "        <td>14-Oct</td>\n",
       "    </tr>\n",
       "    <tr>\n",
       "        <td>Kenya</td>\n",
       "        <td>Eastern and Southern Africa</td>\n",
       "        <td>2014</td>\n",
       "        <td>Female</td>\n",
       "        <td>14-Oct</td>\n",
       "    </tr>\n",
       "    <tr>\n",
       "        <td>Kenya</td>\n",
       "        <td>Eastern and Southern Africa</td>\n",
       "        <td>2014</td>\n",
       "        <td>Female</td>\n",
       "        <td>14-Oct</td>\n",
       "    </tr>\n",
       "    <tr>\n",
       "        <td>Kenya</td>\n",
       "        <td>Eastern and Southern Africa</td>\n",
       "        <td>2014</td>\n",
       "        <td>Female</td>\n",
       "        <td>14-Oct</td>\n",
       "    </tr>\n",
       "    <tr>\n",
       "        <td>Kenya</td>\n",
       "        <td>Eastern and Southern Africa</td>\n",
       "        <td>2014</td>\n",
       "        <td>Female</td>\n",
       "        <td>14-Oct</td>\n",
       "    </tr>\n",
       "</table>"
      ],
      "text/plain": [
       "[('Kenya', 'Eastern and Southern Africa', '2014', 'Female', '15-19'),\n",
       " ('Kenya', 'Eastern and Southern Africa', '2014', 'Male', '15-19'),\n",
       " ('Kenya', 'Eastern and Southern Africa', '2014', 'Female', '14-Oct'),\n",
       " ('Kenya', 'Eastern and Southern Africa', '2014', 'Female', '14-Oct'),\n",
       " ('Kenya', 'Eastern and Southern Africa', '2014', 'Female', '14-Oct'),\n",
       " ('Kenya', 'Eastern and Southern Africa', '2014', 'Female', '14-Oct'),\n",
       " ('Kenya', 'Eastern and Southern Africa', '2014', 'Female', '14-Oct'),\n",
       " ('Kenya', 'Eastern and Southern Africa', '2014', 'Female', '14-Oct'),\n",
       " ('Kenya', 'Eastern and Southern Africa', '2014', 'Female', '14-Oct'),\n",
       " ('Kenya', 'Eastern and Southern Africa', '2014', 'Female', '14-Oct')]"
      ]
     },
     "execution_count": 13,
     "metadata": {},
     "output_type": "execute_result"
    }
   ],
   "source": [
    "%%sql\n",
    "SELECT Country,\"UNICEF Region\" as UR,Year,Sex,Age FROM new_hiv\n",
    "WHERE Country = 'Kenya' \n",
    "ORDER BY Year DESC\n",
    "LIMIT 10;"
   ]
  },
  {
   "cell_type": "code",
   "execution_count": 75,
   "metadata": {},
   "outputs": [
    {
     "name": "stdout",
     "output_type": "stream",
     "text": [
      " * sqlite://\n",
      "Done.\n"
     ]
    },
    {
     "data": {
      "text/plain": [
       "[]"
      ]
     },
     "execution_count": 75,
     "metadata": {},
     "output_type": "execute_result"
    }
   ],
   "source": [
    "%%sql\n",
    "ALTER TABLE new_hiv ADD population"
   ]
  },
  {
   "cell_type": "code",
   "execution_count": 77,
   "metadata": {},
   "outputs": [
    {
     "name": "stdout",
     "output_type": "stream",
     "text": [
      " * sqlite://\n",
      "Done.\n"
     ]
    },
    {
     "data": {
      "text/html": [
       "<table>\n",
       "    <tr>\n",
       "        <th>Key indicators in adolescent HIV prevention, 2000-2021</th>\n",
       "        <th>Country</th>\n",
       "        <th>UNICEF Region</th>\n",
       "        <th>Indicator</th>\n",
       "        <th>Data Source</th>\n",
       "        <th>Year</th>\n",
       "        <th>Sex</th>\n",
       "        <th>Age</th>\n",
       "        <th>population</th>\n",
       "    </tr>\n",
       "    <tr>\n",
       "        <td>AFG</td>\n",
       "        <td>Afghanistan</td>\n",
       "        <td>South Asia</td>\n",
       "        <td>Per cent with comprehensive, correct knowledge of HIV</td>\n",
       "        <td>Demographic and Health Survey 2015</td>\n",
       "        <td>2015</td>\n",
       "        <td>Female</td>\n",
       "        <td>15-19</td>\n",
       "        <td>None</td>\n",
       "    </tr>\n",
       "    <tr>\n",
       "        <td>AFG</td>\n",
       "        <td>Afghanistan</td>\n",
       "        <td>South Asia</td>\n",
       "        <td>Per cent with comprehensive, correct knowledge of HIV</td>\n",
       "        <td>Demographic and Health Survey 2015</td>\n",
       "        <td>2015</td>\n",
       "        <td>Male</td>\n",
       "        <td>15-19</td>\n",
       "        <td>None</td>\n",
       "    </tr>\n",
       "    <tr>\n",
       "        <td>AFG</td>\n",
       "        <td>Afghanistan</td>\n",
       "        <td>South Asia</td>\n",
       "        <td>Per cent with comprehensive, correct knowledge of HIV</td>\n",
       "        <td>Demographic and Health Survey 2015</td>\n",
       "        <td>2015</td>\n",
       "        <td>Female</td>\n",
       "        <td>14-Oct</td>\n",
       "        <td>None</td>\n",
       "    </tr>\n",
       "    <tr>\n",
       "        <td>AFG</td>\n",
       "        <td>Afghanistan</td>\n",
       "        <td>South Asia</td>\n",
       "        <td>Per cent with comprehensive, correct knowledge of HIV</td>\n",
       "        <td>Demographic and Health Survey 2015</td>\n",
       "        <td>2015</td>\n",
       "        <td>Female</td>\n",
       "        <td>14-Oct</td>\n",
       "        <td>None</td>\n",
       "    </tr>\n",
       "    <tr>\n",
       "        <td>AFG</td>\n",
       "        <td>Afghanistan</td>\n",
       "        <td>South Asia</td>\n",
       "        <td>Per cent with comprehensive, correct knowledge of HIV</td>\n",
       "        <td>Demographic and Health Survey 2015</td>\n",
       "        <td>2015</td>\n",
       "        <td>Female</td>\n",
       "        <td>14-Oct</td>\n",
       "        <td>None</td>\n",
       "    </tr>\n",
       "    <tr>\n",
       "        <td>AFG</td>\n",
       "        <td>Afghanistan</td>\n",
       "        <td>South Asia</td>\n",
       "        <td>Per cent with comprehensive, correct knowledge of HIV</td>\n",
       "        <td>Demographic and Health Survey 2015</td>\n",
       "        <td>2015</td>\n",
       "        <td>Female</td>\n",
       "        <td>14-Oct</td>\n",
       "        <td>None</td>\n",
       "    </tr>\n",
       "    <tr>\n",
       "        <td>AFG</td>\n",
       "        <td>Afghanistan</td>\n",
       "        <td>South Asia</td>\n",
       "        <td>Per cent with comprehensive, correct knowledge of HIV</td>\n",
       "        <td>Demographic and Health Survey 2015</td>\n",
       "        <td>2015</td>\n",
       "        <td>Female</td>\n",
       "        <td>14-Oct</td>\n",
       "        <td>None</td>\n",
       "    </tr>\n",
       "    <tr>\n",
       "        <td>AFG</td>\n",
       "        <td>Afghanistan</td>\n",
       "        <td>South Asia</td>\n",
       "        <td>Per cent with comprehensive, correct knowledge of HIV</td>\n",
       "        <td>Demographic and Health Survey 2015</td>\n",
       "        <td>2015</td>\n",
       "        <td>Female</td>\n",
       "        <td>14-Oct</td>\n",
       "        <td>None</td>\n",
       "    </tr>\n",
       "    <tr>\n",
       "        <td>AFG</td>\n",
       "        <td>Afghanistan</td>\n",
       "        <td>South Asia</td>\n",
       "        <td>Per cent with comprehensive, correct knowledge of HIV</td>\n",
       "        <td>Demographic and Health Survey 2015</td>\n",
       "        <td>2015</td>\n",
       "        <td>Female</td>\n",
       "        <td>14-Oct</td>\n",
       "        <td>None</td>\n",
       "    </tr>\n",
       "    <tr>\n",
       "        <td>AFG</td>\n",
       "        <td>Afghanistan</td>\n",
       "        <td>South Asia</td>\n",
       "        <td>Per cent with comprehensive, correct knowledge of HIV</td>\n",
       "        <td>Demographic and Health Survey 2015</td>\n",
       "        <td>2015</td>\n",
       "        <td>Female</td>\n",
       "        <td>14-Oct</td>\n",
       "        <td>None</td>\n",
       "    </tr>\n",
       "</table>"
      ],
      "text/plain": [
       "[('AFG', 'Afghanistan', 'South Asia', 'Per cent with comprehensive, correct knowledge of HIV', 'Demographic and Health Survey 2015', '2015', 'Female', '15-19', None),\n",
       " ('AFG', 'Afghanistan', 'South Asia', 'Per cent with comprehensive, correct knowledge of HIV', 'Demographic and Health Survey 2015', '2015', 'Male', '15-19', None),\n",
       " ('AFG', 'Afghanistan', 'South Asia', 'Per cent with comprehensive, correct knowledge of HIV', 'Demographic and Health Survey 2015', '2015', 'Female', '14-Oct', None),\n",
       " ('AFG', 'Afghanistan', 'South Asia', 'Per cent with comprehensive, correct knowledge of HIV', 'Demographic and Health Survey 2015', '2015', 'Female', '14-Oct', None),\n",
       " ('AFG', 'Afghanistan', 'South Asia', 'Per cent with comprehensive, correct knowledge of HIV', 'Demographic and Health Survey 2015', '2015', 'Female', '14-Oct', None),\n",
       " ('AFG', 'Afghanistan', 'South Asia', 'Per cent with comprehensive, correct knowledge of HIV', 'Demographic and Health Survey 2015', '2015', 'Female', '14-Oct', None),\n",
       " ('AFG', 'Afghanistan', 'South Asia', 'Per cent with comprehensive, correct knowledge of HIV', 'Demographic and Health Survey 2015', '2015', 'Female', '14-Oct', None),\n",
       " ('AFG', 'Afghanistan', 'South Asia', 'Per cent with comprehensive, correct knowledge of HIV', 'Demographic and Health Survey 2015', '2015', 'Female', '14-Oct', None),\n",
       " ('AFG', 'Afghanistan', 'South Asia', 'Per cent with comprehensive, correct knowledge of HIV', 'Demographic and Health Survey 2015', '2015', 'Female', '14-Oct', None),\n",
       " ('AFG', 'Afghanistan', 'South Asia', 'Per cent with comprehensive, correct knowledge of HIV', 'Demographic and Health Survey 2015', '2015', 'Female', '14-Oct', None)]"
      ]
     },
     "execution_count": 77,
     "metadata": {},
     "output_type": "execute_result"
    }
   ],
   "source": [
    "%%sql\n",
    "SELECT * FROM new_hiv\n",
    "LIMIT 10"
   ]
  },
  {
   "cell_type": "markdown",
   "metadata": {},
   "source": [
    "> ---\n",
    "* Checking datatypes in our database table"
   ]
  },
  {
   "cell_type": "code",
   "execution_count": 78,
   "metadata": {},
   "outputs": [
    {
     "name": "stdout",
     "output_type": "stream",
     "text": [
      " * sqlite://\n",
      "Done.\n"
     ]
    },
    {
     "data": {
      "text/html": [
       "<table>\n",
       "    <tr>\n",
       "        <th>cid</th>\n",
       "        <th>name</th>\n",
       "        <th>type</th>\n",
       "        <th>notnull</th>\n",
       "        <th>dflt_value</th>\n",
       "        <th>pk</th>\n",
       "    </tr>\n",
       "    <tr>\n",
       "        <td>0</td>\n",
       "        <td>Key indicators in adolescent HIV prevention, 2000-2021</td>\n",
       "        <td>TEXT</td>\n",
       "        <td>0</td>\n",
       "        <td>None</td>\n",
       "        <td>0</td>\n",
       "    </tr>\n",
       "    <tr>\n",
       "        <td>1</td>\n",
       "        <td>Country</td>\n",
       "        <td>TEXT</td>\n",
       "        <td>0</td>\n",
       "        <td>None</td>\n",
       "        <td>0</td>\n",
       "    </tr>\n",
       "    <tr>\n",
       "        <td>2</td>\n",
       "        <td>UNICEF Region</td>\n",
       "        <td>TEXT</td>\n",
       "        <td>0</td>\n",
       "        <td>None</td>\n",
       "        <td>0</td>\n",
       "    </tr>\n",
       "    <tr>\n",
       "        <td>3</td>\n",
       "        <td>Indicator</td>\n",
       "        <td>TEXT</td>\n",
       "        <td>0</td>\n",
       "        <td>None</td>\n",
       "        <td>0</td>\n",
       "    </tr>\n",
       "    <tr>\n",
       "        <td>4</td>\n",
       "        <td>Data Source</td>\n",
       "        <td>TEXT</td>\n",
       "        <td>0</td>\n",
       "        <td>None</td>\n",
       "        <td>0</td>\n",
       "    </tr>\n",
       "    <tr>\n",
       "        <td>5</td>\n",
       "        <td>Year</td>\n",
       "        <td>TEXT</td>\n",
       "        <td>0</td>\n",
       "        <td>None</td>\n",
       "        <td>0</td>\n",
       "    </tr>\n",
       "    <tr>\n",
       "        <td>6</td>\n",
       "        <td>Sex</td>\n",
       "        <td>TEXT</td>\n",
       "        <td>0</td>\n",
       "        <td>None</td>\n",
       "        <td>0</td>\n",
       "    </tr>\n",
       "    <tr>\n",
       "        <td>7</td>\n",
       "        <td>Age</td>\n",
       "        <td>TEXT</td>\n",
       "        <td>0</td>\n",
       "        <td>None</td>\n",
       "        <td>0</td>\n",
       "    </tr>\n",
       "    <tr>\n",
       "        <td>8</td>\n",
       "        <td>population</td>\n",
       "        <td></td>\n",
       "        <td>0</td>\n",
       "        <td>None</td>\n",
       "        <td>0</td>\n",
       "    </tr>\n",
       "</table>"
      ],
      "text/plain": [
       "[(0, 'Key indicators in adolescent HIV prevention, 2000-2021', 'TEXT', 0, None, 0),\n",
       " (1, 'Country', 'TEXT', 0, None, 0),\n",
       " (2, 'UNICEF Region', 'TEXT', 0, None, 0),\n",
       " (3, 'Indicator', 'TEXT', 0, None, 0),\n",
       " (4, 'Data Source', 'TEXT', 0, None, 0),\n",
       " (5, 'Year', 'TEXT', 0, None, 0),\n",
       " (6, 'Sex', 'TEXT', 0, None, 0),\n",
       " (7, 'Age', 'TEXT', 0, None, 0),\n",
       " (8, 'population', '', 0, None, 0)]"
      ]
     },
     "execution_count": 78,
     "metadata": {},
     "output_type": "execute_result"
    }
   ],
   "source": [
    "%%sql\n",
    "PRAGMA table_info(new_hiv);"
   ]
  },
  {
   "cell_type": "code",
   "execution_count": 97,
   "metadata": {},
   "outputs": [
    {
     "name": "stdout",
     "output_type": "stream",
     "text": [
      " * sqlite://\n",
      "Done.\n"
     ]
    },
    {
     "data": {
      "text/html": [
       "<table>\n",
       "    <tr>\n",
       "        <th>Country</th>\n",
       "    </tr>\n",
       "    <tr>\n",
       "        <td>Zimbabwe</td>\n",
       "    </tr>\n",
       "    <tr>\n",
       "        <td>Zambia</td>\n",
       "    </tr>\n",
       "    <tr>\n",
       "        <td>Yemen</td>\n",
       "    </tr>\n",
       "    <tr>\n",
       "        <td>Viet Nam</td>\n",
       "    </tr>\n",
       "    <tr>\n",
       "        <td>Uruguay</td>\n",
       "    </tr>\n",
       "    <tr>\n",
       "        <td>United Republic of Tanzania</td>\n",
       "    </tr>\n",
       "    <tr>\n",
       "        <td>Ukraine</td>\n",
       "    </tr>\n",
       "    <tr>\n",
       "        <td>Uganda</td>\n",
       "    </tr>\n",
       "    <tr>\n",
       "        <td>Turkmenistan</td>\n",
       "    </tr>\n",
       "    <tr>\n",
       "        <td>Tunisia</td>\n",
       "    </tr>\n",
       "</table>"
      ],
      "text/plain": [
       "[('Zimbabwe',),\n",
       " ('Zambia',),\n",
       " ('Yemen',),\n",
       " ('Viet Nam',),\n",
       " ('Uruguay',),\n",
       " ('United Republic of Tanzania',),\n",
       " ('Ukraine',),\n",
       " ('Uganda',),\n",
       " ('Turkmenistan',),\n",
       " ('Tunisia',)]"
      ]
     },
     "execution_count": 97,
     "metadata": {},
     "output_type": "execute_result"
    }
   ],
   "source": [
    "%%sql\n",
    "SELECT DISTINCT Country FROM new_hiv\n",
    "ORDER BY Country DESC\n",
    "LIMIT 10\n"
   ]
  },
  {
   "cell_type": "markdown",
   "metadata": {},
   "source": [
    "### ..........."
   ]
  },
  {
   "cell_type": "code",
   "execution_count": 98,
   "metadata": {},
   "outputs": [
    {
     "name": "stdout",
     "output_type": "stream",
     "text": [
      " * sqlite://\n",
      "Done.\n"
     ]
    }
   ],
   "source": [
    "countries = %sql SELECT DISTINCT Country FROM new_hiv ORDER BY Country DESC LIMIT 10;"
   ]
  },
  {
   "cell_type": "code",
   "execution_count": 99,
   "metadata": {},
   "outputs": [
    {
     "data": {
      "text/html": [
       "<table>\n",
       "    <tr>\n",
       "        <th>Country</th>\n",
       "    </tr>\n",
       "    <tr>\n",
       "        <td>Zimbabwe</td>\n",
       "    </tr>\n",
       "    <tr>\n",
       "        <td>Zambia</td>\n",
       "    </tr>\n",
       "    <tr>\n",
       "        <td>Yemen</td>\n",
       "    </tr>\n",
       "    <tr>\n",
       "        <td>Viet Nam</td>\n",
       "    </tr>\n",
       "    <tr>\n",
       "        <td>Uruguay</td>\n",
       "    </tr>\n",
       "    <tr>\n",
       "        <td>United Republic of Tanzania</td>\n",
       "    </tr>\n",
       "    <tr>\n",
       "        <td>Ukraine</td>\n",
       "    </tr>\n",
       "    <tr>\n",
       "        <td>Uganda</td>\n",
       "    </tr>\n",
       "    <tr>\n",
       "        <td>Turkmenistan</td>\n",
       "    </tr>\n",
       "    <tr>\n",
       "        <td>Tunisia</td>\n",
       "    </tr>\n",
       "</table>"
      ],
      "text/plain": [
       "[('Zimbabwe',),\n",
       " ('Zambia',),\n",
       " ('Yemen',),\n",
       " ('Viet Nam',),\n",
       " ('Uruguay',),\n",
       " ('United Republic of Tanzania',),\n",
       " ('Ukraine',),\n",
       " ('Uganda',),\n",
       " ('Turkmenistan',),\n",
       " ('Tunisia',)]"
      ]
     },
     "execution_count": 99,
     "metadata": {},
     "output_type": "execute_result"
    }
   ],
   "source": [
    "countries"
   ]
  }
 ],
 "metadata": {
  "interpreter": {
   "hash": "d1e6cad420e4398edbb7ba2374d625154d5929472e7c7049b665a8784c474571"
  },
  "kernelspec": {
   "display_name": "Python 3 (ipykernel)",
   "language": "python",
   "name": "python3"
  },
  "language_info": {
   "codemirror_mode": {
    "name": "ipython",
    "version": 3
   },
   "file_extension": ".py",
   "mimetype": "text/x-python",
   "name": "python",
   "nbconvert_exporter": "python",
   "pygments_lexer": "ipython3",
   "version": "3.7.11"
  }
 },
 "nbformat": 4,
 "nbformat_minor": 4
}
