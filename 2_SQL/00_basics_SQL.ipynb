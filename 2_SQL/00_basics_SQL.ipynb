{
 "cells": [
  {
   "cell_type": "markdown",
   "metadata": {
    "id": "19G-Ti9aljoH"
   },
   "source": [
    "# SQL Basics"
   ]
  },
  {
   "cell_type": "markdown",
   "metadata": {
    "id": "WRMyImy7EUMd"
   },
   "source": [
    "**Connecting to our Database**\n"
   ]
  },
  {
   "cell_type": "code",
   "execution_count": null,
   "metadata": {
    "id": "75qlA6HwEMbw"
   },
   "outputs": [],
   "source": [
    "# We will first load an sql extension into our environment\n",
    "# This extension will allow us to work with sql on Colaboratory\n",
    "#\n",
    "%load_ext sql\n",
    "\n",
    "# We will then connect to our in memory sqlite database\n",
    "# NB: This database will cease to exist as soon as the database connection is closed.\n",
    "# We will learn more about how databases are created later in prep.\n",
    "#\n",
    "%sql sqlite://"
   ]
  },
  {
   "cell_type": "markdown",
   "metadata": {
    "id": "CzIo9wFcmAce"
   },
   "source": [
    "**CRUD operations**\n",
    "\n",
    "Earlier on we briefly talked about the basic operations when it comes database programming. \n",
    "\n",
    "Now we are going to practically explore these operations.\n",
    "\n",
    "Just as a recap, these operations are:\n",
    "\n",
    "**C**REATE - Insert row/rows in a table\n",
    "\n",
    "**R**EAD - Read row/rows in a table\n",
    "\n",
    "**U**PDATE - Edit row/rows in a table\n",
    "\n",
    "**D**ELETE - Delete row/ rows in a table\n",
    "\n",
    "\n",
    "Now let's look at each one of them individually"
   ]
  },
  {
   "cell_type": "markdown",
   "metadata": {
    "id": "4GXXnjOWqUGQ"
   },
   "source": [
    "## **CREATE**"
   ]
  },
  {
   "cell_type": "markdown",
   "metadata": {
    "id": "gJkrmohz2d9L"
   },
   "source": [
    "First we need to create a table to be able to perform the crud operations.\n",
    "\n",
    "So Let's create an empty table first\n"
   ]
  },
  {
   "cell_type": "code",
   "execution_count": null,
   "metadata": {
    "id": "Vvzk1KjwrA1R"
   },
   "outputs": [],
   "source": [
    "# we'll create a table that has 3 columns,\n",
    "# The first column will have country names,\n",
    "# The second column will have continent of the countries\n",
    "# Finally, the 3rd column will contain the population of the countries\n",
    "%%sql\n",
    "\n",
    "CREATE TABLE countries(\n",
    "    Name varchar(255),\n",
    "    Continent varchar(255),\n",
    "    Population int\n",
    ");"
   ]
  },
  {
   "cell_type": "markdown",
   "metadata": {
    "id": "xtzLSKS1H5lv"
   },
   "source": [
    "**INSERT Command**\n",
    "\n",
    "The command associated with the create operation is the INSERT INTO command. \n",
    "\n",
    "If we want to add rows to our new table we are going to use the INSERT INTO command.\n",
    "\n",
    "It starts with the `INSERT INTO` keyword then we specify the name of the table that we want add rows to. After that we list the column names inside brackets. Lastly, we add the `VALUES` keyword and specify the values  we want the columns to have. \n",
    "\n",
    "Let's add few rows in the table we created above "
   ]
  },
  {
   "cell_type": "code",
   "execution_count": null,
   "metadata": {
    "id": "XxyqkrSUNYjE"
   },
   "outputs": [],
   "source": [
    "# Add 5 columns to countries table\n",
    "\n",
    "%%sql\n",
    "INSERT INTO countries \n",
    "(Name, Continent, Population)\n",
    "VALUES \n",
    "('China','Asia',1433783686),\n",
    "('Nigeria','Africa',200963599),\n",
    "('Kenya','Africa',52573973),\n",
    "('Brazil','North America',211049527),\n",
    "('Russia','Europe',145872256);\n",
    "\n",
    "--Note: The values for the column should coincide with the way you have arranged your columns.\n",
    "--Also, you should be of the same data type as your columns.\n",
    "--For example, we cannot add and character string in the Population column since we specified that the column should hold integers only.\n",
    "--Don't worry about viewing the rows we just inserted just yet, we'll do that in the next segment"
   ]
  },
  {
   "cell_type": "markdown",
   "metadata": {
    "id": "djcoGYlxrVOa"
   },
   "source": [
    "### **Challenges**"
   ]
  },
  {
   "cell_type": "code",
   "execution_count": null,
   "metadata": {
    "id": "Meac9dEzraHN"
   },
   "outputs": [],
   "source": [
    "# Create a table that consists your class members. \n",
    "# The table should consist of the following columns:\n",
    "# First and last names\n",
    "# Email address\n",
    "# Phone Number\n",
    "# Number of siblings\n",
    "# Level of Education\n",
    "# ------------------------\n",
    "# Remember to add the relavant data types for each column\n",
    "# Once you have done that, populate the table with your classmates details\n",
    "\n",
    "Your code goes here"
   ]
  },
  {
   "cell_type": "markdown",
   "metadata": {
    "id": "s3TpgFEuqlrS"
   },
   "source": [
    "## **READ**"
   ]
  },
  {
   "cell_type": "markdown",
   "metadata": {
    "id": "uTcJ9jq2qznW"
   },
   "source": [
    "The Read operation is used to retrieve data from a table.\n",
    "\n",
    "The command we use to achieve this is the `SELECT` command \n",
    "\n",
    "This command is has three parts:\n",
    "\n",
    "\n",
    "*   **Column Part**:\n",
    "Here, we apecify the columns that we want to retrieve the data from. We can choose more than 1 column. If you decide to choose more that one column then you have to separate the column names with a comma\n",
    "*   **Table Part**: \n",
    "We put the name of the table from which we get the data from\n",
    "*   **Filter Part**:\n",
    "Though this part is mandatory, it allows us to filter the data that we want to view. So essentially the SELECT command can run without this part. We will see how to make use of this part later on.\n",
    "\n",
    "**Note**: If we want to retrieve data from more than one table we can use the `JOIN` operator. This operator is very important for you as a data scientist. We'll look at it in-depth later on.\n",
    "\n",
    "\n",
    "\n",
    "\n"
   ]
  },
  {
   "cell_type": "code",
   "execution_count": null,
   "metadata": {
    "id": "uD7TuwcyZBvt"
   },
   "outputs": [],
   "source": [
    "# We'll start off by reading all the columns in a table.\n",
    "# To this end we'll read from the table we just created and populated in above\n",
    "# To read all the columns in a table, we'll mke use of the asterisk (*) operator.\n",
    "\n",
    "%%sql\n",
    "\n",
    "SELECT * FROM countries;"
   ]
  },
  {
   "cell_type": "code",
   "execution_count": null,
   "metadata": {
    "id": "CKHPFr4AYFsl"
   },
   "outputs": [],
   "source": [
    "# Now that we have seen how that works, let's retieve data from  specific  columns\n",
    "# -- When you want to write comments in SQL, we use two dashes (--)\n",
    "# -- NOTE: When retrieving data from specific columns, make sure the column name you write in the select command matches the actual column name in your table.\n",
    "%%sql\n",
    "\n",
    "-- Retrieving data from Name and Population columns\n",
    "\n",
    "SELECT Name, Population FROM countries;\n",
    "\n"
   ]
  },
  {
   "cell_type": "markdown",
   "metadata": {
    "id": "ia2-93yztB46"
   },
   "source": [
    "**Using ALIASES in SELECT statements**\n",
    "\n",
    "Aliases are temporary names that we give tables or columns in the SELECT statements.\n",
    "\n",
    "There are a number of reason we would opt to use aliases. These reasons can be one of the following:\n",
    "\n",
    "\n",
    "*   Make the query more readable if the table or column names are complex.\n",
    "*   If a table is using a query more than one time.\n",
    "\n",
    "*   It can reduce the query writing effort if the table or column name is long.\n",
    "\n",
    "\n",
    "\n"
   ]
  },
  {
   "cell_type": "code",
   "execution_count": null,
   "metadata": {
    "id": "7TfOVfnclgmZ"
   },
   "outputs": [],
   "source": [
    "# Let's rewrite the our previous two queries with table and column aliases\n",
    "#  In the following query, cntry alias wil specify the table name\n",
    "%%sql\n",
    "SELECT cntry.Name FROM countries as cntry;"
   ]
  },
  {
   "cell_type": "code",
   "execution_count": null,
   "metadata": {
    "id": "tq9JFS7bAfU3"
   },
   "outputs": [],
   "source": [
    "# In this example, we provide aliases for the column names.\n",
    "# \n",
    "%%sql\n",
    "\n",
    "SELECT name as CName, population as Cpop FROM countries"
   ]
  },
  {
   "cell_type": "markdown",
   "metadata": {
    "id": "JoxkOg1brd7Y"
   },
   "source": [
    "### Challenges"
   ]
  },
  {
   "cell_type": "code",
   "execution_count": null,
   "metadata": {
    "id": "MFQOTDTurinI"
   },
   "outputs": [],
   "source": [
    "# Retrieve data for your class members table that you created earlier\n",
    "Your code goes here"
   ]
  },
  {
   "cell_type": "code",
   "execution_count": null,
   "metadata": {
    "id": "W6teVh-pDWBX"
   },
   "outputs": [],
   "source": [
    "# Create ALIASES for both the table and columns of your class members table\n",
    "\n",
    "Your code goes here"
   ]
  },
  {
   "cell_type": "markdown",
   "metadata": {
    "id": "9yY6L92-EBXI"
   },
   "source": [
    "**Sorting SELECT statements results**\n",
    "\n",
    "The `ORDER BY` clause allows us to sort results of the SELECT statement according to a specified column or columns\n",
    "\n",
    "Additionally, we can perform ascending ir descending sorting thanks to the `ORDER BY` clause\n",
    "\n",
    "Let's see how this works"
   ]
  },
  {
   "cell_type": "code",
   "execution_count": null,
   "metadata": {
    "id": "VYYxo9tRFLE7"
   },
   "outputs": [],
   "source": [
    "# Let's sort our countries table according to the population of the countries in ascending order\n",
    "%%sql\n",
    "\n",
    "SELECT * FROM countries as Cntry\n",
    "ORDER BY  Cntry.population ASC"
   ]
  },
  {
   "cell_type": "markdown",
   "metadata": {
    "id": "LQG3DG8PIWde"
   },
   "source": [
    "### Challenges"
   ]
  },
  {
   "cell_type": "code",
   "execution_count": null,
   "metadata": {
    "id": "WyLh_PlZIaV2"
   },
   "outputs": [],
   "source": [
    "# Sort the names of your class members according to the number of siblings "
   ]
  },
  {
   "cell_type": "markdown",
   "metadata": {
    "id": "1VyE7CIEKiV8"
   },
   "source": [
    "**Filtering SELECT statements**\n",
    "\n",
    "When retrieving dat from a table, w can decide to filter the results through the `WHERE` clause "
   ]
  },
  {
   "cell_type": "code",
   "execution_count": null,
   "metadata": {
    "id": "uwrrFu0lKnZt"
   },
   "outputs": [],
   "source": [
    "# Let's retrieve data from the our table according to country Name but only return the data of Kenya\n",
    "\n",
    "%%sql\n",
    "SELECT * FROM countries \n",
    "WHERE Name = 'Kenya'"
   ]
  },
  {
   "cell_type": "markdown",
   "metadata": {
    "id": "En13PUIWrHGA"
   },
   "source": [
    "## **UPDATE**"
   ]
  },
  {
   "cell_type": "markdown",
   "metadata": {
    "id": "PqlX0rFVL0WY"
   },
   "source": [
    "The UPDATE statement is modify existing data in a table\n",
    "\n",
    "It must include a SET clause so that we can define the target column in which we want to modify\n",
    "\n",
    "Let's see this in action"
   ]
  },
  {
   "cell_type": "code",
   "execution_count": null,
   "metadata": {
    "id": "9KsfKxmUrKxV"
   },
   "outputs": [],
   "source": [
    "# Let's change all of the rows in the population columnn to 1\n",
    "\n",
    "%%sql\n",
    "\n",
    "UPDATE countries SET population = 1;\n",
    "\n",
    "SELECT * from countries"
   ]
  },
  {
   "cell_type": "markdown",
   "metadata": {
    "id": "7a8f0FjcPeIC"
   },
   "source": [
    "In the UPDATE statements, we can use the WHERE clause so that we can modify particular row or rows in the table. "
   ]
  },
  {
   "cell_type": "code",
   "execution_count": null,
   "metadata": {
    "id": "qhZy_3W-PmE8"
   },
   "outputs": [],
   "source": [
    "# Let's change the kenyan population to 245000\n",
    "%%sql\n",
    "\n",
    "UPDATE countries SET population = 245000\n",
    "WHERE Name = 'Kenya';\n",
    "\n",
    "SELECT * FROM countries"
   ]
  },
  {
   "cell_type": "markdown",
   "metadata": {
    "id": "0AuxXfvVrNSb"
   },
   "source": [
    "## **DELETE**"
   ]
  },
  {
   "cell_type": "markdown",
   "metadata": {
    "id": "4y01542aQeMA"
   },
   "source": [
    "The Delete statement is used to remove existing row/rows in the table. At first, we will mention how to use the `WHERE` clause in the `DELETE` statements, just because most of the time we want to filter the deleted rows"
   ]
  },
  {
   "cell_type": "code",
   "execution_count": null,
   "metadata": {
    "id": "4q7p7jFPrRAc"
   },
   "outputs": [],
   "source": [
    "%%sql\n",
    "DELETE FROM countries WHERE Name = 'Russia';\n",
    "\n",
    "SELECT * From countries"
   ]
  },
  {
   "cell_type": "markdown",
   "metadata": {
    "id": "NelqqN8hrnhs"
   },
   "source": [
    "### Challenges"
   ]
  },
  {
   "cell_type": "code",
   "execution_count": null,
   "metadata": {
    "id": "iRy4X0lGro2W"
   },
   "outputs": [],
   "source": [
    "# Create a table called artists, choose the columns names of your choosing. Populate it with data\n",
    "# Your task is to delete an aritst's name whose name contain the letter s\n",
    "\n",
    "# Hint: you use this resource to see how to do the above task.https://www.sqlitetutorial.net/sqlite-delete/"
   ]
  },
  {
   "cell_type": "code",
   "execution_count": null,
   "metadata": {
    "id": "fc4090iHRcmD"
   },
   "outputs": [],
   "source": [
    "# Delete all the rows in your artist table "
   ]
  }
 ],
 "metadata": {
  "colab": {
   "collapsed_sections": [],
   "name": "Copy of SQL Basics.ipynb",
   "provenance": [
    {
     "file_id": "1A0uG2e9F9HLhya8jd8gAgBW4QCZTgLdd",
     "timestamp": 1636970934879
    }
   ]
  },
  "kernelspec": {
   "display_name": "Python 3 (ipykernel)",
   "language": "python",
   "name": "python3"
  },
  "language_info": {
   "codemirror_mode": {
    "name": "ipython",
    "version": 3
   },
   "file_extension": ".py",
   "mimetype": "text/x-python",
   "name": "python",
   "nbconvert_exporter": "python",
   "pygments_lexer": "ipython3",
   "version": "3.7.11"
  }
 },
 "nbformat": 4,
 "nbformat_minor": 4
}
