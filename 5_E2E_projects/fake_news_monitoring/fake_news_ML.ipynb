{
  "cells": [
    {
      "cell_type": "markdown",
      "metadata": {
        "id": "8PB2FNMD7g9u"
      },
      "source": [
        "## FAKE NEWS DETECTION USING NEURAL NETWORKS ON TENSORFLOW\n",
        "<h1>Technologies used:</h1>\n",
        "* Tensorflow Neural Networks\n",
        " "
      ]
    },
    {
      "cell_type": "code",
      "execution_count": 1,
      "metadata": {
        "id": "VpxuV_Lw7g9x",
        "outputId": "2e75258d-bd7a-416c-f8e9-533dae0fbaca"
      },
      "outputs": [
        {
          "name": "stderr",
          "output_type": "stream",
          "text": [
            "[nltk_data] Error loading punkt: <urlopen error [Errno -3] Temporary\n",
            "[nltk_data]     failure in name resolution>\n"
          ]
        },
        {
          "data": {
            "text/plain": [
              "False"
            ]
          },
          "execution_count": 1,
          "metadata": {},
          "output_type": "execute_result"
        }
      ],
      "source": [
        "# Import standard libraries\n",
        "import pandas as pd\n",
        "import numpy as np\n",
        "\n",
        "#-----------NLP library\n",
        "import nltk\n",
        "nltk.download('punkt')"
      ]
    },
    {
      "cell_type": "code",
      "execution_count": 2,
      "metadata": {
        "id": "zTncLrE97g90"
      },
      "outputs": [],
      "source": [
        "# Other ML libraries\n",
        "\n",
        "import matplotlib.pyplot as plt\n",
        "import seaborn as sns"
      ]
    },
    {
      "cell_type": "code",
      "execution_count": 1,
      "metadata": {
        "id": "aMuJXdLf7g91",
        "outputId": "5a2366aa-61f1-4a6a-855f-ee8ba8882439"
      },
      "outputs": [
        {
          "name": "stderr",
          "output_type": "stream",
          "text": [
            "[nltk_data] Downloading package punkt to /home/eliudluda/nltk_data...\n",
            "[nltk_data]   Unzipping tokenizers/punkt.zip.\n",
            "[nltk_data] Downloading package stopwords to\n",
            "[nltk_data]     /home/eliudluda/nltk_data...\n",
            "[nltk_data]   Unzipping corpora/stopwords.zip.\n",
            "[nltk_data] Downloading package wordnet to\n",
            "[nltk_data]     /home/eliudluda/nltk_data...\n",
            "[nltk_data]   Unzipping corpora/wordnet.zip.\n"
          ]
        }
      ],
      "source": [
        "from tensorflow import keras\n",
        "import re\n",
        "import matplotlib.pyplot as plt\n",
        "import seaborn as sns\n",
        "import nltk \n",
        "nltk.download('punkt')\n",
        "from nltk.corpus import stopwords\n",
        "nltk.download('stopwords')\n",
        "from nltk.stem import PorterStemmer\n",
        "from nltk.stem import WordNetLemmatizer\n",
        "nltk.download('wordnet')\n",
        "import tensorflow as tf\n",
        "from tensorflow.keras.preprocessing.text import Tokenizer\n",
        "from tensorflow.keras.preprocessing.sequence import pad_sequences\n",
        "from sklearn.model_selection import train_test_split\n",
        "from tensorflow.keras import layers\n",
        "from tensorflow.keras import losses\n",
        "from sklearn.metrics import confusion_matrix\n",
        "from sklearn.metrics import classification_report\n",
        "import pickle"
      ]
    },
    {
      "cell_type": "markdown",
      "metadata": {
        "id": "5cHxj0JY7g92"
      },
      "source": [
        "## Loading the data"
      ]
    },
    {
      "cell_type": "code",
      "execution_count": 3,
      "metadata": {
        "id": "Pz8Wty777g92",
        "outputId": "ea1d4dc4-1c9c-4c1e-a500-6dcf31ecfd99"
      },
      "outputs": [
        {
          "data": {
            "text/html": [
              "<div>\n",
              "<style scoped>\n",
              "    .dataframe tbody tr th:only-of-type {\n",
              "        vertical-align: middle;\n",
              "    }\n",
              "\n",
              "    .dataframe tbody tr th {\n",
              "        vertical-align: top;\n",
              "    }\n",
              "\n",
              "    .dataframe thead th {\n",
              "        text-align: right;\n",
              "    }\n",
              "</style>\n",
              "<table border=\"1\" class=\"dataframe\">\n",
              "  <thead>\n",
              "    <tr style=\"text-align: right;\">\n",
              "      <th></th>\n",
              "      <th>title</th>\n",
              "      <th>text</th>\n",
              "      <th>subject</th>\n",
              "      <th>date</th>\n",
              "    </tr>\n",
              "  </thead>\n",
              "  <tbody>\n",
              "    <tr>\n",
              "      <th>0</th>\n",
              "      <td>Donald Trump Sends Out Embarrassing New Year’...</td>\n",
              "      <td>Donald Trump just couldn t wish all Americans ...</td>\n",
              "      <td>News</td>\n",
              "      <td>December 31, 2017</td>\n",
              "    </tr>\n",
              "    <tr>\n",
              "      <th>1</th>\n",
              "      <td>Drunk Bragging Trump Staffer Started Russian ...</td>\n",
              "      <td>House Intelligence Committee Chairman Devin Nu...</td>\n",
              "      <td>News</td>\n",
              "      <td>December 31, 2017</td>\n",
              "    </tr>\n",
              "    <tr>\n",
              "      <th>2</th>\n",
              "      <td>Sheriff David Clarke Becomes An Internet Joke...</td>\n",
              "      <td>On Friday, it was revealed that former Milwauk...</td>\n",
              "      <td>News</td>\n",
              "      <td>December 30, 2017</td>\n",
              "    </tr>\n",
              "    <tr>\n",
              "      <th>3</th>\n",
              "      <td>Trump Is So Obsessed He Even Has Obama’s Name...</td>\n",
              "      <td>On Christmas day, Donald Trump announced that ...</td>\n",
              "      <td>News</td>\n",
              "      <td>December 29, 2017</td>\n",
              "    </tr>\n",
              "    <tr>\n",
              "      <th>4</th>\n",
              "      <td>Pope Francis Just Called Out Donald Trump Dur...</td>\n",
              "      <td>Pope Francis used his annual Christmas Day mes...</td>\n",
              "      <td>News</td>\n",
              "      <td>December 25, 2017</td>\n",
              "    </tr>\n",
              "  </tbody>\n",
              "</table>\n",
              "</div>"
            ],
            "text/plain": [
              "                                               title  \\\n",
              "0   Donald Trump Sends Out Embarrassing New Year’...   \n",
              "1   Drunk Bragging Trump Staffer Started Russian ...   \n",
              "2   Sheriff David Clarke Becomes An Internet Joke...   \n",
              "3   Trump Is So Obsessed He Even Has Obama’s Name...   \n",
              "4   Pope Francis Just Called Out Donald Trump Dur...   \n",
              "\n",
              "                                                text subject  \\\n",
              "0  Donald Trump just couldn t wish all Americans ...    News   \n",
              "1  House Intelligence Committee Chairman Devin Nu...    News   \n",
              "2  On Friday, it was revealed that former Milwauk...    News   \n",
              "3  On Christmas day, Donald Trump announced that ...    News   \n",
              "4  Pope Francis used his annual Christmas Day mes...    News   \n",
              "\n",
              "                date  \n",
              "0  December 31, 2017  \n",
              "1  December 31, 2017  \n",
              "2  December 30, 2017  \n",
              "3  December 29, 2017  \n",
              "4  December 25, 2017  "
            ]
          },
          "execution_count": 3,
          "metadata": {},
          "output_type": "execute_result"
        }
      ],
      "source": [
        "# Load datasets\n",
        "\n",
        "US_news = pd.read_csv('/home/eliudluda/Desktop/Data_Science/data/news_data/Fake.csv')\n",
        "US_news.head()"
      ]
    },
    {
      "cell_type": "code",
      "execution_count": 4,
      "metadata": {
        "id": "2G0RtLA_7g93",
        "outputId": "2b46e707-be0f-41db-9c25-0215b4d3925c"
      },
      "outputs": [
        {
          "data": {
            "text/plain": [
              "(23481, 4)"
            ]
          },
          "execution_count": 4,
          "metadata": {},
          "output_type": "execute_result"
        }
      ],
      "source": [
        "# size\n",
        "US_news.shape"
      ]
    },
    {
      "cell_type": "markdown",
      "metadata": {
        "id": "bOyXqI5o7g93"
      },
      "source": [
        "## Data Cleaning"
      ]
    },
    {
      "cell_type": "markdown",
      "metadata": {
        "id": "qrioAg537g93"
      },
      "source": [
        "### Dropping unneccessary columns"
      ]
    },
    {
      "cell_type": "code",
      "execution_count": null,
      "metadata": {
        "id": "F_8caUG47g94"
      },
      "outputs": [],
      "source": [
        "# US news\n",
        "\n",
        "US_news.drop(['Unnamed: 0'], axis=1, inplace=True)"
      ]
    },
    {
      "cell_type": "code",
      "execution_count": null,
      "metadata": {
        "id": "STSDldkC7g94",
        "outputId": "ad7989f8-9509-4c75-b552-1af1b27f4d07"
      },
      "outputs": [
        {
          "data": {
            "text/html": [
              "<div>\n",
              "<style scoped>\n",
              "    .dataframe tbody tr th:only-of-type {\n",
              "        vertical-align: middle;\n",
              "    }\n",
              "\n",
              "    .dataframe tbody tr th {\n",
              "        vertical-align: top;\n",
              "    }\n",
              "\n",
              "    .dataframe thead th {\n",
              "        text-align: right;\n",
              "    }\n",
              "</style>\n",
              "<table border=\"1\" class=\"dataframe\">\n",
              "  <thead>\n",
              "    <tr style=\"text-align: right;\">\n",
              "      <th></th>\n",
              "      <th>title</th>\n",
              "      <th>text</th>\n",
              "      <th>subject</th>\n",
              "      <th>label</th>\n",
              "    </tr>\n",
              "  </thead>\n",
              "  <tbody>\n",
              "    <tr>\n",
              "      <th>0</th>\n",
              "      <td>Donald Trump Sends Out Embarrassing New Year’...</td>\n",
              "      <td>Donald Trump just couldn t wish all Americans ...</td>\n",
              "      <td>News</td>\n",
              "      <td>0</td>\n",
              "    </tr>\n",
              "    <tr>\n",
              "      <th>1</th>\n",
              "      <td>Drunk Bragging Trump Staffer Started Russian ...</td>\n",
              "      <td>House Intelligence Committee Chairman Devin Nu...</td>\n",
              "      <td>News</td>\n",
              "      <td>0</td>\n",
              "    </tr>\n",
              "    <tr>\n",
              "      <th>2</th>\n",
              "      <td>Sheriff David Clarke Becomes An Internet Joke...</td>\n",
              "      <td>On Friday, it was revealed that former Milwauk...</td>\n",
              "      <td>News</td>\n",
              "      <td>0</td>\n",
              "    </tr>\n",
              "    <tr>\n",
              "      <th>3</th>\n",
              "      <td>Trump Is So Obsessed He Even Has Obama’s Name...</td>\n",
              "      <td>On Christmas day, Donald Trump announced that ...</td>\n",
              "      <td>News</td>\n",
              "      <td>0</td>\n",
              "    </tr>\n",
              "    <tr>\n",
              "      <th>4</th>\n",
              "      <td>Pope Francis Just Called Out Donald Trump Dur...</td>\n",
              "      <td>Pope Francis used his annual Christmas Day mes...</td>\n",
              "      <td>News</td>\n",
              "      <td>0</td>\n",
              "    </tr>\n",
              "  </tbody>\n",
              "</table>\n",
              "</div>"
            ],
            "text/plain": [
              "                                               title  \\\n",
              "0   Donald Trump Sends Out Embarrassing New Year’...   \n",
              "1   Drunk Bragging Trump Staffer Started Russian ...   \n",
              "2   Sheriff David Clarke Becomes An Internet Joke...   \n",
              "3   Trump Is So Obsessed He Even Has Obama’s Name...   \n",
              "4   Pope Francis Just Called Out Donald Trump Dur...   \n",
              "\n",
              "                                                text subject  label  \n",
              "0  Donald Trump just couldn t wish all Americans ...    News      0  \n",
              "1  House Intelligence Committee Chairman Devin Nu...    News      0  \n",
              "2  On Friday, it was revealed that former Milwauk...    News      0  \n",
              "3  On Christmas day, Donald Trump announced that ...    News      0  \n",
              "4  Pope Francis used his annual Christmas Day mes...    News      0  "
            ]
          },
          "execution_count": 33,
          "metadata": {},
          "output_type": "execute_result"
        }
      ],
      "source": [
        "US_news.head()"
      ]
    },
    {
      "cell_type": "markdown",
      "metadata": {
        "id": "VU3RpsSm7g95"
      },
      "source": [
        "### Null values"
      ]
    },
    {
      "cell_type": "code",
      "execution_count": null,
      "metadata": {
        "id": "vccmVITD7g95",
        "outputId": "b7c2e59a-8cdf-4033-a62c-7ea97e38e644"
      },
      "outputs": [
        {
          "data": {
            "text/plain": [
              "title      0\n",
              "text       0\n",
              "subject    0\n",
              "label      0\n",
              "dtype: int64"
            ]
          },
          "execution_count": 34,
          "metadata": {},
          "output_type": "execute_result"
        }
      ],
      "source": [
        "# Check in both\n",
        "\n",
        "US_news.isna().sum()"
      ]
    },
    {
      "cell_type": "markdown",
      "metadata": {
        "id": "lIrWXM7S7g95"
      },
      "source": [
        "## EDA"
      ]
    },
    {
      "cell_type": "code",
      "execution_count": null,
      "metadata": {
        "id": "v97eBY-_7g96",
        "outputId": "e517aa73-ea1a-42e1-89f6-268306d4bb6f"
      },
      "outputs": [
        {
          "name": "stderr",
          "output_type": "stream",
          "text": [
            "/Users/RyanMburu/opt/anaconda3/lib/python3.8/site-packages/seaborn/_decorators.py:36: FutureWarning: Pass the following variable as a keyword arg: x. From version 0.12, the only valid positional argument will be `data`, and passing other arguments without an explicit keyword will result in an error or misinterpretation.\n",
            "  warnings.warn(\n"
          ]
        },
        {
          "data": {
            "text/plain": [
              "<AxesSubplot:xlabel='subject', ylabel='count'>"
            ]
          },
          "execution_count": 35,
          "metadata": {},
          "output_type": "execute_result"
        },
        {
          "data": {
            "image/png": "[encoded data removed]",
            "text/plain": [
              "<Figure size 1080x720 with 1 Axes>"
            ]
          },
          "metadata": {
            "needs_background": "light"
          },
          "output_type": "display_data"
        }
      ],
      "source": [
        "# Check for most popular news category\n",
        "\n",
        "# 1. US Dataset\n",
        "\n",
        "plt.figure(figsize=(15, 10))\n",
        "\n",
        "sns.countplot(US_news['subject'], order=US_news['subject'].value_counts().index)\n"
      ]
    },
    {
      "cell_type": "code",
      "execution_count": null,
      "metadata": {
        "id": "o_5l-NlG7g96",
        "outputId": "c34653d1-dad3-44bb-e87a-743f5ee92c9c"
      },
      "outputs": [
        {
          "name": "stderr",
          "output_type": "stream",
          "text": [
            "/Users/RyanMburu/opt/anaconda3/lib/python3.8/site-packages/seaborn/_decorators.py:36: FutureWarning: Pass the following variable as a keyword arg: x. From version 0.12, the only valid positional argument will be `data`, and passing other arguments without an explicit keyword will result in an error or misinterpretation.\n",
            "  warnings.warn(\n"
          ]
        },
        {
          "data": {
            "text/plain": [
              "<AxesSubplot:xlabel='label', ylabel='count'>"
            ]
          },
          "execution_count": 36,
          "metadata": {},
          "output_type": "execute_result"
        },
        {
          "data": {
            "image/png": "[encoded data removed]",
            "text/plain": [
              "<Figure size 432x288 with 1 Axes>"
            ]
          },
          "metadata": {
            "needs_background": "light"
          },
          "output_type": "display_data"
        }
      ],
      "source": [
        "# Fake news vs true news\n",
        "\n",
        "sns.countplot(US_news['label'], order=US_news['label'].value_counts().index)"
      ]
    },
    {
      "cell_type": "markdown",
      "metadata": {
        "id": "pYdLYv8f7g97"
      },
      "source": [
        "## Preprocessing"
      ]
    },
    {
      "cell_type": "markdown",
      "metadata": {
        "id": "Cipegsx27g97"
      },
      "source": [
        "## 1. Title alone"
      ]
    },
    {
      "cell_type": "code",
      "execution_count": null,
      "metadata": {
        "id": "NqfyGegV7g98",
        "outputId": "f7bb4038-4b3d-4f02-cebc-401fec5eeaef"
      },
      "outputs": [
        {
          "data": {
            "text/html": [
              "<div>\n",
              "<style scoped>\n",
              "    .dataframe tbody tr th:only-of-type {\n",
              "        vertical-align: middle;\n",
              "    }\n",
              "\n",
              "    .dataframe tbody tr th {\n",
              "        vertical-align: top;\n",
              "    }\n",
              "\n",
              "    .dataframe thead th {\n",
              "        text-align: right;\n",
              "    }\n",
              "</style>\n",
              "<table border=\"1\" class=\"dataframe\">\n",
              "  <thead>\n",
              "    <tr style=\"text-align: right;\">\n",
              "      <th></th>\n",
              "      <th>title</th>\n",
              "      <th>text</th>\n",
              "      <th>subject</th>\n",
              "      <th>label</th>\n",
              "    </tr>\n",
              "  </thead>\n",
              "  <tbody>\n",
              "    <tr>\n",
              "      <th>0</th>\n",
              "      <td>Donald Trump Sends Out Embarrassing New Year’...</td>\n",
              "      <td>Donald Trump just couldn t wish all Americans ...</td>\n",
              "      <td>News</td>\n",
              "      <td>0</td>\n",
              "    </tr>\n",
              "    <tr>\n",
              "      <th>1</th>\n",
              "      <td>Drunk Bragging Trump Staffer Started Russian ...</td>\n",
              "      <td>House Intelligence Committee Chairman Devin Nu...</td>\n",
              "      <td>News</td>\n",
              "      <td>0</td>\n",
              "    </tr>\n",
              "    <tr>\n",
              "      <th>2</th>\n",
              "      <td>Sheriff David Clarke Becomes An Internet Joke...</td>\n",
              "      <td>On Friday, it was revealed that former Milwauk...</td>\n",
              "      <td>News</td>\n",
              "      <td>0</td>\n",
              "    </tr>\n",
              "    <tr>\n",
              "      <th>3</th>\n",
              "      <td>Trump Is So Obsessed He Even Has Obama’s Name...</td>\n",
              "      <td>On Christmas day, Donald Trump announced that ...</td>\n",
              "      <td>News</td>\n",
              "      <td>0</td>\n",
              "    </tr>\n",
              "    <tr>\n",
              "      <th>4</th>\n",
              "      <td>Pope Francis Just Called Out Donald Trump Dur...</td>\n",
              "      <td>Pope Francis used his annual Christmas Day mes...</td>\n",
              "      <td>News</td>\n",
              "      <td>0</td>\n",
              "    </tr>\n",
              "  </tbody>\n",
              "</table>\n",
              "</div>"
            ],
            "text/plain": [
              "                                               title  \\\n",
              "0   Donald Trump Sends Out Embarrassing New Year’...   \n",
              "1   Drunk Bragging Trump Staffer Started Russian ...   \n",
              "2   Sheriff David Clarke Becomes An Internet Joke...   \n",
              "3   Trump Is So Obsessed He Even Has Obama’s Name...   \n",
              "4   Pope Francis Just Called Out Donald Trump Dur...   \n",
              "\n",
              "                                                text subject  label  \n",
              "0  Donald Trump just couldn t wish all Americans ...    News      0  \n",
              "1  House Intelligence Committee Chairman Devin Nu...    News      0  \n",
              "2  On Friday, it was revealed that former Milwauk...    News      0  \n",
              "3  On Christmas day, Donald Trump announced that ...    News      0  \n",
              "4  Pope Francis used his annual Christmas Day mes...    News      0  "
            ]
          },
          "execution_count": 37,
          "metadata": {},
          "output_type": "execute_result"
        }
      ],
      "source": [
        "US_news.head()"
      ]
    },
    {
      "cell_type": "code",
      "execution_count": null,
      "metadata": {
        "id": "5kjhJg5M7g99"
      },
      "outputs": [],
      "source": [
        "# Due to how outrageous the headlines are, we will use the headlines to roughly detect whether the headline is true or false\n",
        "\n",
        "# Stopwords\n",
        "\n",
        "# Stopwords\n",
        "stop_words = stopwords.words('english')\n",
        "\n",
        "def stopwords_remover(text):\n",
        "    return \" \".join([word for word in text.split() if word.lower() not in stop_words])\n"
      ]
    },
    {
      "cell_type": "code",
      "execution_count": null,
      "metadata": {
        "id": "stItIUnD7g99",
        "outputId": "f702bedf-961c-4e67-85ca-a9676cffa2c0"
      },
      "outputs": [
        {
          "data": {
            "text/plain": [
              "0    Donald Trump Sends Embarrassing New Year’s Eve...\n",
              "1    Drunk Bragging Trump Staffer Started Russian C...\n",
              "2    Sheriff David Clarke Becomes Internet Joke Thr...\n",
              "3    Trump Obsessed Even Obama’s Name Coded Website...\n",
              "4    Pope Francis Called Donald Trump Christmas Speech\n",
              "5    Racist Alabama Cops Brutalize Black Boy Handcu...\n",
              "6    Fresh Golf Course, Trump Lashes FBI Deputy Dir...\n",
              "7    Trump Said INSANELY Racist Stuff Inside Oval O...\n",
              "8    Former CIA Director Slams Trump UN Bullying, O...\n",
              "9    WATCH: Brand-New Pro-Trump Ad Features Much A*...\n",
              "Name: title, dtype: object"
            ]
          },
          "execution_count": 39,
          "metadata": {},
          "output_type": "execute_result"
        }
      ],
      "source": [
        "US_news['title'] = US_news['title'].apply(lambda text: stopwords_remover(text))\n",
        "US_news['title'].head(10)"
      ]
    },
    {
      "cell_type": "code",
      "execution_count": null,
      "metadata": {
        "id": "10sBRxQ-7g9-",
        "outputId": "b5a965c3-c376-442e-c242-a575b011f61d"
      },
      "outputs": [
        {
          "data": {
            "text/plain": [
              "0    [Donald, Trump, Sends, Embarrassing, New, Year...\n",
              "1    [Drunk, Bragging, Trump, Staffer, Started, Rus...\n",
              "2    [Sheriff, David, Clarke, Becomes, Internet, Jo...\n",
              "3    [Trump, Obsessed, Even, Obama, ’, s, Name, Cod...\n",
              "4    [Pope, Francis, Called, Donald, Trump, Christm...\n",
              "5    [Racist, Alabama, Cops, Brutalize, Black, Boy,...\n",
              "6    [Fresh, Golf, Course, ,, Trump, Lashes, FBI, D...\n",
              "7    [Trump, Said, INSANELY, Racist, Stuff, Inside,...\n",
              "8    [Former, CIA, Director, Slams, Trump, UN, Bull...\n",
              "9    [WATCH, :, Brand-New, Pro-Trump, Ad, Features,...\n",
              "Name: title, dtype: object"
            ]
          },
          "execution_count": 40,
          "metadata": {},
          "output_type": "execute_result"
        }
      ],
      "source": [
        "# Tokenizing - separate sentences to an array with distinct words\n",
        "# Tokenizing the words\n",
        "\n",
        "import nltk\n",
        "tokenizerr = nltk.word_tokenize\n",
        "\n",
        "US_news['title'] = US_news['title'].apply(tokenizerr)\n",
        "US_news['title'].head(10)\n",
        " "
      ]
    },
    {
      "cell_type": "code",
      "execution_count": null,
      "metadata": {
        "id": "l6mujdVq7g9-"
      },
      "outputs": [],
      "source": [
        "# Removing Punctuation marks\n",
        "import string\n",
        "string.punctuation\n",
        "\n",
        "# Function that iterates throung the words, removing punctuation\n",
        "def punctuation_remover(text):\n",
        "    no_puncts = [word for word in text if word not in string.punctuation]\n",
        "    return no_puncts"
      ]
    },
    {
      "cell_type": "code",
      "execution_count": null,
      "metadata": {
        "id": "0C2QLymp7g9_",
        "outputId": "9e4d3ea2-51ab-4652-ecfe-e2ef2d350e65"
      },
      "outputs": [
        {
          "data": {
            "text/plain": [
              "0    [Donald, Trump, Sends, Embarrassing, New, Year...\n",
              "1    [Drunk, Bragging, Trump, Staffer, Started, Rus...\n",
              "2    [Sheriff, David, Clarke, Becomes, Internet, Jo...\n",
              "3    [Trump, Obsessed, Even, Obama, ’, s, Name, Cod...\n",
              "4    [Pope, Francis, Called, Donald, Trump, Christm...\n",
              "5    [Racist, Alabama, Cops, Brutalize, Black, Boy,...\n",
              "6    [Fresh, Golf, Course, Trump, Lashes, FBI, Depu...\n",
              "7    [Trump, Said, INSANELY, Racist, Stuff, Inside,...\n",
              "8    [Former, CIA, Director, Slams, Trump, UN, Bull...\n",
              "9    [WATCH, Brand-New, Pro-Trump, Ad, Features, Mu...\n",
              "Name: title, dtype: object"
            ]
          },
          "execution_count": 42,
          "metadata": {},
          "output_type": "execute_result"
        }
      ],
      "source": [
        "US_news['title'] = US_news['title'].apply(lambda text : punctuation_remover(text))\n",
        "US_news['title'].head(10)"
      ]
    },
    {
      "cell_type": "code",
      "execution_count": null,
      "metadata": {
        "id": "DWAE00lQ7g9_"
      },
      "outputs": [],
      "source": [
        "# Stemming\n",
        "\n",
        "# This is where words are diminished to their root form\n",
        "\n",
        "stemmer = PorterStemmer()\n",
        "\n",
        "def text_stemmer(text):\n",
        "    stemmed = [stemmer.stem(word) for word in text]\n",
        "    return stemmed"
      ]
    },
    {
      "cell_type": "code",
      "execution_count": null,
      "metadata": {
        "id": "WFP2KblZ7g-A",
        "outputId": "6777bfcd-2671-4e14-81f5-95499060dd48"
      },
      "outputs": [
        {
          "data": {
            "text/plain": [
              "0    [donald, trump, send, embarrass, new, year, ’,...\n",
              "1    [drunk, brag, trump, staffer, start, russian, ...\n",
              "2    [sheriff, david, clark, becom, internet, joke,...\n",
              "3    [trump, obsess, even, obama, ’, s, name, code,...\n",
              "4    [pope, franci, call, donald, trump, christma, ...\n",
              "5    [racist, alabama, cop, brutal, black, boy, han...\n",
              "6    [fresh, golf, cours, trump, lash, fbi, deputi,...\n",
              "7    [trump, said, insan, racist, stuff, insid, ova...\n",
              "8    [former, cia, director, slam, trump, un, bulli...\n",
              "9    [watch, brand-new, pro-trump, ad, featur, much...\n",
              "Name: title, dtype: object"
            ]
          },
          "execution_count": 44,
          "metadata": {},
          "output_type": "execute_result"
        }
      ],
      "source": [
        "# Apply on the title\n",
        "US_news['title'] = US_news['title'].apply(lambda text: text_stemmer(text))\n",
        "US_news['title'].head(10)"
      ]
    },
    {
      "cell_type": "code",
      "execution_count": null,
      "metadata": {
        "id": "WyJ2hRvM7g-A"
      },
      "outputs": [],
      "source": [
        "lemma = WordNetLemmatizer()\n",
        "\n",
        "def text_lemma(text):\n",
        "    stemmed2 = [lemma.lemmatize(word) for word in text]\n",
        "    return stemmed2"
      ]
    },
    {
      "cell_type": "code",
      "execution_count": null,
      "metadata": {
        "id": "KWu0-DAP7g-B",
        "outputId": "2d8dde96-62fe-40b2-c12d-628a02e480fa"
      },
      "outputs": [
        {
          "data": {
            "text/plain": [
              "0    [donald, trump, send, embarrass, new, year, ’,...\n",
              "1    [drunk, brag, trump, staffer, start, russian, ...\n",
              "2    [sheriff, david, clark, becom, internet, joke,...\n",
              "3    [trump, ob, even, obama, ’, s, name, code, web...\n",
              "4    [pope, franci, call, donald, trump, christma, ...\n",
              "5    [racist, alabama, cop, brutal, black, boy, han...\n",
              "6    [fresh, golf, cours, trump, lash, fbi, deputi,...\n",
              "7    [trump, said, insan, racist, stuff, insid, ova...\n",
              "8    [former, cia, director, slam, trump, un, bulli...\n",
              "9    [watch, brand-new, pro-trump, ad, featur, much...\n",
              "Name: title, dtype: object"
            ]
          },
          "execution_count": 46,
          "metadata": {},
          "output_type": "execute_result"
        }
      ],
      "source": [
        "# Lemmatization\n",
        "\n",
        "# opposite of stemming, where it is enforced to ensure the words havent lost meaning\n",
        "\n",
        "lemma = WordNetLemmatizer()\n",
        "\n",
        "US_news['title'] = US_news['title'].apply(lambda text: text_lemma(text))\n",
        "US_news['title'].head(10)"
      ]
    },
    {
      "cell_type": "code",
      "execution_count": null,
      "metadata": {
        "id": "rrfU86Wz7g-B",
        "outputId": "25954d84-2472-427d-f123-d74f35dc3098"
      },
      "outputs": [
        {
          "data": {
            "text/plain": [
              "0        donald trump send embarrass new year ’ s eve m...\n",
              "1        drunk brag trump staffer start russian collus ...\n",
              "2        sheriff david clark becom internet joke threat...\n",
              "3            trump ob even obama ’ s name code websit imag\n",
              "4            pope franci call donald trump christma speech\n",
              "                               ...                        \n",
              "44893    'fulli commit nato back new u.s. approach afgh...\n",
              "44894          lexisnexi withdrew two product chine market\n",
              "44895                        minsk cultur hub becom author\n",
              "44896      vatican upbeat possibl pope franci visit russia\n",
              "44897         indonesia buy 1.14 billion worth russian jet\n",
              "Name: title, Length: 44898, dtype: object"
            ]
          },
          "execution_count": 47,
          "metadata": {},
          "output_type": "execute_result"
        }
      ],
      "source": [
        "# Join the text\n",
        "\n",
        "US_news['title'] = US_news['title'].apply(lambda x: ' '.join(x))\n",
        "US_news['title']"
      ]
    },
    {
      "cell_type": "code",
      "execution_count": null,
      "metadata": {
        "id": "6ZVFtKrp7g-C",
        "outputId": "2b9364b1-b020-4e33-bdbd-e3a003cf2f9d"
      },
      "outputs": [
        {
          "data": {
            "text/html": [
              "<div>\n",
              "<style scoped>\n",
              "    .dataframe tbody tr th:only-of-type {\n",
              "        vertical-align: middle;\n",
              "    }\n",
              "\n",
              "    .dataframe tbody tr th {\n",
              "        vertical-align: top;\n",
              "    }\n",
              "\n",
              "    .dataframe thead th {\n",
              "        text-align: right;\n",
              "    }\n",
              "</style>\n",
              "<table border=\"1\" class=\"dataframe\">\n",
              "  <thead>\n",
              "    <tr style=\"text-align: right;\">\n",
              "      <th></th>\n",
              "      <th>title</th>\n",
              "      <th>text</th>\n",
              "      <th>subject</th>\n",
              "      <th>label_0</th>\n",
              "      <th>label_1</th>\n",
              "    </tr>\n",
              "  </thead>\n",
              "  <tbody>\n",
              "    <tr>\n",
              "      <th>0</th>\n",
              "      <td>donald trump send embarrass new year ’ s eve m...</td>\n",
              "      <td>Donald Trump just couldn t wish all Americans ...</td>\n",
              "      <td>News</td>\n",
              "      <td>1</td>\n",
              "      <td>0</td>\n",
              "    </tr>\n",
              "    <tr>\n",
              "      <th>1</th>\n",
              "      <td>drunk brag trump staffer start russian collus ...</td>\n",
              "      <td>House Intelligence Committee Chairman Devin Nu...</td>\n",
              "      <td>News</td>\n",
              "      <td>1</td>\n",
              "      <td>0</td>\n",
              "    </tr>\n",
              "    <tr>\n",
              "      <th>2</th>\n",
              "      <td>sheriff david clark becom internet joke threat...</td>\n",
              "      <td>On Friday, it was revealed that former Milwauk...</td>\n",
              "      <td>News</td>\n",
              "      <td>1</td>\n",
              "      <td>0</td>\n",
              "    </tr>\n",
              "    <tr>\n",
              "      <th>3</th>\n",
              "      <td>trump ob even obama ’ s name code websit imag</td>\n",
              "      <td>On Christmas day, Donald Trump announced that ...</td>\n",
              "      <td>News</td>\n",
              "      <td>1</td>\n",
              "      <td>0</td>\n",
              "    </tr>\n",
              "    <tr>\n",
              "      <th>4</th>\n",
              "      <td>pope franci call donald trump christma speech</td>\n",
              "      <td>Pope Francis used his annual Christmas Day mes...</td>\n",
              "      <td>News</td>\n",
              "      <td>1</td>\n",
              "      <td>0</td>\n",
              "    </tr>\n",
              "    <tr>\n",
              "      <th>...</th>\n",
              "      <td>...</td>\n",
              "      <td>...</td>\n",
              "      <td>...</td>\n",
              "      <td>...</td>\n",
              "      <td>...</td>\n",
              "    </tr>\n",
              "    <tr>\n",
              "      <th>44893</th>\n",
              "      <td>'fulli commit nato back new u.s. approach afgh...</td>\n",
              "      <td>BRUSSELS (Reuters) - NATO allies on Tuesday we...</td>\n",
              "      <td>worldnews</td>\n",
              "      <td>0</td>\n",
              "      <td>1</td>\n",
              "    </tr>\n",
              "    <tr>\n",
              "      <th>44894</th>\n",
              "      <td>lexisnexi withdrew two product chine market</td>\n",
              "      <td>LONDON (Reuters) - LexisNexis, a provider of l...</td>\n",
              "      <td>worldnews</td>\n",
              "      <td>0</td>\n",
              "      <td>1</td>\n",
              "    </tr>\n",
              "    <tr>\n",
              "      <th>44895</th>\n",
              "      <td>minsk cultur hub becom author</td>\n",
              "      <td>MINSK (Reuters) - In the shadow of disused Sov...</td>\n",
              "      <td>worldnews</td>\n",
              "      <td>0</td>\n",
              "      <td>1</td>\n",
              "    </tr>\n",
              "    <tr>\n",
              "      <th>44896</th>\n",
              "      <td>vatican upbeat possibl pope franci visit russia</td>\n",
              "      <td>MOSCOW (Reuters) - Vatican Secretary of State ...</td>\n",
              "      <td>worldnews</td>\n",
              "      <td>0</td>\n",
              "      <td>1</td>\n",
              "    </tr>\n",
              "    <tr>\n",
              "      <th>44897</th>\n",
              "      <td>indonesia buy 1.14 billion worth russian jet</td>\n",
              "      <td>JAKARTA (Reuters) - Indonesia will buy 11 Sukh...</td>\n",
              "      <td>worldnews</td>\n",
              "      <td>0</td>\n",
              "      <td>1</td>\n",
              "    </tr>\n",
              "  </tbody>\n",
              "</table>\n",
              "<p>44898 rows × 5 columns</p>\n",
              "</div>"
            ],
            "text/plain": [
              "                                                   title  \\\n",
              "0      donald trump send embarrass new year ’ s eve m...   \n",
              "1      drunk brag trump staffer start russian collus ...   \n",
              "2      sheriff david clark becom internet joke threat...   \n",
              "3          trump ob even obama ’ s name code websit imag   \n",
              "4          pope franci call donald trump christma speech   \n",
              "...                                                  ...   \n",
              "44893  'fulli commit nato back new u.s. approach afgh...   \n",
              "44894        lexisnexi withdrew two product chine market   \n",
              "44895                      minsk cultur hub becom author   \n",
              "44896    vatican upbeat possibl pope franci visit russia   \n",
              "44897       indonesia buy 1.14 billion worth russian jet   \n",
              "\n",
              "                                                    text    subject  label_0  \\\n",
              "0      Donald Trump just couldn t wish all Americans ...       News        1   \n",
              "1      House Intelligence Committee Chairman Devin Nu...       News        1   \n",
              "2      On Friday, it was revealed that former Milwauk...       News        1   \n",
              "3      On Christmas day, Donald Trump announced that ...       News        1   \n",
              "4      Pope Francis used his annual Christmas Day mes...       News        1   \n",
              "...                                                  ...        ...      ...   \n",
              "44893  BRUSSELS (Reuters) - NATO allies on Tuesday we...  worldnews        0   \n",
              "44894  LONDON (Reuters) - LexisNexis, a provider of l...  worldnews        0   \n",
              "44895  MINSK (Reuters) - In the shadow of disused Sov...  worldnews        0   \n",
              "44896  MOSCOW (Reuters) - Vatican Secretary of State ...  worldnews        0   \n",
              "44897  JAKARTA (Reuters) - Indonesia will buy 11 Sukh...  worldnews        0   \n",
              "\n",
              "       label_1  \n",
              "0            0  \n",
              "1            0  \n",
              "2            0  \n",
              "3            0  \n",
              "4            0  \n",
              "...        ...  \n",
              "44893        1  \n",
              "44894        1  \n",
              "44895        1  \n",
              "44896        1  \n",
              "44897        1  \n",
              "\n",
              "[44898 rows x 5 columns]"
            ]
          },
          "execution_count": 49,
          "metadata": {},
          "output_type": "execute_result"
        }
      ],
      "source": [
        "# Hot encode the label\n",
        "\n",
        "US_news = pd.get_dummies(US_news, columns = ['label'])\n",
        "US_news"
      ]
    },
    {
      "cell_type": "code",
      "execution_count": null,
      "metadata": {
        "id": "2BC0nd2r7g-C",
        "outputId": "e1760199-1469-4998-8ae2-2bca2b12d548"
      },
      "outputs": [
        {
          "data": {
            "text/html": [
              "<div>\n",
              "<style scoped>\n",
              "    .dataframe tbody tr th:only-of-type {\n",
              "        vertical-align: middle;\n",
              "    }\n",
              "\n",
              "    .dataframe tbody tr th {\n",
              "        vertical-align: top;\n",
              "    }\n",
              "\n",
              "    .dataframe thead th {\n",
              "        text-align: right;\n",
              "    }\n",
              "</style>\n",
              "<table border=\"1\" class=\"dataframe\">\n",
              "  <thead>\n",
              "    <tr style=\"text-align: right;\">\n",
              "      <th></th>\n",
              "      <th>title</th>\n",
              "      <th>text</th>\n",
              "      <th>subject</th>\n",
              "      <th>Fake</th>\n",
              "      <th>True</th>\n",
              "    </tr>\n",
              "  </thead>\n",
              "  <tbody>\n",
              "    <tr>\n",
              "      <th>0</th>\n",
              "      <td>donald trump send embarrass new year ’ s eve m...</td>\n",
              "      <td>Donald Trump just couldn t wish all Americans ...</td>\n",
              "      <td>News</td>\n",
              "      <td>1</td>\n",
              "      <td>0</td>\n",
              "    </tr>\n",
              "    <tr>\n",
              "      <th>1</th>\n",
              "      <td>drunk brag trump staffer start russian collus ...</td>\n",
              "      <td>House Intelligence Committee Chairman Devin Nu...</td>\n",
              "      <td>News</td>\n",
              "      <td>1</td>\n",
              "      <td>0</td>\n",
              "    </tr>\n",
              "    <tr>\n",
              "      <th>2</th>\n",
              "      <td>sheriff david clark becom internet joke threat...</td>\n",
              "      <td>On Friday, it was revealed that former Milwauk...</td>\n",
              "      <td>News</td>\n",
              "      <td>1</td>\n",
              "      <td>0</td>\n",
              "    </tr>\n",
              "    <tr>\n",
              "      <th>3</th>\n",
              "      <td>trump ob even obama ’ s name code websit imag</td>\n",
              "      <td>On Christmas day, Donald Trump announced that ...</td>\n",
              "      <td>News</td>\n",
              "      <td>1</td>\n",
              "      <td>0</td>\n",
              "    </tr>\n",
              "    <tr>\n",
              "      <th>4</th>\n",
              "      <td>pope franci call donald trump christma speech</td>\n",
              "      <td>Pope Francis used his annual Christmas Day mes...</td>\n",
              "      <td>News</td>\n",
              "      <td>1</td>\n",
              "      <td>0</td>\n",
              "    </tr>\n",
              "    <tr>\n",
              "      <th>...</th>\n",
              "      <td>...</td>\n",
              "      <td>...</td>\n",
              "      <td>...</td>\n",
              "      <td>...</td>\n",
              "      <td>...</td>\n",
              "    </tr>\n",
              "    <tr>\n",
              "      <th>44893</th>\n",
              "      <td>'fulli commit nato back new u.s. approach afgh...</td>\n",
              "      <td>BRUSSELS (Reuters) - NATO allies on Tuesday we...</td>\n",
              "      <td>worldnews</td>\n",
              "      <td>0</td>\n",
              "      <td>1</td>\n",
              "    </tr>\n",
              "    <tr>\n",
              "      <th>44894</th>\n",
              "      <td>lexisnexi withdrew two product chine market</td>\n",
              "      <td>LONDON (Reuters) - LexisNexis, a provider of l...</td>\n",
              "      <td>worldnews</td>\n",
              "      <td>0</td>\n",
              "      <td>1</td>\n",
              "    </tr>\n",
              "    <tr>\n",
              "      <th>44895</th>\n",
              "      <td>minsk cultur hub becom author</td>\n",
              "      <td>MINSK (Reuters) - In the shadow of disused Sov...</td>\n",
              "      <td>worldnews</td>\n",
              "      <td>0</td>\n",
              "      <td>1</td>\n",
              "    </tr>\n",
              "    <tr>\n",
              "      <th>44896</th>\n",
              "      <td>vatican upbeat possibl pope franci visit russia</td>\n",
              "      <td>MOSCOW (Reuters) - Vatican Secretary of State ...</td>\n",
              "      <td>worldnews</td>\n",
              "      <td>0</td>\n",
              "      <td>1</td>\n",
              "    </tr>\n",
              "    <tr>\n",
              "      <th>44897</th>\n",
              "      <td>indonesia buy 1.14 billion worth russian jet</td>\n",
              "      <td>JAKARTA (Reuters) - Indonesia will buy 11 Sukh...</td>\n",
              "      <td>worldnews</td>\n",
              "      <td>0</td>\n",
              "      <td>1</td>\n",
              "    </tr>\n",
              "  </tbody>\n",
              "</table>\n",
              "<p>44898 rows × 5 columns</p>\n",
              "</div>"
            ],
            "text/plain": [
              "                                                   title  \\\n",
              "0      donald trump send embarrass new year ’ s eve m...   \n",
              "1      drunk brag trump staffer start russian collus ...   \n",
              "2      sheriff david clark becom internet joke threat...   \n",
              "3          trump ob even obama ’ s name code websit imag   \n",
              "4          pope franci call donald trump christma speech   \n",
              "...                                                  ...   \n",
              "44893  'fulli commit nato back new u.s. approach afgh...   \n",
              "44894        lexisnexi withdrew two product chine market   \n",
              "44895                      minsk cultur hub becom author   \n",
              "44896    vatican upbeat possibl pope franci visit russia   \n",
              "44897       indonesia buy 1.14 billion worth russian jet   \n",
              "\n",
              "                                                    text    subject  Fake  \\\n",
              "0      Donald Trump just couldn t wish all Americans ...       News     1   \n",
              "1      House Intelligence Committee Chairman Devin Nu...       News     1   \n",
              "2      On Friday, it was revealed that former Milwauk...       News     1   \n",
              "3      On Christmas day, Donald Trump announced that ...       News     1   \n",
              "4      Pope Francis used his annual Christmas Day mes...       News     1   \n",
              "...                                                  ...        ...   ...   \n",
              "44893  BRUSSELS (Reuters) - NATO allies on Tuesday we...  worldnews     0   \n",
              "44894  LONDON (Reuters) - LexisNexis, a provider of l...  worldnews     0   \n",
              "44895  MINSK (Reuters) - In the shadow of disused Sov...  worldnews     0   \n",
              "44896  MOSCOW (Reuters) - Vatican Secretary of State ...  worldnews     0   \n",
              "44897  JAKARTA (Reuters) - Indonesia will buy 11 Sukh...  worldnews     0   \n",
              "\n",
              "       True  \n",
              "0         0  \n",
              "1         0  \n",
              "2         0  \n",
              "3         0  \n",
              "4         0  \n",
              "...     ...  \n",
              "44893     1  \n",
              "44894     1  \n",
              "44895     1  \n",
              "44896     1  \n",
              "44897     1  \n",
              "\n",
              "[44898 rows x 5 columns]"
            ]
          },
          "execution_count": 51,
          "metadata": {},
          "output_type": "execute_result"
        }
      ],
      "source": [
        "# Rename the encoded columns\n",
        "US_news =US_news.rename(columns={'label_0' : 'Fake', 'label_1' : 'True'})\n",
        "US_news"
      ]
    },
    {
      "cell_type": "code",
      "execution_count": null,
      "metadata": {
        "id": "XtLH8IDd7g-D"
      },
      "outputs": [],
      "source": [
        "#Split into X and y\n",
        "\n",
        "X =  US_news['title']\n",
        "y = US_news[['Fake', 'True']]"
      ]
    },
    {
      "cell_type": "code",
      "execution_count": null,
      "metadata": {
        "id": "TojiipX07g-D",
        "outputId": "5396ac3b-0591-48e9-e9e1-e6df2525c14d"
      },
      "outputs": [
        {
          "data": {
            "text/html": [
              "<div>\n",
              "<style scoped>\n",
              "    .dataframe tbody tr th:only-of-type {\n",
              "        vertical-align: middle;\n",
              "    }\n",
              "\n",
              "    .dataframe tbody tr th {\n",
              "        vertical-align: top;\n",
              "    }\n",
              "\n",
              "    .dataframe thead th {\n",
              "        text-align: right;\n",
              "    }\n",
              "</style>\n",
              "<table border=\"1\" class=\"dataframe\">\n",
              "  <thead>\n",
              "    <tr style=\"text-align: right;\">\n",
              "      <th></th>\n",
              "      <th>Fake</th>\n",
              "      <th>True</th>\n",
              "    </tr>\n",
              "  </thead>\n",
              "  <tbody>\n",
              "    <tr>\n",
              "      <th>0</th>\n",
              "      <td>1</td>\n",
              "      <td>0</td>\n",
              "    </tr>\n",
              "    <tr>\n",
              "      <th>1</th>\n",
              "      <td>1</td>\n",
              "      <td>0</td>\n",
              "    </tr>\n",
              "    <tr>\n",
              "      <th>2</th>\n",
              "      <td>1</td>\n",
              "      <td>0</td>\n",
              "    </tr>\n",
              "    <tr>\n",
              "      <th>3</th>\n",
              "      <td>1</td>\n",
              "      <td>0</td>\n",
              "    </tr>\n",
              "    <tr>\n",
              "      <th>4</th>\n",
              "      <td>1</td>\n",
              "      <td>0</td>\n",
              "    </tr>\n",
              "    <tr>\n",
              "      <th>...</th>\n",
              "      <td>...</td>\n",
              "      <td>...</td>\n",
              "    </tr>\n",
              "    <tr>\n",
              "      <th>44893</th>\n",
              "      <td>0</td>\n",
              "      <td>1</td>\n",
              "    </tr>\n",
              "    <tr>\n",
              "      <th>44894</th>\n",
              "      <td>0</td>\n",
              "      <td>1</td>\n",
              "    </tr>\n",
              "    <tr>\n",
              "      <th>44895</th>\n",
              "      <td>0</td>\n",
              "      <td>1</td>\n",
              "    </tr>\n",
              "    <tr>\n",
              "      <th>44896</th>\n",
              "      <td>0</td>\n",
              "      <td>1</td>\n",
              "    </tr>\n",
              "    <tr>\n",
              "      <th>44897</th>\n",
              "      <td>0</td>\n",
              "      <td>1</td>\n",
              "    </tr>\n",
              "  </tbody>\n",
              "</table>\n",
              "<p>44898 rows × 2 columns</p>\n",
              "</div>"
            ],
            "text/plain": [
              "       Fake  True\n",
              "0         1     0\n",
              "1         1     0\n",
              "2         1     0\n",
              "3         1     0\n",
              "4         1     0\n",
              "...     ...   ...\n",
              "44893     0     1\n",
              "44894     0     1\n",
              "44895     0     1\n",
              "44896     0     1\n",
              "44897     0     1\n",
              "\n",
              "[44898 rows x 2 columns]"
            ]
          },
          "execution_count": 101,
          "metadata": {},
          "output_type": "execute_result"
        }
      ],
      "source": [
        "y"
      ]
    },
    {
      "cell_type": "code",
      "execution_count": null,
      "metadata": {
        "id": "D4QDUXFL7g-L"
      },
      "outputs": [],
      "source": [
        "# Tokenizing\n",
        "\n",
        "# Get the total amount of unique words\n",
        "\n",
        "from nltk import word_tokenize"
      ]
    },
    {
      "cell_type": "code",
      "execution_count": null,
      "metadata": {
        "id": "kWlG4Opd7g-L"
      },
      "outputs": [],
      "source": [
        "list_words_us = []\n",
        "\n",
        "for i in US_news.title:\n",
        "  for j in i:\n",
        "    list_words_us.append(j)"
      ]
    },
    {
      "cell_type": "code",
      "execution_count": null,
      "metadata": {
        "id": "s50MRph-7g-L",
        "outputId": "75555b2b-42f5-4769-a4e7-dfd36173f060"
      },
      "outputs": [
        {
          "data": {
            "text/plain": [
              "2762609"
            ]
          },
          "execution_count": 65,
          "metadata": {},
          "output_type": "execute_result"
        }
      ],
      "source": [
        "len(list_words_us)"
      ]
    },
    {
      "cell_type": "code",
      "execution_count": null,
      "metadata": {
        "id": "EdOgTfF57g-M",
        "outputId": "fce073c5-b0cf-4bb3-8533-26060fa25812"
      },
      "outputs": [
        {
          "data": {
            "text/plain": [
              "74"
            ]
          },
          "execution_count": 66,
          "metadata": {},
          "output_type": "execute_result"
        }
      ],
      "source": [
        "#Unigue words\n",
        "unique_w = len(list(set(list_words_us)))\n",
        "unique_w"
      ]
    },
    {
      "cell_type": "code",
      "execution_count": null,
      "metadata": {
        "id": "o3Xq3YpI7g-M"
      },
      "outputs": [],
      "source": [
        "# Tokenizing\n",
        "tokenizer_FN = Tokenizer(num_words=10000)\n",
        "tokenizer_FN.fit_on_texts(X)\n",
        "\n",
        "sequence = tokenizer_FN.texts_to_sequences(X)"
      ]
    },
    {
      "cell_type": "code",
      "execution_count": null,
      "metadata": {
        "id": "VTAjvRwx7g-N"
      },
      "outputs": [],
      "source": [
        "# Pickling the tokenizer model\n",
        "\n",
        "import pickle\n",
        "\n",
        "pickle_out = open('tokenizer_FN2.pickle', 'wb')\n",
        "\n",
        "pickle.dump(tokenizer_FN, pickle_out)\n",
        "\n",
        "pickle_out.close()"
      ]
    },
    {
      "cell_type": "code",
      "execution_count": null,
      "metadata": {
        "id": "zq2ir0hk7g-N",
        "outputId": "691028d3-ed91-42b9-e14b-78a91c347ee9"
      },
      "outputs": [
        {
          "data": {
            "text/plain": [
              "array([[   0,    0,    0, ..., 2555,  396, 1285],\n",
              "       [   0,    0,    0, ...,   65, 1381,  177],\n",
              "       [   0,    0,    0, ...,  280,  572,    2],\n",
              "       ...,\n",
              "       [   0,    0,    0, ..., 3686,  532,  854],\n",
              "       [   0,    0,    0, ..., 2868,  178,   25],\n",
              "       [   0,    0,    0, ..., 2168,   65, 1495]], dtype=int32)"
            ]
          },
          "execution_count": 78,
          "metadata": {},
          "output_type": "execute_result"
        }
      ],
      "source": [
        "# Padding - require to be same length\n",
        "\n",
        "padded_text = pad_sequences(sequence, maxlen=30)\n",
        "\n",
        "padded_text"
      ]
    },
    {
      "cell_type": "code",
      "execution_count": null,
      "metadata": {
        "id": "vTI7BGjE7g-N",
        "outputId": "4c4c9ae7-b551-4592-86cc-f5d677414372"
      },
      "outputs": [
        {
          "data": {
            "text/plain": [
              "44898"
            ]
          },
          "execution_count": 79,
          "metadata": {},
          "output_type": "execute_result"
        }
      ],
      "source": [
        "len(padded_text)"
      ]
    },
    {
      "cell_type": "code",
      "execution_count": null,
      "metadata": {
        "id": "flnEd6kg7g-O"
      },
      "outputs": [],
      "source": [
        "# Split into train and test data\n",
        "\n",
        "X_train, X_test, y_train, y_test = train_test_split(padded_text, y, test_size=0.2, random_state=0)"
      ]
    },
    {
      "cell_type": "code",
      "execution_count": null,
      "metadata": {
        "id": "-cooUq1n7g-O",
        "outputId": "b509b6e1-8e04-4c56-ab15-963f224c55e6"
      },
      "outputs": [
        {
          "data": {
            "text/html": [
              "<div>\n",
              "<style scoped>\n",
              "    .dataframe tbody tr th:only-of-type {\n",
              "        vertical-align: middle;\n",
              "    }\n",
              "\n",
              "    .dataframe tbody tr th {\n",
              "        vertical-align: top;\n",
              "    }\n",
              "\n",
              "    .dataframe thead th {\n",
              "        text-align: right;\n",
              "    }\n",
              "</style>\n",
              "<table border=\"1\" class=\"dataframe\">\n",
              "  <thead>\n",
              "    <tr style=\"text-align: right;\">\n",
              "      <th></th>\n",
              "      <th>Fake</th>\n",
              "      <th>True</th>\n",
              "    </tr>\n",
              "  </thead>\n",
              "  <tbody>\n",
              "    <tr>\n",
              "      <th>35305</th>\n",
              "      <td>0</td>\n",
              "      <td>1</td>\n",
              "    </tr>\n",
              "    <tr>\n",
              "      <th>29180</th>\n",
              "      <td>0</td>\n",
              "      <td>1</td>\n",
              "    </tr>\n",
              "    <tr>\n",
              "      <th>29805</th>\n",
              "      <td>0</td>\n",
              "      <td>1</td>\n",
              "    </tr>\n",
              "    <tr>\n",
              "      <th>38237</th>\n",
              "      <td>0</td>\n",
              "      <td>1</td>\n",
              "    </tr>\n",
              "    <tr>\n",
              "      <th>5099</th>\n",
              "      <td>1</td>\n",
              "      <td>0</td>\n",
              "    </tr>\n",
              "    <tr>\n",
              "      <th>...</th>\n",
              "      <td>...</td>\n",
              "      <td>...</td>\n",
              "    </tr>\n",
              "    <tr>\n",
              "      <th>37781</th>\n",
              "      <td>0</td>\n",
              "      <td>1</td>\n",
              "    </tr>\n",
              "    <tr>\n",
              "      <th>2275</th>\n",
              "      <td>1</td>\n",
              "      <td>0</td>\n",
              "    </tr>\n",
              "    <tr>\n",
              "      <th>19324</th>\n",
              "      <td>1</td>\n",
              "      <td>0</td>\n",
              "    </tr>\n",
              "    <tr>\n",
              "      <th>1178</th>\n",
              "      <td>1</td>\n",
              "      <td>0</td>\n",
              "    </tr>\n",
              "    <tr>\n",
              "      <th>34472</th>\n",
              "      <td>0</td>\n",
              "      <td>1</td>\n",
              "    </tr>\n",
              "  </tbody>\n",
              "</table>\n",
              "<p>8980 rows × 2 columns</p>\n",
              "</div>"
            ],
            "text/plain": [
              "       Fake  True\n",
              "35305     0     1\n",
              "29180     0     1\n",
              "29805     0     1\n",
              "38237     0     1\n",
              "5099      1     0\n",
              "...     ...   ...\n",
              "37781     0     1\n",
              "2275      1     0\n",
              "19324     1     0\n",
              "1178      1     0\n",
              "34472     0     1\n",
              "\n",
              "[8980 rows x 2 columns]"
            ]
          },
          "execution_count": 103,
          "metadata": {},
          "output_type": "execute_result"
        }
      ],
      "source": [
        "y_test"
      ]
    },
    {
      "cell_type": "markdown",
      "metadata": {
        "id": "7OnwEr0i7g-O"
      },
      "source": [
        "# Modelling a Neural Networks Model"
      ]
    },
    {
      "cell_type": "code",
      "execution_count": null,
      "metadata": {
        "id": "KOIuVVjf7g-O",
        "outputId": "34e72f34-0a14-4157-d319-ed11db1c0fcd"
      },
      "outputs": [
        {
          "name": "stdout",
          "output_type": "stream",
          "text": [
            "Model: \"sequential_2\"\n",
            "_________________________________________________________________\n",
            "Layer (type)                 Output Shape              Param #   \n",
            "=================================================================\n",
            "embedding_2 (Embedding)      (None, 30, 50)            500000    \n",
            "_________________________________________________________________\n",
            "lstm_2 (LSTM)                (None, 64)                29440     \n",
            "_________________________________________________________________\n",
            "dense_4 (Dense)              (None, 256)               16640     \n",
            "_________________________________________________________________\n",
            "dropout_2 (Dropout)          (None, 256)               0         \n",
            "_________________________________________________________________\n",
            "dense_5 (Dense)              (None, 2)                 514       \n",
            "=================================================================\n",
            "Total params: 546,594\n",
            "Trainable params: 546,594\n",
            "Non-trainable params: 0\n",
            "_________________________________________________________________\n"
          ]
        }
      ],
      "source": [
        "FN_model = tf.keras.Sequential([\n",
        "    layers.Embedding(10000, 50, input_length=30),\n",
        "    layers.LSTM(64),\n",
        "    layers.Dense(256, activation='relu'),\n",
        "    layers.Dropout(0.3),\n",
        "    layers.Dense(2, activation = 'sigmoid')\n",
        "])\n",
        "\n",
        "FN_model.summary()"
      ]
    },
    {
      "cell_type": "code",
      "execution_count": null,
      "metadata": {
        "id": "HJ14qGRb7g-P"
      },
      "outputs": [],
      "source": [
        "FN_model.compile(loss=tf.keras.losses.CategoricalCrossentropy(), optimizer='adam', metrics=[\"CategoricalAccuracy\"])"
      ]
    },
    {
      "cell_type": "code",
      "execution_count": null,
      "metadata": {
        "id": "Ht9-PcQR7g-P",
        "outputId": "4785ec3b-4267-469d-eaf2-2eb5c9022365"
      },
      "outputs": [
        {
          "name": "stdout",
          "output_type": "stream",
          "text": [
            "Epoch 1/10\n",
            "405/405 [==============================] - 34s 74ms/step - loss: 0.1471 - categorical_accuracy: 0.9433 - val_loss: 0.0947 - val_categorical_accuracy: 0.9658\n",
            "Epoch 2/10\n",
            "405/405 [==============================] - 32s 80ms/step - loss: 0.0525 - categorical_accuracy: 0.9813 - val_loss: 0.0799 - val_categorical_accuracy: 0.9688\n",
            "Epoch 3/10\n",
            "405/405 [==============================] - 20s 50ms/step - loss: 0.0285 - categorical_accuracy: 0.9903 - val_loss: 0.0903 - val_categorical_accuracy: 0.9680\n",
            "Epoch 4/10\n",
            "405/405 [==============================] - 18s 44ms/step - loss: 0.0184 - categorical_accuracy: 0.9934 - val_loss: 0.1234 - val_categorical_accuracy: 0.9669\n",
            "Epoch 5/10\n",
            "405/405 [==============================] - 18s 44ms/step - loss: 0.0095 - categorical_accuracy: 0.9969 - val_loss: 0.1409 - val_categorical_accuracy: 0.9658\n",
            "Epoch 6/10\n",
            "405/405 [==============================] - 33s 81ms/step - loss: 0.0085 - categorical_accuracy: 0.9971 - val_loss: 0.1325 - val_categorical_accuracy: 0.9688\n",
            "Epoch 7/10\n",
            "405/405 [==============================] - 24s 58ms/step - loss: 0.0049 - categorical_accuracy: 0.9984 - val_loss: 0.1728 - val_categorical_accuracy: 0.9652\n",
            "Epoch 8/10\n",
            "405/405 [==============================] - 38s 95ms/step - loss: 0.0060 - categorical_accuracy: 0.9982 - val_loss: 0.1820 - val_categorical_accuracy: 0.9644\n",
            "Epoch 9/10\n",
            "405/405 [==============================] - 36s 89ms/step - loss: 0.0038 - categorical_accuracy: 0.9986 - val_loss: 0.2014 - val_categorical_accuracy: 0.9671\n",
            "Epoch 10/10\n",
            "405/405 [==============================] - 34s 85ms/step - loss: 0.0037 - categorical_accuracy: 0.9985 - val_loss: 0.2216 - val_categorical_accuracy: 0.9655\n"
          ]
        }
      ],
      "source": [
        "# Fitting the model\n",
        "\n",
        "history = FN_model.fit(X_train, y_train, batch_size=80, epochs=10, validation_split=0.1)"
      ]
    },
    {
      "cell_type": "code",
      "execution_count": null,
      "metadata": {
        "id": "k7hIhBno7g-P",
        "outputId": "ac158332-b667-4e07-a5d6-9454e120b2c9"
      },
      "outputs": [
        {
          "data": {
            "image/png": "[encoded data removed]",
            "text/plain": [
              "<Figure size 432x288 with 1 Axes>"
            ]
          },
          "metadata": {
            "needs_background": "light"
          },
          "output_type": "display_data"
        }
      ],
      "source": [
        "# Finding the optimal number of epochs\n",
        "\n",
        "# Training loss vs epochs\n",
        "history_dict = history.history\n",
        "history_dict.keys()\n",
        "\n",
        "acc = history_dict['categorical_accuracy']\n",
        "val_acc = history_dict['val_categorical_accuracy']\n",
        "loss = history_dict['loss']\n",
        "val_loss = history_dict['val_loss']\n",
        "\n",
        "\n",
        "epochs = range(1, len(acc) + 1)\n",
        "\n",
        "plt.plot(epochs, loss, 'bo', label='Training loss')\n",
        "plt.plot(epochs, val_loss, 'r', label = 'Validation loss')\n",
        "plt.title('Training and validation loss')\n",
        "plt.xlabel('Epochs')\n",
        "plt.ylabel('Loss')\n",
        "plt.legend()\n",
        "\n",
        "plt.show()"
      ]
    },
    {
      "cell_type": "code",
      "execution_count": null,
      "metadata": {
        "id": "ckELwsFc7g-Q",
        "outputId": "e2d969b3-5604-4c36-e6c9-6997e6f671f7"
      },
      "outputs": [
        {
          "name": "stdout",
          "output_type": "stream",
          "text": [
            "Epoch 1/2\n",
            "405/405 [==============================] - 39s 71ms/step - loss: 0.1458 - categorical_accuracy: 0.9473 - val_loss: 0.0893 - val_categorical_accuracy: 0.9677\n",
            "Epoch 2/2\n",
            "405/405 [==============================] - 23s 56ms/step - loss: 0.0523 - categorical_accuracy: 0.9808 - val_loss: 0.0816 - val_categorical_accuracy: 0.9685\n"
          ]
        },
        {
          "data": {
            "text/plain": [
              "<keras.callbacks.History at 0x7ff8ae54e730>"
            ]
          },
          "execution_count": 106,
          "metadata": {},
          "output_type": "execute_result"
        }
      ],
      "source": [
        "# Model with 2 epochs\n",
        "FN_model.fit(X_train, y_train, batch_size=80, epochs=2, validation_split=0.1)"
      ]
    },
    {
      "cell_type": "code",
      "execution_count": null,
      "metadata": {
        "id": "_7y4I7yu7g-Q",
        "outputId": "618174db-3089-4ecb-9a21-4aa87a6747a6"
      },
      "outputs": [
        {
          "data": {
            "text/plain": [
              "array([[4.8196316e-04, 9.9907595e-01],\n",
              "       [5.1351964e-02, 9.3095201e-01],\n",
              "       [1.0536969e-02, 9.8458910e-01],\n",
              "       ...,\n",
              "       [9.9819779e-01, 1.3960004e-03],\n",
              "       [9.8421645e-01, 1.3686806e-02],\n",
              "       [4.5463443e-03, 9.9268550e-01]], dtype=float32)"
            ]
          },
          "execution_count": 107,
          "metadata": {},
          "output_type": "execute_result"
        }
      ],
      "source": [
        "# Performing predictions\n",
        "\n",
        "y_pred = FN_model.predict(X_test)\n",
        "y_pred"
      ]
    },
    {
      "cell_type": "code",
      "execution_count": null,
      "metadata": {
        "id": "hge2vnqm7g-R",
        "outputId": "10698d4a-e798-4502-dcd5-f53df6951597"
      },
      "outputs": [
        {
          "data": {
            "text/plain": [
              "array([1, 1, 1, ..., 0, 0, 1])"
            ]
          },
          "execution_count": 108,
          "metadata": {},
          "output_type": "execute_result"
        }
      ],
      "source": [
        "y_pred_cat = np.argmax(y_pred, axis =1 )\n",
        "y_pred_cat"
      ]
    },
    {
      "cell_type": "code",
      "execution_count": null,
      "metadata": {
        "id": "nH1TpKmZ7g-S",
        "outputId": "2f00914b-518e-4fa5-a756-72ca86956c81"
      },
      "outputs": [
        {
          "data": {
            "text/html": [
              "<div>\n",
              "<style scoped>\n",
              "    .dataframe tbody tr th:only-of-type {\n",
              "        vertical-align: middle;\n",
              "    }\n",
              "\n",
              "    .dataframe tbody tr th {\n",
              "        vertical-align: top;\n",
              "    }\n",
              "\n",
              "    .dataframe thead th {\n",
              "        text-align: right;\n",
              "    }\n",
              "</style>\n",
              "<table border=\"1\" class=\"dataframe\">\n",
              "  <thead>\n",
              "    <tr style=\"text-align: right;\">\n",
              "      <th></th>\n",
              "      <th>Fake</th>\n",
              "      <th>True</th>\n",
              "    </tr>\n",
              "  </thead>\n",
              "  <tbody>\n",
              "    <tr>\n",
              "      <th>35305</th>\n",
              "      <td>0</td>\n",
              "      <td>1</td>\n",
              "    </tr>\n",
              "    <tr>\n",
              "      <th>29180</th>\n",
              "      <td>0</td>\n",
              "      <td>1</td>\n",
              "    </tr>\n",
              "    <tr>\n",
              "      <th>29805</th>\n",
              "      <td>0</td>\n",
              "      <td>1</td>\n",
              "    </tr>\n",
              "    <tr>\n",
              "      <th>38237</th>\n",
              "      <td>0</td>\n",
              "      <td>1</td>\n",
              "    </tr>\n",
              "    <tr>\n",
              "      <th>5099</th>\n",
              "      <td>1</td>\n",
              "      <td>0</td>\n",
              "    </tr>\n",
              "    <tr>\n",
              "      <th>...</th>\n",
              "      <td>...</td>\n",
              "      <td>...</td>\n",
              "    </tr>\n",
              "    <tr>\n",
              "      <th>37781</th>\n",
              "      <td>0</td>\n",
              "      <td>1</td>\n",
              "    </tr>\n",
              "    <tr>\n",
              "      <th>2275</th>\n",
              "      <td>1</td>\n",
              "      <td>0</td>\n",
              "    </tr>\n",
              "    <tr>\n",
              "      <th>19324</th>\n",
              "      <td>1</td>\n",
              "      <td>0</td>\n",
              "    </tr>\n",
              "    <tr>\n",
              "      <th>1178</th>\n",
              "      <td>1</td>\n",
              "      <td>0</td>\n",
              "    </tr>\n",
              "    <tr>\n",
              "      <th>34472</th>\n",
              "      <td>0</td>\n",
              "      <td>1</td>\n",
              "    </tr>\n",
              "  </tbody>\n",
              "</table>\n",
              "<p>8980 rows × 2 columns</p>\n",
              "</div>"
            ],
            "text/plain": [
              "       Fake  True\n",
              "35305     0     1\n",
              "29180     0     1\n",
              "29805     0     1\n",
              "38237     0     1\n",
              "5099      1     0\n",
              "...     ...   ...\n",
              "37781     0     1\n",
              "2275      1     0\n",
              "19324     1     0\n",
              "1178      1     0\n",
              "34472     0     1\n",
              "\n",
              "[8980 rows x 2 columns]"
            ]
          },
          "execution_count": 109,
          "metadata": {},
          "output_type": "execute_result"
        }
      ],
      "source": [
        "y_test"
      ]
    },
    {
      "cell_type": "code",
      "execution_count": null,
      "metadata": {
        "id": "J2d_EwXf7g-S",
        "outputId": "5db24708-9d9f-4ffe-9231-bbca787bbb56"
      },
      "outputs": [
        {
          "data": {
            "text/plain": [
              "array([1, 1, 1, ..., 0, 0, 1])"
            ]
          },
          "execution_count": 110,
          "metadata": {},
          "output_type": "execute_result"
        }
      ],
      "source": [
        "# List of values with the correct values of y\n",
        "\n",
        "y_test = y_test.idxmax(axis=1).values\n",
        "conditions = [\n",
        "    y_test == 'Fake',\n",
        "    y_test == 'True'\n",
        "]\n",
        "values = [0, 1]\n",
        "\n",
        "y_test = np.select(conditions, values)\n",
        "y_test"
      ]
    },
    {
      "cell_type": "code",
      "execution_count": null,
      "metadata": {
        "id": "MsQdx6gD7g-T",
        "outputId": "f8dde28e-b62b-4fb9-a2f6-a50592de0986"
      },
      "outputs": [
        {
          "name": "stdout",
          "output_type": "stream",
          "text": [
            "the model has an accuracy of :  0.9649220489977728\n"
          ]
        }
      ],
      "source": [
        "from sklearn.metrics import accuracy_score\n",
        "print('the model has an accuracy of : ', accuracy_score(y_test, y_pred_cat))"
      ]
    },
    {
      "cell_type": "code",
      "execution_count": null,
      "metadata": {
        "id": "W21EHZmF7g-T"
      },
      "outputs": [],
      "source": [
        "def fake_news_classifier():\n",
        "    text = input('Whats the news headline?')\n",
        "\n",
        "    #stopwords\n",
        "    text = stopwords_remover(text)\n",
        "\n",
        "    # Tokenize the text\n",
        "    text = tokenizerr(text)\n",
        "\n",
        "    # Remove punctuation\n",
        "    text = punctuation_remover(text)\n",
        "\n",
        "    # Stemming\n",
        "    text = text_stemmer(text)\n",
        "\n",
        "    # Lemmatizing\n",
        "    text = text_lemma(text)\n",
        "\n",
        "    # Combining the words\n",
        "    # text = \" \".join(text)\n",
        "\n",
        "    # Tokenizing\n",
        "    tokens = tokenizer_FN.texts_to_sequences([text])\n",
        "    \n",
        "    # Padding\n",
        "    stemmed_tokens = pad_sequences(tokens, maxlen=30)\n",
        "\n",
        "    # Pass through the neural network model\n",
        "    class_prob = FN_model.predict(stemmed_tokens)\n",
        "\n",
        "    final_class = np.argmax(class_prob)\n",
        "\n",
        "    if final_class == 0:\n",
        "        print('The news article is fake')\n",
        "    else:\n",
        "        print('The news article is true')\n",
        "    \n",
        "\n",
        "    return final_class"
      ]
    },
    {
      "cell_type": "code",
      "execution_count": null,
      "metadata": {
        "id": "RjhI6S3M7g-T",
        "outputId": "fb4c14e1-86ba-4429-cad1-f17126815f65"
      },
      "outputs": [
        {
          "name": "stdout",
          "output_type": "stream",
          "text": [
            "The news article is true\n"
          ]
        },
        {
          "data": {
            "text/plain": [
              "1"
            ]
          },
          "execution_count": 125,
          "metadata": {},
          "output_type": "execute_result"
        }
      ],
      "source": [
        "fake_news_classifier()"
      ]
    },
    {
      "cell_type": "code",
      "execution_count": null,
      "metadata": {
        "id": "ws4kfA3P7g-U"
      },
      "outputs": [],
      "source": [
        "# Exporting the FN model\n",
        "\n",
        "from tensorflow import keras\n",
        "FN_model.save('FakeNews_NN.h5')"
      ]
    }
  ],
  "metadata": {
    "colab": {
      "include_colab_link": true,
      "name": "fake_news_ML.ipynb",
      "provenance": []
    },
    "interpreter": {
      "hash": "769919d178be46a90f10bb6235c6ce087a03a24ee47c90f3a0e9832b171232d7"
    },
    "kernelspec": {
      "display_name": "Python 3.8.8 64-bit ('base': conda)",
      "language": "python",
      "name": "python3"
    },
    "language_info": {
      "codemirror_mode": {
        "name": "ipython",
        "version": 3
      },
      "file_extension": ".py",
      "mimetype": "text/x-python",
      "name": "python",
      "nbconvert_exporter": "python",
      "pygments_lexer": "ipython3",
      "version": "3.7.11"
    },
    "orig_nbformat": 4
  },
  "nbformat": 4,
  "nbformat_minor": 0
}
