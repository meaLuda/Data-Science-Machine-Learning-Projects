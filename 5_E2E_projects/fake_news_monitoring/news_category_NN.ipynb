{
  "cells": [
    {
      "cell_type": "markdown",
      "metadata": {
        "id": "view-in-github",
        "colab_type": "text"
      },
      "source": [
        "<a href=\"https://colab.research.google.com/github/cnyakundi/fake_news_monitoring/blob/master/news_category_NN.ipynb\" target=\"_parent\"><img src=\"https://colab.research.google.com/assets/colab-badge.svg\" alt=\"Open In Colab\"/></a>"
      ]
    },
    {
      "cell_type": "markdown",
      "metadata": {
        "id": "27GvNaxc7oaK"
      },
      "source": [
        "# NEWS CLASSIFICATION USING NEURAL NETWORKS"
      ]
    },
    {
      "cell_type": "markdown",
      "metadata": {
        "id": "ryFxkvNi7oaO"
      },
      "source": [
        "## Description"
      ]
    },
    {
      "cell_type": "markdown",
      "metadata": {
        "id": "jZ8xrYm77oaO"
      },
      "source": [
        "This is the preprocessing and building of a model that predicts the category of a news article using the headline.\n",
        "\n",
        "The categories are :\n",
        "1. Business\n",
        "2. Politics\n",
        "3. Sports"
      ]
    },
    {
      "cell_type": "code",
      "execution_count": null,
      "metadata": {
        "id": "mNE-9c287oaP",
        "outputId": "eec64945-8604-48f9-a50b-6fa92ce8104e"
      },
      "outputs": [
        {
          "name": "stderr",
          "output_type": "stream",
          "text": [
            "[nltk_data] Downloading package punkt to /Users/RyanMburu/nltk_data...\n",
            "[nltk_data]   Package punkt is already up-to-date!\n",
            "[nltk_data] Downloading package stopwords to\n",
            "[nltk_data]     /Users/RyanMburu/nltk_data...\n",
            "[nltk_data]   Package stopwords is already up-to-date!\n",
            "[nltk_data] Downloading package wordnet to\n",
            "[nltk_data]     /Users/RyanMburu/nltk_data...\n",
            "[nltk_data]   Package wordnet is already up-to-date!\n"
          ]
        }
      ],
      "source": [
        "import pandas as pd\n",
        "import numpy as np\n",
        "import re\n",
        "import matplotlib.pyplot as plt\n",
        "import seaborn as sns\n",
        "import nltk \n",
        "nltk.download('punkt')\n",
        "from nltk.corpus import stopwords\n",
        "nltk.download('stopwords')\n",
        "from nltk.stem import PorterStemmer\n",
        "from nltk.stem import WordNetLemmatizer\n",
        "nltk.download('wordnet')\n",
        "import tensorflow as tf\n",
        "from tensorflow.keras.preprocessing.text import Tokenizer\n",
        "from tensorflow.keras.preprocessing.sequence import pad_sequences\n",
        "from sklearn.model_selection import train_test_split\n",
        "from tensorflow.keras import layers\n",
        "from tensorflow.keras import losses\n",
        "from sklearn.metrics import confusion_matrix\n",
        "from sklearn.metrics import classification_report\n"
      ]
    },
    {
      "cell_type": "code",
      "execution_count": null,
      "metadata": {
        "id": "Jt0xiMM77oaT",
        "outputId": "86a25a4b-3721-4dda-fd42-b101cef6c995"
      },
      "outputs": [
        {
          "data": {
            "text/html": [
              "<div>\n",
              "<style scoped>\n",
              "    .dataframe tbody tr th:only-of-type {\n",
              "        vertical-align: middle;\n",
              "    }\n",
              "\n",
              "    .dataframe tbody tr th {\n",
              "        vertical-align: top;\n",
              "    }\n",
              "\n",
              "    .dataframe thead th {\n",
              "        text-align: right;\n",
              "    }\n",
              "</style>\n",
              "<table border=\"1\" class=\"dataframe\">\n",
              "  <thead>\n",
              "    <tr style=\"text-align: right;\">\n",
              "      <th></th>\n",
              "      <th>Unnamed: 0</th>\n",
              "      <th>category</th>\n",
              "      <th>filename</th>\n",
              "      <th>title</th>\n",
              "      <th>content</th>\n",
              "    </tr>\n",
              "  </thead>\n",
              "  <tbody>\n",
              "    <tr>\n",
              "      <th>0</th>\n",
              "      <td>0</td>\n",
              "      <td>business</td>\n",
              "      <td>001.txt</td>\n",
              "      <td>Ad sales boost Time Warner profit</td>\n",
              "      <td>Quarterly profits at US media giant TimeWarne...</td>\n",
              "    </tr>\n",
              "    <tr>\n",
              "      <th>1</th>\n",
              "      <td>1</td>\n",
              "      <td>business</td>\n",
              "      <td>002.txt</td>\n",
              "      <td>Dollar gains on Greenspan speech</td>\n",
              "      <td>The dollar has hit its highest level against ...</td>\n",
              "    </tr>\n",
              "    <tr>\n",
              "      <th>2</th>\n",
              "      <td>2</td>\n",
              "      <td>business</td>\n",
              "      <td>003.txt</td>\n",
              "      <td>Yukos unit buyer faces loan claim</td>\n",
              "      <td>The owners of embattled Russian oil giant Yuk...</td>\n",
              "    </tr>\n",
              "    <tr>\n",
              "      <th>3</th>\n",
              "      <td>3</td>\n",
              "      <td>business</td>\n",
              "      <td>004.txt</td>\n",
              "      <td>High fuel prices hit BA's profits</td>\n",
              "      <td>British Airways has blamed high fuel prices f...</td>\n",
              "    </tr>\n",
              "    <tr>\n",
              "      <th>4</th>\n",
              "      <td>4</td>\n",
              "      <td>business</td>\n",
              "      <td>005.txt</td>\n",
              "      <td>Pernod takeover talk lifts Domecq</td>\n",
              "      <td>Shares in UK drinks and food firm Allied Dome...</td>\n",
              "    </tr>\n",
              "  </tbody>\n",
              "</table>\n",
              "</div>"
            ],
            "text/plain": [
              "   Unnamed: 0  category filename                              title  \\\n",
              "0           0  business  001.txt  Ad sales boost Time Warner profit   \n",
              "1           1  business  002.txt   Dollar gains on Greenspan speech   \n",
              "2           2  business  003.txt  Yukos unit buyer faces loan claim   \n",
              "3           3  business  004.txt  High fuel prices hit BA's profits   \n",
              "4           4  business  005.txt  Pernod takeover talk lifts Domecq   \n",
              "\n",
              "                                             content  \n",
              "0   Quarterly profits at US media giant TimeWarne...  \n",
              "1   The dollar has hit its highest level against ...  \n",
              "2   The owners of embattled Russian oil giant Yuk...  \n",
              "3   British Airways has blamed high fuel prices f...  \n",
              "4   Shares in UK drinks and food firm Allied Dome...  "
            ]
          },
          "execution_count": 73,
          "metadata": {},
          "output_type": "execute_result"
        }
      ],
      "source": [
        "# Load in the data\n",
        "\n",
        "df = pd.read_csv('/Users/RyanMburu/Documents/DS-Projects/ProDev/Datasets/bbc_news_data.csv', sep = '\\t')\n",
        "df.head()"
      ]
    },
    {
      "cell_type": "markdown",
      "metadata": {
        "id": "mUm_Uz767oaU"
      },
      "source": [
        "## Light Cleaning"
      ]
    },
    {
      "cell_type": "code",
      "execution_count": null,
      "metadata": {
        "id": "6yhFeCIj7oaU"
      },
      "outputs": [],
      "source": [
        "# Dropping columns\n",
        "df = df.drop(['Unnamed: 0'], axis=1)"
      ]
    },
    {
      "cell_type": "code",
      "execution_count": null,
      "metadata": {
        "id": "SwCRQrq77oaV"
      },
      "outputs": [],
      "source": [
        "df = df.drop(['filename'], axis=1)"
      ]
    },
    {
      "cell_type": "code",
      "execution_count": null,
      "metadata": {
        "id": "CrMl_ysH7oaV",
        "outputId": "8bc56c44-f8fe-499f-f196-98df0f28a809"
      },
      "outputs": [
        {
          "data": {
            "text/html": [
              "<div>\n",
              "<style scoped>\n",
              "    .dataframe tbody tr th:only-of-type {\n",
              "        vertical-align: middle;\n",
              "    }\n",
              "\n",
              "    .dataframe tbody tr th {\n",
              "        vertical-align: top;\n",
              "    }\n",
              "\n",
              "    .dataframe thead th {\n",
              "        text-align: right;\n",
              "    }\n",
              "</style>\n",
              "<table border=\"1\" class=\"dataframe\">\n",
              "  <thead>\n",
              "    <tr style=\"text-align: right;\">\n",
              "      <th></th>\n",
              "      <th>category</th>\n",
              "      <th>title</th>\n",
              "      <th>content</th>\n",
              "    </tr>\n",
              "  </thead>\n",
              "  <tbody>\n",
              "    <tr>\n",
              "      <th>0</th>\n",
              "      <td>business</td>\n",
              "      <td>Ad sales boost Time Warner profit</td>\n",
              "      <td>Quarterly profits at US media giant TimeWarne...</td>\n",
              "    </tr>\n",
              "    <tr>\n",
              "      <th>1</th>\n",
              "      <td>business</td>\n",
              "      <td>Dollar gains on Greenspan speech</td>\n",
              "      <td>The dollar has hit its highest level against ...</td>\n",
              "    </tr>\n",
              "    <tr>\n",
              "      <th>2</th>\n",
              "      <td>business</td>\n",
              "      <td>Yukos unit buyer faces loan claim</td>\n",
              "      <td>The owners of embattled Russian oil giant Yuk...</td>\n",
              "    </tr>\n",
              "    <tr>\n",
              "      <th>3</th>\n",
              "      <td>business</td>\n",
              "      <td>High fuel prices hit BA's profits</td>\n",
              "      <td>British Airways has blamed high fuel prices f...</td>\n",
              "    </tr>\n",
              "    <tr>\n",
              "      <th>4</th>\n",
              "      <td>business</td>\n",
              "      <td>Pernod takeover talk lifts Domecq</td>\n",
              "      <td>Shares in UK drinks and food firm Allied Dome...</td>\n",
              "    </tr>\n",
              "  </tbody>\n",
              "</table>\n",
              "</div>"
            ],
            "text/plain": [
              "   category                              title  \\\n",
              "0  business  Ad sales boost Time Warner profit   \n",
              "1  business   Dollar gains on Greenspan speech   \n",
              "2  business  Yukos unit buyer faces loan claim   \n",
              "3  business  High fuel prices hit BA's profits   \n",
              "4  business  Pernod takeover talk lifts Domecq   \n",
              "\n",
              "                                             content  \n",
              "0   Quarterly profits at US media giant TimeWarne...  \n",
              "1   The dollar has hit its highest level against ...  \n",
              "2   The owners of embattled Russian oil giant Yuk...  \n",
              "3   British Airways has blamed high fuel prices f...  \n",
              "4   Shares in UK drinks and food firm Allied Dome...  "
            ]
          },
          "execution_count": 76,
          "metadata": {},
          "output_type": "execute_result"
        }
      ],
      "source": [
        "df.head()"
      ]
    },
    {
      "cell_type": "code",
      "execution_count": null,
      "metadata": {
        "id": "k91xFseI7oaW",
        "outputId": "5c26c88b-1a5e-4f2b-fa70-60b3513679b3"
      },
      "outputs": [
        {
          "data": {
            "text/plain": [
              "category    0\n",
              "title       0\n",
              "content     0\n",
              "dtype: int64"
            ]
          },
          "execution_count": 77,
          "metadata": {},
          "output_type": "execute_result"
        }
      ],
      "source": [
        "# Check null values\n",
        "df.isna().sum()"
      ]
    },
    {
      "cell_type": "code",
      "execution_count": null,
      "metadata": {
        "id": "uOJCdv6g7oaX"
      },
      "outputs": [],
      "source": [
        "# Drop the entertainment and tech categories\n",
        "\n",
        "df = df[(df.category != 'entertainment') & (df.category != 'tech')]"
      ]
    },
    {
      "cell_type": "code",
      "execution_count": null,
      "metadata": {
        "id": "nBqhjWxt7oaX",
        "outputId": "07c0376b-ba57-4a35-84be-ac9f82b2426d"
      },
      "outputs": [
        {
          "data": {
            "text/plain": [
              "array(['business', 'politics', 'sport'], dtype=object)"
            ]
          },
          "execution_count": 79,
          "metadata": {},
          "output_type": "execute_result"
        }
      ],
      "source": [
        "df['category'].unique()"
      ]
    },
    {
      "cell_type": "markdown",
      "metadata": {
        "id": "SVht2F_g7oaY"
      },
      "source": [
        "## Light EDA"
      ]
    },
    {
      "cell_type": "code",
      "execution_count": null,
      "metadata": {
        "id": "aq3rU3DU7oaZ",
        "outputId": "cedc5894-9338-42ae-b8b4-87387e21656f"
      },
      "outputs": [
        {
          "name": "stderr",
          "output_type": "stream",
          "text": [
            "/Users/RyanMburu/opt/anaconda3/lib/python3.8/site-packages/seaborn/_decorators.py:36: FutureWarning: Pass the following variable as a keyword arg: x. From version 0.12, the only valid positional argument will be `data`, and passing other arguments without an explicit keyword will result in an error or misinterpretation.\n",
            "  warnings.warn(\n"
          ]
        },
        {
          "data": {
            "image/png": "[encoded data removed]",
            "text/plain": [
              "<Figure size 1080x720 with 1 Axes>"
            ]
          },
          "metadata": {
            "needs_background": "light"
          },
          "output_type": "display_data"
        }
      ],
      "source": [
        "# Most popular category\n",
        "\n",
        "plt.figure(figsize=(15, 10))\n",
        "\n",
        "sns.countplot(df['category'], order = df['category'].value_counts().index)\n",
        "plt.show()"
      ]
    },
    {
      "cell_type": "markdown",
      "metadata": {
        "id": "VNINQ7i27oaa"
      },
      "source": [
        "sport and business are the most popular categories"
      ]
    },
    {
      "cell_type": "markdown",
      "metadata": {
        "id": "YJqPJDXz7oae"
      },
      "source": [
        "## Preprocessing"
      ]
    },
    {
      "cell_type": "code",
      "execution_count": null,
      "metadata": {
        "id": "DYmCQ5DW7oae",
        "outputId": "2dec0a1d-2455-4132-fc56-f7094efe4aac"
      },
      "outputs": [
        {
          "data": {
            "text/html": [
              "<div>\n",
              "<style scoped>\n",
              "    .dataframe tbody tr th:only-of-type {\n",
              "        vertical-align: middle;\n",
              "    }\n",
              "\n",
              "    .dataframe tbody tr th {\n",
              "        vertical-align: top;\n",
              "    }\n",
              "\n",
              "    .dataframe thead th {\n",
              "        text-align: right;\n",
              "    }\n",
              "</style>\n",
              "<table border=\"1\" class=\"dataframe\">\n",
              "  <thead>\n",
              "    <tr style=\"text-align: right;\">\n",
              "      <th></th>\n",
              "      <th>category</th>\n",
              "      <th>title</th>\n",
              "      <th>content</th>\n",
              "    </tr>\n",
              "  </thead>\n",
              "  <tbody>\n",
              "    <tr>\n",
              "      <th>0</th>\n",
              "      <td>business</td>\n",
              "      <td>Ad sales boost Time Warner profit</td>\n",
              "      <td>Quarterly profits at US media giant TimeWarne...</td>\n",
              "    </tr>\n",
              "    <tr>\n",
              "      <th>1</th>\n",
              "      <td>business</td>\n",
              "      <td>Dollar gains on Greenspan speech</td>\n",
              "      <td>The dollar has hit its highest level against ...</td>\n",
              "    </tr>\n",
              "    <tr>\n",
              "      <th>2</th>\n",
              "      <td>business</td>\n",
              "      <td>Yukos unit buyer faces loan claim</td>\n",
              "      <td>The owners of embattled Russian oil giant Yuk...</td>\n",
              "    </tr>\n",
              "    <tr>\n",
              "      <th>3</th>\n",
              "      <td>business</td>\n",
              "      <td>High fuel prices hit BA's profits</td>\n",
              "      <td>British Airways has blamed high fuel prices f...</td>\n",
              "    </tr>\n",
              "    <tr>\n",
              "      <th>4</th>\n",
              "      <td>business</td>\n",
              "      <td>Pernod takeover talk lifts Domecq</td>\n",
              "      <td>Shares in UK drinks and food firm Allied Dome...</td>\n",
              "    </tr>\n",
              "  </tbody>\n",
              "</table>\n",
              "</div>"
            ],
            "text/plain": [
              "   category                              title  \\\n",
              "0  business  Ad sales boost Time Warner profit   \n",
              "1  business   Dollar gains on Greenspan speech   \n",
              "2  business  Yukos unit buyer faces loan claim   \n",
              "3  business  High fuel prices hit BA's profits   \n",
              "4  business  Pernod takeover talk lifts Domecq   \n",
              "\n",
              "                                             content  \n",
              "0   Quarterly profits at US media giant TimeWarne...  \n",
              "1   The dollar has hit its highest level against ...  \n",
              "2   The owners of embattled Russian oil giant Yuk...  \n",
              "3   British Airways has blamed high fuel prices f...  \n",
              "4   Shares in UK drinks and food firm Allied Dome...  "
            ]
          },
          "execution_count": 81,
          "metadata": {},
          "output_type": "execute_result"
        }
      ],
      "source": [
        "df.head()"
      ]
    },
    {
      "cell_type": "code",
      "execution_count": null,
      "metadata": {
        "id": "Anb1qWbz7oaf",
        "outputId": "9d299fc4-64e9-483d-ead1-0e9db0f7a619"
      },
      "outputs": [
        {
          "data": {
            "text/plain": [
              "'!\"#$%&\\'()*+,-./:;<=>?@[\\\\]^_`{|}~'"
            ]
          },
          "execution_count": 82,
          "metadata": {},
          "output_type": "execute_result"
        }
      ],
      "source": [
        "# Removing punctuations such as (, ), $, %, @ etc\n",
        "\n",
        "import string\n",
        "string.punctuation"
      ]
    },
    {
      "cell_type": "code",
      "execution_count": null,
      "metadata": {
        "id": "XCMefU1j7oaf"
      },
      "outputs": [],
      "source": [
        "# Function that iterates throung the words, removing punctuation\n",
        "def punctuation_remover(text):\n",
        "    no_puncts = \" \".join([word for word in text.split() if word not in string.punctuation])\n",
        "    return no_puncts"
      ]
    },
    {
      "cell_type": "code",
      "execution_count": null,
      "metadata": {
        "id": "Y8dO7bUn7oag",
        "outputId": "013f2465-cd66-4b21-a446-0d902092aaea"
      },
      "outputs": [
        {
          "data": {
            "text/plain": [
              "0    Ad sales boost Time Warner profit\n",
              "1     Dollar gains on Greenspan speech\n",
              "2    Yukos unit buyer faces loan claim\n",
              "3    High fuel prices hit BA's profits\n",
              "4    Pernod takeover talk lifts Domecq\n",
              "5     Japan narrowly escapes recession\n",
              "6     Jobs growth still slow in the US\n",
              "7     India calls for fair trade rules\n",
              "8    Ethiopia's crop production up 24%\n",
              "9    Court rejects $280bn tobacco case\n",
              "Name: title, dtype: object"
            ]
          },
          "execution_count": 84,
          "metadata": {},
          "output_type": "execute_result"
        }
      ],
      "source": [
        "df['title'] = df['title'].apply(lambda text : punctuation_remover(text))\n",
        "df['title'].head(10)"
      ]
    },
    {
      "cell_type": "markdown",
      "metadata": {
        "id": "_AHeW5CL7oah"
      },
      "source": [
        "can still see some punctuations, which will be handled by the nltk module word_tokenize"
      ]
    },
    {
      "cell_type": "code",
      "execution_count": null,
      "metadata": {
        "id": "mwIK1WkP7oah"
      },
      "outputs": [],
      "source": [
        "# Removing stopwords\n",
        "\n",
        "stop_words = stopwords.words('english')\n",
        "\n",
        "# will remove stopwords in both columns\n",
        "\n",
        "def stopwords_remover(text):\n",
        "    return \" \".join([word for word in text.split() if word.lower() not in stop_words])\n",
        "\n"
      ]
    },
    {
      "cell_type": "code",
      "execution_count": null,
      "metadata": {
        "id": "qCjiQ6pI7oah",
        "outputId": "4c650b12-6222-40c2-db27-4a600e4e5b95"
      },
      "outputs": [
        {
          "data": {
            "text/plain": [
              "0    Ad sales boost Time Warner profit\n",
              "1        Dollar gains Greenspan speech\n",
              "2    Yukos unit buyer faces loan claim\n",
              "3    High fuel prices hit BA's profits\n",
              "4    Pernod takeover talk lifts Domecq\n",
              "5     Japan narrowly escapes recession\n",
              "6            Jobs growth still slow US\n",
              "7         India calls fair trade rules\n",
              "8       Ethiopia's crop production 24%\n",
              "9    Court rejects $280bn tobacco case\n",
              "Name: title, dtype: object"
            ]
          },
          "execution_count": 86,
          "metadata": {},
          "output_type": "execute_result"
        }
      ],
      "source": [
        "\n",
        "df['title'] = df['title'].apply(lambda text : stopwords_remover(text))\n",
        "\n",
        "df['title'].head(10)"
      ]
    },
    {
      "cell_type": "code",
      "execution_count": null,
      "metadata": {
        "id": "5kKKASDN7oai",
        "outputId": "74b43ef7-6895-442d-d837-617a0f1c8f5c"
      },
      "outputs": [
        {
          "data": {
            "text/plain": [
              "0      [Ad, sales, boost, Time, Warner, profit]\n",
              "1            [Dollar, gains, Greenspan, speech]\n",
              "2      [Yukos, unit, buyer, faces, loan, claim]\n",
              "3    [High, fuel, prices, hit, BA, 's, profits]\n",
              "4       [Pernod, takeover, talk, lifts, Domecq]\n",
              "5         [Japan, narrowly, escapes, recession]\n",
              "6               [Jobs, growth, still, slow, US]\n",
              "7            [India, calls, fair, trade, rules]\n",
              "8       [Ethiopia, 's, crop, production, 24, %]\n",
              "9     [Court, rejects, $, 280bn, tobacco, case]\n",
              "Name: title, dtype: object"
            ]
          },
          "execution_count": 87,
          "metadata": {},
          "output_type": "execute_result"
        }
      ],
      "source": [
        "# Tokenizing - separate sentences to an array with distinct words\n",
        "# Tokenizing the words\n",
        "\n",
        "import nltk\n",
        "tokenizerr = nltk.word_tokenize\n",
        "\n",
        "df['title'] = df['title'].apply(tokenizerr)\n",
        "df['title'].head(10)"
      ]
    },
    {
      "cell_type": "code",
      "execution_count": null,
      "metadata": {
        "id": "l-3OyPDe7oai",
        "outputId": "dbaddcd4-5a50-4478-dd02-77860a6d7d77"
      },
      "outputs": [
        {
          "data": {
            "text/plain": [
              "0      [Ad, sales, boost, Time, Warner, profit]\n",
              "1            [Dollar, gains, Greenspan, speech]\n",
              "2      [Yukos, unit, buyer, faces, loan, claim]\n",
              "3    [High, fuel, prices, hit, BA, 's, profits]\n",
              "4       [Pernod, takeover, talk, lifts, Domecq]\n",
              "5         [Japan, narrowly, escapes, recession]\n",
              "6               [Jobs, growth, still, slow, US]\n",
              "7            [India, calls, fair, trade, rules]\n",
              "8          [Ethiopia, 's, crop, production, 24]\n",
              "9        [Court, rejects, 280bn, tobacco, case]\n",
              "Name: title, dtype: object"
            ]
          },
          "execution_count": 90,
          "metadata": {},
          "output_type": "execute_result"
        }
      ],
      "source": [
        "# can call the punctuation function again\n",
        "\n",
        "def punctuation_remover_2(text):\n",
        "    no_puncts = [word for word in text if word not in string.punctuation]\n",
        "    return no_puncts\n",
        "\n",
        "df['title'] = df['title'].apply(lambda text : punctuation_remover_2(text))\n",
        "df['title'].head(10)"
      ]
    },
    {
      "cell_type": "code",
      "execution_count": null,
      "metadata": {
        "id": "HBQNehHW7oaj"
      },
      "outputs": [],
      "source": [
        "# Stemming\n",
        "\n",
        "# This is where words are diminished to their root form\n",
        "\n",
        "stemmer = PorterStemmer()\n",
        "\n",
        "def text_stemmer(text):\n",
        "    stemmed = [stemmer.stem(word) for word in text]\n",
        "    return stemmed"
      ]
    },
    {
      "cell_type": "code",
      "execution_count": null,
      "metadata": {
        "id": "LYDQQJqO7oaj",
        "outputId": "2e3a7a34-3e7e-4fb4-ae23-20a3e93c0eed"
      },
      "outputs": [
        {
          "data": {
            "text/plain": [
              "0     [ad, sale, boost, time, warner, profit]\n",
              "1           [dollar, gain, greenspan, speech]\n",
              "2      [yuko, unit, buyer, face, loan, claim]\n",
              "3    [high, fuel, price, hit, ba, 's, profit]\n",
              "4        [pernod, takeov, talk, lift, domecq]\n",
              "5            [japan, narrowli, escap, recess]\n",
              "6              [job, growth, still, slow, us]\n",
              "7            [india, call, fair, trade, rule]\n",
              "8           [ethiopia, 's, crop, product, 24]\n",
              "9       [court, reject, 280bn, tobacco, case]\n",
              "Name: title, dtype: object"
            ]
          },
          "execution_count": 95,
          "metadata": {},
          "output_type": "execute_result"
        }
      ],
      "source": [
        "# Apply on the title\n",
        "df['title'] = df['title'].apply(lambda text: text_stemmer(text))\n",
        "df['title'].head(10)\n"
      ]
    },
    {
      "cell_type": "code",
      "execution_count": null,
      "metadata": {
        "id": "5DKLuxvl7oak"
      },
      "outputs": [],
      "source": [
        "def text_lemma(text):\n",
        "    stemmed2 = [lemma.lemmatize(word) for word in text]\n",
        "    return stemmed2"
      ]
    },
    {
      "cell_type": "code",
      "execution_count": null,
      "metadata": {
        "id": "kqauJz2z7oak",
        "outputId": "e3d39e8f-ce9a-4b3d-f354-4030e7901830"
      },
      "outputs": [
        {
          "data": {
            "text/plain": [
              "0      [ad, sale, boost, time, warner, profit]\n",
              "1            [dollar, gain, greenspan, speech]\n",
              "2       [yuko, unit, buyer, face, loan, claim]\n",
              "3     [high, fuel, price, hit, ba, 's, profit]\n",
              "4         [pernod, takeov, talk, lift, domecq]\n",
              "5             [japan, narrowli, escap, recess]\n",
              "6                [job, growth, still, slow, u]\n",
              "7             [india, call, fair, trade, rule]\n",
              "8            [ethiopia, 's, crop, product, 24]\n",
              "9        [court, reject, 280bn, tobacco, case]\n",
              "10          [ask, jeev, tip, onlin, ad, reviv]\n",
              "11       [indonesian, face, fuel, price, rise]\n",
              "12          [peugeot, deal, boost, mitsubishi]\n",
              "13          [telegraph, newspap, axe, 90, job]\n",
              "14         [air, passeng, win, new, eu, right]\n",
              "15          [china, keep, tight, rein, credit]\n",
              "16            [parmalat, boast, doubl, profit]\n",
              "17     [india, 's, rupe, hit, five-year, high]\n",
              "18             [india, widen, access, telecom]\n",
              "19         [call, centr, user, 'lose, patienc]\n",
              "20              [rank, 'set, sell, film, unit]\n",
              "21       [sluggish, economi, hit, german, job]\n",
              "22              [mix, signal, french, economi]\n",
              "23          [u, trade, gap, hit, record, 2004]\n",
              "24          [yuko, lose, u, bankruptci, battl]\n",
              "25             [safeti, alert, gm, recal, car]\n",
              "26        [steel, firm, 'to, cut, 45,000, job]\n",
              "27       [strong, demand, trigger, oil, ralli]\n",
              "28     [uk, firm, face, venezuelan, land, row]\n",
              "29           [soar, oil, 'hit, world, economi]\n",
              "Name: title, dtype: object"
            ]
          },
          "execution_count": 98,
          "metadata": {},
          "output_type": "execute_result"
        }
      ],
      "source": [
        "# Lemmatization\n",
        "\n",
        "# opposite of stemming, where it is enforced to ensure the words havent lost meaning\n",
        "\n",
        "lemma = WordNetLemmatizer()\n",
        "\n",
        "df['title'] = df['title'].apply(lambda x: [text_lemma(y) for y in x])\n",
        "df['title'].head(30)"
      ]
    },
    {
      "cell_type": "code",
      "execution_count": null,
      "metadata": {
        "id": "qsKEUbe87oam",
        "outputId": "097ce191-fb78-4a3f-8a7e-e791f35ba076"
      },
      "outputs": [
        {
          "data": {
            "text/html": [
              "<div>\n",
              "<style scoped>\n",
              "    .dataframe tbody tr th:only-of-type {\n",
              "        vertical-align: middle;\n",
              "    }\n",
              "\n",
              "    .dataframe tbody tr th {\n",
              "        vertical-align: top;\n",
              "    }\n",
              "\n",
              "    .dataframe thead th {\n",
              "        text-align: right;\n",
              "    }\n",
              "</style>\n",
              "<table border=\"1\" class=\"dataframe\">\n",
              "  <thead>\n",
              "    <tr style=\"text-align: right;\">\n",
              "      <th></th>\n",
              "      <th>category</th>\n",
              "      <th>title</th>\n",
              "      <th>content</th>\n",
              "    </tr>\n",
              "  </thead>\n",
              "  <tbody>\n",
              "    <tr>\n",
              "      <th>0</th>\n",
              "      <td>business</td>\n",
              "      <td>ad sale boost time warner profit</td>\n",
              "      <td>Quarterly profits at US media giant TimeWarne...</td>\n",
              "    </tr>\n",
              "    <tr>\n",
              "      <th>1</th>\n",
              "      <td>business</td>\n",
              "      <td>dollar gain greenspan speech</td>\n",
              "      <td>The dollar has hit its highest level against ...</td>\n",
              "    </tr>\n",
              "    <tr>\n",
              "      <th>2</th>\n",
              "      <td>business</td>\n",
              "      <td>yuko unit buyer face loan claim</td>\n",
              "      <td>The owners of embattled Russian oil giant Yuk...</td>\n",
              "    </tr>\n",
              "    <tr>\n",
              "      <th>3</th>\n",
              "      <td>business</td>\n",
              "      <td>high fuel price hit ba 's profit</td>\n",
              "      <td>British Airways has blamed high fuel prices f...</td>\n",
              "    </tr>\n",
              "    <tr>\n",
              "      <th>4</th>\n",
              "      <td>business</td>\n",
              "      <td>pernod takeov talk lift domecq</td>\n",
              "      <td>Shares in UK drinks and food firm Allied Dome...</td>\n",
              "    </tr>\n",
              "    <tr>\n",
              "      <th>5</th>\n",
              "      <td>business</td>\n",
              "      <td>japan narrowli escap recess</td>\n",
              "      <td>Japan's economy teetered on the brink of a te...</td>\n",
              "    </tr>\n",
              "    <tr>\n",
              "      <th>6</th>\n",
              "      <td>business</td>\n",
              "      <td>job growth still slow u</td>\n",
              "      <td>The US created fewer jobs than expected in Ja...</td>\n",
              "    </tr>\n",
              "    <tr>\n",
              "      <th>7</th>\n",
              "      <td>business</td>\n",
              "      <td>india call fair trade rule</td>\n",
              "      <td>India, which attends the G7 meeting of seven ...</td>\n",
              "    </tr>\n",
              "    <tr>\n",
              "      <th>8</th>\n",
              "      <td>business</td>\n",
              "      <td>ethiopia 's crop product 24</td>\n",
              "      <td>Ethiopia produced 14.27 million tonnes of cro...</td>\n",
              "    </tr>\n",
              "    <tr>\n",
              "      <th>9</th>\n",
              "      <td>business</td>\n",
              "      <td>court reject 280bn tobacco case</td>\n",
              "      <td>A US government claim accusing the country's ...</td>\n",
              "    </tr>\n",
              "  </tbody>\n",
              "</table>\n",
              "</div>"
            ],
            "text/plain": [
              "   category                             title  \\\n",
              "0  business  ad sale boost time warner profit   \n",
              "1  business      dollar gain greenspan speech   \n",
              "2  business   yuko unit buyer face loan claim   \n",
              "3  business  high fuel price hit ba 's profit   \n",
              "4  business    pernod takeov talk lift domecq   \n",
              "5  business       japan narrowli escap recess   \n",
              "6  business           job growth still slow u   \n",
              "7  business        india call fair trade rule   \n",
              "8  business       ethiopia 's crop product 24   \n",
              "9  business   court reject 280bn tobacco case   \n",
              "\n",
              "                                             content  \n",
              "0   Quarterly profits at US media giant TimeWarne...  \n",
              "1   The dollar has hit its highest level against ...  \n",
              "2   The owners of embattled Russian oil giant Yuk...  \n",
              "3   British Airways has blamed high fuel prices f...  \n",
              "4   Shares in UK drinks and food firm Allied Dome...  \n",
              "5   Japan's economy teetered on the brink of a te...  \n",
              "6   The US created fewer jobs than expected in Ja...  \n",
              "7   India, which attends the G7 meeting of seven ...  \n",
              "8   Ethiopia produced 14.27 million tonnes of cro...  \n",
              "9   A US government claim accusing the country's ...  "
            ]
          },
          "execution_count": 99,
          "metadata": {},
          "output_type": "execute_result"
        }
      ],
      "source": [
        "# Join the words\n",
        "\n",
        "df['title'] = df['title'].apply(lambda x: ' '.join(x))\n",
        "df.head(10)"
      ]
    },
    {
      "cell_type": "code",
      "execution_count": null,
      "metadata": {
        "id": "Jy1q8QaQ7oan",
        "outputId": "763da9bd-6cba-4d40-c79e-ee423f925bd1"
      },
      "outputs": [
        {
          "data": {
            "text/html": [
              "<div>\n",
              "<style scoped>\n",
              "    .dataframe tbody tr th:only-of-type {\n",
              "        vertical-align: middle;\n",
              "    }\n",
              "\n",
              "    .dataframe tbody tr th {\n",
              "        vertical-align: top;\n",
              "    }\n",
              "\n",
              "    .dataframe thead th {\n",
              "        text-align: right;\n",
              "    }\n",
              "</style>\n",
              "<table border=\"1\" class=\"dataframe\">\n",
              "  <thead>\n",
              "    <tr style=\"text-align: right;\">\n",
              "      <th></th>\n",
              "      <th>title</th>\n",
              "      <th>content</th>\n",
              "      <th>category_business</th>\n",
              "      <th>category_politics</th>\n",
              "      <th>category_sport</th>\n",
              "    </tr>\n",
              "  </thead>\n",
              "  <tbody>\n",
              "    <tr>\n",
              "      <th>0</th>\n",
              "      <td>ad sale boost time warner profit</td>\n",
              "      <td>Quarterly profits at US media giant TimeWarne...</td>\n",
              "      <td>1</td>\n",
              "      <td>0</td>\n",
              "      <td>0</td>\n",
              "    </tr>\n",
              "    <tr>\n",
              "      <th>1</th>\n",
              "      <td>dollar gain greenspan speech</td>\n",
              "      <td>The dollar has hit its highest level against ...</td>\n",
              "      <td>1</td>\n",
              "      <td>0</td>\n",
              "      <td>0</td>\n",
              "    </tr>\n",
              "    <tr>\n",
              "      <th>2</th>\n",
              "      <td>yuko unit buyer face loan claim</td>\n",
              "      <td>The owners of embattled Russian oil giant Yuk...</td>\n",
              "      <td>1</td>\n",
              "      <td>0</td>\n",
              "      <td>0</td>\n",
              "    </tr>\n",
              "    <tr>\n",
              "      <th>3</th>\n",
              "      <td>high fuel price hit ba 's profit</td>\n",
              "      <td>British Airways has blamed high fuel prices f...</td>\n",
              "      <td>1</td>\n",
              "      <td>0</td>\n",
              "      <td>0</td>\n",
              "    </tr>\n",
              "    <tr>\n",
              "      <th>4</th>\n",
              "      <td>pernod takeov talk lift domecq</td>\n",
              "      <td>Shares in UK drinks and food firm Allied Dome...</td>\n",
              "      <td>1</td>\n",
              "      <td>0</td>\n",
              "      <td>0</td>\n",
              "    </tr>\n",
              "    <tr>\n",
              "      <th>...</th>\n",
              "      <td>...</td>\n",
              "      <td>...</td>\n",
              "      <td>...</td>\n",
              "      <td>...</td>\n",
              "      <td>...</td>\n",
              "    </tr>\n",
              "    <tr>\n",
              "      <th>1819</th>\n",
              "      <td>big gun ea san jose</td>\n",
              "      <td>Top-seeded Americans Andy Roddick and Andre A...</td>\n",
              "      <td>0</td>\n",
              "      <td>0</td>\n",
              "      <td>1</td>\n",
              "    </tr>\n",
              "    <tr>\n",
              "      <th>1820</th>\n",
              "      <td>almagro continu spanish surg</td>\n",
              "      <td>Unseeded Nicolas Almagro became the fifth Spa...</td>\n",
              "      <td>0</td>\n",
              "      <td>0</td>\n",
              "      <td>1</td>\n",
              "    </tr>\n",
              "    <tr>\n",
              "      <th>1821</th>\n",
              "      <td>melzer shock agassi san jose</td>\n",
              "      <td>Second seed Andre Agassi suffered a comprehen...</td>\n",
              "      <td>0</td>\n",
              "      <td>0</td>\n",
              "      <td>1</td>\n",
              "    </tr>\n",
              "    <tr>\n",
              "      <th>1822</th>\n",
              "      <td>mirza make indian tenni histori</td>\n",
              "      <td>Teenager Sania Mirza completed a superb week ...</td>\n",
              "      <td>0</td>\n",
              "      <td>0</td>\n",
              "      <td>1</td>\n",
              "    </tr>\n",
              "    <tr>\n",
              "      <th>1823</th>\n",
              "      <td>roddick face saulnier final</td>\n",
              "      <td>Andy Roddick will play Cyril Saulnier in the ...</td>\n",
              "      <td>0</td>\n",
              "      <td>0</td>\n",
              "      <td>1</td>\n",
              "    </tr>\n",
              "  </tbody>\n",
              "</table>\n",
              "<p>1438 rows × 5 columns</p>\n",
              "</div>"
            ],
            "text/plain": [
              "                                 title  \\\n",
              "0     ad sale boost time warner profit   \n",
              "1         dollar gain greenspan speech   \n",
              "2      yuko unit buyer face loan claim   \n",
              "3     high fuel price hit ba 's profit   \n",
              "4       pernod takeov talk lift domecq   \n",
              "...                                ...   \n",
              "1819               big gun ea san jose   \n",
              "1820      almagro continu spanish surg   \n",
              "1821      melzer shock agassi san jose   \n",
              "1822   mirza make indian tenni histori   \n",
              "1823       roddick face saulnier final   \n",
              "\n",
              "                                                content  category_business  \\\n",
              "0      Quarterly profits at US media giant TimeWarne...                  1   \n",
              "1      The dollar has hit its highest level against ...                  1   \n",
              "2      The owners of embattled Russian oil giant Yuk...                  1   \n",
              "3      British Airways has blamed high fuel prices f...                  1   \n",
              "4      Shares in UK drinks and food firm Allied Dome...                  1   \n",
              "...                                                 ...                ...   \n",
              "1819   Top-seeded Americans Andy Roddick and Andre A...                  0   \n",
              "1820   Unseeded Nicolas Almagro became the fifth Spa...                  0   \n",
              "1821   Second seed Andre Agassi suffered a comprehen...                  0   \n",
              "1822   Teenager Sania Mirza completed a superb week ...                  0   \n",
              "1823   Andy Roddick will play Cyril Saulnier in the ...                  0   \n",
              "\n",
              "      category_politics  category_sport  \n",
              "0                     0               0  \n",
              "1                     0               0  \n",
              "2                     0               0  \n",
              "3                     0               0  \n",
              "4                     0               0  \n",
              "...                 ...             ...  \n",
              "1819                  0               1  \n",
              "1820                  0               1  \n",
              "1821                  0               1  \n",
              "1822                  0               1  \n",
              "1823                  0               1  \n",
              "\n",
              "[1438 rows x 5 columns]"
            ]
          },
          "execution_count": 137,
          "metadata": {},
          "output_type": "execute_result"
        }
      ],
      "source": [
        "# hot encode the category\n",
        "\n",
        "# Get dummies\n",
        "\n",
        "df = pd.get_dummies(df, columns=['category'])\n",
        "df\n",
        "\n"
      ]
    },
    {
      "cell_type": "code",
      "execution_count": null,
      "metadata": {
        "id": "w4pVpE5A7oao"
      },
      "outputs": [],
      "source": [
        "# Split into X and y\n",
        "\n",
        "X = df['title']\n",
        "y = df.drop(['title', 'content'], axis = 1)"
      ]
    },
    {
      "cell_type": "code",
      "execution_count": null,
      "metadata": {
        "id": "EFYsKR7f7oao",
        "outputId": "9cb769c0-cde9-4a3f-891e-797f2cb0c418"
      },
      "outputs": [
        {
          "data": {
            "text/html": [
              "<div>\n",
              "<style scoped>\n",
              "    .dataframe tbody tr th:only-of-type {\n",
              "        vertical-align: middle;\n",
              "    }\n",
              "\n",
              "    .dataframe tbody tr th {\n",
              "        vertical-align: top;\n",
              "    }\n",
              "\n",
              "    .dataframe thead th {\n",
              "        text-align: right;\n",
              "    }\n",
              "</style>\n",
              "<table border=\"1\" class=\"dataframe\">\n",
              "  <thead>\n",
              "    <tr style=\"text-align: right;\">\n",
              "      <th></th>\n",
              "      <th>category_business</th>\n",
              "      <th>category_politics</th>\n",
              "      <th>category_sport</th>\n",
              "    </tr>\n",
              "  </thead>\n",
              "  <tbody>\n",
              "    <tr>\n",
              "      <th>0</th>\n",
              "      <td>1</td>\n",
              "      <td>0</td>\n",
              "      <td>0</td>\n",
              "    </tr>\n",
              "    <tr>\n",
              "      <th>1</th>\n",
              "      <td>1</td>\n",
              "      <td>0</td>\n",
              "      <td>0</td>\n",
              "    </tr>\n",
              "    <tr>\n",
              "      <th>2</th>\n",
              "      <td>1</td>\n",
              "      <td>0</td>\n",
              "      <td>0</td>\n",
              "    </tr>\n",
              "    <tr>\n",
              "      <th>3</th>\n",
              "      <td>1</td>\n",
              "      <td>0</td>\n",
              "      <td>0</td>\n",
              "    </tr>\n",
              "    <tr>\n",
              "      <th>4</th>\n",
              "      <td>1</td>\n",
              "      <td>0</td>\n",
              "      <td>0</td>\n",
              "    </tr>\n",
              "    <tr>\n",
              "      <th>...</th>\n",
              "      <td>...</td>\n",
              "      <td>...</td>\n",
              "      <td>...</td>\n",
              "    </tr>\n",
              "    <tr>\n",
              "      <th>1819</th>\n",
              "      <td>0</td>\n",
              "      <td>0</td>\n",
              "      <td>1</td>\n",
              "    </tr>\n",
              "    <tr>\n",
              "      <th>1820</th>\n",
              "      <td>0</td>\n",
              "      <td>0</td>\n",
              "      <td>1</td>\n",
              "    </tr>\n",
              "    <tr>\n",
              "      <th>1821</th>\n",
              "      <td>0</td>\n",
              "      <td>0</td>\n",
              "      <td>1</td>\n",
              "    </tr>\n",
              "    <tr>\n",
              "      <th>1822</th>\n",
              "      <td>0</td>\n",
              "      <td>0</td>\n",
              "      <td>1</td>\n",
              "    </tr>\n",
              "    <tr>\n",
              "      <th>1823</th>\n",
              "      <td>0</td>\n",
              "      <td>0</td>\n",
              "      <td>1</td>\n",
              "    </tr>\n",
              "  </tbody>\n",
              "</table>\n",
              "<p>1438 rows × 3 columns</p>\n",
              "</div>"
            ],
            "text/plain": [
              "      category_business  category_politics  category_sport\n",
              "0                     1                  0               0\n",
              "1                     1                  0               0\n",
              "2                     1                  0               0\n",
              "3                     1                  0               0\n",
              "4                     1                  0               0\n",
              "...                 ...                ...             ...\n",
              "1819                  0                  0               1\n",
              "1820                  0                  0               1\n",
              "1821                  0                  0               1\n",
              "1822                  0                  0               1\n",
              "1823                  0                  0               1\n",
              "\n",
              "[1438 rows x 3 columns]"
            ]
          },
          "execution_count": 139,
          "metadata": {},
          "output_type": "execute_result"
        }
      ],
      "source": [
        "y"
      ]
    },
    {
      "cell_type": "code",
      "execution_count": null,
      "metadata": {
        "id": "BhGKBZ777oap"
      },
      "outputs": [],
      "source": [
        "# Tokenize the data in X\n",
        "\n",
        "tokenizer = Tokenizer(num_words=3000)\n",
        "tokenizer.fit_on_texts(X)\n",
        "\n",
        "sequence = tokenizer.texts_to_sequences(X)"
      ]
    },
    {
      "cell_type": "code",
      "execution_count": null,
      "metadata": {
        "id": "If9s3TuF7oaq"
      },
      "outputs": [],
      "source": [
        "# Pickling the tokenizer model\n",
        "\n",
        "import pickle\n",
        "\n",
        "pickle_out = open('tokenizer_model_2.pickle', 'wb')\n",
        "\n",
        "pickle.dump(tokenizer, pickle_out)\n",
        "\n",
        "pickle_out.close()"
      ]
    },
    {
      "cell_type": "code",
      "execution_count": null,
      "metadata": {
        "id": "LYYc0D1z7oar"
      },
      "outputs": [],
      "source": [
        ""
      ]
    },
    {
      "cell_type": "code",
      "execution_count": null,
      "metadata": {
        "id": "8GtiFV8U7oas",
        "outputId": "3432b31f-0512-4224-b06f-e38451f539ee"
      },
      "outputs": [
        {
          "data": {
            "text/plain": [
              "array([[   0,    0,    0, ...,  255, 1039,   20],\n",
              "       [   0,    0,    0, ...,  256, 1040, 1041],\n",
              "       [   0,    0,    0, ...,   11,  632,   39],\n",
              "       ...,\n",
              "       [   0,    0,    0, ...,  434,  627,  628],\n",
              "       [   0,    0,    0, ...,  228,  438,  615],\n",
              "       [   0,    0,    0, ...,   11, 1038,  188]], dtype=int32)"
            ]
          },
          "execution_count": 141,
          "metadata": {},
          "output_type": "execute_result"
        }
      ],
      "source": [
        "# Padding - require to be same length\n",
        "\n",
        "padded_text = pad_sequences(sequence, maxlen=15)\n",
        "\n",
        "padded_text"
      ]
    },
    {
      "cell_type": "code",
      "execution_count": null,
      "metadata": {
        "id": "u6iyixEY7oas",
        "outputId": "4a6f9be1-4fab-428d-9b37-eafd74aacaca"
      },
      "outputs": [
        {
          "data": {
            "text/plain": [
              "1438"
            ]
          },
          "execution_count": 142,
          "metadata": {},
          "output_type": "execute_result"
        }
      ],
      "source": [
        "len(padded_text)"
      ]
    },
    {
      "cell_type": "code",
      "execution_count": null,
      "metadata": {
        "id": "z01NfnSg7oau"
      },
      "outputs": [],
      "source": [
        "# Split into train and test data\n",
        "\n",
        "X_train, X_test, y_train, y_test = train_test_split(padded_text, y, test_size=0.1, random_state=0)"
      ]
    },
    {
      "cell_type": "code",
      "execution_count": null,
      "metadata": {
        "id": "GOyHJYuA7oaw",
        "outputId": "8d2896a0-477c-467b-ef37-39e93f4b507d"
      },
      "outputs": [
        {
          "data": {
            "text/html": [
              "<div>\n",
              "<style scoped>\n",
              "    .dataframe tbody tr th:only-of-type {\n",
              "        vertical-align: middle;\n",
              "    }\n",
              "\n",
              "    .dataframe tbody tr th {\n",
              "        vertical-align: top;\n",
              "    }\n",
              "\n",
              "    .dataframe thead th {\n",
              "        text-align: right;\n",
              "    }\n",
              "</style>\n",
              "<table border=\"1\" class=\"dataframe\">\n",
              "  <thead>\n",
              "    <tr style=\"text-align: right;\">\n",
              "      <th></th>\n",
              "      <th>category_business</th>\n",
              "      <th>category_politics</th>\n",
              "      <th>category_sport</th>\n",
              "    </tr>\n",
              "  </thead>\n",
              "  <tbody>\n",
              "    <tr>\n",
              "      <th>34</th>\n",
              "      <td>1</td>\n",
              "      <td>0</td>\n",
              "      <td>0</td>\n",
              "    </tr>\n",
              "    <tr>\n",
              "      <th>1447</th>\n",
              "      <td>0</td>\n",
              "      <td>0</td>\n",
              "      <td>1</td>\n",
              "    </tr>\n",
              "    <tr>\n",
              "      <th>1641</th>\n",
              "      <td>0</td>\n",
              "      <td>0</td>\n",
              "      <td>1</td>\n",
              "    </tr>\n",
              "    <tr>\n",
              "      <th>333</th>\n",
              "      <td>1</td>\n",
              "      <td>0</td>\n",
              "      <td>0</td>\n",
              "    </tr>\n",
              "    <tr>\n",
              "      <th>141</th>\n",
              "      <td>1</td>\n",
              "      <td>0</td>\n",
              "      <td>0</td>\n",
              "    </tr>\n",
              "    <tr>\n",
              "      <th>...</th>\n",
              "      <td>...</td>\n",
              "      <td>...</td>\n",
              "      <td>...</td>\n",
              "    </tr>\n",
              "    <tr>\n",
              "      <th>1346</th>\n",
              "      <td>0</td>\n",
              "      <td>0</td>\n",
              "      <td>1</td>\n",
              "    </tr>\n",
              "    <tr>\n",
              "      <th>1622</th>\n",
              "      <td>0</td>\n",
              "      <td>0</td>\n",
              "      <td>1</td>\n",
              "    </tr>\n",
              "    <tr>\n",
              "      <th>1756</th>\n",
              "      <td>0</td>\n",
              "      <td>0</td>\n",
              "      <td>1</td>\n",
              "    </tr>\n",
              "    <tr>\n",
              "      <th>108</th>\n",
              "      <td>1</td>\n",
              "      <td>0</td>\n",
              "      <td>0</td>\n",
              "    </tr>\n",
              "    <tr>\n",
              "      <th>1174</th>\n",
              "      <td>0</td>\n",
              "      <td>1</td>\n",
              "      <td>0</td>\n",
              "    </tr>\n",
              "  </tbody>\n",
              "</table>\n",
              "<p>144 rows × 3 columns</p>\n",
              "</div>"
            ],
            "text/plain": [
              "      category_business  category_politics  category_sport\n",
              "34                    1                  0               0\n",
              "1447                  0                  0               1\n",
              "1641                  0                  0               1\n",
              "333                   1                  0               0\n",
              "141                   1                  0               0\n",
              "...                 ...                ...             ...\n",
              "1346                  0                  0               1\n",
              "1622                  0                  0               1\n",
              "1756                  0                  0               1\n",
              "108                   1                  0               0\n",
              "1174                  0                  1               0\n",
              "\n",
              "[144 rows x 3 columns]"
            ]
          },
          "execution_count": 146,
          "metadata": {},
          "output_type": "execute_result"
        }
      ],
      "source": [
        "y_test"
      ]
    },
    {
      "cell_type": "markdown",
      "metadata": {
        "id": "anHvp2Xx7oaw"
      },
      "source": [
        "# Modelling using TensorFlow"
      ]
    },
    {
      "cell_type": "code",
      "execution_count": null,
      "metadata": {
        "id": "bsO1VtsE7oax",
        "outputId": "f8b60b8e-5d63-4408-efee-32b248081442"
      },
      "outputs": [
        {
          "name": "stdout",
          "output_type": "stream",
          "text": [
            "Model: \"sequential_4\"\n",
            "_________________________________________________________________\n",
            "Layer (type)                 Output Shape              Param #   \n",
            "=================================================================\n",
            "embedding_4 (Embedding)      (None, 15, 50)            150000    \n",
            "_________________________________________________________________\n",
            "lstm_4 (LSTM)                (None, 64)                29440     \n",
            "_________________________________________________________________\n",
            "dense_8 (Dense)              (None, 256)               16640     \n",
            "_________________________________________________________________\n",
            "dropout_4 (Dropout)          (None, 256)               0         \n",
            "_________________________________________________________________\n",
            "dense_9 (Dense)              (None, 3)                 771       \n",
            "=================================================================\n",
            "Total params: 196,851\n",
            "Trainable params: 196,851\n",
            "Non-trainable params: 0\n",
            "_________________________________________________________________\n"
          ]
        }
      ],
      "source": [
        "class_model = tf.keras.Sequential([\n",
        "    layers.Embedding(3000, 50, input_length=15),\n",
        "    layers.LSTM(64),\n",
        "    layers.Dense(256, activation='relu'),\n",
        "    layers.Dropout(0.3),\n",
        "    layers.Dense(3, activation = 'sigmoid')\n",
        "])\n",
        "\n",
        "class_model.summary()"
      ]
    },
    {
      "cell_type": "code",
      "execution_count": null,
      "metadata": {
        "id": "niSUya3b7oax"
      },
      "outputs": [],
      "source": [
        "class_model.compile(loss=tf.keras.losses.CategoricalCrossentropy(), optimizer='adam', metrics=[\"CategoricalAccuracy\"])"
      ]
    },
    {
      "cell_type": "code",
      "execution_count": null,
      "metadata": {
        "id": "37MoWeNw7oax",
        "outputId": "c930797b-34e9-46f9-cda9-80ba183c7418"
      },
      "outputs": [
        {
          "name": "stdout",
          "output_type": "stream",
          "text": [
            "Epoch 1/10\n",
            "15/15 [==============================] - 6s 93ms/step - loss: 1.0929 - categorical_accuracy: 0.3763 - val_loss: 1.1006 - val_categorical_accuracy: 0.4538\n",
            "Epoch 2/10\n",
            "15/15 [==============================] - 1s 46ms/step - loss: 1.0605 - categorical_accuracy: 0.4321 - val_loss: 1.0522 - val_categorical_accuracy: 0.5538\n",
            "Epoch 3/10\n",
            "15/15 [==============================] - 1s 38ms/step - loss: 0.8777 - categorical_accuracy: 0.7131 - val_loss: 0.7864 - val_categorical_accuracy: 0.7154\n",
            "Epoch 4/10\n",
            "15/15 [==============================] - 1s 38ms/step - loss: 0.3722 - categorical_accuracy: 0.9201 - val_loss: 0.6154 - val_categorical_accuracy: 0.7538\n",
            "Epoch 5/10\n",
            "15/15 [==============================] - 1s 39ms/step - loss: 0.0962 - categorical_accuracy: 0.9751 - val_loss: 0.3414 - val_categorical_accuracy: 0.8846\n",
            "Epoch 6/10\n",
            "15/15 [==============================] - 1s 37ms/step - loss: 0.0285 - categorical_accuracy: 0.9931 - val_loss: 0.3654 - val_categorical_accuracy: 0.8615\n",
            "Epoch 7/10\n",
            "15/15 [==============================] - 1s 38ms/step - loss: 0.0106 - categorical_accuracy: 0.9983 - val_loss: 0.4207 - val_categorical_accuracy: 0.8462\n",
            "Epoch 8/10\n",
            "15/15 [==============================] - 1s 36ms/step - loss: 0.0080 - categorical_accuracy: 0.9991 - val_loss: 0.3842 - val_categorical_accuracy: 0.8769\n",
            "Epoch 9/10\n",
            "15/15 [==============================] - 1s 50ms/step - loss: 0.0061 - categorical_accuracy: 0.9991 - val_loss: 0.5586 - val_categorical_accuracy: 0.8538\n",
            "Epoch 10/10\n",
            "15/15 [==============================] - 1s 50ms/step - loss: 0.0034 - categorical_accuracy: 1.0000 - val_loss: 0.3771 - val_categorical_accuracy: 0.8923\n"
          ]
        }
      ],
      "source": [
        "# Fitting the model\n",
        "\n",
        "history = class_model.fit(X_train, y_train, batch_size=80, epochs=10, validation_split=0.1)"
      ]
    },
    {
      "cell_type": "code",
      "execution_count": null,
      "metadata": {
        "id": "xcL6P2ny7oax",
        "outputId": "f523b525-9677-4659-f6a7-0ece395fb23d"
      },
      "outputs": [
        {
          "name": "stdout",
          "output_type": "stream",
          "text": [
            "5/5 [==============================] - 0s 9ms/step - loss: 0.4382 - categorical_accuracy: 0.8819\n"
          ]
        }
      ],
      "source": [
        "accuracy1 = class_model.evaluate(X_test, y_test)"
      ]
    },
    {
      "cell_type": "markdown",
      "metadata": {
        "id": "eAOzhrJU7oay"
      },
      "source": [
        "The model has an 85% accuracy"
      ]
    },
    {
      "cell_type": "code",
      "execution_count": null,
      "metadata": {
        "id": "cDuyNCXz7oay",
        "outputId": "62dfb26c-4c51-4166-88c0-9080afc55a63"
      },
      "outputs": [
        {
          "data": {
            "image/png": "[encoded data removed]",
            "text/plain": [
              "<Figure size 432x288 with 1 Axes>"
            ]
          },
          "metadata": {
            "needs_background": "light"
          },
          "output_type": "display_data"
        }
      ],
      "source": [
        "# Finding the optimal number of epochs\n",
        "\n",
        "# Training loss vs epochs\n",
        "history_dict = history.history\n",
        "history_dict.keys()\n",
        "\n",
        "acc = history_dict['categorical_accuracy']\n",
        "val_acc = history_dict['val_categorical_accuracy']\n",
        "loss = history_dict['loss']\n",
        "val_loss = history_dict['val_loss']\n",
        "\n",
        "\n",
        "epochs = range(1, len(acc) + 1)\n",
        "\n",
        "plt.plot(epochs, loss, 'bo', label='Training loss')\n",
        "plt.plot(epochs, val_loss, 'r', label = 'Validation loss')\n",
        "plt.title('Training and validation loss')\n",
        "plt.xlabel('Epochs')\n",
        "plt.ylabel('Loss')\n",
        "plt.legend()\n",
        "\n",
        "plt.show()\n",
        "\n",
        "\n"
      ]
    },
    {
      "cell_type": "markdown",
      "metadata": {
        "id": "kzW7D0Q97oaz"
      },
      "source": [
        "As seen, the validation loss line started deferring after the 5th epoch, resulting to overfitting. Therefore the optimal number of epochs is 5"
      ]
    },
    {
      "cell_type": "code",
      "execution_count": null,
      "metadata": {
        "id": "S9Hlq7t97oa0",
        "outputId": "802de024-bafe-4a78-c2d7-2792c51a193c"
      },
      "outputs": [
        {
          "name": "stdout",
          "output_type": "stream",
          "text": [
            "Epoch 1/5\n",
            "15/15 [==============================] - 6s 94ms/step - loss: 1.0946 - categorical_accuracy: 0.4021 - val_loss: 1.0992 - val_categorical_accuracy: 0.5154\n",
            "Epoch 2/5\n",
            "15/15 [==============================] - 1s 46ms/step - loss: 1.0683 - categorical_accuracy: 0.5464 - val_loss: 1.0678 - val_categorical_accuracy: 0.5308\n",
            "Epoch 3/5\n",
            "15/15 [==============================] - 1s 38ms/step - loss: 0.9225 - categorical_accuracy: 0.7302 - val_loss: 0.8740 - val_categorical_accuracy: 0.5846\n",
            "Epoch 4/5\n",
            "15/15 [==============================] - 1s 38ms/step - loss: 0.4636 - categorical_accuracy: 0.8849 - val_loss: 0.4416 - val_categorical_accuracy: 0.8308\n",
            "Epoch 5/5\n",
            "15/15 [==============================] - 1s 40ms/step - loss: 0.0954 - categorical_accuracy: 0.9768 - val_loss: 0.3725 - val_categorical_accuracy: 0.8615\n"
          ]
        },
        {
          "data": {
            "text/plain": [
              "<keras.callbacks.History at 0x7fe4b12e39d0>"
            ]
          },
          "execution_count": 177,
          "metadata": {},
          "output_type": "execute_result"
        }
      ],
      "source": [
        "# Model with 5 epochs\n",
        "class_model.fit(X_train, y_train, batch_size=80, epochs=5, validation_split=0.1)"
      ]
    },
    {
      "cell_type": "code",
      "execution_count": null,
      "metadata": {
        "id": "adL9aZdX7oa0",
        "outputId": "1cc23d62-04c0-4211-9ac8-40e0793a52e0"
      },
      "outputs": [
        {
          "data": {
            "text/plain": [
              "array([[0.99902415, 0.04206139, 0.00494951],\n",
              "       [0.2933437 , 0.7528224 , 0.578202  ],\n",
              "       [0.09063071, 0.5314744 , 0.96318495],\n",
              "       [0.9965825 , 0.05927938, 0.01746845],\n",
              "       [0.9998697 , 0.0075314 , 0.00300372],\n",
              "       [0.9911375 , 0.26449347, 0.00749779],\n",
              "       [0.25419298, 0.9008527 , 0.33380863],\n",
              "       [0.97235936, 0.16674924, 0.07715696],\n",
              "       [0.25460237, 0.9738848 , 0.07273498],\n",
              "       [0.5082042 , 0.11978072, 0.9363414 ],\n",
              "       [0.14536512, 0.9815544 , 0.12935841],\n",
              "       [0.09582227, 0.98569393, 0.15432855],\n",
              "       [0.9952626 , 0.18931183, 0.00546291],\n",
              "       [0.24728584, 0.9746165 , 0.06686041],\n",
              "       [0.13366836, 0.68428785, 0.8813279 ],\n",
              "       [0.98994833, 0.1052117 , 0.03629783],\n",
              "       [0.09779432, 0.86006606, 0.77345705],\n",
              "       [0.24904317, 0.40404332, 0.9103419 ],\n",
              "       [0.10521567, 0.22133258, 0.9908556 ],\n",
              "       [0.84862465, 0.2914728 , 0.2918421 ],\n",
              "       [0.8595424 , 0.86730385, 0.01078072],\n",
              "       [0.6043929 , 0.8947899 , 0.06290615],\n",
              "       [0.12472507, 0.9865912 , 0.10612831],\n",
              "       [0.13107628, 0.7977077 , 0.7822999 ],\n",
              "       [0.2249543 , 0.25389862, 0.96502286],\n",
              "       [0.13282168, 0.98292387, 0.10756147],\n",
              "       [0.99677837, 0.06495592, 0.01419997],\n",
              "       [0.9992924 , 0.00944552, 0.01835781],\n",
              "       [0.11905143, 0.7249044 , 0.8754942 ],\n",
              "       [0.8119481 , 0.06309286, 0.82753265],\n",
              "       [0.98551947, 0.06517684, 0.10597229],\n",
              "       [0.97430843, 0.21700102, 0.04713988],\n",
              "       [0.29585427, 0.5206052 , 0.8185016 ],\n",
              "       [0.7107738 , 0.66946006, 0.1643222 ],\n",
              "       [0.68127906, 0.43176574, 0.43033344],\n",
              "       [0.4251668 , 0.87717944, 0.19229221],\n",
              "       [0.09282205, 0.55931604, 0.95903003],\n",
              "       [0.14336634, 0.98766565, 0.06729469],\n",
              "       [0.9996769 , 0.00949475, 0.00680408],\n",
              "       [0.9400736 , 0.10715798, 0.3008749 ],\n",
              "       [0.77467614, 0.38466254, 0.33469355],\n",
              "       [0.98735714, 0.05929652, 0.09688509],\n",
              "       [0.9876293 , 0.04079407, 0.1440633 ],\n",
              "       [0.27665365, 0.9799807 , 0.04585159],\n",
              "       [0.5311867 , 0.2721482 , 0.7968962 ],\n",
              "       [0.04959297, 0.20883697, 0.99694383],\n",
              "       [0.99710333, 0.02689591, 0.0363096 ],\n",
              "       [0.1431756 , 0.11837861, 0.9940089 ],\n",
              "       [0.12061346, 0.8608296 , 0.71838945],\n",
              "       [0.11647698, 0.67573375, 0.9031907 ],\n",
              "       [0.10456762, 0.6531066 , 0.92716813],\n",
              "       [0.23416364, 0.9826149 , 0.05667683],\n",
              "       [0.14556652, 0.980299  , 0.14083993],\n",
              "       [0.5561564 , 0.7169255 , 0.2817543 ],\n",
              "       [0.8709363 , 0.25289035, 0.28772497],\n",
              "       [0.21620968, 0.9713323 , 0.10125071],\n",
              "       [0.08412313, 0.9876548 , 0.14982548],\n",
              "       [0.04428619, 0.4302972 , 0.99074197],\n",
              "       [0.30345362, 0.18304476, 0.96333873],\n",
              "       [0.97482646, 0.02615595, 0.424067  ],\n",
              "       [0.06741658, 0.15859294, 0.9967847 ],\n",
              "       [0.35848904, 0.02866605, 0.994834  ],\n",
              "       [0.9988164 , 0.02607626, 0.01181135],\n",
              "       [0.13294813, 0.9768844 , 0.191946  ],\n",
              "       [0.34692347, 0.90090895, 0.21089032],\n",
              "       [0.14686933, 0.9823532 , 0.1206947 ],\n",
              "       [0.9417484 , 0.63615096, 0.01535019],\n",
              "       [0.16050807, 0.86022484, 0.6292492 ],\n",
              "       [0.19071874, 0.35743317, 0.95450765],\n",
              "       [0.997869  , 0.04273444, 0.01394334],\n",
              "       [0.68893373, 0.36477572, 0.49814874],\n",
              "       [0.13071448, 0.54825056, 0.9364674 ],\n",
              "       [0.10615218, 0.32842317, 0.9827006 ],\n",
              "       [0.04736254, 0.4926718 , 0.9866067 ],\n",
              "       [0.1001015 , 0.97207606, 0.29046977],\n",
              "       [0.176826  , 0.92831135, 0.37282923],\n",
              "       [0.13839284, 0.21037996, 0.98731387],\n",
              "       [0.9878002 , 0.08981732, 0.05583623],\n",
              "       [0.23991516, 0.49434206, 0.87720406],\n",
              "       [0.24887711, 0.13282257, 0.98267853],\n",
              "       [0.10658175, 0.81498504, 0.8173293 ],\n",
              "       [0.18650356, 0.07150877, 0.9951092 ],\n",
              "       [0.9900597 , 0.13456193, 0.02499747],\n",
              "       [0.05748591, 0.4204944 , 0.9884171 ],\n",
              "       [0.43675274, 0.95276296, 0.05321133],\n",
              "       [0.11887106, 0.12120295, 0.9952266 ],\n",
              "       [0.07567278, 0.9866698 , 0.16944656],\n",
              "       [0.96781397, 0.11717752, 0.14465907],\n",
              "       [0.65974665, 0.15190428, 0.820595  ],\n",
              "       [0.5173652 , 0.7404675 , 0.29189366],\n",
              "       [0.13726953, 0.9852385 , 0.09987989],\n",
              "       [0.07265612, 0.7370494 , 0.9270154 ],\n",
              "       [0.32492435, 0.49833384, 0.8025375 ],\n",
              "       [0.929222  , 0.2069704 , 0.18885183],\n",
              "       [0.06283486, 0.45558485, 0.9844632 ],\n",
              "       [0.05137816, 0.21869689, 0.99661684],\n",
              "       [0.9825536 , 0.23256174, 0.02452144],\n",
              "       [0.0970915 , 0.960943  , 0.40706512],\n",
              "       [0.04178959, 0.7016076 , 0.9672004 ],\n",
              "       [0.11972106, 0.34662664, 0.97842014],\n",
              "       [0.98894393, 0.1146093 , 0.03670594],\n",
              "       [0.44260544, 0.40841982, 0.75971687],\n",
              "       [0.21072507, 0.4675582 , 0.91078955],\n",
              "       [0.90178746, 0.32563198, 0.15200922],\n",
              "       [0.1001015 , 0.97207606, 0.29046977],\n",
              "       [0.32506216, 0.30809018, 0.90903383],\n",
              "       [0.03452584, 0.63798165, 0.98165715],\n",
              "       [0.05855379, 0.7055968 , 0.9505563 ],\n",
              "       [0.6332702 , 0.25794762, 0.71178293],\n",
              "       [0.05550873, 0.9897655 , 0.20882288],\n",
              "       [0.29749164, 0.17219302, 0.96768534],\n",
              "       [0.16475105, 0.8344371 , 0.6645924 ],\n",
              "       [0.127563  , 0.56082565, 0.93569374],\n",
              "       [0.10260728, 0.9499748 , 0.45812503],\n",
              "       [0.2930115 , 0.317631  , 0.923542  ],\n",
              "       [0.05814031, 0.40228835, 0.988723  ],\n",
              "       [0.85618556, 0.2332395 , 0.3632116 ],\n",
              "       [0.07656386, 0.89372087, 0.76585126],\n",
              "       [0.57903486, 0.79481614, 0.1693115 ],\n",
              "       [0.42789513, 0.80447125, 0.2955299 ],\n",
              "       [0.47108155, 0.17339632, 0.9157839 ],\n",
              "       [0.6296965 , 0.43275306, 0.510403  ],\n",
              "       [0.96166337, 0.3052249 , 0.04915848],\n",
              "       [0.2439473 , 0.3722509 , 0.92988706],\n",
              "       [0.08886629, 0.9602927 , 0.42992797],\n",
              "       [0.9770383 , 0.10160822, 0.10971138],\n",
              "       [0.09022009, 0.9590877 , 0.4363199 ],\n",
              "       [0.07264915, 0.51350665, 0.97566557],\n",
              "       [0.9934083 , 0.22221023, 0.00652072],\n",
              "       [0.04065135, 0.72398543, 0.96530044],\n",
              "       [0.28333735, 0.8414894 , 0.4291945 ],\n",
              "       [0.27434343, 0.12623635, 0.98079145],\n",
              "       [0.26958323, 0.1296677 , 0.98083013],\n",
              "       [0.8446806 , 0.03331646, 0.8834539 ],\n",
              "       [0.09938201, 0.9884373 , 0.0984253 ],\n",
              "       [0.65889555, 0.7749362 , 0.12667495],\n",
              "       [0.25601077, 0.92560863, 0.2565972 ],\n",
              "       [0.08289284, 0.29472202, 0.9896966 ],\n",
              "       [0.08170128, 0.7273541 , 0.92203814],\n",
              "       [0.62532693, 0.6229453 , 0.29205248],\n",
              "       [0.1808461 , 0.09078395, 0.99396354],\n",
              "       [0.13098913, 0.31009644, 0.9795096 ],\n",
              "       [0.94513303, 0.13412207, 0.22484523],\n",
              "       [0.42730913, 0.92414165, 0.10556158]], dtype=float32)"
            ]
          },
          "execution_count": 178,
          "metadata": {},
          "output_type": "execute_result"
        }
      ],
      "source": [
        "# Performing predictions\n",
        "\n",
        "y_pred = class_model.predict(X_test)\n",
        "y_pred"
      ]
    },
    {
      "cell_type": "markdown",
      "metadata": {
        "id": "ljdzdF3X7oa0"
      },
      "source": [
        "The output is arrays with probabilities of the outputs"
      ]
    },
    {
      "cell_type": "code",
      "execution_count": null,
      "metadata": {
        "id": "oeHSvA287oa1",
        "outputId": "f51bf6a5-49ee-43f8-f3ac-67ff7c419427"
      },
      "outputs": [
        {
          "data": {
            "text/plain": [
              "array([0, 1, 2, 0, 0, 0, 1, 0, 1, 2, 1, 1, 0, 1, 2, 0, 1, 2, 2, 0, 1, 1,\n",
              "       1, 1, 2, 1, 0, 0, 2, 2, 0, 0, 2, 0, 0, 1, 2, 1, 0, 0, 0, 0, 0, 1,\n",
              "       2, 2, 0, 2, 1, 2, 2, 1, 1, 1, 0, 1, 1, 2, 2, 0, 2, 2, 0, 1, 1, 1,\n",
              "       0, 1, 2, 0, 0, 2, 2, 2, 1, 1, 2, 0, 2, 2, 2, 2, 0, 2, 1, 2, 1, 0,\n",
              "       2, 1, 1, 2, 2, 0, 2, 2, 0, 1, 2, 2, 0, 2, 2, 0, 1, 2, 2, 2, 2, 1,\n",
              "       2, 1, 2, 1, 2, 2, 0, 1, 1, 1, 2, 0, 0, 2, 1, 0, 1, 2, 0, 2, 1, 2,\n",
              "       2, 2, 1, 1, 1, 2, 2, 0, 2, 2, 0, 1])"
            ]
          },
          "execution_count": 179,
          "metadata": {},
          "output_type": "execute_result"
        }
      ],
      "source": [
        "y_pred_cat = np.argmax(y_pred, axis =1 )\n",
        "y_pred_cat"
      ]
    },
    {
      "cell_type": "markdown",
      "metadata": {
        "id": "Sxr149Wb7oa1"
      },
      "source": [
        "0 - Business\n",
        "1 - politics\n",
        "2 - sport"
      ]
    },
    {
      "cell_type": "code",
      "execution_count": null,
      "metadata": {
        "id": "1k_LQ3mA7oa1",
        "outputId": "7d1a8656-d03f-4072-ea8d-302f29f7d5be"
      },
      "outputs": [
        {
          "data": {
            "text/html": [
              "<div>\n",
              "<style scoped>\n",
              "    .dataframe tbody tr th:only-of-type {\n",
              "        vertical-align: middle;\n",
              "    }\n",
              "\n",
              "    .dataframe tbody tr th {\n",
              "        vertical-align: top;\n",
              "    }\n",
              "\n",
              "    .dataframe thead th {\n",
              "        text-align: right;\n",
              "    }\n",
              "</style>\n",
              "<table border=\"1\" class=\"dataframe\">\n",
              "  <thead>\n",
              "    <tr style=\"text-align: right;\">\n",
              "      <th></th>\n",
              "      <th>category_business</th>\n",
              "      <th>category_politics</th>\n",
              "      <th>category_sport</th>\n",
              "    </tr>\n",
              "  </thead>\n",
              "  <tbody>\n",
              "    <tr>\n",
              "      <th>34</th>\n",
              "      <td>1</td>\n",
              "      <td>0</td>\n",
              "      <td>0</td>\n",
              "    </tr>\n",
              "    <tr>\n",
              "      <th>1447</th>\n",
              "      <td>0</td>\n",
              "      <td>0</td>\n",
              "      <td>1</td>\n",
              "    </tr>\n",
              "    <tr>\n",
              "      <th>1641</th>\n",
              "      <td>0</td>\n",
              "      <td>0</td>\n",
              "      <td>1</td>\n",
              "    </tr>\n",
              "    <tr>\n",
              "      <th>333</th>\n",
              "      <td>1</td>\n",
              "      <td>0</td>\n",
              "      <td>0</td>\n",
              "    </tr>\n",
              "    <tr>\n",
              "      <th>141</th>\n",
              "      <td>1</td>\n",
              "      <td>0</td>\n",
              "      <td>0</td>\n",
              "    </tr>\n",
              "    <tr>\n",
              "      <th>...</th>\n",
              "      <td>...</td>\n",
              "      <td>...</td>\n",
              "      <td>...</td>\n",
              "    </tr>\n",
              "    <tr>\n",
              "      <th>1346</th>\n",
              "      <td>0</td>\n",
              "      <td>0</td>\n",
              "      <td>1</td>\n",
              "    </tr>\n",
              "    <tr>\n",
              "      <th>1622</th>\n",
              "      <td>0</td>\n",
              "      <td>0</td>\n",
              "      <td>1</td>\n",
              "    </tr>\n",
              "    <tr>\n",
              "      <th>1756</th>\n",
              "      <td>0</td>\n",
              "      <td>0</td>\n",
              "      <td>1</td>\n",
              "    </tr>\n",
              "    <tr>\n",
              "      <th>108</th>\n",
              "      <td>1</td>\n",
              "      <td>0</td>\n",
              "      <td>0</td>\n",
              "    </tr>\n",
              "    <tr>\n",
              "      <th>1174</th>\n",
              "      <td>0</td>\n",
              "      <td>1</td>\n",
              "      <td>0</td>\n",
              "    </tr>\n",
              "  </tbody>\n",
              "</table>\n",
              "<p>144 rows × 3 columns</p>\n",
              "</div>"
            ],
            "text/plain": [
              "      category_business  category_politics  category_sport\n",
              "34                    1                  0               0\n",
              "1447                  0                  0               1\n",
              "1641                  0                  0               1\n",
              "333                   1                  0               0\n",
              "141                   1                  0               0\n",
              "...                 ...                ...             ...\n",
              "1346                  0                  0               1\n",
              "1622                  0                  0               1\n",
              "1756                  0                  0               1\n",
              "108                   1                  0               0\n",
              "1174                  0                  1               0\n",
              "\n",
              "[144 rows x 3 columns]"
            ]
          },
          "execution_count": 180,
          "metadata": {},
          "output_type": "execute_result"
        }
      ],
      "source": [
        "y_test"
      ]
    },
    {
      "cell_type": "code",
      "execution_count": null,
      "metadata": {
        "id": "rcnbzrIP7oa1",
        "outputId": "2b3824b9-fdad-4a8a-c38e-18e733b7c5ac"
      },
      "outputs": [
        {
          "data": {
            "text/plain": [
              "array([0, 2, 2, 0, 0, 0, 1, 0, 0, 2, 1, 1, 0, 1, 2, 0, 1, 2, 2, 2, 0, 0,\n",
              "       1, 2, 2, 1, 0, 0, 2, 0, 0, 0, 2, 0, 2, 1, 2, 1, 0, 0, 0, 0, 0, 0,\n",
              "       2, 2, 0, 2, 1, 2, 2, 1, 1, 0, 0, 1, 1, 2, 2, 0, 2, 2, 0, 1, 0, 1,\n",
              "       1, 1, 2, 0, 0, 2, 2, 2, 1, 1, 2, 0, 2, 2, 1, 2, 0, 2, 0, 2, 1, 0,\n",
              "       2, 1, 1, 2, 0, 0, 2, 2, 0, 2, 2, 2, 0, 2, 2, 0, 1, 2, 2, 2, 0, 1,\n",
              "       2, 0, 2, 0, 2, 2, 0, 2, 0, 1, 2, 0, 0, 2, 1, 0, 1, 2, 0, 2, 1, 2,\n",
              "       2, 0, 1, 0, 0, 2, 2, 2, 2, 2, 0, 1])"
            ]
          },
          "execution_count": 181,
          "metadata": {},
          "output_type": "execute_result"
        }
      ],
      "source": [
        "# List of values with the correct values of y\n",
        "\n",
        "y_test = y_test.idxmax(axis=1).values\n",
        "conditions = [\n",
        "    y_test == 'category_business',\n",
        "    y_test == 'category_politics',\n",
        "    y_test == 'category_sport'\n",
        "]\n",
        "values = [0, 1, 2]\n",
        "\n",
        "y_test = np.select(conditions, values)\n",
        "y_test"
      ]
    },
    {
      "cell_type": "code",
      "execution_count": null,
      "metadata": {
        "id": "VBZ7GMM87oa2",
        "outputId": "49d6e353-d72e-44a6-e491-ea1a3480de9f"
      },
      "outputs": [
        {
          "data": {
            "text/plain": [
              "array([[36, 12,  4],\n",
              "       [ 1, 30,  1],\n",
              "       [ 3,  4, 53]])"
            ]
          },
          "execution_count": 184,
          "metadata": {},
          "output_type": "execute_result"
        }
      ],
      "source": [
        "from sklearn.metrics import accuracy_score\n",
        "matrix = confusion_matrix(y_test, y_pred_cat)\n",
        "matrix"
      ]
    },
    {
      "cell_type": "code",
      "execution_count": null,
      "metadata": {
        "id": "IYc7a6Mq7oa2",
        "outputId": "071154c6-1ebb-465d-8a9a-de9ffea8b22b"
      },
      "outputs": [
        {
          "name": "stdout",
          "output_type": "stream",
          "text": [
            "the model has an accuracy of :  0.8263888888888888\n"
          ]
        }
      ],
      "source": [
        "print('the model has an accuracy of : ', accuracy_score(y_test, y_pred_cat))"
      ]
    },
    {
      "cell_type": "code",
      "execution_count": null,
      "metadata": {
        "id": "aSMB0qtn7oa3",
        "outputId": "0d894436-ba71-4836-da65-097cd15491a7"
      },
      "outputs": [
        {
          "name": "stdout",
          "output_type": "stream",
          "text": [
            "              precision    recall  f1-score   support\n",
            "\n",
            "           0       0.90      0.69      0.78        52\n",
            "           1       0.65      0.94      0.77        32\n",
            "           2       0.91      0.88      0.90        60\n",
            "\n",
            "    accuracy                           0.83       144\n",
            "   macro avg       0.82      0.84      0.82       144\n",
            "weighted avg       0.85      0.83      0.83       144\n",
            "\n"
          ]
        }
      ],
      "source": [
        "print(classification_report(y_test, y_pred_cat))"
      ]
    },
    {
      "cell_type": "markdown",
      "metadata": {
        "id": "mg9G3Gx87oa3"
      },
      "source": [
        "82% Accuracy!!"
      ]
    },
    {
      "cell_type": "markdown",
      "metadata": {
        "id": "MUV29oer7oa5"
      },
      "source": [
        "# Draft Deployment"
      ]
    },
    {
      "cell_type": "code",
      "execution_count": null,
      "metadata": {
        "id": "q0NAuK2E7oa5"
      },
      "outputs": [],
      "source": [
        "# Will create a user function that does the preprocessing, passes the tokens through a model and displays output\n",
        "\n",
        "def news_classifier():\n",
        "    text = input('Whats the news headline?')\n",
        "\n",
        "    #stopwords\n",
        "    text = stopwords_remover(text)\n",
        "\n",
        "    # Tokenize the text\n",
        "    text = tokenizerr(text)\n",
        "\n",
        "    # Remove punctuation\n",
        "    text = punctuation_remover_2(text)\n",
        "\n",
        "    # Stemming\n",
        "    text = text_stemmer(text)\n",
        "\n",
        "    # Lemmatizing\n",
        "    text = text_lemma(text)\n",
        "\n",
        "    # Combining the words\n",
        "    # text = \" \".join(text)\n",
        "\n",
        "    # Tokenizing\n",
        "    tokens = tokenizer.texts_to_sequences([text])\n",
        "    \n",
        "    # Padding\n",
        "    stemmed_tokens = pad_sequences(tokens, maxlen=15)\n",
        "\n",
        "    # Pass through the neural network model\n",
        "    class_prob = class_model.predict(stemmed_tokens)\n",
        "\n",
        "    final_class = np.argmax(class_prob)\n",
        "\n",
        "    if final_class == 0:\n",
        "        print('The news article is a Business article')\n",
        "    elif final_class == 1:\n",
        "        print('The news article is under Politics')\n",
        "    else:\n",
        "        print('The news article is under Sports')\n",
        "    \n",
        "\n",
        "    return final_class\n",
        "\n"
      ]
    },
    {
      "cell_type": "code",
      "execution_count": null,
      "metadata": {
        "id": "uj0nQTS27oa6",
        "outputId": "54a0bdfa-5f90-41a9-8e2e-a8b081a55238"
      },
      "outputs": [
        {
          "name": "stdout",
          "output_type": "stream",
          "text": [
            "The news article is under Sports\n"
          ]
        },
        {
          "data": {
            "text/plain": [
              "2"
            ]
          },
          "execution_count": 327,
          "metadata": {},
          "output_type": "execute_result"
        }
      ],
      "source": [
        "news_classifier()"
      ]
    },
    {
      "cell_type": "code",
      "execution_count": null,
      "metadata": {
        "id": "bOpczmFB7oa6"
      },
      "outputs": [],
      "source": [
        "# Exporting the NN model\n",
        "\n",
        "# pickle_out = open('category_model.pickle', 'wb')\n",
        "\n",
        "# pickle.dump(class_model, pickle_out)\n",
        "\n",
        "# pickle_out.close()\n"
      ]
    },
    {
      "cell_type": "code",
      "execution_count": null,
      "metadata": {
        "id": "-doO4Z3V7oa7"
      },
      "outputs": [],
      "source": [
        "# Saving the model\n",
        "# from tensorflow.keras.models import Sequential\n",
        "\n",
        "\n",
        "class_model.save('class_model2.h5')"
      ]
    },
    {
      "cell_type": "code",
      "execution_count": null,
      "metadata": {
        "id": "lkbe-ku_7oa7",
        "outputId": "8f5a486f-63c3-4983-88e2-1a9a5f645ffa"
      },
      "outputs": [
        {
          "data": {
            "text/plain": [
              "<keras.engine.sequential.Sequential at 0x7fe4c7052430>"
            ]
          },
          "execution_count": 309,
          "metadata": {},
          "output_type": "execute_result"
        }
      ],
      "source": [
        "# Load the model\n",
        "from tensorflow import keras\n",
        "\n",
        "imported_class_model = keras.models.load_model('/Users/RyanMburu/Documents/DS-Projects/ProDev/class_model2.h5')\n",
        "imported_class_model"
      ]
    },
    {
      "cell_type": "code",
      "execution_count": null,
      "metadata": {
        "id": "jaC8MDjL7oa7"
      },
      "outputs": [],
      "source": [
        ""
      ]
    }
  ],
  "metadata": {
    "interpreter": {
      "hash": "769919d178be46a90f10bb6235c6ce087a03a24ee47c90f3a0e9832b171232d7"
    },
    "kernelspec": {
      "display_name": "Python 3.8.8 64-bit ('base': conda)",
      "language": "python",
      "name": "python3"
    },
    "language_info": {
      "codemirror_mode": {
        "name": "ipython",
        "version": 3
      },
      "file_extension": ".py",
      "mimetype": "text/x-python",
      "name": "python",
      "nbconvert_exporter": "python",
      "pygments_lexer": "ipython3",
      "version": "3.8.8"
    },
    "orig_nbformat": 4,
    "colab": {
      "name": "news_category_NN.ipynb",
      "provenance": [],
      "include_colab_link": true
    }
  },
  "nbformat": 4,
  "nbformat_minor": 0
}