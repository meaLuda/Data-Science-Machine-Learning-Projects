{
 "cells": [
  {
   "attachments": {},
   "cell_type": "markdown",
   "metadata": {},
   "source": [
    "# AI RECOMMENDATION AGENT FOR PERSONALIZED E-LEARNING\n",
    "\n",
    "---\n",
    "\n",
    "<h3>Project Overview of the proposed AI Recommendation Agent</h3>\n",
    "\n",
    "This project suggests creating a customised AI recommendation agent for e-learning that makes use of methodologies like `Item Response Theory (IRT)` and `Artificial Neural Networks (ANN)`. By offering `personalized recommendations` based on the `student's academic performance` and `learning preferences`.\n",
    "\n",
    "The suggested method seeks to overcome the difficulty of locating relevant and interesting content on an e-learning platform. ANN will adaptively suggest learning resources based on the student's academic ability level and learning preferences after using IRT to model the student's academic ability level.\n"
   ]
  },
  {
   "attachments": {},
   "cell_type": "markdown",
   "metadata": {},
   "source": [
    "With the use of criteria like `accuracy, coverage, and novelty`, the system's performance will be assessed for the project. "
   ]
  },
  {
   "attachments": {},
   "cell_type": "markdown",
   "metadata": {},
   "source": [
    "`Artificial neural networks (ANN) and item response theory (IRT)` have emerged as cutting-edge solutions to overcome these issues and boost the precision and efficacy. \n",
    "\n",
    "The statistical framework (mathematical model) known as IRT, often referred to as Latent Response Theory, simulates the link betIen `latent qualities` and their manifestations.\n",
    "\n",
    "\n",
    "IRT can be used in e-learning to model a `student's academic proIss` and the `degree of difficulty of the course materials` to deliver customized reading content recommendations."
   ]
  },
  {
   "attachments": {},
   "cell_type": "markdown",
   "metadata": {},
   "source": [
    "The system will use `IRT to model the student's academic proficiency` and `ANN to adaptively offer learning materials` that are appropriate for both their academic proficiency and learning preferences.\n"
   ]
  },
  {
   "attachments": {},
   "cell_type": "markdown",
   "metadata": {},
   "source": [
    "### IRT Model\n",
    "\n",
    "<p>IRT will be used to model the student's academic ability level and the difficulty of the learning materials. The IRT model will be trained using the student's responses to a set of test criteria / items.</p>\n",
    "\n",
    "`P(ij) = c + (1 - c) * (e^(a*(tj-bi)) / (1 + e^(a*(tj-bi))))`\n",
    "\n",
    "where:\n",
    "==> Pij is the prob-academic ability of a student j correctly ansIring an item i.\n",
    "\n",
    "==> c is a guessing parameter, representing the prob-academic ability of guessing the correct ansIr.\n",
    "\n",
    "==> a is the discrimination parameter, representing how Ill the item discriminates betIen high and low academic ability students.\n",
    "\n",
    "==> tj is the academic ability level of student j.\n",
    "\n",
    "==> bi is the difficulty level of item I.\n",
    "\n",
    "\n",
    "`This would output the probability of the student correctly ansIring the item, given their academic ability level and the item difficulty level.`"
   ]
  },
  {
   "attachments": {},
   "cell_type": "markdown",
   "metadata": {},
   "source": [
    "To build a machine learning model based on the IRT formula, I need to first define the inputs and outputs of the model.\n",
    "<br>\n",
    "\n",
    "`Inputs:` The inputs to the model will be the student's responses to a set of test criteria / items, along with the difficulty level of each item.\n",
    "\n",
    "`Outputs:` The output of the model will be the predicted academic ability level of the student.\n",
    "\n",
    "To train the model, I can use a supervised learning approach where I provide the model with labeled data consisting of the student's responses to the test items and their corresponding academic ability levels. \n",
    "\n",
    "I can then use a regression algorithm to learn the relationship betIen the inputs (test item responses and item difficulty levels) and the output (academic ability level)."
   ]
  },
  {
   "cell_type": "code",
   "execution_count": 1,
   "metadata": {},
   "outputs": [],
   "source": [
    "from sklearn.linear_model import LinearRegression\n",
    "from sklearn.metrics import mean_squared_error,accuracy_score,confusion_matrix\n",
    "import numpy as np\n",
    "\n",
    "# Set seed for reproducibility: if seed value is greater than 0 reproductivity will be random.\n",
    "np.random.seed(200) "
   ]
  },
  {
   "cell_type": "code",
   "execution_count": 2,
   "metadata": {},
   "outputs": [],
   "source": [
    "# TEST~ IRT Formula to predict the probability of a student ansIring a question correctly in code\n",
    "# Define the IRT formula\n",
    "def irt_formula(c, a, tj, bi):\n",
    "    \"\"\"\n",
    "        c: guessing parameter\n",
    "        a: discrimination parameter\n",
    "        tj: academic ability level of student j\n",
    "        bi: difficulty level of item i\n",
    "        c + ((1 - c) / (1 + np.exp(-a * (tj - bi))))\n",
    "    \"\"\"\n",
    "    return c + ((1 - c) / (1 + np.exp(-a * (tj - bi))))"
   ]
  },
  {
   "cell_type": "code",
   "execution_count": 3,
   "metadata": {},
   "outputs": [
    {
     "name": "stdout",
     "output_type": "stream",
     "text": [
      "0.9644305951168249\n"
     ]
    }
   ],
   "source": [
    "# Testing IRT formula\n",
    "p_ = irt_formula(0.25, 1.5, 3, 1)\n",
    "print(p_)  "
   ]
  },
  {
   "cell_type": "code",
   "execution_count": 4,
   "metadata": {},
   "outputs": [],
   "source": [
    "# Generate some sample data : from formula\n",
    "num_students = 4000\n",
    "num_items = 50\n",
    "\n",
    "item_difficulties = np.random.normal(0, 1, size=num_items) # for each item I have a different difficulty in the range of 0 to 1\n",
    "student_abilities = np.random.normal(0, 1, size=num_students) # for each student I have a different ability in the range of 0 to 1\n",
    "\n",
    "\"\"\"\n",
    "    c: guessing parameter\n",
    "    a: discrimination parameter\n",
    "\"\"\"\n",
    "c = 0.25\n",
    "a = 1.0"
   ]
  },
  {
   "cell_type": "code",
   "execution_count": 53,
   "metadata": {},
   "outputs": [],
   "source": [
    "# Student responses to items  randomly generated from 0 to 1\n",
    "responses = np.random.binomial(0, irt_formula(c, a, student_abilities.reshape(-1,1), item_difficulties), size=(num_students, num_items))"
   ]
  },
  {
   "cell_type": "code",
   "execution_count": 54,
   "metadata": {},
   "outputs": [
    {
     "name": "stdout",
     "output_type": "stream",
     "text": [
      "4000\n"
     ]
    }
   ],
   "source": [
    "print(len(responses))"
   ]
  },
  {
   "cell_type": "code",
   "execution_count": 60,
   "metadata": {},
   "outputs": [],
   "source": [
    "mu, sigma = 0, 0.1 # mean and standard deviation\n",
    "s = np.random.normal(mu, sigma, 1000)"
   ]
  },
  {
   "cell_type": "code",
   "execution_count": 61,
   "metadata": {},
   "outputs": [
    {
     "data": {
      "text/plain": [
       "array([-6.35473225e-02,  1.23506321e-01, -1.60621061e-01, -2.74091767e-02,\n",
       "        1.88202199e-02,  3.88747586e-02, -5.37048358e-02,  8.69522511e-02,\n",
       "        4.78298821e-02, -1.03006666e-01,  7.94717003e-03, -4.39469528e-02,\n",
       "       -1.39388956e-01,  1.43248665e-02,  2.53869444e-01, -1.54662993e-01,\n",
       "       -2.77265183e-02,  1.16195135e-01, -4.59711264e-02,  1.89278728e-01,\n",
       "       -5.38756121e-02,  3.14464856e-03,  4.17355441e-02,  1.57306258e-01,\n",
       "        6.91204246e-02, -6.21408362e-02, -6.94697033e-02,  9.62446251e-02,\n",
       "       -3.19634533e-04,  1.02276090e-01, -3.55158314e-02,  1.76918384e-02,\n",
       "       -5.13869498e-02,  6.85650529e-03,  5.22918986e-03, -1.58370637e-01,\n",
       "       -1.70370316e-02, -3.07711431e-02, -1.01750788e-01, -1.31366301e-01,\n",
       "       -2.97211592e-02, -1.55220290e-01,  6.01132998e-02,  1.50791594e-01,\n",
       "        1.16823149e-01, -1.33105967e-02,  6.92345788e-02,  1.08937451e-01,\n",
       "       -3.66221571e-02, -8.48137498e-02,  9.28856490e-02, -6.77639746e-02,\n",
       "       -1.70848934e-01,  8.74830447e-02, -9.05970163e-03, -9.22044862e-02,\n",
       "        5.24808681e-02, -1.64648274e-01, -5.14518605e-03, -7.25941621e-02,\n",
       "        1.43633974e-01,  1.23590587e-01,  1.25068731e-01,  3.20930785e-02,\n",
       "        2.46328747e-01, -3.34384823e-02,  7.63644650e-02,  1.32082668e-01,\n",
       "       -1.95579304e-02,  4.19841301e-02, -1.22388648e-02, -1.46249249e-01,\n",
       "       -8.77649729e-02,  1.84517477e-02,  1.24158510e-01,  3.18234002e-02,\n",
       "       -6.32755418e-02, -2.79253777e-03, -2.40614832e-01,  1.09877367e-01,\n",
       "       -1.86757614e-01,  4.69853398e-02,  3.90818937e-02,  2.62627976e-02,\n",
       "        8.11137350e-02, -7.59444042e-02,  2.61291513e-02,  9.17399315e-02,\n",
       "        7.85733235e-02, -3.33011622e-02,  4.13398802e-02,  4.84905984e-02,\n",
       "       -7.45279111e-02,  1.69096560e-01,  3.35108100e-03,  9.48633039e-02,\n",
       "        1.40326983e-01, -9.89355493e-02, -1.84137908e-01, -1.52121304e-01,\n",
       "       -9.51899717e-02, -9.63624086e-02,  4.79127769e-02, -9.25581311e-02,\n",
       "        4.95831376e-02, -7.07569029e-02, -2.28132312e-02, -4.16920350e-02,\n",
       "       -4.32847180e-02,  2.39704748e-02, -1.07837525e-01, -9.24900291e-02,\n",
       "        3.17559164e-02, -1.59569197e-02, -5.85839677e-02, -6.58171256e-02,\n",
       "       -1.15345116e-01, -5.50784261e-02, -4.69647410e-02,  2.76968901e-02,\n",
       "        4.64683551e-03, -3.82694126e-02, -1.69735028e-01,  1.88872476e-02,\n",
       "       -9.72856550e-02,  6.13073266e-02,  7.45347574e-03, -5.32829872e-02,\n",
       "       -7.15417132e-02, -1.04265076e-02,  1.54699201e-01, -8.65883148e-02,\n",
       "       -4.04503526e-02,  9.99282994e-02, -1.09777430e-01, -5.26740954e-02,\n",
       "        6.47777212e-02, -1.71240494e-02, -7.45591784e-03,  7.76049621e-02,\n",
       "        1.14672636e-01,  1.47798298e-01, -1.40141963e-01,  7.33905258e-03,\n",
       "        8.14387338e-02,  1.02266879e-01,  1.23291632e-02, -1.08305784e-01,\n",
       "       -9.87422017e-02,  7.10495248e-02, -1.86598888e-03, -5.67585630e-02,\n",
       "       -1.13764596e-02, -2.34805004e-02,  3.26612278e-02, -8.97802074e-02,\n",
       "       -2.07309244e-01,  1.26390412e-01, -1.28056215e-01,  7.51240574e-02,\n",
       "        8.49048388e-02, -4.37325170e-02, -1.37516200e-02,  9.30411557e-02,\n",
       "        6.61040586e-02, -2.22955366e-02,  5.82331074e-02,  1.49591615e-01,\n",
       "        9.60793822e-03, -2.58656782e-03, -2.00531096e-01, -1.04232533e-01,\n",
       "        4.13757160e-02,  1.70064567e-01, -1.43467593e-01,  6.31303154e-02,\n",
       "       -1.16973124e-01, -2.32851074e-01,  1.66976044e-01,  6.59208948e-02,\n",
       "        1.83703133e-02, -1.10888195e-01,  3.84978853e-02,  1.32115555e-01,\n",
       "       -1.25567162e-01,  7.65594003e-02, -2.43538755e-02,  8.45033301e-02,\n",
       "        7.22478164e-02, -5.85176062e-02,  7.36882413e-03,  9.96238621e-02,\n",
       "       -9.94914507e-02,  2.71328844e-02,  1.09573350e-01,  1.07803919e-03,\n",
       "       -1.84608821e-01,  2.64371248e-02, -1.02799726e-01,  5.09626057e-03,\n",
       "        1.15104921e-01,  2.92177585e-02, -8.03833874e-02, -2.21056122e-01,\n",
       "       -5.27384507e-02, -2.62398693e-02, -1.19889729e-02,  9.22218013e-02,\n",
       "        1.06516267e-01,  2.81900268e-03, -1.79056375e-02, -4.31624933e-02,\n",
       "       -1.89126403e-01,  2.12686356e-01,  1.42636426e-01, -4.02947011e-02,\n",
       "       -1.25660853e-01,  1.34950150e-01, -7.71640194e-02,  1.12124619e-01,\n",
       "       -7.78827244e-02, -1.26933227e-02, -6.55858980e-02, -6.98920881e-02,\n",
       "       -3.67535206e-02, -2.61662391e-02,  2.26316098e-02, -2.21010433e-01,\n",
       "       -4.71384679e-02,  1.10972049e-01,  1.21576024e-01, -1.76699917e-02,\n",
       "        2.04373030e-01, -2.85745159e-01, -1.40886739e-01, -2.27737608e-01,\n",
       "       -9.09555971e-02,  4.85025626e-03,  1.61724607e-02, -1.82495784e-01,\n",
       "       -7.29745872e-02,  1.66432640e-02,  6.36290353e-03,  4.04067004e-02,\n",
       "       -4.35211582e-02, -1.26444209e-01, -5.63986290e-02, -7.05767835e-02,\n",
       "       -1.15297950e-01,  8.12384087e-02, -4.45971173e-02, -5.72864191e-03,\n",
       "       -1.18221686e-01,  1.29360069e-01,  1.40343681e-02, -1.25692991e-03,\n",
       "       -1.36379489e-02, -1.13898509e-01,  1.34859985e-01, -1.13897043e-01,\n",
       "        8.32313725e-02, -2.29204841e-02,  4.21272723e-02,  2.08150664e-02,\n",
       "       -6.82283899e-02,  1.99530336e-02, -2.84476281e-01, -4.74141040e-02,\n",
       "       -6.04521357e-02, -6.62611920e-02,  1.27688703e-02, -1.26993243e-01,\n",
       "        3.24514081e-02,  6.86322148e-02,  1.84384907e-01,  3.68347549e-02,\n",
       "       -7.95586331e-02, -2.98764692e-02, -2.31735896e-01,  6.32327725e-02,\n",
       "       -1.81050359e-01,  1.11061283e-01, -1.27137193e-01, -1.14891912e-01,\n",
       "        2.02358493e-01,  1.06042391e-01, -5.40763769e-02, -1.97575853e-01,\n",
       "       -1.34861915e-01, -1.07174845e-02,  9.96330106e-02,  3.45987342e-02,\n",
       "        1.21359717e-01,  1.54216167e-02, -1.86111596e-02, -1.89575721e-01,\n",
       "       -2.93153670e-02,  2.28620756e-05,  1.03711799e-01, -3.88196100e-02,\n",
       "        8.27496445e-02, -2.65782156e-01,  2.05049080e-02,  4.19593709e-03,\n",
       "        9.95281220e-02,  7.40892342e-03,  2.65389947e-02,  1.13338638e-01,\n",
       "        4.04782667e-03,  6.00308500e-02,  3.11931747e-02,  6.16381326e-02,\n",
       "       -3.98398111e-02,  1.19036815e-02, -5.48617879e-02,  1.03262161e-01,\n",
       "       -1.09324551e-01,  1.03257503e-01, -3.10038804e-02,  1.18474998e-02,\n",
       "       -4.08674728e-02, -3.16582904e-02, -9.47372905e-02,  1.19955776e-02,\n",
       "        2.86705491e-02,  2.88385383e-02,  2.46302431e-02,  1.40327220e-02,\n",
       "        6.16222231e-02,  2.34063416e-02,  2.52298947e-02,  5.29729234e-02,\n",
       "        1.54133954e-01,  3.68154326e-02, -3.68485670e-02,  1.46041279e-01,\n",
       "       -3.12876398e-02,  5.18825883e-02,  2.04676259e-01, -8.04855464e-02,\n",
       "       -9.36023411e-02,  6.32474518e-02,  1.27479223e-01, -4.11926256e-02,\n",
       "        4.18899359e-02,  1.72542758e-02, -1.17919776e-01,  8.06430101e-02,\n",
       "        9.29361300e-02,  8.34499347e-02, -1.44222466e-01,  5.67593423e-03,\n",
       "       -1.40149397e-01, -7.21721588e-03,  1.01390203e-01, -2.13151029e-01,\n",
       "       -4.75638216e-02,  4.97349177e-02, -8.35000382e-03, -5.61140996e-02,\n",
       "       -7.28016429e-02,  2.98189377e-01,  1.18035095e-01,  8.98209552e-02,\n",
       "        5.46357316e-02,  7.85654210e-02,  1.90936127e-02, -1.54073666e-01,\n",
       "       -1.95323565e-01, -1.26651288e-02,  1.76744284e-02, -1.86980985e-01,\n",
       "       -7.51204150e-02, -1.07031058e-01, -4.60056003e-02,  1.19154233e-01,\n",
       "        1.41920903e-01,  1.00285717e-01,  1.71543615e-01,  4.40133808e-01,\n",
       "        3.78305985e-02,  3.89367251e-03,  4.89079847e-02, -9.72897169e-03,\n",
       "        7.83458133e-02, -2.30249643e-02,  7.97493106e-03,  2.32082640e-01,\n",
       "       -2.20392001e-02, -1.40394968e-01, -2.21977473e-02, -2.12935083e-01,\n",
       "        4.15630380e-02, -2.13999197e-01, -6.21668418e-04, -9.21048745e-02,\n",
       "       -7.03933818e-02, -5.99580030e-02,  5.36189198e-02, -8.19441012e-02,\n",
       "       -7.45012264e-02, -2.05948669e-01, -1.30708845e-01, -4.29635313e-02,\n",
       "       -4.96055631e-02,  5.24869386e-02,  9.21219505e-02, -5.22207010e-02,\n",
       "       -4.12463277e-02,  1.61663299e-01, -3.05121495e-02, -7.59144154e-03,\n",
       "       -5.55360935e-02, -8.63501363e-02,  4.57987497e-02,  1.76699252e-01,\n",
       "       -6.22832691e-02, -4.12392647e-02,  6.73535075e-02,  2.61110429e-01,\n",
       "       -3.34174887e-01, -6.45203319e-02, -1.51812934e-01,  1.94617893e-02,\n",
       "       -4.88145060e-02,  2.00319380e-01,  2.08952952e-02, -1.28091597e-01,\n",
       "       -6.65801315e-02,  1.57150968e-01,  1.94089194e-01,  5.58135026e-02,\n",
       "        5.04380091e-02, -9.34248922e-02,  6.03774390e-02,  1.33990421e-01,\n",
       "       -1.22303329e-02, -7.03973835e-02, -1.11698228e-01,  3.02444831e-02,\n",
       "       -1.24474673e-02,  1.82576348e-01, -8.38161948e-02, -1.59722008e-01,\n",
       "        9.03813075e-02,  9.26445253e-02,  1.81757088e-01,  1.53052561e-02,\n",
       "        7.24402593e-02,  1.03941287e-01,  4.41302545e-02,  2.75614182e-02,\n",
       "       -4.59295465e-02,  7.35400366e-02,  2.84034210e-02,  4.14284897e-02,\n",
       "       -1.83140836e-01,  3.73536651e-02, -3.02364050e-02,  1.20386781e-02,\n",
       "        9.83803294e-02,  1.15569526e-01,  5.47677369e-02, -3.81231650e-02,\n",
       "        7.69127878e-02,  1.97088853e-02,  9.56796595e-02,  2.01134306e-01,\n",
       "        2.24140010e-02,  8.98450197e-02, -1.08390058e-01,  2.38540031e-02,\n",
       "       -1.15736071e-01, -2.01112904e-01, -7.04983452e-02, -1.42228603e-01,\n",
       "        2.16190690e-02,  1.56369686e-02,  7.28617955e-02,  8.29579059e-02,\n",
       "       -1.54792607e-01, -5.95924252e-02,  9.11806255e-02,  6.61515564e-02,\n",
       "        2.23982579e-02,  7.88656548e-02,  7.87628397e-02,  1.57101257e-01,\n",
       "        1.83255912e-01,  8.90842402e-02,  2.35566214e-01,  9.87160232e-02,\n",
       "        1.73035266e-03, -1.02770189e-01, -3.20505026e-02, -1.71109784e-01,\n",
       "        1.16654873e-01, -1.28291807e-01,  2.02546084e-01, -2.57258584e-02,\n",
       "       -1.73975399e-01,  1.81944308e-01,  9.44086058e-02,  1.06278176e-02,\n",
       "       -6.85877958e-02,  6.92165620e-02,  2.20342098e-01, -1.25411306e-01,\n",
       "        7.99406909e-02,  3.04926282e-02, -1.09667134e-01,  1.07468537e-01,\n",
       "       -1.72843294e-01, -1.02436087e-01,  5.02625686e-02,  4.50064645e-02,\n",
       "       -1.21904846e-01, -1.37202490e-01,  3.38398396e-02,  6.90272441e-02,\n",
       "       -6.66426070e-02,  1.05489366e-01,  2.09100672e-02,  1.12049141e-01,\n",
       "        4.89923284e-02,  1.26864520e-01,  1.73148501e-01, -4.56994256e-02,\n",
       "       -3.32517904e-03,  3.80768250e-02, -1.24618505e-01, -3.11389047e-01,\n",
       "        4.15648433e-03,  4.65053376e-02, -5.70065640e-02, -9.38704838e-02,\n",
       "        9.57152238e-02,  2.15882074e-01, -3.02995868e-02,  2.84566505e-02,\n",
       "        1.28756100e-01, -1.32746237e-01,  1.47865914e-02, -9.22684149e-02,\n",
       "       -1.53912565e-01, -1.10806752e-01,  2.06364789e-01,  2.54259771e-02,\n",
       "       -1.86192795e-03,  7.71320417e-02,  1.12892474e-01, -1.50950088e-01,\n",
       "        4.59905845e-02, -1.66725347e-04, -5.33820592e-02,  8.66693999e-02,\n",
       "        4.23567134e-02,  3.04860475e-02,  1.29861807e-01, -1.30167361e-01,\n",
       "        1.10779018e-02, -4.01417049e-03,  4.52903988e-02,  9.05736871e-03,\n",
       "        1.15098005e-01,  1.53232095e-02,  7.92888036e-02,  3.63553829e-03,\n",
       "        4.82480535e-02, -8.83322389e-02, -1.29763563e-01,  7.38812973e-02,\n",
       "        6.62871158e-02, -9.61654519e-02,  1.33252059e-01, -4.29904740e-02,\n",
       "       -9.69340852e-02, -2.68788622e-02, -5.67863472e-02,  3.13453004e-02,\n",
       "        3.45246869e-03,  4.78868019e-02,  1.93677444e-01,  6.27104354e-03,\n",
       "       -1.27307940e-01,  7.93314206e-02, -5.05773463e-02, -2.24442730e-01,\n",
       "        1.06601195e-01, -2.72402688e-01, -9.93364973e-02, -1.78258262e-02,\n",
       "        1.61292315e-01, -2.88812601e-02, -1.30369400e-01,  6.43637956e-02,\n",
       "        8.32795341e-02,  8.10058083e-02, -3.95382266e-02,  3.46890857e-02,\n",
       "       -4.77048726e-02, -6.19297195e-02, -8.88909801e-02,  3.25112047e-02,\n",
       "       -7.76799894e-02, -1.14820895e-01,  1.61218370e-01, -2.21697278e-02,\n",
       "        2.15148123e-01,  7.96295256e-02, -5.04766865e-02,  1.22740129e-01,\n",
       "       -3.70913444e-02, -2.32957103e-02,  6.81828401e-02, -1.88741452e-01,\n",
       "       -7.31383374e-02,  5.06511195e-02,  7.19187377e-02, -3.50118544e-02,\n",
       "        1.01032324e-01, -3.15496592e-01,  1.22480727e-01, -1.44828925e-02,\n",
       "       -7.26560811e-02, -5.11118503e-02, -6.00334243e-02, -1.21572575e-01,\n",
       "       -1.28088225e-01,  3.26407914e-03,  2.70247929e-02, -9.12055927e-02,\n",
       "       -1.70879179e-01,  6.80505331e-02, -1.46884708e-01,  1.36669938e-01,\n",
       "       -3.96627671e-02, -1.04396803e-01, -1.28015570e-01, -9.47319018e-02,\n",
       "        1.10262321e-01,  5.29502206e-02, -1.05458778e-01,  1.32156645e-01,\n",
       "        2.09813668e-03, -1.06204560e-01,  9.17827953e-02, -4.13371699e-02,\n",
       "        9.87220474e-02,  7.32336360e-02,  6.40416847e-02, -1.38222599e-01,\n",
       "        4.74352714e-02,  3.65147902e-02, -7.45066510e-02, -1.82600442e-02,\n",
       "        4.82357670e-02, -2.04249344e-01, -5.19395007e-02, -8.47434639e-02,\n",
       "       -5.51932344e-02, -2.46669849e-02, -4.20318362e-02,  1.40966602e-01,\n",
       "       -4.16224977e-02,  4.75628625e-02, -2.47675550e-02,  1.18314450e-01,\n",
       "       -6.22549975e-02,  6.16174634e-02,  1.16524363e-01,  1.08540736e-01,\n",
       "       -3.22011454e-02, -1.19414717e-01,  1.78346066e-01,  2.31816984e-01,\n",
       "        4.51292722e-02,  2.58819520e-02,  1.04667621e-01,  1.00831839e-01,\n",
       "        4.40496402e-02, -7.66043383e-02,  8.02721491e-02, -8.80608718e-02,\n",
       "       -5.76494577e-02,  1.22411416e-01,  5.45347460e-02, -1.37438835e-01,\n",
       "        7.07005352e-02, -1.63021889e-01,  5.80441105e-02, -4.42802512e-02,\n",
       "       -2.36435205e-01,  6.35031708e-02, -1.04899443e-01, -3.33367209e-02,\n",
       "       -1.76585922e-01,  7.53535056e-02,  3.81636410e-03,  7.28176067e-02,\n",
       "        7.09137417e-02,  2.14981849e-01,  3.91903413e-02,  2.91946653e-02,\n",
       "        2.62572230e-02, -1.06102572e-01, -1.86532010e-01, -4.14824663e-02,\n",
       "        1.35935153e-01,  2.03975092e-01,  8.30029548e-02, -1.09122427e-01,\n",
       "       -4.68946673e-03, -5.23883375e-03,  4.57193347e-02,  4.16703163e-02,\n",
       "        1.33488640e-01,  9.38760960e-02,  2.74584636e-02,  5.52887305e-02,\n",
       "        1.28146334e-01,  1.33889373e-01,  1.40529278e-01, -2.06406818e-01,\n",
       "       -8.33350820e-02, -2.51800842e-03, -2.75831788e-02,  2.46467558e-01,\n",
       "        2.88720778e-02, -1.20186466e-01,  1.90080717e-02, -2.54353096e-02,\n",
       "        2.58019976e-02,  3.50365956e-02, -7.59212185e-02,  8.46017019e-02,\n",
       "       -6.00338810e-02,  3.68537601e-02,  1.03765031e-01,  3.69991396e-02,\n",
       "       -8.74617088e-02, -1.45235837e-01,  5.71162765e-02,  4.05092043e-02,\n",
       "        3.73670113e-03,  9.53242199e-02, -1.29594674e-01, -1.82762265e-02,\n",
       "       -5.45774286e-02,  1.07684750e-02, -1.10997087e-01,  4.54632692e-02,\n",
       "       -3.38195868e-02,  1.15089171e-01,  6.38420499e-04,  1.25435904e-01,\n",
       "        5.30474366e-02,  2.01846347e-01, -1.39901234e-01, -1.54331022e-02,\n",
       "       -5.54897753e-02,  2.95400865e-02, -1.67871201e-01, -7.44578393e-02,\n",
       "        8.13120856e-02, -6.75719583e-02,  7.24470631e-02, -4.14553216e-02,\n",
       "       -5.92829707e-02,  7.23901643e-02,  5.43463791e-02, -2.04521954e-01,\n",
       "        5.82072933e-02, -9.42325010e-02, -3.38427613e-03,  2.31822920e-03,\n",
       "       -1.58604986e-02,  1.76166347e-01, -4.40782688e-02,  9.60070197e-02,\n",
       "       -1.24467622e-02,  6.40953242e-02,  5.47190222e-02, -5.60770632e-03,\n",
       "        1.67079084e-01, -2.49989089e-02,  4.13846279e-02, -2.27679101e-02,\n",
       "        7.00906753e-02, -9.79560112e-02, -1.13235802e-01, -1.48560383e-01,\n",
       "        2.00933773e-01, -3.15444870e-01,  5.92179325e-02, -3.48049507e-02,\n",
       "       -3.37049530e-02,  2.79933444e-02, -4.78682984e-02,  1.34470245e-01,\n",
       "        1.09971919e-01, -2.15306527e-01,  1.12578238e-01,  1.12331337e-01,\n",
       "       -4.71576537e-02,  8.95609291e-03,  8.57312642e-02, -7.94944013e-02,\n",
       "       -3.60193828e-02, -1.37812054e-01, -1.35172601e-01,  6.76651128e-02,\n",
       "        4.53160191e-02, -2.90972204e-02,  1.69208442e-02,  7.62517699e-02,\n",
       "       -4.74239974e-02,  1.15208099e-01, -7.62030710e-02, -6.77947577e-02,\n",
       "        2.08864372e-01, -1.22656991e-01, -3.72739358e-02,  9.66179506e-02,\n",
       "       -1.94187073e-02,  1.04450230e-01,  1.01331356e-03, -2.45607710e-01,\n",
       "        6.22022891e-02, -2.17694499e-02, -9.47606327e-02, -2.69044533e-02,\n",
       "        1.84548871e-01, -1.71611386e-02, -9.64729353e-02,  8.95528652e-02,\n",
       "       -1.38209550e-01,  1.73135175e-01,  4.15308307e-02,  2.50825369e-02,\n",
       "       -6.10193640e-03, -7.57699451e-02,  2.18102866e-01,  7.73764082e-02,\n",
       "        1.42670829e-01, -1.13875271e-02,  1.45479826e-01, -8.53728264e-02,\n",
       "        2.01048331e-02,  1.72054012e-01,  3.15157904e-02, -1.86895318e-01,\n",
       "        2.28455132e-02,  6.02681158e-02,  5.62146330e-02,  1.73216919e-01,\n",
       "        1.25073951e-01,  2.79194846e-02,  1.36509330e-01, -1.14700014e-01,\n",
       "       -2.01899418e-01,  6.94084379e-02, -1.05853350e-01, -3.46002647e-02,\n",
       "       -1.02224405e-01, -4.80606250e-02,  1.98117099e-01, -1.84733766e-01,\n",
       "        1.06255441e-01,  6.56157148e-02, -4.89448318e-02, -7.83694776e-02,\n",
       "        1.23168558e-01,  3.75761848e-03,  9.32892212e-02, -5.79508039e-03,\n",
       "        1.13740677e-01,  9.86588934e-03,  8.13785013e-02, -1.12852509e-01,\n",
       "        3.09385322e-02,  2.35160933e-02,  6.12404721e-02, -2.07887608e-02,\n",
       "       -3.25533615e-02, -1.80983866e-02,  4.57924711e-02,  1.51366805e-01,\n",
       "        8.40900400e-02,  1.03690141e-01, -3.82068451e-02,  9.83891857e-02,\n",
       "       -1.24882461e-01,  1.30261170e-02, -1.02775525e-01, -6.55815503e-02,\n",
       "        1.62837533e-01,  7.08363158e-02, -1.82222369e-01,  5.10243468e-02,\n",
       "        1.28963388e-01, -8.02385226e-02, -9.91688918e-02,  6.21844383e-02,\n",
       "       -1.55838934e-01, -6.69521097e-02,  1.07933099e-01,  6.45107336e-02,\n",
       "       -1.72813462e-01, -1.32808999e-01, -1.95030629e-02, -3.11673511e-02,\n",
       "        1.44097917e-01,  8.70841395e-02, -7.24373892e-02, -1.71732222e-02,\n",
       "        4.01747161e-02,  6.96277386e-02,  1.21654247e-01,  5.91057721e-02,\n",
       "        7.31673421e-02, -1.72571390e-02,  8.33171657e-02,  2.29073320e-01,\n",
       "       -1.66337517e-01,  9.17006591e-03, -4.43336069e-02,  6.96497328e-03,\n",
       "       -4.55857505e-02, -5.11950292e-02,  2.19285136e-01, -4.54560819e-03,\n",
       "       -1.18267074e-01,  3.15033551e-02, -6.59548133e-02,  1.15113753e-01,\n",
       "        3.10213078e-02,  6.25305637e-02, -4.07549834e-02, -1.54682417e-01,\n",
       "       -7.25830251e-02, -8.85567520e-02, -8.34680940e-02,  1.94301132e-01,\n",
       "       -5.62134583e-03, -9.88586736e-02,  4.36484606e-02,  1.05073736e-01,\n",
       "        6.42951229e-02, -1.78599917e-01, -6.96628494e-02,  1.46916938e-01,\n",
       "        2.30381944e-03,  1.43175985e-01,  1.42189374e-01, -3.63077867e-02,\n",
       "        1.27055436e-01,  1.12261605e-01,  2.87273806e-02, -1.64653063e-02,\n",
       "        7.07738260e-02, -2.22203851e-02, -4.35676421e-02,  1.39241776e-01,\n",
       "        1.87306628e-01, -8.75671016e-02, -1.48300984e-01, -5.21888472e-02,\n",
       "       -9.35501365e-02,  1.23622345e-01, -1.49192113e-01, -6.35997148e-02,\n",
       "       -2.15061650e-01,  2.75682336e-02, -9.86428759e-02,  1.68846816e-01,\n",
       "        8.57149856e-02, -7.40667680e-02,  1.06780552e-01,  1.85519378e-01,\n",
       "       -1.59335776e-02, -1.90350100e-01, -1.13079345e-01,  9.09107891e-03,\n",
       "       -1.94775925e-02, -5.11731444e-02, -1.11092644e-01,  7.06449796e-02,\n",
       "       -5.72143727e-02,  1.18958537e-01,  4.72203328e-03,  9.24698722e-02,\n",
       "        2.33646029e-02, -5.95357763e-02,  6.88477895e-02,  1.57680753e-02,\n",
       "        2.58368869e-02,  9.87716931e-02, -1.56032653e-01,  3.53873403e-02])"
      ]
     },
     "execution_count": 61,
     "metadata": {},
     "output_type": "execute_result"
    }
   ],
   "source": [
    "s"
   ]
  },
  {
   "cell_type": "code",
   "execution_count": 58,
   "metadata": {},
   "outputs": [
    {
     "name": "stdout",
     "output_type": "stream",
     "text": [
      "[-1.45094825  1.91095313  0.71187915 -0.24773829  0.36146623 -0.03294967\n",
      " -0.22134672  0.47725678 -0.69193937  0.79200593  0.07324913  1.30328603\n",
      "  0.21348149  1.01734895  1.91171178 -0.52967163  1.84213516 -1.05723508\n",
      " -0.86291629  0.2376315  -1.15418177  1.21498404 -1.29375908  0.82272281\n",
      " -0.33215113 -1.28142901  0.21853781  2.08347422 -0.24821806  0.2674604\n",
      "  0.7125135  -0.65360768  0.16227964  2.2133805  -0.66553423 -1.00900322\n",
      "  2.34805122  0.60437586  0.6438291  -0.33175226  0.06986397 -0.01471103\n",
      "  1.71106875 -0.35644507  0.64311606 -0.24088278 -2.55798096 -1.95566295\n",
      "  0.02570574  0.77328417]\n"
     ]
    }
   ],
   "source": [
    "print(item_difficulties)"
   ]
  },
  {
   "cell_type": "code",
   "execution_count": 59,
   "metadata": {},
   "outputs": [
    {
     "data": {
      "image/png": "[encoded data removed]",
      "text/plain": [
       "<Figure size 640x480 with 1 Axes>"
      ]
     },
     "metadata": {},
     "output_type": "display_data"
    }
   ],
   "source": [
    "import matplotlib.pyplot as plt\n",
    "plt.show\n",
    "count, bins, ignored = plt.hist(item_difficulties, 30, density=True)\n",
    "plt.plot(bins, 1/(1 * np.sqrt(2 * np.pi)) *\n",
    "               np.exp( - (bins - 0)**2 / (2 * 1**2) ),\n",
    "         linewidth=2, color='r')\n",
    "plt.show()"
   ]
  },
  {
   "cell_type": "code",
   "execution_count": 24,
   "metadata": {},
   "outputs": [
    {
     "name": "stdout",
     "output_type": "stream",
     "text": [
      "[ 2.18609495  1.77857249  0.3401741  ... -0.950648   -0.93730281\n",
      " -0.49329557]\n"
     ]
    }
   ],
   "source": [
    "print(student_abilities)"
   ]
  },
  {
   "cell_type": "code",
   "execution_count": 9,
   "metadata": {},
   "outputs": [
    {
     "data": {
      "text/html": [
       "<style>#sk-container-id-1 {color: black;background-color: white;}#sk-container-id-1 pre{padding: 0;}#sk-container-id-1 div.sk-toggleable {background-color: white;}#sk-container-id-1 label.sk-toggleable__label {cursor: pointer;display: block;width: 100%;margin-bottom: 0;padding: 0.3em;box-sizing: border-box;text-align: center;}#sk-container-id-1 label.sk-toggleable__label-arrow:before {content: \"▸\";float: left;margin-right: 0.25em;color: #696969;}#sk-container-id-1 label.sk-toggleable__label-arrow:hover:before {color: black;}#sk-container-id-1 div.sk-estimator:hover label.sk-toggleable__label-arrow:before {color: black;}#sk-container-id-1 div.sk-toggleable__content {max-height: 0;max-width: 0;overflow: hidden;text-align: left;background-color: #f0f8ff;}#sk-container-id-1 div.sk-toggleable__content pre {margin: 0.2em;color: black;border-radius: 0.25em;background-color: #f0f8ff;}#sk-container-id-1 input.sk-toggleable__control:checked~div.sk-toggleable__content {max-height: 200px;max-width: 100%;overflow: auto;}#sk-container-id-1 input.sk-toggleable__control:checked~label.sk-toggleable__label-arrow:before {content: \"▾\";}#sk-container-id-1 div.sk-estimator input.sk-toggleable__control:checked~label.sk-toggleable__label {background-color: #d4ebff;}#sk-container-id-1 div.sk-label input.sk-toggleable__control:checked~label.sk-toggleable__label {background-color: #d4ebff;}#sk-container-id-1 input.sk-hidden--visually {border: 0;clip: rect(1px 1px 1px 1px);clip: rect(1px, 1px, 1px, 1px);height: 1px;margin: -1px;overflow: hidden;padding: 0;position: absolute;width: 1px;}#sk-container-id-1 div.sk-estimator {font-family: monospace;background-color: #f0f8ff;border: 1px dotted black;border-radius: 0.25em;box-sizing: border-box;margin-bottom: 0.5em;}#sk-container-id-1 div.sk-estimator:hover {background-color: #d4ebff;}#sk-container-id-1 div.sk-parallel-item::after {content: \"\";width: 100%;border-bottom: 1px solid gray;flex-grow: 1;}#sk-container-id-1 div.sk-label:hover label.sk-toggleable__label {background-color: #d4ebff;}#sk-container-id-1 div.sk-serial::before {content: \"\";position: absolute;border-left: 1px solid gray;box-sizing: border-box;top: 0;bottom: 0;left: 50%;z-index: 0;}#sk-container-id-1 div.sk-serial {display: flex;flex-direction: column;align-items: center;background-color: white;padding-right: 0.2em;padding-left: 0.2em;position: relative;}#sk-container-id-1 div.sk-item {position: relative;z-index: 1;}#sk-container-id-1 div.sk-parallel {display: flex;align-items: stretch;justify-content: center;background-color: white;position: relative;}#sk-container-id-1 div.sk-item::before, #sk-container-id-1 div.sk-parallel-item::before {content: \"\";position: absolute;border-left: 1px solid gray;box-sizing: border-box;top: 0;bottom: 0;left: 50%;z-index: -1;}#sk-container-id-1 div.sk-parallel-item {display: flex;flex-direction: column;z-index: 1;position: relative;background-color: white;}#sk-container-id-1 div.sk-parallel-item:first-child::after {align-self: flex-end;width: 50%;}#sk-container-id-1 div.sk-parallel-item:last-child::after {align-self: flex-start;width: 50%;}#sk-container-id-1 div.sk-parallel-item:only-child::after {width: 0;}#sk-container-id-1 div.sk-dashed-wrapped {border: 1px dashed gray;margin: 0 0.4em 0.5em 0.4em;box-sizing: border-box;padding-bottom: 0.4em;background-color: white;}#sk-container-id-1 div.sk-label label {font-family: monospace;font-weight: bold;display: inline-block;line-height: 1.2em;}#sk-container-id-1 div.sk-label-container {text-align: center;}#sk-container-id-1 div.sk-container {/* jupyter's `normalize.less` sets `[hidden] { display: none; }` but bootstrap.min.css set `[hidden] { display: none !important; }` so we also need the `!important` here to be able to override the default hidden behavior on the sphinx rendered scikit-learn.org. See: https://github.com/scikit-learn/scikit-learn/issues/21755 */display: inline-block !important;position: relative;}#sk-container-id-1 div.sk-text-repr-fallback {display: none;}</style><div id=\"sk-container-id-1\" class=\"sk-top-container\"><div class=\"sk-text-repr-fallback\"><pre>LinearRegression()</pre><b>In a Jupyter environment, please rerun this cell to show the HTML representation or trust the notebook. <br />On GitHub, the HTML representation is unable to render, please try loading this page with nbviewer.org.</b></div><div class=\"sk-container\" hidden><div class=\"sk-item\"><div class=\"sk-estimator sk-toggleable\"><input class=\"sk-toggleable__control sk-hidden--visually\" id=\"sk-estimator-id-1\" type=\"checkbox\" checked><label for=\"sk-estimator-id-1\" class=\"sk-toggleable__label sk-toggleable__label-arrow\">LinearRegression</label><div class=\"sk-toggleable__content\"><pre>LinearRegression()</pre></div></div></div></div></div>"
      ],
      "text/plain": [
       "LinearRegression()"
      ]
     },
     "execution_count": 9,
     "metadata": {},
     "output_type": "execute_result"
    }
   ],
   "source": [
    "# Train the model\n",
    "model = LinearRegression()\n",
    "model.fit(responses, student_abilities)"
   ]
  },
  {
   "attachments": {},
   "cell_type": "markdown",
   "metadata": {},
   "source": [
    "### Testing Model On New Sample Data"
   ]
  },
  {
   "cell_type": "code",
   "execution_count": 29,
   "metadata": {},
   "outputs": [
    {
     "name": "stdout",
     "output_type": "stream",
     "text": [
      "[ 1.04612539 -0.47515285 -0.16065568 -0.60918315  0.18211234  0.35571186\n",
      "  1.02596774 -1.73085994 -2.506696   -0.08580858]\n"
     ]
    }
   ],
   "source": [
    "# Test the model on sample data of test students and items responses.\n",
    "num_new_students = 1000 # number of new students\n",
    "\n",
    "# Generate new student abilities\n",
    "test_student_abilities = np.random.normal(0, 1, size=num_new_students)\n",
    "\n",
    "\n",
    "# View first 10 student abilities\n",
    "print(test_student_abilities[:10])"
   ]
  },
  {
   "cell_type": "code",
   "execution_count": 30,
   "metadata": {},
   "outputs": [],
   "source": [
    "test_responses = \\\n",
    "    np.random.binomial(1, irt_formula(c, a, test_student_abilities.reshape(-1, 1), item_difficulties), size=(num_new_students, num_items))\n"
   ]
  },
  {
   "cell_type": "code",
   "execution_count": 34,
   "metadata": {},
   "outputs": [],
   "source": [
    "# make prediction from the new responses and abilities\n",
    "predictions = model.predict(test_responses)"
   ]
  },
  {
   "cell_type": "code",
   "execution_count": 35,
   "metadata": {},
   "outputs": [
    {
     "name": "stdout",
     "output_type": "stream",
     "text": [
      "[ 0.9792851  -0.68808986  0.55325524 -0.93710714 -0.99958557 -0.03831536\n",
      "  0.40102459 -1.12466689 -2.51875556 -0.18872963]\n"
     ]
    }
   ],
   "source": [
    "print(predictions[:10]) # View first 10 predictions"
   ]
  },
  {
   "cell_type": "code",
   "execution_count": 39,
   "metadata": {},
   "outputs": [
    {
     "name": "stdout",
     "output_type": "stream",
     "text": [
      "Student ability:  1.046125393861213 Prediction:  0.9792851001899265\n",
      "Student ability:  -0.4751528481522737 Prediction:  -0.6880898607221013\n",
      "Student ability:  -0.16065567668302722 Prediction:  0.5532552367263408\n",
      "Student ability:  -0.609183149261984 Prediction:  -0.9371071399375186\n",
      "Student ability:  0.1821123408546689 Prediction:  -0.9995855724640483\n",
      "Student ability:  0.355711859483632 Prediction:  -0.03831535982174117\n",
      "Student ability:  1.0259677354708305 Prediction:  0.40102459458892525\n",
      "Student ability:  -1.7308599408801977 Prediction:  -1.1246668857215738\n",
      "Student ability:  -2.5066959957237973 Prediction:  -2.518755560519828\n",
      "Student ability:  -0.08580858499916735 Prediction:  -0.18872962698278073\n",
      "Student ability:  -0.3249634241836017 Prediction:  0.1286728202306069\n",
      "Student ability:  -1.0903871341486802 Prediction:  -1.7151131360357565\n",
      "Student ability:  0.23304219055528239 Prediction:  -0.24496770372729548\n",
      "Student ability:  0.6911436508297235 Prediction:  0.843206973493448\n",
      "Student ability:  0.03884861201443768 Prediction:  0.3471995061291837\n",
      "Student ability:  -0.050628159088521765 Prediction:  0.10254071411184018\n",
      "Student ability:  0.47201758516755554 Prediction:  -0.1012377456567739\n",
      "Student ability:  -0.14645094508023038 Prediction:  0.20779054119323348\n",
      "Student ability:  -0.8440457897530957 Prediction:  -1.1644840713144196\n",
      "Student ability:  0.17847937881848228 Prediction:  0.047467501760122044\n"
     ]
    }
   ],
   "source": [
    "# Abilities over predictions\n",
    "for i in range(0,20):\n",
    "    print(\"Student ability: \", test_student_abilities[i], \"Prediction: \", predictions[i])   "
   ]
  },
  {
   "cell_type": "code",
   "execution_count": 40,
   "metadata": {},
   "outputs": [],
   "source": [
    "# Evaluate the model\n",
    "mse = np.mean((predictions - test_student_abilities)**2)\n",
    "rmse = np.sqrt(mse)\n",
    "r2 = model.score(test_responses, test_student_abilities)"
   ]
  },
  {
   "cell_type": "code",
   "execution_count": 42,
   "metadata": {},
   "outputs": [
    {
     "name": "stdout",
     "output_type": "stream",
     "text": [
      "Mean Squared Error: 0.1751368751197192\n",
      "Root Mean Squered Error: 0.4184935783494404\n",
      "Accuracy Score: 0.8169145008810991\n"
     ]
    }
   ],
   "source": [
    "print(\"Mean Squared Error:\", mse)\n",
    "print(\"Root Mean Squered Error:\", rmse)\n",
    "print(\"Accuracy Score:\", r2)"
   ]
  },
  {
   "attachments": {},
   "cell_type": "markdown",
   "metadata": {},
   "source": [
    "### Artificial Neural Networks (ANN)\n",
    "\n",
    "<p>The ANN will be used to provide tailored content recommendations based on the student's academic ability level and learning preferences. <br> \n",
    "The ANN will be trained on the preprocessed data, and it will learn to make recommendations that match with high accuracy to the student's academic ability level and learning preferences.</p>\n",
    "\n",
    "Neural network formula\n",
    "\n",
    "`z = f(Wx + b)`\n",
    "\n",
    "where:\n",
    "\n",
    "==> z is the output of the Neural network.\n",
    "\n",
    "==> W is the Iight matrix connecting the input layer to the hidden layer.\n",
    "\n",
    "==> x is the input vector representing the user's profile and the item's features.\n",
    "\n",
    "==> b is the bias vector added to the hidden layer.\n",
    "\n",
    "==> f is the activation function applied to the hidden layer output\n"
   ]
  },
  {
   "attachments": {},
   "cell_type": "markdown",
   "metadata": {},
   "source": [
    "For the Artificial Neural Network I will use Pytorch to build a simple neural network with 2 hidden layers. \n",
    "\n",
    "The input layer will have 2 nodes, one for the student's academic ability level and one for the item difficulty level. \n",
    "\n",
    "The output layer will have 1 node, which will output the probability of the student correctly ansIring the item.\n",
    "\n",
    "This will compute the output z of the ANN for the given input x. <br>\n",
    "\n",
    "Note that the input data x should be a PyTorch tensor of appropriate size, and the output z will also be a PyTorch tensor of size output_size\n"
   ]
  },
  {
   "cell_type": "code",
   "execution_count": 43,
   "metadata": {},
   "outputs": [],
   "source": [
    "import torch\n",
    "import torch.nn as nn"
   ]
  },
  {
   "cell_type": "code",
   "execution_count": 44,
   "metadata": {},
   "outputs": [],
   "source": [
    "# Define the ANN class\n",
    "class Recommender(nn.Module):\n",
    "    def __init__(self, input_size, hidden_size, output_size):\n",
    "        super(Recommender, self).__init__()\n",
    "        self.hidden = nn.Linear(input_size, hidden_size)\n",
    "        self.output = nn.Linear(hidden_size, output_size)\n",
    "        self.activation = nn.ReLU()\n",
    "        \n",
    "    def forward(self, x):\n",
    "        hidden = self.activation(self.hidden(x))\n",
    "        output = self.output(hidden)\n",
    "        return output"
   ]
  },
  {
   "cell_type": "code",
   "execution_count": 46,
   "metadata": {},
   "outputs": [],
   "source": [
    "# Set up the training data\n",
    "input_data = torch.randn(100, 10)  # 100 samples with 10 features~ this woulkd be the student ability\n",
    "labels = torch.randn(100, 5)  # 100 samples with 5 output classes ~ this would be the item difficulty"
   ]
  },
  {
   "cell_type": "code",
   "execution_count": 47,
   "metadata": {},
   "outputs": [
    {
     "data": {
      "text/plain": [
       "tensor([[ 0.2623,  0.4423,  2.5891, -0.5756,  0.8043,  0.7344, -0.0849,  0.1584,\n",
       "         -1.4036,  1.5347]])"
      ]
     },
     "execution_count": 47,
     "metadata": {},
     "output_type": "execute_result"
    }
   ],
   "source": [
    "input_data[:1]"
   ]
  },
  {
   "cell_type": "code",
   "execution_count": 48,
   "metadata": {},
   "outputs": [
    {
     "data": {
      "text/plain": [
       "tensor([[ 0.8299, -1.7220, -0.6001, -0.5483,  0.0341]])"
      ]
     },
     "execution_count": 48,
     "metadata": {},
     "output_type": "execute_result"
    }
   ],
   "source": [
    "labels[:1]"
   ]
  },
  {
   "cell_type": "code",
   "execution_count": 49,
   "metadata": {},
   "outputs": [],
   "source": [
    "# Set up the model and training parameters\n",
    "model = Recommender(input_size=10, hidden_size=20, output_size=5)\n",
    "criterion = nn.MSELoss()\n",
    "optimizer = torch.optim.Adam(model.parameters(), lr=0.001)"
   ]
  },
  {
   "cell_type": "code",
   "execution_count": 50,
   "metadata": {},
   "outputs": [
    {
     "name": "stdout",
     "output_type": "stream",
     "text": [
      "Try [10/100], Loss: 1.0581\n",
      "Try [20/100], Loss: 1.0263\n",
      "Try [30/100], Loss: 1.0015\n",
      "Try [40/100], Loss: 0.9817\n",
      "Try [50/100], Loss: 0.9651\n",
      "Try [60/100], Loss: 0.9503\n",
      "Try [70/100], Loss: 0.9371\n",
      "Try [80/100], Loss: 0.9249\n",
      "Try [90/100], Loss: 0.9132\n",
      "Try [100/100], Loss: 0.9021\n",
      "Try [110/100], Loss: 0.8910\n",
      "Try [120/100], Loss: 0.8794\n"
     ]
    }
   ],
   "source": [
    "\n",
    "# Train the model\n",
    "for epoch in range(120):\n",
    "    # Forward pass\n",
    "    outputs = model(input_data)\n",
    "    loss = criterion(outputs, labels)\n",
    "    \n",
    "    # Backward pass and optimization\n",
    "    optimizer.zero_grad()\n",
    "    loss.backward()\n",
    "    optimizer.step()\n",
    "    \n",
    "    # Print progress\n",
    "    if (epoch+1) % 10 == 0:\n",
    "        print('Try [{}/{}], Loss: {:.4f}'.format(epoch+1, 100, loss.item()))\n",
    "\n"
   ]
  },
  {
   "attachments": {},
   "cell_type": "markdown",
   "metadata": {},
   "source": [
    "### Testing Model On New Sample Data"
   ]
  },
  {
   "cell_type": "code",
   "execution_count": 51,
   "metadata": {},
   "outputs": [
    {
     "name": "stdout",
     "output_type": "stream",
     "text": [
      "Student ability:  tensor(0.2120) Prediction:  tensor(-0.3281, grad_fn=<SelectBackward0>)\n",
      "Student ability:  tensor(0.0679) Prediction:  tensor(0.0203, grad_fn=<SelectBackward0>)\n",
      "Student ability:  tensor(-1.0787) Prediction:  tensor(-0.0651, grad_fn=<SelectBackward0>)\n",
      "Student ability:  tensor(1.7759) Prediction:  tensor(0.1997, grad_fn=<SelectBackward0>)\n",
      "Student ability:  tensor(-1.0165) Prediction:  tensor(-0.0757, grad_fn=<SelectBackward0>)\n"
     ]
    }
   ],
   "source": [
    "# Use the model to make predictions\n",
    "test_input = torch.randn(1, 10)  # 1 sample with 10 features~ this woulkd be the student ability\n",
    "predicted_output = model(test_input)\n",
    "\n",
    "for i in range(len(predicted_output[0])):\n",
    "    print(\"Student ability: \", test_input[0][i], \"Prediction: \", predicted_output[0][i])"
   ]
  },
  {
   "attachments": {},
   "cell_type": "markdown",
   "metadata": {},
   "source": [
    "--- Conclusion ---\n",
    "\n",
    "---\n",
    "In this , I first define the Artificial Neural Network as a class taking in a certain number of inputs, hidden layers and output prediction. \n",
    "\n",
    "I then generate some sample data consisting of 100 students and 10 features and 5 labels\n",
    "\n",
    "I then train the model using the generated data. which gives a recomendation on the student's academic ability level and learning preferences.\n",
    "\n",
    "---"
   ]
  },
  {
   "attachments": {},
   "cell_type": "markdown",
   "metadata": {},
   "source": [
    "## Collaborative Filtering\n",
    "\n",
    "Collaborative filtering algorithms are used to recommend personalized content based on user preferences and past performance. \n",
    "\n",
    "These algorithms analyze your behavior and the behavior of other users with similar interests to generate recommendations. \n",
    "\n",
    "Item response theory models are used to assess a student's academic performance level and generate personalized recommendations based on their academic performance. "
   ]
  },
  {
   "cell_type": "code",
   "execution_count": 52,
   "metadata": {},
   "outputs": [],
   "source": [
    "import numpy as np\n",
    "\n",
    "# this will represent the student ability rating on each item/class\n",
    "data = np.array([\n",
    "    [3.5, 4.0, 2.5, 3.0, 4.5],\n",
    "    [2.5, 3.5, 4.0, 2.0, 3.5],\n",
    "    [4.5, 2.5, 3.5, 4.0, 2.0],\n",
    "    [3.0, 4.5, 2.5, 3.5, 4.0],\n",
    "    [2.0, 3.0, 3.5, 4.0, 2.5]\n",
    "])\n"
   ]
  },
  {
   "cell_type": "code",
   "execution_count": 61,
   "metadata": {},
   "outputs": [
    {
     "name": "stdout",
     "output_type": "stream",
     "text": [
      "{'itm_means': array([3.1, 3.5, 3.2, 3.3, 3.3]), 'user_means': array([3.5, 3.1, 3.3, 3.5, 3. ])}\n"
     ]
    }
   ],
   "source": [
    "# Calculate the mean rating of each item and user\n",
    "item_means = np.mean(data, axis=0)\n",
    "user_means = np.mean(data, axis=1)\n",
    "\n",
    "print(\n",
    "    {\n",
    "        \"itm_means\": item_means,\n",
    "        \"user_means\": user_means\n",
    "    }\n",
    ")"
   ]
  },
  {
   "cell_type": "code",
   "execution_count": 62,
   "metadata": {},
   "outputs": [],
   "source": [
    "# Subtract the mean rating of each item and user from the data\n",
    "centered_data = data - user_means[:, np.newaxis] - item_means"
   ]
  },
  {
   "cell_type": "code",
   "execution_count": 63,
   "metadata": {},
   "outputs": [
    {
     "data": {
      "text/plain": [
       "array([[-3.1, -3. , -4.2, -3.8, -2.3],\n",
       "       [-3.7, -3.1, -2.3, -4.4, -2.9],\n",
       "       [-1.9, -4.3, -3. , -2.6, -4.6],\n",
       "       [-3.6, -2.5, -4.2, -3.3, -2.8],\n",
       "       [-4.1, -3.5, -2.7, -2.3, -3.8]])"
      ]
     },
     "execution_count": 63,
     "metadata": {},
     "output_type": "execute_result"
    }
   ],
   "source": [
    "centered_data"
   ]
  },
  {
   "cell_type": "code",
   "execution_count": 64,
   "metadata": {},
   "outputs": [],
   "source": [
    "# Define hyperparameters for the model\n",
    "num_factors = 2\n",
    "num_iterations = 100\n",
    "learning_rate = 0.01\n",
    "regularization = 0.1"
   ]
  },
  {
   "cell_type": "code",
   "execution_count": 65,
   "metadata": {},
   "outputs": [],
   "source": [
    "# Initialize the latent factor matrices\n",
    "item_factors = np.random.normal(scale=1/num_factors, size=(data.shape[1], num_factors))\n",
    "user_factors = np.random.normal(scale=1/num_factors, size=(data.shape[0], num_factors))"
   ]
  },
  {
   "cell_type": "code",
   "execution_count": 78,
   "metadata": {},
   "outputs": [
    {
     "name": "stdout",
     "output_type": "stream",
     "text": [
      "-------------- Try: [ 0 /100 ]   ===> Error:  -0.2337416188478567  --------------\n",
      "-------------- Try: [ 1 /100 ]   ===> Error:  -0.23374159751065848  --------------\n",
      "-------------- Try: [ 2 /100 ]   ===> Error:  -0.23374157639092186  --------------\n",
      "-------------- Try: [ 3 /100 ]   ===> Error:  -0.23374155548644238  --------------\n",
      "-------------- Try: [ 4 /100 ]   ===> Error:  -0.23374153479503956  --------------\n",
      "-------------- Try: [ 5 /100 ]   ===> Error:  -0.23374151431455426  --------------\n",
      "-------------- Try: [ 6 /100 ]   ===> Error:  -0.23374149404284816  --------------\n",
      "-------------- Try: [ 7 /100 ]   ===> Error:  -0.2337414739778052  --------------\n",
      "-------------- Try: [ 8 /100 ]   ===> Error:  -0.23374145411732972  --------------\n",
      "-------------- Try: [ 9 /100 ]   ===> Error:  -0.23374143445934958  --------------\n",
      "-------------- Try: [ 10 /100 ]   ===> Error:  -0.23374141500181  --------------\n",
      "-------------- Try: [ 11 /100 ]   ===> Error:  -0.23374139574268016  --------------\n",
      "-------------- Try: [ 12 /100 ]   ===> Error:  -0.23374137667994743  --------------\n",
      "-------------- Try: [ 13 /100 ]   ===> Error:  -0.2337413578116201  --------------\n",
      "-------------- Try: [ 14 /100 ]   ===> Error:  -0.2337413391357277  --------------\n",
      "-------------- Try: [ 15 /100 ]   ===> Error:  -0.23374132065031716  --------------\n",
      "-------------- Try: [ 16 /100 ]   ===> Error:  -0.2337413023534567  --------------\n",
      "-------------- Try: [ 17 /100 ]   ===> Error:  -0.23374128424323404  --------------\n",
      "-------------- Try: [ 18 /100 ]   ===> Error:  -0.23374126631775471  --------------\n",
      "-------------- Try: [ 19 /100 ]   ===> Error:  -0.23374124857514555  --------------\n",
      "-------------- Try: [ 20 /100 ]   ===> Error:  -0.23374123101355027  --------------\n",
      "-------------- Try: [ 21 /100 ]   ===> Error:  -0.23374121363113343  --------------\n",
      "-------------- Try: [ 22 /100 ]   ===> Error:  -0.2337411964260756  --------------\n",
      "-------------- Try: [ 23 /100 ]   ===> Error:  -0.23374117939657646  --------------\n",
      "-------------- Try: [ 24 /100 ]   ===> Error:  -0.23374116254085564  --------------\n",
      "-------------- Try: [ 25 /100 ]   ===> Error:  -0.23374114585714967  --------------\n",
      "-------------- Try: [ 26 /100 ]   ===> Error:  -0.23374112934371105  --------------\n",
      "-------------- Try: [ 27 /100 ]   ===> Error:  -0.2337411129988114  --------------\n",
      "-------------- Try: [ 28 /100 ]   ===> Error:  -0.23374109682073962  --------------\n",
      "-------------- Try: [ 29 /100 ]   ===> Error:  -0.23374108080780243  --------------\n",
      "-------------- Try: [ 30 /100 ]   ===> Error:  -0.23374106495832292  --------------\n",
      "-------------- Try: [ 31 /100 ]   ===> Error:  -0.2337410492706411  --------------\n",
      "-------------- Try: [ 32 /100 ]   ===> Error:  -0.23374103374311472  --------------\n",
      "-------------- Try: [ 33 /100 ]   ===> Error:  -0.23374101837411532  --------------\n",
      "-------------- Try: [ 34 /100 ]   ===> Error:  -0.23374100316203528  --------------\n",
      "-------------- Try: [ 35 /100 ]   ===> Error:  -0.23374098810527943  --------------\n",
      "-------------- Try: [ 36 /100 ]   ===> Error:  -0.23374097320226817  --------------\n",
      "-------------- Try: [ 37 /100 ]   ===> Error:  -0.23374095845144272  --------------\n",
      "-------------- Try: [ 38 /100 ]   ===> Error:  -0.233740943851255  --------------\n",
      "-------------- Try: [ 39 /100 ]   ===> Error:  -0.23374092940017555  --------------\n",
      "-------------- Try: [ 40 /100 ]   ===> Error:  -0.2337409150966887  --------------\n",
      "-------------- Try: [ 41 /100 ]   ===> Error:  -0.23374090093929434  --------------\n",
      "-------------- Try: [ 42 /100 ]   ===> Error:  -0.23374088692650785  --------------\n",
      "-------------- Try: [ 43 /100 ]   ===> Error:  -0.23374087305685975  --------------\n",
      "-------------- Try: [ 44 /100 ]   ===> Error:  -0.23374085932889566  --------------\n",
      "-------------- Try: [ 45 /100 ]   ===> Error:  -0.23374084574117493  --------------\n",
      "-------------- Try: [ 46 /100 ]   ===> Error:  -0.2337408322922725  --------------\n",
      "-------------- Try: [ 47 /100 ]   ===> Error:  -0.23374081898077703  --------------\n",
      "-------------- Try: [ 48 /100 ]   ===> Error:  -0.233740805805291  --------------\n",
      "-------------- Try: [ 49 /100 ]   ===> Error:  -0.23374079276443194  --------------\n",
      "-------------- Try: [ 50 /100 ]   ===> Error:  -0.23374077985683028  --------------\n",
      "-------------- Try: [ 51 /100 ]   ===> Error:  -0.23374076708113245  --------------\n",
      "-------------- Try: [ 52 /100 ]   ===> Error:  -0.23374075443599596  --------------\n",
      "-------------- Try: [ 53 /100 ]   ===> Error:  -0.23374074192009253  --------------\n",
      "-------------- Try: [ 54 /100 ]   ===> Error:  -0.23374072953210856  --------------\n",
      "-------------- Try: [ 55 /100 ]   ===> Error:  -0.23374071727074242  --------------\n",
      "-------------- Try: [ 56 /100 ]   ===> Error:  -0.23374070513470713  --------------\n",
      "-------------- Try: [ 57 /100 ]   ===> Error:  -0.23374069312272683  --------------\n",
      "-------------- Try: [ 58 /100 ]   ===> Error:  -0.23374068123353942  --------------\n",
      "-------------- Try: [ 59 /100 ]   ===> Error:  -0.23374066946589656  --------------\n",
      "-------------- Try: [ 60 /100 ]   ===> Error:  -0.23374065781855924  --------------\n",
      "-------------- Try: [ 61 /100 ]   ===> Error:  -0.23374064629030533  --------------\n",
      "-------------- Try: [ 62 /100 ]   ===> Error:  -0.23374063487992291  --------------\n",
      "-------------- Try: [ 63 /100 ]   ===> Error:  -0.2337406235862125  --------------\n",
      "-------------- Try: [ 64 /100 ]   ===> Error:  -0.23374061240798572  --------------\n",
      "-------------- Try: [ 65 /100 ]   ===> Error:  -0.2337406013440675  --------------\n",
      "-------------- Try: [ 66 /100 ]   ===> Error:  -0.2337405903932943  --------------\n",
      "-------------- Try: [ 67 /100 ]   ===> Error:  -0.23374057955451466  --------------\n",
      "-------------- Try: [ 68 /100 ]   ===> Error:  -0.23374056882658767  --------------\n",
      "-------------- Try: [ 69 /100 ]   ===> Error:  -0.23374055820838668  --------------\n",
      "-------------- Try: [ 70 /100 ]   ===> Error:  -0.2337405476987935  --------------\n",
      "-------------- Try: [ 71 /100 ]   ===> Error:  -0.23374053729670052  --------------\n",
      "-------------- Try: [ 72 /100 ]   ===> Error:  -0.23374052700101533  --------------\n",
      "-------------- Try: [ 73 /100 ]   ===> Error:  -0.2337405168106539  --------------\n",
      "-------------- Try: [ 74 /100 ]   ===> Error:  -0.23374050672454283  --------------\n",
      "-------------- Try: [ 75 /100 ]   ===> Error:  -0.23374049674162167  --------------\n",
      "-------------- Try: [ 76 /100 ]   ===> Error:  -0.23374048686083881  --------------\n",
      "-------------- Try: [ 77 /100 ]   ===> Error:  -0.23374047708115286  --------------\n",
      "-------------- Try: [ 78 /100 ]   ===> Error:  -0.2337404674015353  --------------\n",
      "-------------- Try: [ 79 /100 ]   ===> Error:  -0.23374045782096653  --------------\n",
      "-------------- Try: [ 80 /100 ]   ===> Error:  -0.2337404483384371  --------------\n",
      "-------------- Try: [ 81 /100 ]   ===> Error:  -0.23374043895294827  --------------\n",
      "-------------- Try: [ 82 /100 ]   ===> Error:  -0.2337404296635106  --------------\n",
      "-------------- Try: [ 83 /100 ]   ===> Error:  -0.23374042046914667  --------------\n",
      "-------------- Try: [ 84 /100 ]   ===> Error:  -0.233740411368887  --------------\n",
      "-------------- Try: [ 85 /100 ]   ===> Error:  -0.2337404023617733  --------------\n",
      "-------------- Try: [ 86 /100 ]   ===> Error:  -0.2337403934468556  --------------\n",
      "-------------- Try: [ 87 /100 ]   ===> Error:  -0.23374038462319335  --------------\n",
      "-------------- Try: [ 88 /100 ]   ===> Error:  -0.23374037588985708  --------------\n",
      "-------------- Try: [ 89 /100 ]   ===> Error:  -0.23374036724592706  --------------\n",
      "-------------- Try: [ 90 /100 ]   ===> Error:  -0.23374035869049203  --------------\n",
      "-------------- Try: [ 91 /100 ]   ===> Error:  -0.23374035022264827  --------------\n",
      "-------------- Try: [ 92 /100 ]   ===> Error:  -0.23374034184150316  --------------\n",
      "-------------- Try: [ 93 /100 ]   ===> Error:  -0.2337403335461743  --------------\n",
      "-------------- Try: [ 94 /100 ]   ===> Error:  -0.2337403253357846  --------------\n",
      "-------------- Try: [ 95 /100 ]   ===> Error:  -0.23374031720946986  --------------\n",
      "-------------- Try: [ 96 /100 ]   ===> Error:  -0.23374030916637079  --------------\n",
      "-------------- Try: [ 97 /100 ]   ===> Error:  -0.2337403012056396  --------------\n",
      "-------------- Try: [ 98 /100 ]   ===> Error:  -0.23374029332643698  --------------\n",
      "-------------- Try: [ 99 /100 ]   ===> Error:  -0.2337402855279307  --------------\n"
     ]
    }
   ],
   "source": [
    "# Train the model using stochastic gradient descent SGD\n",
    "for p in range(num_iterations):\n",
    "    for u in range(data.shape[0]):\n",
    "        for i in range(data.shape[1]):\n",
    "            if data[u, i] > 0:\n",
    "                error = data[u, i] - item_means[i] - user_means[u] - np.dot(item_factors[i, :], user_factors[u, :])\n",
    "                item_factors[i, :] += learning_rate * (error * user_factors[u, :] - regularization * item_factors[i, :])\n",
    "                user_factors[u, :] += learning_rate * (error * item_factors[i, :] - regularization * user_factors[u, :])\n",
    "\n",
    "    print(\"-------------- Try: [\", p,f\"/{num_iterations} ]   ===> Error: \", error, \" --------------\")"
   ]
  },
  {
   "cell_type": "code",
   "execution_count": 80,
   "metadata": {},
   "outputs": [],
   "source": [
    "# Predict the ratings for each user and item\n",
    "predicted_ratings = item_means + user_means[:, np.newaxis] + np.dot(user_factors, item_factors.T)"
   ]
  },
  {
   "cell_type": "code",
   "execution_count": 81,
   "metadata": {},
   "outputs": [
    {
     "data": {
      "text/plain": [
       "array([[3.06692811, 4.26430311, 3.23065949, 3.19633384, 4.23812358],\n",
       "       [2.80602138, 3.67335978, 2.95165254, 2.98146821, 3.56717308],\n",
       "       [3.78912919, 2.82121677, 3.8340492 , 4.22047646, 2.270189  ],\n",
       "       [3.1133547 , 4.20682059, 3.2713709 , 3.25722257, 4.15546756],\n",
       "       [3.13091543, 3.05751186, 3.2247756 , 3.43723733, 2.72344451]])"
      ]
     },
     "execution_count": 81,
     "metadata": {},
     "output_type": "execute_result"
    }
   ],
   "source": [
    "predicted_ratings"
   ]
  },
  {
   "cell_type": "code",
   "execution_count": 83,
   "metadata": {},
   "outputs": [
    {
     "name": "stdout",
     "output_type": "stream",
     "text": [
      "Top recommendations for user 3: Courses with ID [1 4 2 3 0]\n"
     ]
    }
   ],
   "source": [
    "# Get recommendations for a specific user by their user ID\n",
    "user_id = 3\n",
    "recommendations = np.argsort(predicted_ratings[user_id, :])[::-1]\n",
    "\n",
    "print(\"Top recommendations for user {}: Courses with ID {}\".format(user_id, recommendations))"
   ]
  },
  {
   "attachments": {},
   "cell_type": "markdown",
   "metadata": {},
   "source": [
    "--- In Conclusion  ---\n",
    "\n",
    "---\n",
    "\n",
    "The stochastic gradient descent method is used to train the collaborative filtering model using the for loop. The error betIen the expected rating and the actual rating of each item by student is calculated by iterating over each user-item pair in the data. \n",
    "\n",
    "The gradient of the error with respect to each component is scaled by the learning rate and regularized to avoid overfitting before the error is used to update the latent factor matrices for the item and user. \n",
    "\n",
    "The loop is used to repedetly update the latent component matrices for each user and item in the data, minimizing the difference betIen the expected and actual ratings using stochastic gradient descent.\n",
    "\n",
    "This is a test of the collaborative filtering model. The model is used to predict the ratings of the items that have not been rated by the users.\n",
    "\n",
    "The predicted ratings are compared with the actual ratings to evaluate the performance of the model.\n",
    "\n",
    "The mean squared error is used to evaluate the performance of the model. The mean squared error is calculated by taking the average of the squared difference betIen the predicted and actual ratings.\n",
    "\n",
    "---"
   ]
  }
 ],
 "metadata": {
  "kernelspec": {
   "display_name": "env-ds",
   "language": "python",
   "name": "python3"
  },
  "language_info": {
   "codemirror_mode": {
    "name": "ipython",
    "version": 3
   },
   "file_extension": ".py",
   "mimetype": "text/x-python",
   "name": "python",
   "nbconvert_exporter": "python",
   "pygments_lexer": "ipython3",
   "version": "3.10.6"
  },
  "orig_nbformat": 4,
  "vscode": {
   "interpreter": {
    "hash": "d549fd3a2a5207b6569b6bba4dc800c76f623d705445ecee213c0a986f9d9102"
   }
  }
 },
 "nbformat": 4,
 "nbformat_minor": 2
}
