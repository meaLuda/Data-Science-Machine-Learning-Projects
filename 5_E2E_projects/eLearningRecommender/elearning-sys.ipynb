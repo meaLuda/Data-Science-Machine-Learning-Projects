{
 "cells": [
  {
   "attachments": {},
   "cell_type": "markdown",
   "metadata": {},
   "source": [
    "# AI RECOMMENDATION AGENT FOR PERSONALIZED E-LEARNING\n",
    "\n",
    "---\n",
    "\n",
    "<h3>Project Overview of the proposed AI Recommendation Agent</h3>\n",
    "\n",
    "This project suggests creating a customised AI recommendation agent for e-learning that makes use of methodologies like `Item Response Theory (IRT)` and `Artificial Neural Networks (ANN)`. By offering `personalized recommendations` based on the `student's academic performance` and `learning preferences`.\n",
    "\n",
    "The suggested method seeks to overcome the difficulty of locating relevant and interesting content on an e-learning platform. ANN will adaptively suggest learning resources based on the student's academic ability level and learning preferences after using IRT to model the student's academic ability level.\n"
   ]
  },
  {
   "attachments": {},
   "cell_type": "markdown",
   "metadata": {},
   "source": [
    "With the use of criteria like `accuracy, coverage, and novelty`, the system's performance will be assessed for the project. "
   ]
  },
  {
   "attachments": {},
   "cell_type": "markdown",
   "metadata": {},
   "source": [
    "`Artificial neural networks (ANN) and item response theory (IRT)` have emerged as cutting-edge solutions to overcome these issues and boost the precision and efficacy. \n",
    "\n",
    "The statistical framework (mathematical model) known as IRT, often referred to as Latent Response Theory, simulates the link between `latent qualities` and their manifestations.\n",
    "\n",
    "\n",
    "IRT can be used in e-learning to model a `student's academic prowess` and the `degree of difficulty of the course materials` to deliver customized reading content recommendations."
   ]
  },
  {
   "attachments": {},
   "cell_type": "markdown",
   "metadata": {},
   "source": [
    "The system will use `IRT to model the student's academic proficiency` and `ANN to adaptively offer learning materials` that are appropriate for both their academic proficiency and learning preferences.\n",
    "\n",
    "### Links\n",
    "[IRT in Python](https://www.linkedin.com/pulse/item-response-theory-modeling-python-part-1-andrew-f/)"
   ]
  },
  {
   "attachments": {},
   "cell_type": "markdown",
   "metadata": {},
   "source": [
    "### IRT Model\n",
    "\n",
    "<p>IRT will be used to model the student's academic ability level and the difficulty of the learning materials. The IRT model will be trained using the student's responses to a set of test criteria / items.</p>\n",
    "\n",
    "`P(ij) = c + (1 - c) * (e^(a*(tj-bi)) / (1 + e^(a*(tj-bi))))`\n",
    "\n",
    "where:\n",
    "==> Pij is the prob-academic ability of a student j correctly answering an item i.\n",
    "\n",
    "==> c is a guessing parameter, representing the prob-academic ability of guessing the correct answer.\n",
    "\n",
    "==> a is the discrimination parameter, representing how well the item discriminates between high and low academic ability students.\n",
    "\n",
    "==> tj is the academic ability level of student j.\n",
    "\n",
    "==> bi is the difficulty level of item I.\n",
    "\n",
    "\n",
    "`This would output the probability of the student correctly answering the item, given their academic ability level and the item difficulty level.`"
   ]
  },
  {
   "attachments": {},
   "cell_type": "markdown",
   "metadata": {},
   "source": [
    "To build a machine learning model based on the IRT formula, we need to first define the inputs and outputs of the model.\n",
    "<br>\n",
    "\n",
    "`Inputs:` The inputs to the model will be the student's responses to a set of test criteria / items, along with the difficulty level of each item.\n",
    "\n",
    "`Outputs:` The output of the model will be the predicted academic ability level of the student.\n",
    "\n",
    "To train the model, we can use a supervised learning approach where we provide the model with labeled data consisting of the student's responses to the test items and their corresponding academic ability levels. \n",
    "\n",
    "We can then use a regression algorithm to learn the relationship between the inputs (test item responses and item difficulty levels) and the output (academic ability level)."
   ]
  },
  {
   "cell_type": "code",
   "execution_count": 41,
   "metadata": {},
   "outputs": [],
   "source": [
    "from sklearn.linear_model import LinearRegression\n",
    "from sklearn.metrics import mean_squared_error,accuracy_score,confusion_matrix\n",
    "import numpy as np\n",
    "\n",
    "np.random.seed(0) # Set seed for reproducibility"
   ]
  },
  {
   "cell_type": "code",
   "execution_count": 28,
   "metadata": {},
   "outputs": [
    {
     "name": "stdout",
     "output_type": "stream",
     "text": [
      "0.9644305951168249\n"
     ]
    }
   ],
   "source": [
    "# TEST~ IRT Formula to predict the probability of a student answering a question correctly in code\n",
    "# Define the IRT formula\n",
    "def irt_formula(c, a, tj, bi):\n",
    "    \"\"\"\n",
    "        c: guessing parameter\n",
    "        a: discrimination parameter\n",
    "        tj: academic ability level of student j\n",
    "        bi: difficulty level of item i\n",
    "    \"\"\"\n",
    "    return c + (1 - c) * (np.exp(a * (tj - bi)) / (1 + np.exp(a * (tj - bi))))\n",
    "\n",
    "p_ = irt_formula(0.25, 1.5, 3, 1)\n",
    "print(p_)  "
   ]
  },
  {
   "cell_type": "code",
   "execution_count": 29,
   "metadata": {},
   "outputs": [],
   "source": [
    "# Generate some sample data : from formula\n",
    "num_students = 4000\n",
    "num_items = 50\n",
    "\n",
    "item_difficulties = np.random.normal(0, 1, size=num_items)\n",
    "student_abilities = np.random.normal(0, 1, size=num_students) # for each student we have a different ability in the range of 0 to 1\n",
    "\n",
    "c = 0.25\n",
    "a = 1.0"
   ]
  },
  {
   "cell_type": "code",
   "execution_count": 30,
   "metadata": {},
   "outputs": [],
   "source": [
    "responses = np.random.binomial(1, irt_formula(c, a, student_abilities.reshape(-1, 1), item_difficulties), size=(num_students, num_items))"
   ]
  },
  {
   "cell_type": "code",
   "execution_count": 31,
   "metadata": {},
   "outputs": [
    {
     "name": "stdout",
     "output_type": "stream",
     "text": [
      "4000\n"
     ]
    }
   ],
   "source": [
    "print(len(responses))"
   ]
  },
  {
   "cell_type": "code",
   "execution_count": 35,
   "metadata": {},
   "outputs": [
    {
     "name": "stdout",
     "output_type": "stream",
     "text": [
      "[ 1.76405235  0.40015721  0.97873798  2.2408932   1.86755799 -0.97727788\n",
      "  0.95008842 -0.15135721 -0.10321885  0.4105985   0.14404357  1.45427351\n",
      "  0.76103773  0.12167502  0.44386323  0.33367433  1.49407907 -0.20515826\n",
      "  0.3130677  -0.85409574 -2.55298982  0.6536186   0.8644362  -0.74216502\n",
      "  2.26975462 -1.45436567  0.04575852 -0.18718385  1.53277921  1.46935877\n",
      "  0.15494743  0.37816252 -0.88778575 -1.98079647 -0.34791215  0.15634897\n",
      "  1.23029068  1.20237985 -0.38732682 -0.30230275 -1.04855297 -1.42001794\n",
      " -1.70627019  1.9507754  -0.50965218 -0.4380743  -1.25279536  0.77749036\n",
      " -1.61389785 -0.21274028]\n"
     ]
    }
   ],
   "source": [
    "print(item_difficulties)"
   ]
  },
  {
   "cell_type": "code",
   "execution_count": 38,
   "metadata": {},
   "outputs": [
    {
     "name": "stdout",
     "output_type": "stream",
     "text": [
      "[-0.89546656  0.3869025  -0.51080514 ...  1.19341459  0.52738853\n",
      "  1.00670392]\n"
     ]
    }
   ],
   "source": [
    "print(student_abilities)"
   ]
  },
  {
   "cell_type": "code",
   "execution_count": 32,
   "metadata": {},
   "outputs": [
    {
     "data": {
      "text/html": [
       "<style>#sk-container-id-3 {color: black;background-color: white;}#sk-container-id-3 pre{padding: 0;}#sk-container-id-3 div.sk-toggleable {background-color: white;}#sk-container-id-3 label.sk-toggleable__label {cursor: pointer;display: block;width: 100%;margin-bottom: 0;padding: 0.3em;box-sizing: border-box;text-align: center;}#sk-container-id-3 label.sk-toggleable__label-arrow:before {content: \"▸\";float: left;margin-right: 0.25em;color: #696969;}#sk-container-id-3 label.sk-toggleable__label-arrow:hover:before {color: black;}#sk-container-id-3 div.sk-estimator:hover label.sk-toggleable__label-arrow:before {color: black;}#sk-container-id-3 div.sk-toggleable__content {max-height: 0;max-width: 0;overflow: hidden;text-align: left;background-color: #f0f8ff;}#sk-container-id-3 div.sk-toggleable__content pre {margin: 0.2em;color: black;border-radius: 0.25em;background-color: #f0f8ff;}#sk-container-id-3 input.sk-toggleable__control:checked~div.sk-toggleable__content {max-height: 200px;max-width: 100%;overflow: auto;}#sk-container-id-3 input.sk-toggleable__control:checked~label.sk-toggleable__label-arrow:before {content: \"▾\";}#sk-container-id-3 div.sk-estimator input.sk-toggleable__control:checked~label.sk-toggleable__label {background-color: #d4ebff;}#sk-container-id-3 div.sk-label input.sk-toggleable__control:checked~label.sk-toggleable__label {background-color: #d4ebff;}#sk-container-id-3 input.sk-hidden--visually {border: 0;clip: rect(1px 1px 1px 1px);clip: rect(1px, 1px, 1px, 1px);height: 1px;margin: -1px;overflow: hidden;padding: 0;position: absolute;width: 1px;}#sk-container-id-3 div.sk-estimator {font-family: monospace;background-color: #f0f8ff;border: 1px dotted black;border-radius: 0.25em;box-sizing: border-box;margin-bottom: 0.5em;}#sk-container-id-3 div.sk-estimator:hover {background-color: #d4ebff;}#sk-container-id-3 div.sk-parallel-item::after {content: \"\";width: 100%;border-bottom: 1px solid gray;flex-grow: 1;}#sk-container-id-3 div.sk-label:hover label.sk-toggleable__label {background-color: #d4ebff;}#sk-container-id-3 div.sk-serial::before {content: \"\";position: absolute;border-left: 1px solid gray;box-sizing: border-box;top: 0;bottom: 0;left: 50%;z-index: 0;}#sk-container-id-3 div.sk-serial {display: flex;flex-direction: column;align-items: center;background-color: white;padding-right: 0.2em;padding-left: 0.2em;position: relative;}#sk-container-id-3 div.sk-item {position: relative;z-index: 1;}#sk-container-id-3 div.sk-parallel {display: flex;align-items: stretch;justify-content: center;background-color: white;position: relative;}#sk-container-id-3 div.sk-item::before, #sk-container-id-3 div.sk-parallel-item::before {content: \"\";position: absolute;border-left: 1px solid gray;box-sizing: border-box;top: 0;bottom: 0;left: 50%;z-index: -1;}#sk-container-id-3 div.sk-parallel-item {display: flex;flex-direction: column;z-index: 1;position: relative;background-color: white;}#sk-container-id-3 div.sk-parallel-item:first-child::after {align-self: flex-end;width: 50%;}#sk-container-id-3 div.sk-parallel-item:last-child::after {align-self: flex-start;width: 50%;}#sk-container-id-3 div.sk-parallel-item:only-child::after {width: 0;}#sk-container-id-3 div.sk-dashed-wrapped {border: 1px dashed gray;margin: 0 0.4em 0.5em 0.4em;box-sizing: border-box;padding-bottom: 0.4em;background-color: white;}#sk-container-id-3 div.sk-label label {font-family: monospace;font-weight: bold;display: inline-block;line-height: 1.2em;}#sk-container-id-3 div.sk-label-container {text-align: center;}#sk-container-id-3 div.sk-container {/* jupyter's `normalize.less` sets `[hidden] { display: none; }` but bootstrap.min.css set `[hidden] { display: none !important; }` so we also need the `!important` here to be able to override the default hidden behavior on the sphinx rendered scikit-learn.org. See: https://github.com/scikit-learn/scikit-learn/issues/21755 */display: inline-block !important;position: relative;}#sk-container-id-3 div.sk-text-repr-fallback {display: none;}</style><div id=\"sk-container-id-3\" class=\"sk-top-container\"><div class=\"sk-text-repr-fallback\"><pre>LinearRegression()</pre><b>In a Jupyter environment, please rerun this cell to show the HTML representation or trust the notebook. <br />On GitHub, the HTML representation is unable to render, please try loading this page with nbviewer.org.</b></div><div class=\"sk-container\" hidden><div class=\"sk-item\"><div class=\"sk-estimator sk-toggleable\"><input class=\"sk-toggleable__control sk-hidden--visually\" id=\"sk-estimator-id-3\" type=\"checkbox\" checked><label for=\"sk-estimator-id-3\" class=\"sk-toggleable__label sk-toggleable__label-arrow\">LinearRegression</label><div class=\"sk-toggleable__content\"><pre>LinearRegression()</pre></div></div></div></div></div>"
      ],
      "text/plain": [
       "LinearRegression()"
      ]
     },
     "execution_count": 32,
     "metadata": {},
     "output_type": "execute_result"
    }
   ],
   "source": [
    "# Train the model\n",
    "model = LinearRegression()\n",
    "model.fit(responses, student_abilities)"
   ]
  },
  {
   "cell_type": "code",
   "execution_count": 33,
   "metadata": {},
   "outputs": [],
   "source": [
    "# Test the model\n",
    "test_student_abilities = np.random.normal(0, 1, size=num_students)\n",
    "test_responses = np.random.binomial(1, irt_formula(c, a, test_student_abilities.reshape(-1, 1), item_difficulties), size=(num_students, num_items))"
   ]
  },
  {
   "cell_type": "code",
   "execution_count": 19,
   "metadata": {},
   "outputs": [],
   "source": [
    "predictions = model.predict(test_responses)"
   ]
  },
  {
   "cell_type": "code",
   "execution_count": 20,
   "metadata": {},
   "outputs": [
    {
     "name": "stdout",
     "output_type": "stream",
     "text": [
      "[ 0.31359526 -0.72311876 -0.8295006  ...  0.60842018  0.68168581\n",
      " -0.67247223]\n"
     ]
    }
   ],
   "source": [
    "print(predictions)"
   ]
  },
  {
   "cell_type": "code",
   "execution_count": 47,
   "metadata": {},
   "outputs": [
    {
     "name": "stdout",
     "output_type": "stream",
     "text": [
      "[ 0.31359526 -0.72311876 -0.8295006  ...  0.60842018  0.68168581\n",
      " -0.67247223]\n",
      "[-0.89546656  0.3869025  -0.51080514 ...  1.19341459  0.52738853\n",
      "  1.00670392]\n"
     ]
    }
   ],
   "source": [
    "print(predictions)\n",
    "\n",
    "print(student_abilities)"
   ]
  },
  {
   "cell_type": "code",
   "execution_count": 49,
   "metadata": {},
   "outputs": [],
   "source": [
    "# Evaluate the model\n",
    "mse = np.mean((predictions - test_student_abilities)**2)\n",
    "rmse = np.sqrt(mse)\n",
    "r2 = model.score(test_responses, test_student_abilities)"
   ]
  },
  {
   "cell_type": "code",
   "execution_count": 50,
   "metadata": {},
   "outputs": [
    {
     "name": "stdout",
     "output_type": "stream",
     "text": [
      "MSE: 1.9375813820700813\n",
      "RMSE: 1.3919703237030887\n",
      "R^2: 0.8096846838337695\n"
     ]
    }
   ],
   "source": [
    "print(\"MSE:\", mse)\n",
    "print(\"RMSE:\", rmse)\n",
    "print(\"R^2:\", r2)"
   ]
  },
  {
   "attachments": {},
   "cell_type": "markdown",
   "metadata": {},
   "source": [
    "--- SUMMARY  ---\n",
    "\n",
    "---\n",
    "In this example, we first define the IRT formula as a function. We then generate some sample data consisting of 1000 students and 50 test items with randomly generated difficulty levels and student abilities. We use the IRT formula to generate the student responses to the test items. We then train a simple linear regression model using scikit-learn's LinearRegression class on the generated data. Finally, we test the model on a separate set of randomly generated test data and evaluate its performance using mean squared error, root mean squared error, and coefficient of determination (R^2).\n",
    "\n",
    "---"
   ]
  },
  {
   "attachments": {},
   "cell_type": "markdown",
   "metadata": {},
   "source": [
    "### Artificial Neural Networks (ANN)\n",
    "\n",
    "<p>The ANN will be used to provide tailored content recommendations based on the student's academic ability level and learning preferences. The ANN will be trained on the preprocessed data, and it will learn to make recommendations that match with high accuracy to the student's academic ability level and learning preferences.</p>\n",
    "\n",
    "Neural network formula\n",
    "\n",
    "`z = f(Wx + b)`\n",
    "\n",
    "where:\n",
    "\n",
    "==> z is the output of the Neural network.\n",
    "\n",
    "==> W is the weight matrix connecting the input layer to the hidden layer.\n",
    "\n",
    "==> x is the input vector representing the user's profile and the item's features.\n",
    "\n",
    "==> b is the bias vector added to the hidden layer.\n",
    "\n",
    "==> f is the activation function applied to the hidden layer output\n"
   ]
  },
  {
   "attachments": {},
   "cell_type": "markdown",
   "metadata": {},
   "source": [
    "For the Artificial Neural Network we will use Pytorch to build a simple neural network with 2 hidden layers. \n",
    "\n",
    "The input layer will have 2 nodes, one for the student's academic ability level and one for the item difficulty level. \n",
    "\n",
    "The output layer will have 1 node, which will output the probability of the student correctly answering the item.\n",
    "\n",
    "```python\n",
    "import torch\n",
    "import torch.nn as nn\n",
    "\n",
    "class ANN(nn.Module):\n",
    "    def __init__(self, input_size, hidden_size, output_size):\n",
    "        super().__init__()\n",
    "        self.linear1 = nn.Linear(input_size, hidden_size)\n",
    "        self.linear2 = nn.Linear(hidden_size, output_size)\n",
    "        self.activation = nn.Sigmoid()\n",
    "\n",
    "    def forward(self, x):\n",
    "        hidden = self.activation(self.linear1(x))\n",
    "        output = self.linear2(hidden)\n",
    "        return output\n",
    "\n",
    "# Create an instance of the ANN model\n",
    "input_size = 10  # example input size\n",
    "hidden_size = 20  # example hidden layer size\n",
    "output_size = 2  # example output size\n",
    "ann = ANN(input_size, hidden_size, output_size)\n",
    "\n",
    "# Generate example input data\n",
    "x = torch.randn(input_size)\n",
    "\n",
    "# Pass the input data through the ANN\n",
    "z = ann(x)\n",
    "\n",
    "```\n",
    "\n",
    "This will compute the output z of the ANN for the given input x. <br>\n",
    "Note that the input data x should be a PyTorch tensor of appropriate size, and the output z will also be a PyTorch tensor of size output_size"
   ]
  }
 ],
 "metadata": {
  "kernelspec": {
   "display_name": "env-ds",
   "language": "python",
   "name": "python3"
  },
  "language_info": {
   "codemirror_mode": {
    "name": "ipython",
    "version": 3
   },
   "file_extension": ".py",
   "mimetype": "text/x-python",
   "name": "python",
   "nbconvert_exporter": "python",
   "pygments_lexer": "ipython3",
   "version": "3.10.6"
  },
  "orig_nbformat": 4
 },
 "nbformat": 4,
 "nbformat_minor": 2
}
