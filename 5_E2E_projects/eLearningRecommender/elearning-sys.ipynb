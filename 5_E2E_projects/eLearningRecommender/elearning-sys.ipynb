{
 "cells": [
  {
   "attachments": {},
   "cell_type": "markdown",
   "metadata": {},
   "source": [
    "# AI RECOMMENDATION AGENT FOR PERSONALIZED E-LEARNING\n",
    "\n",
    "---\n",
    "\n",
    "<h3>Project Overview of the proposed AI Recommendation Agent</h3>\n",
    "\n",
    "This project suggests creating a customised AI recommendation agent for e-learning that makes use of methodologies like `Item Response Theory (IRT)` and `Artificial Neural Networks (ANN)`. By offering `personalized recommendations` based on the `student's academic performance` and `learning preferences`.\n",
    "\n",
    "The suggested method seeks to overcome the difficulty of locating relevant and interesting content on an e-learning platform. ANN will adaptively suggest learning resources based on the student's academic ability level and learning preferences after using IRT to model the student's academic ability level.\n"
   ]
  },
  {
   "attachments": {},
   "cell_type": "markdown",
   "metadata": {},
   "source": [
    "With the use of criteria like `accuracy, coverage, and novelty`, the system's performance will be assessed for the project. "
   ]
  },
  {
   "attachments": {},
   "cell_type": "markdown",
   "metadata": {},
   "source": [
    "`Artificial neural networks (ANN) and item response theory (IRT)` have emerged as cutting-edge solutions to overcome these issues and boost the precision and efficacy. \n",
    "\n",
    "The statistical framework (mathematical model) known as IRT, often referred to as Latent Response Theory, simulates the link between `latent qualities` and their manifestations.\n",
    "\n",
    "\n",
    "IRT can be used in e-learning to model a `student's academic prowess` and the `degree of difficulty of the course materials` to deliver customized reading content recommendations."
   ]
  },
  {
   "attachments": {},
   "cell_type": "markdown",
   "metadata": {},
   "source": [
    "The system will use `IRT to model the student's academic proficiency` and `ANN to adaptively offer learning materials` that are appropriate for both their academic proficiency and learning preferences.\n",
    "\n",
    "### Links\n",
    "[IRT in Python](https://www.linkedin.com/pulse/item-response-theory-modeling-python-part-1-andrew-f/)"
   ]
  },
  {
   "attachments": {},
   "cell_type": "markdown",
   "metadata": {},
   "source": [
    "## Data Collection and Preprocessing\n",
    "\n",
    "Now since curating such data is a tedious task, I set out the help of all-famous chatgpt3 bot to help me ideate on a dataset example.\n",
    "\n",
    "I got the following dataset:\n",
    "\n",
    "```json\n",
    "{\n",
    "  \"student_profiles\": [\n",
    "    {\n",
    "      \"id\": 1,\n",
    "      \"name\": \"John Doe\",\n",
    "      \"age\": 18,\n",
    "      \"gender\": \"male\",\n",
    "      \"academic_ability_level\": \"high\",\n",
    "      \"learning_preferences\": [\"visual\", \"interactive\"],\n",
    "      \"e_learning_materials\": [\n",
    "        {\n",
    "          \"id\": 1,\n",
    "          \"name\": \"Mathematics 101\",\n",
    "          \"difficulty_level\": \"medium\",\n",
    "          \"feedback\": \"Good job!\"\n",
    "        },\n",
    "        {\n",
    "          \"id\": 2,\n",
    "          \"name\": \"Science 101\",\n",
    "          \"difficulty_level\": \"high\",\n",
    "          \"feedback\": \"Needs improvement.\"\n",
    "        }\n",
    "      ],\n",
    "      \"test_criteria\": [\n",
    "        {\n",
    "          \"id\": 1,\n",
    "          \"question\": \"What is the formula for calculating the area of a circle?\",\n",
    "          \"correct_answer\": \"πr²\",\n",
    "          \"difficulty_level\": \"medium\"\n",
    "        },\n",
    "        {\n",
    "          \"id\": 2,\n",
    "          \"question\": \"What is the process of photosynthesis?\",\n",
    "          \"correct_answer\": \"The process by which green plants and some other organisms use sunlight to synthesize foods with the help of chlorophyll, releasing oxygen as a byproduct.\",\n",
    "          \"difficulty_level\": \"high\"\n",
    "        }\n",
    "      ]\n",
    "    },\n",
    "  ]\n",
    "}\n",
    "\n",
    "```\n",
    "This data includes student lists, academic levels, learning preferences, and interactions with e-learning materials. Also included is a list of test tasks with difficulty and content.\n",
    "\n"
   ]
  },
  {
   "cell_type": "code",
   "execution_count": null,
   "metadata": {},
   "outputs": [],
   "source": []
  }
 ],
 "metadata": {
  "kernelspec": {
   "display_name": "env-ds",
   "language": "python",
   "name": "python3"
  },
  "language_info": {
   "name": "python",
   "version": "3.10.6"
  },
  "orig_nbformat": 4
 },
 "nbformat": 4,
 "nbformat_minor": 2
}
