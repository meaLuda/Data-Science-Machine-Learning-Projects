{
 "cells": [
  {
   "attachments": {},
   "cell_type": "markdown",
   "metadata": {},
   "source": [
    "# AI RECOMMENDATION AGENT FOR PERSONALIZED E-LEARNING\n",
    "\n",
    "---\n",
    "\n",
    "<h3>Project Overview of the proposed AI Recommendation Agent</h3>\n",
    "\n",
    "This project suggests creating a customised AI recommendation agent for e-learning that makes use of methodologies like `Item Response Theory (IRT)` and `Artificial Neural Networks (ANN)`. By offering `personalized recommendations` based on the `student's academic performance` and `learning preferences`.\n",
    "\n",
    "The suggested method seeks to overcome the difficulty of locating relevant and interesting content on an e-learning platform. ANN will adaptively suggest learning resources based on the student's academic ability level and learning preferences after using IRT to model the student's academic ability level.\n"
   ]
  },
  {
   "attachments": {},
   "cell_type": "markdown",
   "metadata": {},
   "source": [
    "With the use of criteria like `accuracy, coverage, and novelty`, the system's performance will be assessed for the project. "
   ]
  },
  {
   "attachments": {},
   "cell_type": "markdown",
   "metadata": {},
   "source": [
    "`Artificial neural networks (ANN) and item response theory (IRT)` have emerged as cutting-edge solutions to overcome these issues and boost the precision and efficacy. \n",
    "\n",
    "The statistical framework (mathematical model) known as IRT, often referred to as Latent Response Theory, simulates the link between `latent qualities` and their manifestations.\n",
    "\n",
    "\n",
    "IRT can be used in e-learning to model a `student's academic prowess` and the `degree of difficulty of the course materials` to deliver customized reading content recommendations."
   ]
  },
  {
   "attachments": {},
   "cell_type": "markdown",
   "metadata": {},
   "source": [
    "The system will use `IRT to model the student's academic proficiency` and `ANN to adaptively offer learning materials` that are appropriate for both their academic proficiency and learning preferences.\n",
    "\n",
    "### Links\n",
    "[IRT in Python](https://www.linkedin.com/pulse/item-response-theory-modeling-python-part-1-andrew-f/)"
   ]
  },
  {
   "attachments": {},
   "cell_type": "markdown",
   "metadata": {},
   "source": [
    "### IRT Formula\n",
    "\n",
    "`P(ij) = c + (1 - c) * (e^(a*(tj-bi)) / (1 + e^(a*(tj-bi))))`\n",
    "\n",
    "where:\n",
    "==> Pij is the prob-academic ability of a student j correctly answering an item i.\n",
    "\n",
    "==> c is a guessing parameter, representing the prob-academic ability of guessing the correct answer.\n",
    "\n",
    "==> a is the discrimination parameter, representing how well the item discriminates between high and low academic ability students.\n",
    "\n",
    "==> tj is the academic ability level of student j.\n",
    "\n",
    "==> bi is the difficulty level of item I.\n",
    "\n",
    "```python\n",
    "# IRT Formula to predict the probability of a student answering a question correctly in code\n",
    "import math\n",
    "\n",
    "def irt_prob_correct(c, a, tj, bi):\n",
    "    \"\"\"\n",
    "        c: guessing parameter\n",
    "        a: discrimination parameter\n",
    "        tj: academic ability level of student j\n",
    "        bi: difficulty level of item i\n",
    "    \"\"\"\n",
    "    exponent = a * (tj - bi)\n",
    "    return c + (1 - c) * math.exp(exponent) / (1 + math.exp(exponent))\n",
    "\n",
    "# Example\n",
    "p_ij = irt_prob_correct(0.25, 1.5, 3, 1)\n",
    "print(p_ij)  # Output: 0.9002495108803148\n",
    "\n",
    "\n",
    "```\n",
    "\n",
    "`This would output the probability of the student correctly answering the item, given their academic ability level and the item difficulty level.`"
   ]
  },
  {
   "attachments": {},
   "cell_type": "markdown",
   "metadata": {},
   "source": [
    "### Artificial Neural Networks (ANN)\n",
    "\n",
    "Artificial Neural Network model will take in student’s learning interests, motivations, as well as learning styles and prob recommendations to the student basing on the input.\n",
    "Neural network formula\n",
    "\n",
    "`z = f(Wx + b)`\n",
    "\n",
    "where:\n",
    "\n",
    "==> z is the output of the Neural network.\n",
    "\n",
    "==> W is the weight matrix connecting the input layer to the hidden layer.\n",
    "\n",
    "==> x is the input vector representing the user's profile and the item's features.\n",
    "\n",
    "==> b is the bias vector added to the hidden layer.\n",
    "\n",
    "==> f is the activation function applied to the hidden layer output\n"
   ]
  },
  {
   "attachments": {},
   "cell_type": "markdown",
   "metadata": {},
   "source": [
    "For the Artificial Neural Network we will use Pytorch to build a simple neural network with 2 hidden layers. The input layer will have 2 nodes, one for the student's academic ability level and one for the item difficulty level. The output layer will have 1 node, which will output the probability of the student correctly answering the item.\n",
    "\n",
    "```python\n",
    "import torch\n",
    "import torch.nn as nn\n",
    "\n",
    "class ANN(nn.Module):\n",
    "    def __init__(self, input_size, hidden_size, output_size):\n",
    "        super().__init__()\n",
    "        self.linear1 = nn.Linear(input_size, hidden_size)\n",
    "        self.linear2 = nn.Linear(hidden_size, output_size)\n",
    "        self.activation = nn.Sigmoid()\n",
    "\n",
    "    def forward(self, x):\n",
    "        hidden = self.activation(self.linear1(x))\n",
    "        output = self.linear2(hidden)\n",
    "        return output\n",
    "\n",
    "# Create an instance of the ANN model\n",
    "input_size = 10  # example input size\n",
    "hidden_size = 20  # example hidden layer size\n",
    "output_size = 2  # example output size\n",
    "ann = ANN(input_size, hidden_size, output_size)\n",
    "\n",
    "# Generate example input data\n",
    "x = torch.randn(input_size)\n",
    "\n",
    "# Pass the input data through the ANN\n",
    "z = ann(x)\n",
    "\n",
    "```\n",
    "\n",
    "This will compute the output z of the ANN for the given input x. <br>\n",
    "Note that the input data x should be a PyTorch tensor of appropriate size, and the output z will also be a PyTorch tensor of size output_size"
   ]
  },
  {
   "attachments": {},
   "cell_type": "markdown",
   "metadata": {},
   "source": [
    "## Data Collection and Preprocessing"
   ]
  },
  {
   "attachments": {},
   "cell_type": "markdown",
   "metadata": {},
   "source": [
    "Now since curating such data is a tedious task, I set out the help of all-famous chatgpt3 bot to help me ideate on a dataset example."
   ]
  },
  {
   "cell_type": "markdown",
   "metadata": {},
   "source": [
    "I got the following dataset:\n",
    "\n",
    "\n",
    "This data includes student lists, academic levels, learning preferences, and interactions with e-learning materials. Also included is a list of test tasks with difficulty and content.\n",
    "\n",
    "I will also use gpt + python faker to generate more data, into a json file.\n",
    "```json\n",
    "{\n",
    "  \"student_profiles\": [\n",
    "    {\n",
    "      \"id\": 1,\n",
    "      \"name\": \"John Doe\",\n",
    "      \"age\": 18,\n",
    "      \"gender\": \"male\",\n",
    "      \"academic_ability_level\": \"high\",\n",
    "      \"learning_preferences\": [\"visual\", \"interactive\"],\n",
    "      \"e_learning_materials\": [\n",
    "        {\n",
    "          \"id\": 1,\n",
    "          \"name\": \"Mathematics 101\",\n",
    "          \"difficulty_level\": \"medium\",\n",
    "          \"feedback\": \"Good job!\"\n",
    "        },\n",
    "        {\n",
    "          \"id\": 2,\n",
    "          \"name\": \"Science 101\",\n",
    "          \"difficulty_level\": \"high\",\n",
    "          \"feedback\": \"Needs improvement.\"\n",
    "        }\n",
    "      ],\n",
    "      \"test_criteria\": [\n",
    "        {\n",
    "          \"id\": 1,\n",
    "          \"question\": \"What is the formula for calculating the area of a circle?\",\n",
    "          \"correct_answer\": \"πr²\",\n",
    "          \"difficulty_level\": \"medium\"\n",
    "        },\n",
    "        {\n",
    "          \"id\": 2,\n",
    "          \"question\": \"What is the process of photosynthesis?\",\n",
    "          \"correct_answer\": \"The process by which green plants and some other organisms use sunlight to synthesize foods with the help of chlorophyll, releasing oxygen as a byproduct.\",\n",
    "          \"difficulty_level\": \"high\"\n",
    "        }\n",
    "      ]\n",
    "    },\n",
    "  ]\n",
    "}\n",
    "\n",
    "```"
   ]
  },
  {
   "cell_type": "markdown",
   "metadata": {},
   "source": []
  }
 ],
 "metadata": {
  "kernelspec": {
   "display_name": "env-ds",
   "language": "python",
   "name": "python3"
  },
  "language_info": {
   "codemirror_mode": {
    "name": "ipython",
    "version": 3
   },
   "file_extension": ".py",
   "mimetype": "text/x-python",
   "name": "python",
   "nbconvert_exporter": "python",
   "pygments_lexer": "ipython3",
   "version": "3.10.6"
  },
  "orig_nbformat": 4
 },
 "nbformat": 4,
 "nbformat_minor": 2
}
