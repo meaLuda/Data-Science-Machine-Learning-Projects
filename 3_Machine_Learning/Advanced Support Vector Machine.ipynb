{
 "cells": [
  {
   "cell_type": "markdown",
   "metadata": {
    "id": "Zx5FNayGz-yF"
   },
   "source": [
    "<font color=green>To start working on this notebook, or any other notebook that we will use in the Moringa Data Science Course, we will need to save our own copy of it. We can do this by clicking File > Save a Copy in Drive. We will then be able to make edits to our own copy of this notebook.</font>"
   ]
  },
  {
   "cell_type": "markdown",
   "metadata": {
    "id": "O-E6klLe7hnf"
   },
   "source": [
    "# Python Programming: Advanced SVM "
   ]
  },
  {
   "cell_type": "markdown",
   "metadata": {
    "id": "8iR3uYfB83ME"
   },
   "source": [
    "## Importing Libraries"
   ]
  },
  {
   "cell_type": "code",
   "execution_count": 1,
   "metadata": {
    "executionInfo": {
     "elapsed": 1456,
     "status": "ok",
     "timestamp": 1634974701553,
     "user": {
      "displayName": "Eliud Munyala",
      "photoUrl": "https://lh3.googleusercontent.com/a/default-user=s64",
      "userId": "09572496916808459189"
     },
     "user_tz": -180
    },
    "id": "q_VJNdYE9BqU",
    "tags": []
   },
   "outputs": [],
   "source": [
    "import numpy as np\n",
    "import pandas as pd\n",
    "import matplotlib.pyplot as plt\n",
    "import seaborn as sns; sns.set(font_scale=1.2)\n",
    "from sklearn.svm import SVC\n",
    "from sklearn.decomposition import PCA\n",
    "from sklearn.model_selection import train_test_split\n",
    "from sklearn.metrics import confusion_matrix,accuracy_score"
   ]
  },
  {
   "cell_type": "markdown",
   "metadata": {
    "id": "KZtYrsBp8A9V"
   },
   "source": [
    "## Example: Recipe Classification (with multiple classes: 3 classes) "
   ]
  },
  {
   "cell_type": "markdown",
   "metadata": {
    "id": "2g8wF_y_9avg"
   },
   "source": [
    "Let's revisit the recipe classification example we had in the previous session. Instead of classifying two classes, we are going to classify 3 classes, which are muffins, cupcakes and scones."
   ]
  },
  {
   "cell_type": "code",
   "execution_count": 3,
   "metadata": {
    "colab": {
     "base_uri": "https://localhost:8080/",
     "height": 831
    },
    "executionInfo": {
     "elapsed": 409,
     "status": "ok",
     "timestamp": 1634974701957,
     "user": {
      "displayName": "Eliud Munyala",
      "photoUrl": "https://lh3.googleusercontent.com/a/default-user=s64",
      "userId": "09572496916808459189"
     },
     "user_tz": -180
    },
    "id": "BUasWoVH_6iJ",
    "outputId": "11b685df-aa27-428e-f398-0cff4e1ce56a",
    "tags": []
   },
   "outputs": [],
   "source": [
    "# Loading data\n",
    "recipes = pd.read_csv('http://bit.ly/muffins_cupcakes_scone')\n"
   ]
  },
  {
   "cell_type": "code",
   "execution_count": 4,
   "metadata": {
    "tags": []
   },
   "outputs": [
    {
     "data": {
      "text/html": [
       "<div>\n",
       "<style scoped>\n",
       "    .dataframe tbody tr th:only-of-type {\n",
       "        vertical-align: middle;\n",
       "    }\n",
       "\n",
       "    .dataframe tbody tr th {\n",
       "        vertical-align: top;\n",
       "    }\n",
       "\n",
       "    .dataframe thead th {\n",
       "        text-align: right;\n",
       "    }\n",
       "</style>\n",
       "<table border=\"1\" class=\"dataframe\">\n",
       "  <thead>\n",
       "    <tr style=\"text-align: right;\">\n",
       "      <th></th>\n",
       "      <th>Type</th>\n",
       "      <th>Flour</th>\n",
       "      <th>Milk</th>\n",
       "      <th>Sugar</th>\n",
       "      <th>Butter</th>\n",
       "      <th>Egg</th>\n",
       "      <th>Baking Powder</th>\n",
       "      <th>Vanilla</th>\n",
       "      <th>Salt</th>\n",
       "    </tr>\n",
       "  </thead>\n",
       "  <tbody>\n",
       "    <tr>\n",
       "      <th>0</th>\n",
       "      <td>Muffin</td>\n",
       "      <td>55</td>\n",
       "      <td>28</td>\n",
       "      <td>3</td>\n",
       "      <td>7</td>\n",
       "      <td>5</td>\n",
       "      <td>2</td>\n",
       "      <td>0</td>\n",
       "      <td>0</td>\n",
       "    </tr>\n",
       "    <tr>\n",
       "      <th>1</th>\n",
       "      <td>Muffin</td>\n",
       "      <td>47</td>\n",
       "      <td>24</td>\n",
       "      <td>12</td>\n",
       "      <td>6</td>\n",
       "      <td>9</td>\n",
       "      <td>1</td>\n",
       "      <td>0</td>\n",
       "      <td>0</td>\n",
       "    </tr>\n",
       "    <tr>\n",
       "      <th>2</th>\n",
       "      <td>Muffin</td>\n",
       "      <td>47</td>\n",
       "      <td>23</td>\n",
       "      <td>18</td>\n",
       "      <td>6</td>\n",
       "      <td>4</td>\n",
       "      <td>1</td>\n",
       "      <td>0</td>\n",
       "      <td>0</td>\n",
       "    </tr>\n",
       "    <tr>\n",
       "      <th>3</th>\n",
       "      <td>Muffin</td>\n",
       "      <td>45</td>\n",
       "      <td>11</td>\n",
       "      <td>17</td>\n",
       "      <td>17</td>\n",
       "      <td>8</td>\n",
       "      <td>1</td>\n",
       "      <td>0</td>\n",
       "      <td>0</td>\n",
       "    </tr>\n",
       "    <tr>\n",
       "      <th>4</th>\n",
       "      <td>Muffin</td>\n",
       "      <td>50</td>\n",
       "      <td>25</td>\n",
       "      <td>12</td>\n",
       "      <td>6</td>\n",
       "      <td>5</td>\n",
       "      <td>2</td>\n",
       "      <td>1</td>\n",
       "      <td>0</td>\n",
       "    </tr>\n",
       "  </tbody>\n",
       "</table>\n",
       "</div>"
      ],
      "text/plain": [
       "     Type  Flour  Milk  Sugar  Butter  Egg  Baking Powder  Vanilla  Salt\n",
       "0  Muffin     55    28      3       7    5              2        0     0\n",
       "1  Muffin     47    24     12       6    9              1        0     0\n",
       "2  Muffin     47    23     18       6    4              1        0     0\n",
       "3  Muffin     45    11     17      17    8              1        0     0\n",
       "4  Muffin     50    25     12       6    5              2        1     0"
      ]
     },
     "execution_count": 4,
     "metadata": {},
     "output_type": "execute_result"
    }
   ],
   "source": [
    "recipes.head()"
   ]
  },
  {
   "cell_type": "code",
   "execution_count": 5,
   "metadata": {
    "tags": []
   },
   "outputs": [
    {
     "data": {
      "text/html": [
       "<div>\n",
       "<style scoped>\n",
       "    .dataframe tbody tr th:only-of-type {\n",
       "        vertical-align: middle;\n",
       "    }\n",
       "\n",
       "    .dataframe tbody tr th {\n",
       "        vertical-align: top;\n",
       "    }\n",
       "\n",
       "    .dataframe thead th {\n",
       "        text-align: right;\n",
       "    }\n",
       "</style>\n",
       "<table border=\"1\" class=\"dataframe\">\n",
       "  <thead>\n",
       "    <tr style=\"text-align: right;\">\n",
       "      <th></th>\n",
       "      <th>Type</th>\n",
       "      <th>Flour</th>\n",
       "      <th>Milk</th>\n",
       "      <th>Sugar</th>\n",
       "      <th>Butter</th>\n",
       "      <th>Egg</th>\n",
       "      <th>Baking Powder</th>\n",
       "      <th>Vanilla</th>\n",
       "      <th>Salt</th>\n",
       "    </tr>\n",
       "  </thead>\n",
       "  <tbody>\n",
       "    <tr>\n",
       "      <th>20</th>\n",
       "      <td>Scone</td>\n",
       "      <td>29</td>\n",
       "      <td>3</td>\n",
       "      <td>46</td>\n",
       "      <td>6</td>\n",
       "      <td>0</td>\n",
       "      <td>11</td>\n",
       "      <td>0</td>\n",
       "      <td>6</td>\n",
       "    </tr>\n",
       "    <tr>\n",
       "      <th>21</th>\n",
       "      <td>Scone</td>\n",
       "      <td>19</td>\n",
       "      <td>3</td>\n",
       "      <td>36</td>\n",
       "      <td>3</td>\n",
       "      <td>14</td>\n",
       "      <td>7</td>\n",
       "      <td>14</td>\n",
       "      <td>5</td>\n",
       "    </tr>\n",
       "    <tr>\n",
       "      <th>22</th>\n",
       "      <td>Scone</td>\n",
       "      <td>20</td>\n",
       "      <td>5</td>\n",
       "      <td>52</td>\n",
       "      <td>5</td>\n",
       "      <td>10</td>\n",
       "      <td>3</td>\n",
       "      <td>0</td>\n",
       "      <td>5</td>\n",
       "    </tr>\n",
       "    <tr>\n",
       "      <th>23</th>\n",
       "      <td>Scone</td>\n",
       "      <td>19</td>\n",
       "      <td>6</td>\n",
       "      <td>50</td>\n",
       "      <td>5</td>\n",
       "      <td>6</td>\n",
       "      <td>10</td>\n",
       "      <td>0</td>\n",
       "      <td>3</td>\n",
       "    </tr>\n",
       "    <tr>\n",
       "      <th>24</th>\n",
       "      <td>Scone</td>\n",
       "      <td>19</td>\n",
       "      <td>10</td>\n",
       "      <td>51</td>\n",
       "      <td>5</td>\n",
       "      <td>0</td>\n",
       "      <td>10</td>\n",
       "      <td>0</td>\n",
       "      <td>5</td>\n",
       "    </tr>\n",
       "  </tbody>\n",
       "</table>\n",
       "</div>"
      ],
      "text/plain": [
       "     Type  Flour  Milk  Sugar  Butter  Egg  Baking Powder  Vanilla  Salt\n",
       "20  Scone     29     3     46       6    0             11        0     6\n",
       "21  Scone     19     3     36       3   14              7       14     5\n",
       "22  Scone     20     5     52       5   10              3        0     5\n",
       "23  Scone     19     6     50       5    6             10        0     3\n",
       "24  Scone     19    10     51       5    0             10        0     5"
      ]
     },
     "execution_count": 5,
     "metadata": {},
     "output_type": "execute_result"
    }
   ],
   "source": [
    "recipes.tail()"
   ]
  },
  {
   "cell_type": "code",
   "execution_count": 11,
   "metadata": {
    "colab": {
     "base_uri": "https://localhost:8080/",
     "height": 444
    },
    "executionInfo": {
     "elapsed": 1191,
     "status": "ok",
     "timestamp": 1634974703141,
     "user": {
      "displayName": "Eliud Munyala",
      "photoUrl": "https://lh3.googleusercontent.com/a/default-user=s64",
      "userId": "09572496916808459189"
     },
     "user_tz": -180
    },
    "id": "RVJJvofgAj91",
    "outputId": "fd1e6cf6-c116-4e3e-cc0b-877378c9afd6",
    "tags": []
   },
   "outputs": [
    {
     "data": {
      "image/png": "[encoded data removed]",
      "text/plain": [
       "<Figure size 644.5x500 with 1 Axes>"
      ]
     },
     "metadata": {},
     "output_type": "display_data"
    }
   ],
   "source": [
    "# Plotting our desired features\n",
    "sns.lmplot(data=recipes,x='Flour',y='Butter',  hue='Type')\n",
    "plt.title(\"Scatter Plot ~ Muffins over Cupcakes\")\n",
    "\n",
    "plt.show()"
   ]
  },
  {
   "cell_type": "markdown",
   "metadata": {
    "id": "JYnX-BqTA9V7"
   },
   "source": [
    "**Fitting the Model**"
   ]
  },
  {
   "cell_type": "code",
   "execution_count": 23,
   "metadata": {
    "colab": {
     "base_uri": "https://localhost:8080/"
    },
    "executionInfo": {
     "elapsed": 387,
     "status": "ok",
     "timestamp": 1634974718797,
     "user": {
      "displayName": "Eliud Munyala",
      "photoUrl": "https://lh3.googleusercontent.com/a/default-user=s64",
      "userId": "09572496916808459189"
     },
     "user_tz": -180
    },
    "id": "BsdhcPzMBVLa",
    "outputId": "9e930622-a99b-452b-8070-2c2ad2ef518c"
   },
   "outputs": [],
   "source": [
    "# Specify the input for the model\n",
    "flour_butter = recipes[['Flour', 'Butter']].values"
   ]
  },
  {
   "cell_type": "code",
   "execution_count": 24,
   "metadata": {
    "tags": []
   },
   "outputs": [
    {
     "data": {
      "text/plain": [
       "array([[55,  7],\n",
       "       [47,  6],\n",
       "       [47,  6],\n",
       "       [45, 17],\n",
       "       [50,  6],\n",
       "       [55,  7],\n",
       "       [54,  5],\n",
       "       [47, 10],\n",
       "       [50,  8],\n",
       "       [50, 11],\n",
       "       [39, 19],\n",
       "       [42, 10],\n",
       "       [34, 20],\n",
       "       [39, 19],\n",
       "       [38, 15],\n",
       "       [42,  9],\n",
       "       [36, 14],\n",
       "       [38,  8],\n",
       "       [36, 12],\n",
       "       [34, 11],\n",
       "       [29,  6],\n",
       "       [19,  3],\n",
       "       [20,  5],\n",
       "       [19,  5],\n",
       "       [19,  5]])"
      ]
     },
     "execution_count": 24,
     "metadata": {},
     "output_type": "execute_result"
    }
   ],
   "source": [
    "flour_butter"
   ]
  },
  {
   "cell_type": "code",
   "execution_count": 25,
   "metadata": {
    "tags": []
   },
   "outputs": [
    {
     "name": "stdout",
     "output_type": "stream",
     "text": [
      "{'Cupcake', 'Muffin', 'Scone'}\n"
     ]
    }
   ],
   "source": [
    "print(set(recipes['Type'])) # unique values"
   ]
  },
  {
   "cell_type": "code",
   "execution_count": 26,
   "metadata": {
    "tags": []
   },
   "outputs": [
    {
     "name": "stdout",
     "output_type": "stream",
     "text": [
      "{0, 1, 2}\n"
     ]
    }
   ],
   "source": [
    "# Convert each value in the 'Type' column into a number. This will be our target column\n",
    "type_label =recipes['Type'].cat.codes\n",
    "print(set(type_label))"
   ]
  },
  {
   "cell_type": "code",
   "execution_count": 28,
   "metadata": {
    "tags": []
   },
   "outputs": [],
   "source": [
    "# Fit the model\n",
    "\"\"\"\n",
    "The linear kernel is typically used on data sets with large amounts of features as increasing the dimensionality on these data set does not necessarily improve separability\n",
    "Link: https://towardsdatascience.com/an-intro-to-kernels-9ff6c6a6a8dc\n",
    "\"\"\"\n",
    "model = SVC(kernel= 'linear')\n",
    "clf_model = model.fit(flour_butter,type_label)"
   ]
  },
  {
   "cell_type": "markdown",
   "metadata": {
    "id": "RlYt9gpAFSQu"
   },
   "source": [
    "**Visualization**"
   ]
  },
  {
   "cell_type": "code",
   "execution_count": 30,
   "metadata": {
    "tags": []
   },
   "outputs": [],
   "source": [
    "# Create a mesh grid for our graph\n",
    "def make_meshgrid(x, y, h=.02):\n",
    "    x_min, x_max = x.min() - 1, x.max() + 1\n",
    "    y_min, y_max = y.min() - 1, y.max() + 1\n",
    "    xx, yy = np.meshgrid(np.arange(x_min, x_max, h), np.arange(y_min, y_max, h))\n",
    "    return xx, yy"
   ]
  },
  {
   "cell_type": "code",
   "execution_count": 31,
   "metadata": {
    "tags": []
   },
   "outputs": [],
   "source": [
    "# A function that creates the hyperplanes from our model\n",
    "def plot_contours(ax, clf, xx, yy, **params):\n",
    "    Z = clf_model.predict(np.c_[xx.ravel(), yy.ravel()])\n",
    "    Z = Z.reshape(xx.shape)\n",
    "    out = ax.contourf(xx, yy, Z, **params)\n",
    "    return out"
   ]
  },
  {
   "cell_type": "code",
   "execution_count": 37,
   "metadata": {
    "id": "bpR5wFkaSdk2",
    "tags": []
   },
   "outputs": [],
   "source": [
    "# Set-up grid for plotting.\n",
    "X0, X1 = flour_butter[:, 0], flour_butter[:, 1]\n",
    "xx, yy = make_meshgrid(X0, X1)\n"
   ]
  },
  {
   "cell_type": "code",
   "execution_count": 35,
   "metadata": {
    "tags": []
   },
   "outputs": [
    {
     "name": "stdout",
     "output_type": "stream",
     "text": [
      "[[18.   18.02 18.04 ... 55.94 55.96 55.98]\n",
      " [18.   18.02 18.04 ... 55.94 55.96 55.98]\n",
      " [18.   18.02 18.04 ... 55.94 55.96 55.98]\n",
      " ...\n",
      " [18.   18.02 18.04 ... 55.94 55.96 55.98]\n",
      " [18.   18.02 18.04 ... 55.94 55.96 55.98]\n",
      " [18.   18.02 18.04 ... 55.94 55.96 55.98]]\n",
      "[[ 2.    2.    2.   ...  2.    2.    2.  ]\n",
      " [ 2.02  2.02  2.02 ...  2.02  2.02  2.02]\n",
      " [ 2.04  2.04  2.04 ...  2.04  2.04  2.04]\n",
      " ...\n",
      " [20.94 20.94 20.94 ... 20.94 20.94 20.94]\n",
      " [20.96 20.96 20.96 ... 20.96 20.96 20.96]\n",
      " [20.98 20.98 20.98 ... 20.98 20.98 20.98]]\n"
     ]
    }
   ],
   "source": [
    "print(xx)\n",
    "\n",
    "print(yy)"
   ]
  },
  {
   "cell_type": "code",
   "execution_count": 38,
   "metadata": {
    "tags": []
   },
   "outputs": [
    {
     "data": {
      "image/png": "[encoded data removed]",
      "text/plain": [
       "<Figure size 640x480 with 1 Axes>"
      ]
     },
     "metadata": {},
     "output_type": "display_data"
    }
   ],
   "source": [
    "fig, ax = plt.subplots()\n",
    "# title for the plots\n",
    "title = ('Recipe Classification with linear SVC')\n",
    "plot_contours(ax, clf_model, xx, yy, cmap=plt.cm.coolwarm, alpha=0.8)\n",
    "ax.scatter(X0, X1, c=type_label, cmap=plt.cm.coolwarm, s=20, edgecolors='k')\n",
    "ax.set_ylabel('Butter')\n",
    "ax.set_xlabel('Flour')\n",
    "ax.set_xticks(())\n",
    "ax.set_yticks(())\n",
    "ax.set_title(title)\n",
    "plt.show()"
   ]
  },
  {
   "cell_type": "markdown",
   "metadata": {
    "id": "C1lWBN6tMkqB"
   },
   "source": [
    "**Prediction**"
   ]
  },
  {
   "cell_type": "code",
   "execution_count": null,
   "metadata": {
    "id": "Cb7xeB51NfXW"
   },
   "outputs": [],
   "source": [
    "# FUnction that predict whether a recipe is a muffin, cupcake or a scone\n",
    "def muffin_or_cupcake(flour, sugar):\n",
    "    if(model.predict([[flour, sugar]]))==0:\n",
    "        print('You\\'re looking at a cupcake recipe!')\n",
    "    elif(model.predict([[flour,sugar]]))==1:\n",
    "        print('You\\'re looking at a muffin recipe!')\n",
    "    else:\n",
    "      print('You\\'re looking at a scone recipe!')\n",
    "\n",
    "# Predict if 60 parts flour and 30 parts butter\n",
    "muffin_or_cupcake(60, 30)"
   ]
  },
  {
   "cell_type": "markdown",
   "metadata": {
    "id": "cgSmMeTQQuDI"
   },
   "source": [
    "## Example 2: Flower Classification (with multiple classes and Kernel trick)"
   ]
  },
  {
   "cell_type": "markdown",
   "metadata": {
    "id": "nyF3r02HS2bW"
   },
   "source": [
    "In this example we are use the all ffamous Iris dataset to classify flowers into 3 classes; Setosa, Versicolor and Virginica. We are also going to implement SVM using 3 kernel functions; polynomial, radial basis function (rbf) and sigmoid. Finally, we are going to do a comparison of the kernel performance.\n",
    "Well,let's get into it!!"
   ]
  },
  {
   "cell_type": "code",
   "execution_count": null,
   "metadata": {
    "id": "sW_KvDM_avjW"
   },
   "outputs": [],
   "source": [
    "# Loading data\n",
    "iris_data = pd.read_csv('http://bit.ly/Iris_flower_data')\n",
    "iris_data.head()"
   ]
  },
  {
   "cell_type": "markdown",
   "metadata": {
    "id": "VLzFQcVddHxO"
   },
   "source": [
    "**Data Exploration**"
   ]
  },
  {
   "cell_type": "code",
   "execution_count": null,
   "metadata": {
    "colab": {
     "base_uri": "https://localhost:8080/",
     "height": 34
    },
    "executionInfo": {
     "elapsed": 1028,
     "status": "ok",
     "timestamp": 1569842564444,
     "user": {
      "displayName": "John Mutavi",
      "photoUrl": "",
      "userId": "04650186972582562429"
     },
     "user_tz": -180
    },
    "id": "bJUsyWU2dO-L",
    "outputId": "a31ec151-5237-4f62-f07e-23ed4003d139"
   },
   "outputs": [
    {
     "data": {
      "text/plain": [
       "(150, 2)"
      ]
     },
     "execution_count": 4,
     "metadata": {
      "tags": []
     },
     "output_type": "execute_result"
    }
   ],
   "source": [
    "# The way the dataset is right now, it would be difficult to plot the graph on a 2-Dimencional plane because the dataset has 4 features. \n",
    "# Therefore we need to reduce the feature by applying a reduction algorithm.\n",
    "\n",
    "# Removing the target column\n",
    "iris = iris_data.drop('Class', axis=1)\n",
    "y = iris_data['Class']\n",
    "\n",
    "# Applying the reduction algorithm: PCA\n",
    "pca = PCA(n_components=2).fit(iris)\n",
    "X = pca.transform(iris)\n",
    "X.shape"
   ]
  },
  {
   "cell_type": "markdown",
   "metadata": {
    "id": "oUV-NNvEh4sk"
   },
   "source": [
    "**Split the data into train and test sets**"
   ]
  },
  {
   "cell_type": "code",
   "execution_count": null,
   "metadata": {
    "id": "eyO1aDgQh1CG"
   },
   "outputs": [],
   "source": [
    "# Convert the data type for 'Class' column from object to category\n",
    "y = y.astype('category')\n",
    "\n",
    "# Convert each value in the 'Type' column into a number. This will be our target column\n",
    "y =y.cat.codes\n",
    "\n",
    "#  Split the data into train and test set\n",
    "X_train, X_test, y_train, y_test = train_test_split(X, y, test_size = 0.2, random_state = 0)\n"
   ]
  },
  {
   "cell_type": "markdown",
   "metadata": {
    "id": "L06N7DeEid1n"
   },
   "source": [
    "### Fitting the model: Polymomial function"
   ]
  },
  {
   "cell_type": "code",
   "execution_count": null,
   "metadata": {
    "id": "kuv3e4Y2inrh"
   },
   "outputs": [],
   "source": [
    "# Building the model \n",
    "polyclassifier = SVC(kernel='poly',degree=3,gamma='auto_derecated')\n",
    "# Training the model using the training set\n",
    "polyclassifier.fit(X_train, y_train)"
   ]
  },
  {
   "cell_type": "markdown",
   "metadata": {
    "id": "I9Ku42Dejkp7"
   },
   "source": [
    "**Visualization**"
   ]
  },
  {
   "cell_type": "code",
   "execution_count": null,
   "metadata": {
    "id": "B_gWkASGjrRo"
   },
   "outputs": [],
   "source": [
    "# Create a mesh grid for our graph\n",
    "def make_meshgrid(x, y, h=.02):\n",
    "    x_min, x_max = x.min() - 1, x.max() + 1\n",
    "    y_min, y_max = y.min() - 1, y.max() + 1\n",
    "    xx, yy = np.meshgrid(np.arange(x_min, x_max, h), np.arange(y_min, y_max, h))\n",
    "    return xx, yy\n",
    "\n",
    "# A function that creates the hyperplanes from our model\n",
    "def plot_contours(ax, clf, xx, yy, **params):\n",
    "    Z = polyclassifier.predict(np.c_[xx.ravel(), yy.ravel()])\n",
    "    Z = Z.reshape(xx.shape)\n",
    "    out = ax.contourf(xx, yy, Z, **params)\n",
    "    return out\n",
    "\n",
    "fig, ax = plt.subplots()\n",
    "# title for the plots\n",
    "title = ('Flower Classification with polynomial SVC')\n",
    "# Set-up grid for plotting.\n",
    "X0, X1 = X[:, 0], X[:, 1]\n",
    "xx, yy = make_meshgrid(X0, X1)\n",
    "\n",
    "plot_contours(ax, polyclassifier, xx, yy, cmap=plt.cm.Paired, alpha=0.8)\n",
    "ax.scatter(X0, X1, c=y, cmap=plt.cm.Paired, s=20, edgecolors='k')\n",
    "# ax.set_ylabel()\n",
    "# ax.set_xlabel()\n",
    "ax.set_xticks(())\n",
    "ax.set_yticks(())\n",
    "ax.set_title(title)\n",
    "plt.show()"
   ]
  },
  {
   "cell_type": "markdown",
   "metadata": {
    "id": "yhBG2nmNq199"
   },
   "source": [
    "**Optimization: Parameter tuning**\n",
    "\n",
    "For non-linear kernel, we use the gamma parameter to improve the perfomance.A lower value of Gamma will loosely fit the training dataset, whereas a higher value of gamma will exactly fit the training dataset, which causes over-fitting.\n",
    "Try playing around with the value of gamma and notice what happens"
   ]
  },
  {
   "cell_type": "markdown",
   "metadata": {
    "id": "wvlg0PF4sDkG"
   },
   "source": [
    "**Making Predictions**"
   ]
  },
  {
   "cell_type": "code",
   "execution_count": null,
   "metadata": {
    "id": "3GaEDnPisLml"
   },
   "outputs": [],
   "source": [
    "# making prediction\n",
    "y_pred = polyclassifier.predict(X_test)"
   ]
  },
  {
   "cell_type": "code",
   "execution_count": null,
   "metadata": {
    "id": "P_zsel7-spIU"
   },
   "outputs": [],
   "source": [
    "# Model Evaluation\n",
    "print( accuracy_score(y_test, y_pred))\n",
    "print(confusion_matrix(y_test, y_pred))"
   ]
  },
  {
   "cell_type": "markdown",
   "metadata": {
    "id": "ltdUiWGivA6a"
   },
   "source": [
    "### Fitting the model: Radial basis function (rbf)"
   ]
  },
  {
   "cell_type": "code",
   "execution_count": null,
   "metadata": {
    "id": "KtraOVokvID5"
   },
   "outputs": [],
   "source": [
    "# Building the model \n",
    "rbfclassifier = SVC(kernel='rbf')\n",
    "# Training the model using the training set\n",
    "rbfclassifier.fit(X_train, y_train)"
   ]
  },
  {
   "cell_type": "markdown",
   "metadata": {
    "id": "4YlvYqfJvZjq"
   },
   "source": [
    "**Visualization**"
   ]
  },
  {
   "cell_type": "code",
   "execution_count": null,
   "metadata": {
    "id": "77bpiZ4pveiZ"
   },
   "outputs": [],
   "source": [
    "# Create a mesh grid for our graph\n",
    "def make_meshgrid(x, y, h=.02):\n",
    "    x_min, x_max = x.min() - 1, x.max() + 1\n",
    "    y_min, y_max = y.min() - 1, y.max() + 1\n",
    "    xx, yy = np.meshgrid(np.arange(x_min, x_max, h), np.arange(y_min, y_max, h))\n",
    "    return xx, yy\n",
    "\n",
    "# A function that creates the hyperplanes from our model\n",
    "def plot_contours(ax, clf, xx, yy, **params):\n",
    "    Z = rbfclassifier.predict(np.c_[xx.ravel(), yy.ravel()])\n",
    "    Z = Z.reshape(xx.shape)\n",
    "    out = ax.contourf(xx, yy, Z, **params)\n",
    "    return out\n",
    "\n",
    "fig, ax = plt.subplots()\n",
    "# title for the plots\n",
    "title = ('Flower Classification with rbf SVC')\n",
    "# Set-up grid for plotting.\n",
    "X0, X1 = X[:, 0], X[:, 1]\n",
    "xx, yy = make_meshgrid(X0, X1)\n",
    "\n",
    "plot_contours(ax, rbfclassifier, xx, yy, cmap=plt.cm.autumn, alpha=0.8)\n",
    "ax.scatter(X0, X1, c=y, cmap=plt.cm.autumn, s=20, edgecolors='k')\n",
    "\n",
    "ax.set_xticks(())\n",
    "ax.set_yticks(())\n",
    "ax.set_title(title)\n",
    "plt.show()"
   ]
  },
  {
   "cell_type": "markdown",
   "metadata": {
    "id": "yqyvZTm3wIIz"
   },
   "source": [
    "**Optimization: Parameter tuning**\n",
    "\n",
    "Just like with polynomial, play around with the gamma parameter to get a feel of how it works"
   ]
  },
  {
   "cell_type": "code",
   "execution_count": null,
   "metadata": {
    "id": "GPpmLI3lwVvz"
   },
   "outputs": [],
   "source": [
    "# making prediction\n",
    "y_pred = rbfclassifier.predict(X_test)"
   ]
  },
  {
   "cell_type": "code",
   "execution_count": null,
   "metadata": {
    "id": "3UkvpTeZwclr"
   },
   "outputs": [],
   "source": [
    "# Model Evaluation\n",
    "print( accuracy_score(y_test, y_pred))\n",
    "print(confusion_matrix(y_test, y_pred))"
   ]
  },
  {
   "cell_type": "markdown",
   "metadata": {
    "id": "jA-gzWNCw19o"
   },
   "source": [
    "### Fitting the model: Sigmoid function"
   ]
  },
  {
   "cell_type": "code",
   "execution_count": null,
   "metadata": {
    "id": "UUOnK1Zbw_aY"
   },
   "outputs": [],
   "source": [
    "# Building the model \n",
    "sigclassifier = SVC(kernel='sigmoid')\n",
    "# Training the model using the training set\n",
    "sigclassifier.fit(X_train, y_train)"
   ]
  },
  {
   "cell_type": "markdown",
   "metadata": {
    "id": "0U9zPMPTxmKB"
   },
   "source": [
    "**Visualization**"
   ]
  },
  {
   "cell_type": "code",
   "execution_count": null,
   "metadata": {
    "colab": {
     "base_uri": "https://localhost:8080/",
     "height": 271
    },
    "executionInfo": {
     "elapsed": 1522,
     "status": "ok",
     "timestamp": 1569454775636,
     "user": {
      "displayName": "John Mutavi",
      "photoUrl": "",
      "userId": "04650186972582562429"
     },
     "user_tz": -180
    },
    "id": "EREl4Klbxqe1",
    "outputId": "1612ccd9-3ea1-4610-8016-aad0a85dc3d5"
   },
   "outputs": [
    {
     "data": {
      "image/png": "[encoded data removed]",
      "text/plain": [
       "<Figure size 432x288 with 1 Axes>"
      ]
     },
     "metadata": {
      "tags": []
     },
     "output_type": "display_data"
    }
   ],
   "source": [
    "# Create a mesh grid for our graph\n",
    "def make_meshgrid(x, y, h=.02):\n",
    "    x_min, x_max = x.min() - 1, x.max() + 1\n",
    "    y_min, y_max = y.min() - 1, y.max() + 1\n",
    "    xx, yy = np.meshgrid(np.arange(x_min, x_max, h), np.arange(y_min, y_max, h))\n",
    "    return xx, yy\n",
    "\n",
    "# A function that creates the hyperplanes from our model\n",
    "def plot_contours(ax, clf, xx, yy, **params):\n",
    "    Z = sigclassifier.predict(np.c_[xx.ravel(), yy.ravel()])\n",
    "    Z = Z.reshape(xx.shape)\n",
    "    out = ax.contourf(xx, yy, Z, **params)\n",
    "    return out\n",
    "\n",
    "fig, ax = plt.subplots()\n",
    "# title for the plots\n",
    "title = ('Flower Classification with sigmoid SVC')\n",
    "# Set-up grid for plotting.\n",
    "X0, X1 = X[:, 0], X[:, 1]\n",
    "xx, yy = make_meshgrid(X0, X1)\n",
    "\n",
    "plot_contours(ax, sigclassifier, xx, yy, cmap=plt.cm.cool, alpha=0.8)\n",
    "ax.scatter(X0, X1, c=y, cmap=plt.cm.cool, s=20, edgecolors='k')\n",
    "ax.set_xticks(())\n",
    "ax.set_yticks(())\n",
    "ax.set_title(title)\n",
    "plt.show()"
   ]
  },
  {
   "cell_type": "code",
   "execution_count": null,
   "metadata": {
    "id": "RaAgBDW2yMPO"
   },
   "outputs": [],
   "source": [
    "# making prediction\n",
    "y_pred = sigclassifier.predict(X_test)"
   ]
  },
  {
   "cell_type": "code",
   "execution_count": null,
   "metadata": {
    "colab": {
     "base_uri": "https://localhost:8080/",
     "height": 85
    },
    "executionInfo": {
     "elapsed": 974,
     "status": "ok",
     "timestamp": 1569454782865,
     "user": {
      "displayName": "John Mutavi",
      "photoUrl": "",
      "userId": "04650186972582562429"
     },
     "user_tz": -180
    },
    "id": "I4cwm_wQyRjg",
    "outputId": "7c40047e-d106-4d6c-cc36-87047e498e4a"
   },
   "outputs": [
    {
     "name": "stdout",
     "output_type": "stream",
     "text": [
      "0.5333333333333333\n",
      "[[11  0  0]\n",
      " [ 1  1 11]\n",
      " [ 0  2  4]]\n"
     ]
    }
   ],
   "source": [
    "# Model Evaluation\n",
    "print( accuracy_score(y_test, y_pred))\n",
    "print(confusion_matrix(y_test, y_pred))"
   ]
  },
  {
   "cell_type": "markdown",
   "metadata": {
    "id": "ulWIXAZb0UQR"
   },
   "source": [
    "**Comparison of the Kernel Performance**\n",
    "\n",
    "When we compare the performance of the three kernel, it clear that sigmoid performs the worst. This is because the sigmoid function returns two values, 0 and 1 hence its more suited to binary classification problems.\n",
    "\n",
    "On the other hand, we can see that the rbf kernel also know as **Gaussian Kernel** achieved a 100% prediction rate. However, there is no set rule as to which kernel to use for which scenario. the rule of thumb is that you should test all kernels and select the one that performs the best on your dataset"
   ]
  },
  {
   "cell_type": "markdown",
   "metadata": {
    "id": "TU_4mYEb2k75"
   },
   "source": [
    "## <font color=green> Challenge 1</font>"
   ]
  },
  {
   "cell_type": "code",
   "execution_count": null,
   "metadata": {
    "id": "upheSbjN2vGH"
   },
   "outputs": [],
   "source": [
    "# You are given a glass dataset, use svm to classify the glasses into the following classes; 1 building_windows_float_processed -- 2 building_windows_non_float_processed -- 3 vehicle_windows_float_processed -- 4 vehicle_windows_non_float_processed (none in this database) -- 5 containers -- 6 tableware -- 7 headlamps\n",
    "# ----------------- \n",
    "# Dataset url -------> http://bit.ly/glass_classification\n",
    "# ------------------\n",
    "Your code goes here"
   ]
  },
  {
   "cell_type": "markdown",
   "metadata": {
    "id": "UOp_DedzI0eb"
   },
   "source": [
    "## <font color=green>Challenge 2</font>"
   ]
  },
  {
   "cell_type": "code",
   "execution_count": null,
   "metadata": {
    "id": "P3EKa-0aI-Go"
   },
   "outputs": [],
   "source": [
    "# Given the following dataset, classify the wine into either of the three categories\n",
    "# ---------\n",
    "# Dataset ------> http://bit.ly/wine_varieties\n",
    "# --------\n",
    "Your code goes here"
   ]
  },
  {
   "cell_type": "markdown",
   "metadata": {
    "id": "LlqoNFzoJYrp"
   },
   "source": [
    "## <font color=green>Challenge 3</font>"
   ]
  },
  {
   "cell_type": "code",
   "execution_count": null,
   "metadata": {
    "id": "Z2UH97lWJa6Y"
   },
   "outputs": [],
   "source": [
    "# Given the following dataset, use svm to classify the seed into the three categories\n",
    "# ---------------\n",
    "# Dataset url --------> http://bit.ly/seeds_dataset\n",
    "# -----------------"
   ]
  }
 ],
 "metadata": {
  "colab": {
   "name": "Copy of Python Programming: Advanced Support Vector Machine.ipynb",
   "provenance": [
    {
     "file_id": "1EHVwmlfVkC-5Fs9aY9KoV5qWQrppTvlR",
     "timestamp": 1634973158273
    }
   ],
   "toc_visible": true
  },
  "kernelspec": {
   "display_name": "Python 3 (ipykernel)",
   "language": "python",
   "name": "python3"
  },
  "language_info": {
   "codemirror_mode": {
    "name": "ipython",
    "version": 3
   },
   "file_extension": ".py",
   "mimetype": "text/x-python",
   "name": "python",
   "nbconvert_exporter": "python",
   "pygments_lexer": "ipython3",
   "version": "3.10.6"
  }
 },
 "nbformat": 4,
 "nbformat_minor": 4
}
