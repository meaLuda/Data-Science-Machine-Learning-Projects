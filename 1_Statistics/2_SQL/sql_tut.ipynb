{
 "cells": [
  {
   "cell_type": "markdown",
   "metadata": {
    "id": "pBdo-n_xIAR1"
   },
   "source": [
    "SQL Programming Questions\n",
    "**********************************************************************\n",
    "1. Display a list of Sub Counties and their population and areas.\n",
    "\n",
    "2. Sort the list of districts by total crop area (descending order).\n",
    "\n",
    "3. Select only the Sub counties from the Moroto district, order them alphabetically and show their production of sorghum.\n",
    "\n",
    "4. Compute the total Maize production per District.\n",
    "\n",
    "5. Compute the number of Sub counties where Maize is produced and the total Maize production per District.\n",
    "\n",
    "6. Compute the overall Crop area in all Sub counties where population is over 20000.\n",
    "\n",
    "7. Sort the Maize production in descending order by Districts, only taking into account Sub counties where Maize area is larger than Sorghum area, and display the number of Sub counties per district matching that criteria.\n",
    "**************************************************************************"
   ]
  },
  {
   "cell_type": "code",
   "execution_count": null,
   "metadata": {
    "id": "TciKXPFeMh7o"
   },
   "outputs": [],
   "source": []
  },
  {
   "cell_type": "code",
   "execution_count": 1,
   "metadata": {
    "colab": {
     "base_uri": "https://localhost:8080/",
     "height": 35
    },
    "executionInfo": {
     "elapsed": 19,
     "status": "ok",
     "timestamp": 1627040207196,
     "user": {
      "displayName": "Eliud Munyala",
      "photoUrl": "",
      "userId": "09572496916808459189"
     },
     "user_tz": -180
    },
    "id": "20II7XM1JFkV",
    "outputId": "f9c45749-a508-464e-d431-5c2bfb8443c6"
   },
   "outputs": [
    {
     "data": {
      "application/vnd.google.colaboratory.intrinsic+json": {
       "type": "string"
      },
      "text/plain": [
       "'Connected: @None'"
      ]
     },
     "execution_count": 1,
     "metadata": {
      "tags": []
     },
     "output_type": "execute_result"
    }
   ],
   "source": [
    "# loading and connecting our database\n",
    "# We will first load the sql extension into our environment\n",
    "%load_ext sql\n",
    "\n",
    "%sql sqlite://"
   ]
  },
  {
   "cell_type": "code",
   "execution_count": 2,
   "metadata": {
    "executionInfo": {
     "elapsed": 455,
     "status": "ok",
     "timestamp": 1627040397837,
     "user": {
      "displayName": "Eliud Munyala",
      "photoUrl": "",
      "userId": "09572496916808459189"
     },
     "user_tz": -180
    },
    "id": "BnAqVUvXJ44_"
   },
   "outputs": [],
   "source": [
    "# importing our csv file\n",
    "import csv  # for reading csv files\n",
    "import pandas as pd # for manipulating csv files\n",
    "\n"
   ]
  },
  {
   "cell_type": "code",
   "execution_count": 4,
   "metadata": {
    "executionInfo": {
     "elapsed": 454,
     "status": "ok",
     "timestamp": 1627040675582,
     "user": {
      "displayName": "Eliud Munyala",
      "photoUrl": "",
      "userId": "09572496916808459189"
     },
     "user_tz": -180
    },
    "id": "MAXZimcWKkKu"
   },
   "outputs": [],
   "source": [
    "# entering our data into our python code\n",
    "with open('Uganda_Karamoja_Subcounty_Crop_Yield_Population.csv','r') as u:\n",
    "    Cropyieldpop = pd.read_csv(u, index_col=0, encoding='utf-8') \n"
   ]
  },
  {
   "cell_type": "code",
   "execution_count": 6,
   "metadata": {
    "colab": {
     "base_uri": "https://localhost:8080/",
     "height": 86
    },
    "executionInfo": {
     "elapsed": 8,
     "status": "ok",
     "timestamp": 1627040807610,
     "user": {
      "displayName": "Eliud Munyala",
      "photoUrl": "",
      "userId": "09572496916808459189"
     },
     "user_tz": -180
    },
    "id": "-nTT1cOlLogn",
    "outputId": "a9105348-dc51-444d-fe2c-d17d3541630f"
   },
   "outputs": [
    {
     "name": "stdout",
     "output_type": "stream",
     "text": [
      " * sqlite://\n",
      "Done.\n",
      " * sqlite://\n"
     ]
    },
    {
     "data": {
      "application/vnd.google.colaboratory.intrinsic+json": {
       "type": "string"
      },
      "text/plain": [
       "'Persisted cropyieldpop'"
      ]
     },
     "execution_count": 6,
     "metadata": {
      "tags": []
     },
     "output_type": "execute_result"
    }
   ],
   "source": [
    "# We now drop any existing tables and insert our data into the sql database\n",
    "%sql DROP TABLE if EXISTS Cropyieldpop;\n",
    "%sql PERSIST Cropyieldpop;"
   ]
  },
  {
   "cell_type": "code",
   "execution_count": 7,
   "metadata": {
    "colab": {
     "base_uri": "https://localhost:8080/",
     "height": 330
    },
    "executionInfo": {
     "elapsed": 469,
     "status": "ok",
     "timestamp": 1627040846816,
     "user": {
      "displayName": "Eliud Munyala",
      "photoUrl": "",
      "userId": "09572496916808459189"
     },
     "user_tz": -180
    },
    "id": "ZZDFzXjeMIe6",
    "outputId": "731aa295-6a59-41e4-a62a-94ade0b72d4f"
   },
   "outputs": [
    {
     "name": "stdout",
     "output_type": "stream",
     "text": [
      " * sqlite://\n",
      "Done.\n"
     ]
    },
    {
     "data": {
      "text/html": [
       "<table>\n",
       "    <thead>\n",
       "        <tr>\n",
       "            <th>OBJECTID</th>\n",
       "            <th>SUBCOUNTY_NAME</th>\n",
       "            <th>DISTRICT_NAME</th>\n",
       "            <th>POP</th>\n",
       "            <th>Area</th>\n",
       "            <th>Karamoja</th>\n",
       "            <th>S_Yield_Ha</th>\n",
       "            <th>M_Yield_Ha</th>\n",
       "            <th>Crop_Area_Ha</th>\n",
       "            <th>S_Area_Ha</th>\n",
       "            <th>M_Area_Ha</th>\n",
       "            <th>S_Prod_Tot</th>\n",
       "            <th>M_Prod_Tot</th>\n",
       "        </tr>\n",
       "    </thead>\n",
       "    <tbody>\n",
       "        <tr>\n",
       "            <td>263</td>\n",
       "            <td>KACHERI</td>\n",
       "            <td>KOTIDO</td>\n",
       "            <td>17244</td>\n",
       "            <td>1067176155</td>\n",
       "            <td>Y</td>\n",
       "            <td>354.20741069999997</td>\n",
       "            <td>1137.467019</td>\n",
       "            <td>7023.533691</td>\n",
       "            <td>6434.342449</td>\n",
       "            <td>528.1242294</td>\n",
       "            <td>2279091.779</td>\n",
       "            <td>600723.8929</td>\n",
       "        </tr>\n",
       "        <tr>\n",
       "            <td>264</td>\n",
       "            <td>KOTIDO</td>\n",
       "            <td>KOTIDO</td>\n",
       "            <td>52771</td>\n",
       "            <td>597575188</td>\n",
       "            <td>Y</td>\n",
       "            <td>367.89052319999996</td>\n",
       "            <td>1162.9966869999998</td>\n",
       "            <td>13587.990759999999</td>\n",
       "            <td>12455.59264</td>\n",
       "            <td>824.7670809</td>\n",
       "            <td>4582294.492</td>\n",
       "            <td>959201.3825</td>\n",
       "        </tr>\n",
       "        <tr>\n",
       "            <td>265</td>\n",
       "            <td>KOTIDO TOWN COUNCIL</td>\n",
       "            <td>KOTIDO</td>\n",
       "            <td>27389</td>\n",
       "            <td>23972401</td>\n",
       "            <td>Y</td>\n",
       "            <td>369.3141771</td>\n",
       "            <td>1167.005832</td>\n",
       "            <td>1656.5318550000002</td>\n",
       "            <td>1520.322052</td>\n",
       "            <td>8.561643817</td>\n",
       "            <td>561476.4874</td>\n",
       "            <td>9991.488268000001</td>\n",
       "        </tr>\n",
       "        <tr>\n",
       "            <td>266</td>\n",
       "            <td>NAKAPERIMORU</td>\n",
       "            <td>KOTIDO</td>\n",
       "            <td>38775</td>\n",
       "            <td>419111591</td>\n",
       "            <td>Y</td>\n",
       "            <td>283.3245689</td>\n",
       "            <td>852.3665784</td>\n",
       "            <td>7087.823334000001</td>\n",
       "            <td>6761.488901000001</td>\n",
       "            <td>45.72171184</td>\n",
       "            <td>1915695.928</td>\n",
       "            <td>38971.65908</td>\n",
       "        </tr>\n",
       "        <tr>\n",
       "            <td>267</td>\n",
       "            <td>PANYANGARA</td>\n",
       "            <td>KOTIDO</td>\n",
       "            <td>65704</td>\n",
       "            <td>880955930</td>\n",
       "            <td>Y</td>\n",
       "            <td>373.8369255</td>\n",
       "            <td>1283.859882</td>\n",
       "            <td>10398.24939</td>\n",
       "            <td>10111.198129999999</td>\n",
       "            <td>172.6119139</td>\n",
       "            <td>3779939.224</td>\n",
       "            <td>221609.5114</td>\n",
       "        </tr>\n",
       "        <tr>\n",
       "            <td>268</td>\n",
       "            <td>RENGEN</td>\n",
       "            <td>KOTIDO</td>\n",
       "            <td>41273</td>\n",
       "            <td>652744859</td>\n",
       "            <td>Y</td>\n",
       "            <td>271.18584310000006</td>\n",
       "            <td>1047.180128</td>\n",
       "            <td>13278.52043</td>\n",
       "            <td>12964.49973</td>\n",
       "            <td>171.5857036</td>\n",
       "            <td>3515788.789</td>\n",
       "            <td>179681.139</td>\n",
       "        </tr>\n",
       "        <tr>\n",
       "            <td>591</td>\n",
       "            <td>KAABONG  EAST</td>\n",
       "            <td>KAABONG</td>\n",
       "            <td>42221</td>\n",
       "            <td>60801942</td>\n",
       "            <td>Y</td>\n",
       "            <td>160.5885252</td>\n",
       "            <td>650.1235647999999</td>\n",
       "            <td>1021.31699</td>\n",
       "            <td>1004.647534</td>\n",
       "            <td>15.66040911</td>\n",
       "            <td>161334.8658</td>\n",
       "            <td>10181.201</td>\n",
       "        </tr>\n",
       "        <tr>\n",
       "            <td>592</td>\n",
       "            <td>KAABONG TOWN COUNCIL</td>\n",
       "            <td>KAABONG</td>\n",
       "            <td>38857</td>\n",
       "            <td>13071455</td>\n",
       "            <td>Y</td>\n",
       "            <td>212.21070299999997</td>\n",
       "            <td>1229.213444</td>\n",
       "            <td>175.08052659999998</td>\n",
       "            <td>156.5038884</td>\n",
       "            <td>18.52618562</td>\n",
       "            <td>33211.80017</td>\n",
       "            <td>22772.636430000002</td>\n",
       "        </tr>\n",
       "        <tr>\n",
       "            <td>593</td>\n",
       "            <td>KAABONG WEST</td>\n",
       "            <td>KAABONG</td>\n",
       "            <td>41454</td>\n",
       "            <td>67612362</td>\n",
       "            <td>Y</td>\n",
       "            <td>208.04051840000002</td>\n",
       "            <td>1056.416068</td>\n",
       "            <td>967.3367266</td>\n",
       "            <td>910.2541223</td>\n",
       "            <td>56.27535518</td>\n",
       "            <td>189369.7394</td>\n",
       "            <td>59450.18942</td>\n",
       "        </tr>\n",
       "        <tr>\n",
       "            <td>594</td>\n",
       "            <td>KALAPATA</td>\n",
       "            <td>KAABONG</td>\n",
       "            <td>99203</td>\n",
       "            <td>223116860</td>\n",
       "            <td>Y</td>\n",
       "            <td>209.8093519</td>\n",
       "            <td>633.4231821000001</td>\n",
       "            <td>2834.349905</td>\n",
       "            <td>2501.368282</td>\n",
       "            <td>331.2257949</td>\n",
       "            <td>524810.4582</td>\n",
       "            <td>209806.09699999998</td>\n",
       "        </tr>\n",
       "    </tbody>\n",
       "</table>"
      ],
      "text/plain": [
       "[(263, 'KACHERI', 'KOTIDO', 17244, 1067176155, 'Y', 354.20741069999997, 1137.467019, 7023.533691, 6434.342449, 528.1242294, 2279091.779, 600723.8929),\n",
       " (264, 'KOTIDO', 'KOTIDO', 52771, 597575188, 'Y', 367.89052319999996, 1162.9966869999998, 13587.990759999999, 12455.59264, 824.7670809, 4582294.492, 959201.3825),\n",
       " (265, 'KOTIDO TOWN COUNCIL', 'KOTIDO', 27389, 23972401, 'Y', 369.3141771, 1167.005832, 1656.5318550000002, 1520.322052, 8.561643817, 561476.4874, 9991.488268000001),\n",
       " (266, 'NAKAPERIMORU', 'KOTIDO', 38775, 419111591, 'Y', 283.3245689, 852.3665784, 7087.823334000001, 6761.488901000001, 45.72171184, 1915695.928, 38971.65908),\n",
       " (267, 'PANYANGARA', 'KOTIDO', 65704, 880955930, 'Y', 373.8369255, 1283.859882, 10398.24939, 10111.198129999999, 172.6119139, 3779939.224, 221609.5114),\n",
       " (268, 'RENGEN', 'KOTIDO', 41273, 652744859, 'Y', 271.18584310000006, 1047.180128, 13278.52043, 12964.49973, 171.5857036, 3515788.789, 179681.139),\n",
       " (591, 'KAABONG  EAST', 'KAABONG', 42221, 60801942, 'Y', 160.5885252, 650.1235647999999, 1021.31699, 1004.647534, 15.66040911, 161334.8658, 10181.201),\n",
       " (592, 'KAABONG TOWN COUNCIL', 'KAABONG', 38857, 13071455, 'Y', 212.21070299999997, 1229.213444, 175.08052659999998, 156.5038884, 18.52618562, 33211.80017, 22772.636430000002),\n",
       " (593, 'KAABONG WEST', 'KAABONG', 41454, 67612362, 'Y', 208.04051840000002, 1056.416068, 967.3367266, 910.2541223, 56.27535518, 189369.7394, 59450.18942),\n",
       " (594, 'KALAPATA', 'KAABONG', 99203, 223116860, 'Y', 209.8093519, 633.4231821000001, 2834.349905, 2501.368282, 331.2257949, 524810.4582, 209806.09699999998)]"
      ]
     },
     "execution_count": 7,
     "metadata": {
      "tags": []
     },
     "output_type": "execute_result"
    }
   ],
   "source": [
    "%%sql \n",
    "SELECT * FROM Cropyieldpop LIMIT 10;"
   ]
  },
  {
   "cell_type": "code",
   "execution_count": 70,
   "metadata": {
    "colab": {
     "base_uri": "https://localhost:8080/",
     "height": 277
    },
    "executionInfo": {
     "elapsed": 553,
     "status": "ok",
     "timestamp": 1627047607320,
     "user": {
      "displayName": "Eliud Munyala",
      "photoUrl": "",
      "userId": "09572496916808459189"
     },
     "user_tz": -180
    },
    "id": "a86VytBeMjbk",
    "outputId": "eecb39d5-e52b-4971-b63d-7c94bd5487bc"
   },
   "outputs": [
    {
     "name": "stdout",
     "output_type": "stream",
     "text": [
      " * sqlite://\n",
      "Done.\n"
     ]
    },
    {
     "data": {
      "text/html": [
       "<table>\n",
       "    <thead>\n",
       "        <tr>\n",
       "            <th>SUBCOUNTY_NAME</th>\n",
       "            <th>POP</th>\n",
       "            <th>Area</th>\n",
       "        </tr>\n",
       "    </thead>\n",
       "    <tbody>\n",
       "        <tr>\n",
       "            <td>KACHERI</td>\n",
       "            <td>17244</td>\n",
       "            <td>1067176155</td>\n",
       "        </tr>\n",
       "        <tr>\n",
       "            <td>KOTIDO</td>\n",
       "            <td>52771</td>\n",
       "            <td>597575188</td>\n",
       "        </tr>\n",
       "        <tr>\n",
       "            <td>KOTIDO TOWN COUNCIL</td>\n",
       "            <td>27389</td>\n",
       "            <td>23972401</td>\n",
       "        </tr>\n",
       "        <tr>\n",
       "            <td>NAKAPERIMORU</td>\n",
       "            <td>38775</td>\n",
       "            <td>419111591</td>\n",
       "        </tr>\n",
       "        <tr>\n",
       "            <td>PANYANGARA</td>\n",
       "            <td>65704</td>\n",
       "            <td>880955930</td>\n",
       "        </tr>\n",
       "        <tr>\n",
       "            <td>RENGEN</td>\n",
       "            <td>41273</td>\n",
       "            <td>652744859</td>\n",
       "        </tr>\n",
       "        <tr>\n",
       "            <td>KAABONG  EAST</td>\n",
       "            <td>42221</td>\n",
       "            <td>60801942</td>\n",
       "        </tr>\n",
       "        <tr>\n",
       "            <td>KAABONG TOWN COUNCIL</td>\n",
       "            <td>38857</td>\n",
       "            <td>13071455</td>\n",
       "        </tr>\n",
       "        <tr>\n",
       "            <td>KAABONG WEST</td>\n",
       "            <td>41454</td>\n",
       "            <td>67612362</td>\n",
       "        </tr>\n",
       "        <tr>\n",
       "            <td>KALAPATA</td>\n",
       "            <td>99203</td>\n",
       "            <td>223116860</td>\n",
       "        </tr>\n",
       "    </tbody>\n",
       "</table>"
      ],
      "text/plain": [
       "[('KACHERI', 17244, 1067176155),\n",
       " ('KOTIDO', 52771, 597575188),\n",
       " ('KOTIDO TOWN COUNCIL', 27389, 23972401),\n",
       " ('NAKAPERIMORU', 38775, 419111591),\n",
       " ('PANYANGARA', 65704, 880955930),\n",
       " ('RENGEN', 41273, 652744859),\n",
       " ('KAABONG  EAST', 42221, 60801942),\n",
       " ('KAABONG TOWN COUNCIL', 38857, 13071455),\n",
       " ('KAABONG WEST', 41454, 67612362),\n",
       " ('KALAPATA', 99203, 223116860)]"
      ]
     },
     "execution_count": 70,
     "metadata": {
      "tags": []
     },
     "output_type": "execute_result"
    }
   ],
   "source": [
    "# 1. Display a list of Sub Counties and their population and areas.\n",
    "%%sql\n",
    "SELECT SUBCOUNTY_NAME, POP,Area FROM Cropyieldpop LIMIT 10;"
   ]
  },
  {
   "cell_type": "code",
   "execution_count": 12,
   "metadata": {
    "colab": {
     "base_uri": "https://localhost:8080/",
     "height": 277
    },
    "executionInfo": {
     "elapsed": 533,
     "status": "ok",
     "timestamp": 1627043129446,
     "user": {
      "displayName": "Eliud Munyala",
      "photoUrl": "",
      "userId": "09572496916808459189"
     },
     "user_tz": -180
    },
    "id": "Lkys0q5HNPiH",
    "outputId": "347cf4a2-31fe-4acf-86d5-f056687f34fc"
   },
   "outputs": [
    {
     "name": "stdout",
     "output_type": "stream",
     "text": [
      " * sqlite://\n",
      "Done.\n"
     ]
    },
    {
     "data": {
      "text/html": [
       "<table>\n",
       "    <thead>\n",
       "        <tr>\n",
       "            <th>DISTRICT_NAME</th>\n",
       "            <th>Area</th>\n",
       "        </tr>\n",
       "    </thead>\n",
       "    <tbody>\n",
       "        <tr>\n",
       "            <td>MOROTO</td>\n",
       "            <td>2069554899</td>\n",
       "        </tr>\n",
       "        <tr>\n",
       "            <td>NAPAK</td>\n",
       "            <td>1794470536</td>\n",
       "        </tr>\n",
       "        <tr>\n",
       "            <td>KAABONG</td>\n",
       "            <td>1742041261</td>\n",
       "        </tr>\n",
       "        <tr>\n",
       "            <td>KAABONG</td>\n",
       "            <td>1330019236</td>\n",
       "        </tr>\n",
       "        <tr>\n",
       "            <td>ABIM</td>\n",
       "            <td>1255760525</td>\n",
       "        </tr>\n",
       "        <tr>\n",
       "            <td>KAABONG</td>\n",
       "            <td>1199409465</td>\n",
       "        </tr>\n",
       "        <tr>\n",
       "            <td>KAABONG</td>\n",
       "            <td>1069331387</td>\n",
       "        </tr>\n",
       "        <tr>\n",
       "            <td>KOTIDO</td>\n",
       "            <td>1067176155</td>\n",
       "        </tr>\n",
       "        <tr>\n",
       "            <td>NAPAK</td>\n",
       "            <td>1030623258</td>\n",
       "        </tr>\n",
       "        <tr>\n",
       "            <td>NAKAPIRIPIRIT</td>\n",
       "            <td>928683431</td>\n",
       "        </tr>\n",
       "    </tbody>\n",
       "</table>"
      ],
      "text/plain": [
       "[('MOROTO', 2069554899),\n",
       " ('NAPAK', 1794470536),\n",
       " ('KAABONG', 1742041261),\n",
       " ('KAABONG', 1330019236),\n",
       " ('ABIM', 1255760525),\n",
       " ('KAABONG', 1199409465),\n",
       " ('KAABONG', 1069331387),\n",
       " ('KOTIDO', 1067176155),\n",
       " ('NAPAK', 1030623258),\n",
       " ('NAKAPIRIPIRIT', 928683431)]"
      ]
     },
     "execution_count": 12,
     "metadata": {
      "tags": []
     },
     "output_type": "execute_result"
    }
   ],
   "source": [
    "# 2. Sort the list of districts by total crop area (descending order).\n",
    "%%sql\n",
    "SELECT DISTRICT_NAME,Area FROM Cropyieldpop\n",
    "ORDER BY Area DESC LIMIT 10;"
   ]
  },
  {
   "cell_type": "code",
   "execution_count": 13,
   "metadata": {
    "colab": {
     "base_uri": "https://localhost:8080/",
     "height": 195
    },
    "executionInfo": {
     "elapsed": 499,
     "status": "ok",
     "timestamp": 1627043361992,
     "user": {
      "displayName": "Eliud Munyala",
      "photoUrl": "",
      "userId": "09572496916808459189"
     },
     "user_tz": -180
    },
    "id": "0YQJFA1ZU_jd",
    "outputId": "3e77a65d-372c-4ef8-fc8f-55d9423e12d9"
   },
   "outputs": [
    {
     "name": "stdout",
     "output_type": "stream",
     "text": [
      " * sqlite://\n",
      "Done.\n"
     ]
    },
    {
     "data": {
      "text/html": [
       "<table>\n",
       "    <thead>\n",
       "        <tr>\n",
       "            <th>SUBCOUNTY_NAME</th>\n",
       "            <th>S_Yield_Ha</th>\n",
       "        </tr>\n",
       "    </thead>\n",
       "    <tbody>\n",
       "        <tr>\n",
       "            <td>RUPA</td>\n",
       "            <td>114.2709211</td>\n",
       "        </tr>\n",
       "        <tr>\n",
       "            <td>SOUTHERN DIVISION</td>\n",
       "            <td>114.7955689</td>\n",
       "        </tr>\n",
       "        <tr>\n",
       "            <td>NORTHERN DIVISION</td>\n",
       "            <td>131.9776979</td>\n",
       "        </tr>\n",
       "        <tr>\n",
       "            <td>NADUNGET</td>\n",
       "            <td>133.6679356</td>\n",
       "        </tr>\n",
       "        <tr>\n",
       "            <td>TAPAC</td>\n",
       "            <td>155.8699345</td>\n",
       "        </tr>\n",
       "        <tr>\n",
       "            <td>KATIKEKILE</td>\n",
       "            <td>311.0062152</td>\n",
       "        </tr>\n",
       "    </tbody>\n",
       "</table>"
      ],
      "text/plain": [
       "[('RUPA', 114.2709211),\n",
       " ('SOUTHERN DIVISION', 114.7955689),\n",
       " ('NORTHERN DIVISION', 131.9776979),\n",
       " ('NADUNGET', 133.6679356),\n",
       " ('TAPAC', 155.8699345),\n",
       " ('KATIKEKILE', 311.0062152)]"
      ]
     },
     "execution_count": 13,
     "metadata": {
      "tags": []
     },
     "output_type": "execute_result"
    }
   ],
   "source": [
    "# 3. Select only the Sub counties from the Moroto district, order them alphabetically and show their production of sorghum.\n",
    "%%sql\n",
    "SELECT SUBCOUNTY_NAME,S_Yield_Ha FROM Cropyieldpop\n",
    "WHERE DISTRICT_NAME=\"MOROTO\"\n",
    "ORDER BY S_Yield_Ha ASC\n"
   ]
  },
  {
   "cell_type": "code",
   "execution_count": 22,
   "metadata": {
    "colab": {
     "base_uri": "https://localhost:8080/",
     "height": 215
    },
    "executionInfo": {
     "elapsed": 623,
     "status": "ok",
     "timestamp": 1627044901548,
     "user": {
      "displayName": "Eliud Munyala",
      "photoUrl": "",
      "userId": "09572496916808459189"
     },
     "user_tz": -180
    },
    "id": "vGApw_qwV9Cs",
    "outputId": "550896d0-a0d6-486c-c381-af2fc768118c"
   },
   "outputs": [
    {
     "name": "stdout",
     "output_type": "stream",
     "text": [
      " * sqlite://\n",
      "Done.\n"
     ]
    },
    {
     "data": {
      "text/html": [
       "<table>\n",
       "    <thead>\n",
       "        <tr>\n",
       "            <th>DISTRICT_NAME</th>\n",
       "            <th>SUM(M_Yield_Ha)</th>\n",
       "        </tr>\n",
       "    </thead>\n",
       "    <tbody>\n",
       "        <tr>\n",
       "            <td>ABIM</td>\n",
       "            <td>6248.8498905999995</td>\n",
       "        </tr>\n",
       "        <tr>\n",
       "            <td>AMUDAT</td>\n",
       "            <td>4723.0656492</td>\n",
       "        </tr>\n",
       "        <tr>\n",
       "            <td>KAABONG</td>\n",
       "            <td>13850.590123199996</td>\n",
       "        </tr>\n",
       "        <tr>\n",
       "            <td>KOTIDO</td>\n",
       "            <td>6650.8761263999995</td>\n",
       "        </tr>\n",
       "        <tr>\n",
       "            <td>MOROTO</td>\n",
       "            <td>2290.2490206</td>\n",
       "        </tr>\n",
       "        <tr>\n",
       "            <td>NAKAPIRIPIRIT</td>\n",
       "            <td>9352.7375222</td>\n",
       "        </tr>\n",
       "        <tr>\n",
       "            <td>NAPAK</td>\n",
       "            <td>5777.128384899999</td>\n",
       "        </tr>\n",
       "    </tbody>\n",
       "</table>"
      ],
      "text/plain": [
       "[('ABIM', 6248.8498905999995),\n",
       " ('AMUDAT', 4723.0656492),\n",
       " ('KAABONG', 13850.590123199996),\n",
       " ('KOTIDO', 6650.8761263999995),\n",
       " ('MOROTO', 2290.2490206),\n",
       " ('NAKAPIRIPIRIT', 9352.7375222),\n",
       " ('NAPAK', 5777.128384899999)]"
      ]
     },
     "execution_count": 22,
     "metadata": {
      "tags": []
     },
     "output_type": "execute_result"
    }
   ],
   "source": [
    "#4. Compute the total Maize production per District.\n",
    "%%sql\n",
    "SELECT DISTINCT DISTRICT_NAME,SUM(M_Yield_Ha) FROM Cropyieldpop\n",
    "GROUP BY DISTRICT_NAME"
   ]
  },
  {
   "cell_type": "code",
   "execution_count": 69,
   "metadata": {
    "colab": {
     "base_uri": "https://localhost:8080/",
     "height": 1000
    },
    "executionInfo": {
     "elapsed": 634,
     "status": "ok",
     "timestamp": 1627047538490,
     "user": {
      "displayName": "Eliud Munyala",
      "photoUrl": "",
      "userId": "09572496916808459189"
     },
     "user_tz": -180
    },
    "id": "4eusA_AzbxuZ",
    "outputId": "c2b43b3f-c31f-4afd-e663-89f4ef4f04ed"
   },
   "outputs": [
    {
     "name": "stdout",
     "output_type": "stream",
     "text": [
      " * sqlite://\n",
      "Done.\n"
     ]
    },
    {
     "data": {
      "text/html": [
       "<table>\n",
       "    <thead>\n",
       "        <tr>\n",
       "            <th>COUNT(SUBCOUNTY_NAME)</th>\n",
       "            <th>COUNT(DISTRICT_NAME)</th>\n",
       "            <th>M_Yield_Ha</th>\n",
       "        </tr>\n",
       "    </thead>\n",
       "    <tbody>\n",
       "        <tr>\n",
       "            <td>1</td>\n",
       "            <td>1</td>\n",
       "            <td>1183.0896480000001</td>\n",
       "        </tr>\n",
       "        <tr>\n",
       "            <td>1</td>\n",
       "            <td>1</td>\n",
       "            <td>1061.151087</td>\n",
       "        </tr>\n",
       "        <tr>\n",
       "            <td>1</td>\n",
       "            <td>1</td>\n",
       "            <td>1259.1220449999998</td>\n",
       "        </tr>\n",
       "        <tr>\n",
       "            <td>1</td>\n",
       "            <td>1</td>\n",
       "            <td>1379.0459449999998</td>\n",
       "        </tr>\n",
       "        <tr>\n",
       "            <td>1</td>\n",
       "            <td>1</td>\n",
       "            <td>861.2084912</td>\n",
       "        </tr>\n",
       "        <tr>\n",
       "            <td>1</td>\n",
       "            <td>1</td>\n",
       "            <td>873.4522414999999</td>\n",
       "        </tr>\n",
       "        <tr>\n",
       "            <td>1</td>\n",
       "            <td>1</td>\n",
       "            <td>650.1235647999999</td>\n",
       "        </tr>\n",
       "        <tr>\n",
       "            <td>1</td>\n",
       "            <td>1</td>\n",
       "            <td>1229.213444</td>\n",
       "        </tr>\n",
       "        <tr>\n",
       "            <td>1</td>\n",
       "            <td>1</td>\n",
       "            <td>1056.416068</td>\n",
       "        </tr>\n",
       "        <tr>\n",
       "            <td>1</td>\n",
       "            <td>1</td>\n",
       "            <td>1137.467019</td>\n",
       "        </tr>\n",
       "        <tr>\n",
       "            <td>1</td>\n",
       "            <td>1</td>\n",
       "            <td>1318.2619359999999</td>\n",
       "        </tr>\n",
       "        <tr>\n",
       "            <td>1</td>\n",
       "            <td>1</td>\n",
       "            <td>633.4231821000001</td>\n",
       "        </tr>\n",
       "        <tr>\n",
       "            <td>1</td>\n",
       "            <td>1</td>\n",
       "            <td>714.4757426</td>\n",
       "        </tr>\n",
       "        <tr>\n",
       "            <td>1</td>\n",
       "            <td>1</td>\n",
       "            <td>1030.064093</td>\n",
       "        </tr>\n",
       "        <tr>\n",
       "            <td>1</td>\n",
       "            <td>1</td>\n",
       "            <td>1286.723173</td>\n",
       "        </tr>\n",
       "        <tr>\n",
       "            <td>1</td>\n",
       "            <td>1</td>\n",
       "            <td>1125.685462</td>\n",
       "        </tr>\n",
       "        <tr>\n",
       "            <td>1</td>\n",
       "            <td>1</td>\n",
       "            <td>546.1402942000001</td>\n",
       "        </tr>\n",
       "        <tr>\n",
       "            <td>1</td>\n",
       "            <td>1</td>\n",
       "            <td>871.612802</td>\n",
       "        </tr>\n",
       "        <tr>\n",
       "            <td>1</td>\n",
       "            <td>1</td>\n",
       "            <td>1162.9966869999998</td>\n",
       "        </tr>\n",
       "        <tr>\n",
       "            <td>1</td>\n",
       "            <td>1</td>\n",
       "            <td>1167.005832</td>\n",
       "        </tr>\n",
       "        <tr>\n",
       "            <td>1</td>\n",
       "            <td>1</td>\n",
       "            <td>985.1926986</td>\n",
       "        </tr>\n",
       "        <tr>\n",
       "            <td>1</td>\n",
       "            <td>1</td>\n",
       "            <td>815.2557286</td>\n",
       "        </tr>\n",
       "        <tr>\n",
       "            <td>1</td>\n",
       "            <td>1</td>\n",
       "            <td>748.8298623</td>\n",
       "        </tr>\n",
       "        <tr>\n",
       "            <td>1</td>\n",
       "            <td>1</td>\n",
       "            <td>1225.930541</td>\n",
       "        </tr>\n",
       "        <tr>\n",
       "            <td>1</td>\n",
       "            <td>1</td>\n",
       "            <td>1273.397362</td>\n",
       "        </tr>\n",
       "        <tr>\n",
       "            <td>1</td>\n",
       "            <td>1</td>\n",
       "            <td>1053.2571679999999</td>\n",
       "        </tr>\n",
       "        <tr>\n",
       "            <td>1</td>\n",
       "            <td>1</td>\n",
       "            <td>1114.593607</td>\n",
       "        </tr>\n",
       "        <tr>\n",
       "            <td>1</td>\n",
       "            <td>1</td>\n",
       "            <td>841.8150105000001</td>\n",
       "        </tr>\n",
       "        <tr>\n",
       "            <td>1</td>\n",
       "            <td>1</td>\n",
       "            <td>795.7332802</td>\n",
       "        </tr>\n",
       "        <tr>\n",
       "            <td>1</td>\n",
       "            <td>1</td>\n",
       "            <td>1196.08804</td>\n",
       "        </tr>\n",
       "        <tr>\n",
       "            <td>1</td>\n",
       "            <td>1</td>\n",
       "            <td>507.9070676</td>\n",
       "        </tr>\n",
       "        <tr>\n",
       "            <td>1</td>\n",
       "            <td>1</td>\n",
       "            <td>1003.30391</td>\n",
       "        </tr>\n",
       "        <tr>\n",
       "            <td>1</td>\n",
       "            <td>1</td>\n",
       "            <td>1303.403556</td>\n",
       "        </tr>\n",
       "        <tr>\n",
       "            <td>1</td>\n",
       "            <td>1</td>\n",
       "            <td>497.3532824</td>\n",
       "        </tr>\n",
       "        <tr>\n",
       "            <td>1</td>\n",
       "            <td>1</td>\n",
       "            <td>1248.955812</td>\n",
       "        </tr>\n",
       "        <tr>\n",
       "            <td>1</td>\n",
       "            <td>1</td>\n",
       "            <td>962.9581695</td>\n",
       "        </tr>\n",
       "        <tr>\n",
       "            <td>1</td>\n",
       "            <td>1</td>\n",
       "            <td>1066.204758</td>\n",
       "        </tr>\n",
       "        <tr>\n",
       "            <td>1</td>\n",
       "            <td>1</td>\n",
       "            <td>591.2703552999999</td>\n",
       "        </tr>\n",
       "        <tr>\n",
       "            <td>1</td>\n",
       "            <td>1</td>\n",
       "            <td>852.3665784</td>\n",
       "        </tr>\n",
       "        <tr>\n",
       "            <td>1</td>\n",
       "            <td>1</td>\n",
       "            <td>1257.802716</td>\n",
       "        </tr>\n",
       "        <tr>\n",
       "            <td>1</td>\n",
       "            <td>1</td>\n",
       "            <td>1325.254872</td>\n",
       "        </tr>\n",
       "        <tr>\n",
       "            <td>1</td>\n",
       "            <td>1</td>\n",
       "            <td>725.8139301</td>\n",
       "        </tr>\n",
       "        <tr>\n",
       "            <td>1</td>\n",
       "            <td>1</td>\n",
       "            <td>765.3349254999999</td>\n",
       "        </tr>\n",
       "        <tr>\n",
       "            <td>1</td>\n",
       "            <td>1</td>\n",
       "            <td>528.6998225</td>\n",
       "        </tr>\n",
       "        <tr>\n",
       "            <td>1</td>\n",
       "            <td>1</td>\n",
       "            <td>241.53842680000002</td>\n",
       "        </tr>\n",
       "        <tr>\n",
       "            <td>1</td>\n",
       "            <td>1</td>\n",
       "            <td>779.2250311</td>\n",
       "        </tr>\n",
       "        <tr>\n",
       "            <td>1</td>\n",
       "            <td>1</td>\n",
       "            <td>1283.859882</td>\n",
       "        </tr>\n",
       "        <tr>\n",
       "            <td>1</td>\n",
       "            <td>1</td>\n",
       "            <td>1047.180128</td>\n",
       "        </tr>\n",
       "        <tr>\n",
       "            <td>1</td>\n",
       "            <td>1</td>\n",
       "            <td>699.3343089</td>\n",
       "        </tr>\n",
       "        <tr>\n",
       "            <td>1</td>\n",
       "            <td>1</td>\n",
       "            <td>1396.9914939999999</td>\n",
       "        </tr>\n",
       "        <tr>\n",
       "            <td>1</td>\n",
       "            <td>1</td>\n",
       "            <td>0.0</td>\n",
       "        </tr>\n",
       "        <tr>\n",
       "            <td>1</td>\n",
       "            <td>1</td>\n",
       "            <td>211.96563540000002</td>\n",
       "        </tr>\n",
       "    </tbody>\n",
       "</table>"
      ],
      "text/plain": [
       "[(1, 1, 1183.0896480000001),\n",
       " (1, 1, 1061.151087),\n",
       " (1, 1, 1259.1220449999998),\n",
       " (1, 1, 1379.0459449999998),\n",
       " (1, 1, 861.2084912),\n",
       " (1, 1, 873.4522414999999),\n",
       " (1, 1, 650.1235647999999),\n",
       " (1, 1, 1229.213444),\n",
       " (1, 1, 1056.416068),\n",
       " (1, 1, 1137.467019),\n",
       " (1, 1, 1318.2619359999999),\n",
       " (1, 1, 633.4231821000001),\n",
       " (1, 1, 714.4757426),\n",
       " (1, 1, 1030.064093),\n",
       " (1, 1, 1286.723173),\n",
       " (1, 1, 1125.685462),\n",
       " (1, 1, 546.1402942000001),\n",
       " (1, 1, 871.612802),\n",
       " (1, 1, 1162.9966869999998),\n",
       " (1, 1, 1167.005832),\n",
       " (1, 1, 985.1926986),\n",
       " (1, 1, 815.2557286),\n",
       " (1, 1, 748.8298623),\n",
       " (1, 1, 1225.930541),\n",
       " (1, 1, 1273.397362),\n",
       " (1, 1, 1053.2571679999999),\n",
       " (1, 1, 1114.593607),\n",
       " (1, 1, 841.8150105000001),\n",
       " (1, 1, 795.7332802),\n",
       " (1, 1, 1196.08804),\n",
       " (1, 1, 507.9070676),\n",
       " (1, 1, 1003.30391),\n",
       " (1, 1, 1303.403556),\n",
       " (1, 1, 497.3532824),\n",
       " (1, 1, 1248.955812),\n",
       " (1, 1, 962.9581695),\n",
       " (1, 1, 1066.204758),\n",
       " (1, 1, 591.2703552999999),\n",
       " (1, 1, 852.3665784),\n",
       " (1, 1, 1257.802716),\n",
       " (1, 1, 1325.254872),\n",
       " (1, 1, 725.8139301),\n",
       " (1, 1, 765.3349254999999),\n",
       " (1, 1, 528.6998225),\n",
       " (1, 1, 241.53842680000002),\n",
       " (1, 1, 779.2250311),\n",
       " (1, 1, 1283.859882),\n",
       " (1, 1, 1047.180128),\n",
       " (1, 1, 699.3343089),\n",
       " (1, 1, 1396.9914939999999),\n",
       " (1, 1, 0.0),\n",
       " (1, 1, 211.96563540000002)]"
      ]
     },
     "execution_count": 69,
     "metadata": {
      "tags": []
     },
     "output_type": "execute_result"
    }
   ],
   "source": [
    "#5. Compute the number of Sub counties where Maize is produced and the total Maize production per District.\n",
    "%%sql\n",
    "SELECT COUNT(SUBCOUNTY_NAME),COUNT(DISTRICT_NAME),M_Yield_Ha FROM Cropyieldpop\n",
    "WHERE M_Yield_Ha IS NOT NULL\n",
    "GROUP BY SUBCOUNTY_NAME"
   ]
  },
  {
   "cell_type": "code",
   "execution_count": 57,
   "metadata": {
    "colab": {
     "base_uri": "https://localhost:8080/",
     "height": 481
    },
    "executionInfo": {
     "elapsed": 482,
     "status": "ok",
     "timestamp": 1627046750466,
     "user": {
      "displayName": "Eliud Munyala",
      "photoUrl": "",
      "userId": "09572496916808459189"
     },
     "user_tz": -180
    },
    "id": "dUUxzoCyc0WX",
    "outputId": "518a483b-32b0-4f0f-9b50-2b19433e0752"
   },
   "outputs": [
    {
     "name": "stdout",
     "output_type": "stream",
     "text": [
      " * sqlite://\n",
      "Done.\n"
     ]
    },
    {
     "data": {
      "text/html": [
       "<table>\n",
       "    <thead>\n",
       "        <tr>\n",
       "            <th>SUBCOUNTY_NAME</th>\n",
       "            <th>Crop_Area_Ha</th>\n",
       "        </tr>\n",
       "    </thead>\n",
       "    <tbody>\n",
       "        <tr>\n",
       "            <td>ABIM</td>\n",
       "            <td>999.3715888</td>\n",
       "        </tr>\n",
       "        <tr>\n",
       "            <td>ABIM TOWN COUNCIL</td>\n",
       "            <td>788.4628001</td>\n",
       "        </tr>\n",
       "        <tr>\n",
       "            <td>ALEREK</td>\n",
       "            <td>1266.109868</td>\n",
       "        </tr>\n",
       "        <tr>\n",
       "            <td>AMUDAT</td>\n",
       "            <td>1651.99842</td>\n",
       "        </tr>\n",
       "        <tr>\n",
       "            <td>AMUDAT TOWN COUNCIL</td>\n",
       "            <td>60.77208552</td>\n",
       "        </tr>\n",
       "        <tr>\n",
       "            <td>IRIIRI</td>\n",
       "            <td>5473.443674</td>\n",
       "        </tr>\n",
       "        <tr>\n",
       "            <td>KAABONG  EAST</td>\n",
       "            <td>1021.31699</td>\n",
       "        </tr>\n",
       "        <tr>\n",
       "            <td>KAABONG TOWN COUNCIL</td>\n",
       "            <td>175.08052659999998</td>\n",
       "        </tr>\n",
       "        <tr>\n",
       "            <td>KAABONG WEST</td>\n",
       "            <td>967.3367266</td>\n",
       "        </tr>\n",
       "        <tr>\n",
       "            <td>KACHERI</td>\n",
       "            <td>7023.533691</td>\n",
       "        </tr>\n",
       "        <tr>\n",
       "            <td>KAKOMONGOLE</td>\n",
       "            <td>3264.534948</td>\n",
       "        </tr>\n",
       "        <tr>\n",
       "            <td>KALAPATA</td>\n",
       "            <td>2834.349905</td>\n",
       "        </tr>\n",
       "        <tr>\n",
       "            <td>KAMION</td>\n",
       "            <td>997.1610206</td>\n",
       "        </tr>\n",
       "        <tr>\n",
       "            <td>KAPEDO</td>\n",
       "            <td>2365.259806</td>\n",
       "        </tr>\n",
       "        <tr>\n",
       "            <td>KARITA</td>\n",
       "            <td>2513.27183</td>\n",
       "        </tr>\n",
       "        <tr>\n",
       "            <td>KATHILE</td>\n",
       "            <td>6890.699234000001</td>\n",
       "        </tr>\n",
       "        <tr>\n",
       "            <td>KATIKEKILE</td>\n",
       "            <td>145.243518</td>\n",
       "        </tr>\n",
       "        <tr>\n",
       "            <td>KAWALAKOL</td>\n",
       "            <td>3934.432233</td>\n",
       "        </tr>\n",
       "        <tr>\n",
       "            <td>KOTIDO</td>\n",
       "            <td>13587.990759999999</td>\n",
       "        </tr>\n",
       "        <tr>\n",
       "            <td>KOTIDO TOWN COUNCIL</td>\n",
       "            <td>1656.5318550000002</td>\n",
       "        </tr>\n",
       "    </tbody>\n",
       "</table>"
      ],
      "text/plain": [
       "[('ABIM', 999.3715888),\n",
       " ('ABIM TOWN COUNCIL', 788.4628001),\n",
       " ('ALEREK', 1266.109868),\n",
       " ('AMUDAT', 1651.99842),\n",
       " ('AMUDAT TOWN COUNCIL', 60.77208552),\n",
       " ('IRIIRI', 5473.443674),\n",
       " ('KAABONG  EAST', 1021.31699),\n",
       " ('KAABONG TOWN COUNCIL', 175.08052659999998),\n",
       " ('KAABONG WEST', 967.3367266),\n",
       " ('KACHERI', 7023.533691),\n",
       " ('KAKOMONGOLE', 3264.534948),\n",
       " ('KALAPATA', 2834.349905),\n",
       " ('KAMION', 997.1610206),\n",
       " ('KAPEDO', 2365.259806),\n",
       " ('KARITA', 2513.27183),\n",
       " ('KATHILE', 6890.699234000001),\n",
       " ('KATIKEKILE', 145.243518),\n",
       " ('KAWALAKOL', 3934.432233),\n",
       " ('KOTIDO', 13587.990759999999),\n",
       " ('KOTIDO TOWN COUNCIL', 1656.5318550000002)]"
      ]
     },
     "execution_count": 57,
     "metadata": {
      "tags": []
     },
     "output_type": "execute_result"
    }
   ],
   "source": [
    "#6. Compute the overall Crop area in all Sub counties where population is over 20000.\n",
    "%%sql\n",
    "SELECT SUBCOUNTY_NAME,Crop_Area_Ha FROM Cropyieldpop\n",
    "WHERE POP > 2000\n",
    "ORDER BY SUBCOUNTY_NAME ASC\n",
    "LIMIT 20;"
   ]
  },
  {
   "cell_type": "code",
   "execution_count": 56,
   "metadata": {
    "colab": {
     "base_uri": "https://localhost:8080/",
     "height": 318
    },
    "executionInfo": {
     "elapsed": 530,
     "status": "ok",
     "timestamp": 1627046632405,
     "user": {
      "displayName": "Eliud Munyala",
      "photoUrl": "",
      "userId": "09572496916808459189"
     },
     "user_tz": -180
    },
    "id": "CXZwp1rDdYQN",
    "outputId": "89f2b3cc-140c-4570-f672-14880ee6949c"
   },
   "outputs": [
    {
     "name": "stdout",
     "output_type": "stream",
     "text": [
      " * sqlite://\n",
      "Done.\n"
     ]
    },
    {
     "data": {
      "text/html": [
       "<table>\n",
       "    <thead>\n",
       "        <tr>\n",
       "            <th>SUBCOUNTY_NAME</th>\n",
       "            <th>DISTRICT_NAME</th>\n",
       "            <th>M_Area_Ha</th>\n",
       "            <th>S_Area_Ha</th>\n",
       "        </tr>\n",
       "    </thead>\n",
       "    <tbody>\n",
       "        <tr>\n",
       "            <td>IRIIRI</td>\n",
       "            <td>NAPAK</td>\n",
       "            <td>3840.6980810000005</td>\n",
       "            <td>1550.9445699999999</td>\n",
       "        </tr>\n",
       "        <tr>\n",
       "            <td>NAMALU</td>\n",
       "            <td>NAKAPIRIPIRIT</td>\n",
       "            <td>3293.74946</td>\n",
       "            <td>2197.572106</td>\n",
       "        </tr>\n",
       "        <tr>\n",
       "            <td>NAPORE (KARENGA)</td>\n",
       "            <td>KAABONG</td>\n",
       "            <td>1221.532726</td>\n",
       "            <td>267.559128</td>\n",
       "        </tr>\n",
       "        <tr>\n",
       "            <td>LOBALANGIT</td>\n",
       "            <td>KAABONG</td>\n",
       "            <td>1005.8773960000001</td>\n",
       "            <td>879.0023395</td>\n",
       "        </tr>\n",
       "        <tr>\n",
       "            <td>AMUDAT</td>\n",
       "            <td>AMUDAT</td>\n",
       "            <td>972.1742458999998</td>\n",
       "            <td>676.7832664</td>\n",
       "        </tr>\n",
       "        <tr>\n",
       "            <td>MORUITA</td>\n",
       "            <td>NAKAPIRIPIRIT</td>\n",
       "            <td>959.6711616</td>\n",
       "            <td>185.2834449</td>\n",
       "        </tr>\n",
       "        <tr>\n",
       "            <td>TAPAC</td>\n",
       "            <td>MOROTO</td>\n",
       "            <td>793.2370943</td>\n",
       "            <td>315.979223</td>\n",
       "        </tr>\n",
       "        <tr>\n",
       "            <td>KAMION</td>\n",
       "            <td>KAABONG</td>\n",
       "            <td>549.8633367000001</td>\n",
       "            <td>411.8070005</td>\n",
       "        </tr>\n",
       "        <tr>\n",
       "            <td>NAPAK TOWN COUNCIL</td>\n",
       "            <td>NAPAK</td>\n",
       "            <td>401.1734419</td>\n",
       "            <td>386.1580327</td>\n",
       "        </tr>\n",
       "        <tr>\n",
       "            <td>KATIKEKILE</td>\n",
       "            <td>MOROTO</td>\n",
       "            <td>103.27756219999999</td>\n",
       "            <td>30.15704817</td>\n",
       "        </tr>\n",
       "        <tr>\n",
       "            <td>NAKAPIRIPIRIT TOWN COUNCIL</td>\n",
       "            <td>NAKAPIRIPIRIT</td>\n",
       "            <td>27.79576662</td>\n",
       "            <td>1.3399191590000001</td>\n",
       "        </tr>\n",
       "        <tr>\n",
       "            <td>NORTHERN DIVISION</td>\n",
       "            <td>MOROTO</td>\n",
       "            <td>0.19137495100000002</td>\n",
       "            <td>0.130940756</td>\n",
       "        </tr>\n",
       "    </tbody>\n",
       "</table>"
      ],
      "text/plain": [
       "[('IRIIRI', 'NAPAK', 3840.6980810000005, 1550.9445699999999),\n",
       " ('NAMALU', 'NAKAPIRIPIRIT', 3293.74946, 2197.572106),\n",
       " ('NAPORE (KARENGA)', 'KAABONG', 1221.532726, 267.559128),\n",
       " ('LOBALANGIT', 'KAABONG', 1005.8773960000001, 879.0023395),\n",
       " ('AMUDAT', 'AMUDAT', 972.1742458999998, 676.7832664),\n",
       " ('MORUITA', 'NAKAPIRIPIRIT', 959.6711616, 185.2834449),\n",
       " ('TAPAC', 'MOROTO', 793.2370943, 315.979223),\n",
       " ('KAMION', 'KAABONG', 549.8633367000001, 411.8070005),\n",
       " ('NAPAK TOWN COUNCIL', 'NAPAK', 401.1734419, 386.1580327),\n",
       " ('KATIKEKILE', 'MOROTO', 103.27756219999999, 30.15704817),\n",
       " ('NAKAPIRIPIRIT TOWN COUNCIL', 'NAKAPIRIPIRIT', 27.79576662, 1.3399191590000001),\n",
       " ('NORTHERN DIVISION', 'MOROTO', 0.19137495100000002, 0.130940756)]"
      ]
     },
     "execution_count": 56,
     "metadata": {
      "tags": []
     },
     "output_type": "execute_result"
    }
   ],
   "source": [
    "#7. Sort the Maize production in descending order by Districts, \n",
    "# only taking into account Sub counties where Maize area is larger than Sorghum area, \n",
    "# and display the number of Sub counties per district matching that criteria.\n",
    "%%sql\n",
    "SELECT SUBCOUNTY_NAME,DISTRICT_NAME,M_Area_Ha,S_Area_Ha\tFROM Cropyieldpop\n",
    "WHERE M_Area_Ha > S_Area_Ha\n",
    "GROUP BY SUBCOUNTY_NAME\n",
    "ORDER BY M_Area_Ha desc"
   ]
  }
 ],
 "metadata": {
  "colab": {
   "authorship_tag": "ABX9TyPsH2v/EiOVUGnKaBsOLSm3",
   "collapsed_sections": [],
   "name": "Moringa_Data_Science_Prep_W1_Independent_Project_2021_07_23_eliud_munyala_SQL_Notebook.ipynb",
   "provenance": []
  },
  "kernelspec": {
   "display_name": "Python 3 (ipykernel)",
   "language": "python",
   "name": "python3"
  },
  "language_info": {
   "codemirror_mode": {
    "name": "ipython",
    "version": 3
   },
   "file_extension": ".py",
   "mimetype": "text/x-python",
   "name": "python",
   "nbconvert_exporter": "python",
   "pygments_lexer": "ipython3",
   "version": "3.7.11"
  }
 },
 "nbformat": 4,
 "nbformat_minor": 1
}
