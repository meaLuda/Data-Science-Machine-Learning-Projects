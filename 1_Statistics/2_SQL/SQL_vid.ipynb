{
 "cells": [
  {
   "cell_type": "markdown",
   "metadata": {},
   "source": [
    "# sql youtube tutoriol\n",
    "\n",
    "# Course Outline\n",
    "\n",
    "```\n",
    "# ---- Setup SQL\n",
    "# ------- SQL datatypes\n",
    "# --------- creating tables\n",
    "# ------------ inserting into tables\n",
    "# -------------- viewing data in tables \n",
    "# ----------------- manipulation of said tables\n",
    "# -------------------- loading csv into sql\n",
    "# REPEAT\n",
    "```\n",
    "\n"
   ]
  }
 ],
 "metadata": {
  "kernelspec": {
   "display_name": "Python 3.7.11 64-bit ('ds_ml_env': conda)",
   "language": "python",
   "name": "python3711jvsc74a57bd0d1e6cad420e4398edbb7ba2374d625154d5929472e7c7049b665a8784c474571"
  },
  "language_info": {
   "codemirror_mode": {
    "name": "ipython",
    "version": 3
   },
   "file_extension": ".py",
   "mimetype": "text/x-python",
   "name": "python",
   "nbconvert_exporter": "python",
   "pygments_lexer": "ipython3",
   "version": "3.7.11"
  }
 },
 "nbformat": 4,
 "nbformat_minor": 4
}
