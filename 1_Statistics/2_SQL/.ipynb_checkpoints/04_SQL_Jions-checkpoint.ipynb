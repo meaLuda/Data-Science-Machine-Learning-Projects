{
 "cells": [
  {
   "cell_type": "markdown",
   "metadata": {
    "id": "5opNc0pdSjJG"
   },
   "source": [
    "**SQL JOINS**"
   ]
  },
  {
   "cell_type": "markdown",
   "metadata": {
    "id": "Atnra4PJWp31"
   },
   "source": [
    "\n",
    "**Types of Joins**\n",
    "\n",
    "There are mainly four types of joins that we'll need to understand\n",
    "\n",
    "\n",
    "\n",
    "*   Inner Join\n",
    "*   Full Join \n",
    "*   Left Join\n",
    "*   Right Join\n",
    "\n",
    "Let's explore each of them individually\n",
    "\n"
   ]
  },
  {
   "cell_type": "markdown",
   "metadata": {
    "id": "s2EKsKVyPdZx"
   },
   "source": [
    "**Connecting Our Database**"
   ]
  },
  {
   "cell_type": "code",
   "execution_count": 1,
   "metadata": {
    "colab": {
     "base_uri": "https://localhost:8080/",
     "height": 34
    },
    "executionInfo": {
     "elapsed": 1247,
     "status": "ok",
     "timestamp": 1573439278324,
     "user": {
      "displayName": "John Mutavi",
      "photoUrl": "",
      "userId": "04650186972582562429"
     },
     "user_tz": -180
    },
    "id": "vRigvMQJSJU2",
    "outputId": "18936e4c-7fad-419a-d2e0-4f816b97bfea"
   },
   "outputs": [],
   "source": [
    "# We will first load an sql extension into our environment\n",
    "# This extension will allow us to work with sql on Colaboratory\n",
    "#\n",
    "%load_ext sql\n",
    "\n",
    "# We will then connect to our in memory sqlite database\n",
    "# NB: This database will cease to exist as soon as the database connection is closed.\n",
    "# We will learn more about how databases are created later in prep.\n",
    "#\n",
    "%sql sqlite://"
   ]
  },
  {
   "cell_type": "code",
   "execution_count": 3,
   "metadata": {
    "id": "DCxKGifNPmOu"
   },
   "outputs": [
    {
     "name": "stdout",
     "output_type": "stream",
     "text": [
      " * sqlite://\n",
      "Done.\n",
      "Done.\n",
      "Done.\n"
     ]
    },
    {
     "data": {
      "text/plain": [
       "[]"
      ]
     },
     "execution_count": 3,
     "metadata": {},
     "output_type": "execute_result"
    }
   ],
   "source": [
    "%%sql\n",
    "--- # Before we start to look at each type of Join, let's start by creating the tables that we'll use to perform the Join operations\n",
    "CREATE TABLE Employee(\n",
    "    EmpID int,\n",
    "    EmplFname varchar(255),\n",
    "    EmpLName varchar(255),\n",
    "    Age int,\n",
    "    EmailID varchar(255),\n",
    "    PhoneNo int,\n",
    "    Address varchar(255)\n",
    ");\n",
    "\n",
    "CREATE TABLE Project(\n",
    "    ProjectId int,\n",
    "    EmpID int,\n",
    "    ClientID int,\n",
    "    ProjectName varchar(255),\n",
    "    ProjectStartDate varchar(255)\n",
    "\n",
    ");\n",
    "\n",
    "CREATE TABLE Client(\n",
    "    ClientID int,\n",
    "    ClientFname varchar(255),\n",
    "    ClientLName varchar(255),\n",
    "    Age int,\n",
    "    ClientEmailID varchar(255),\n",
    "    PhoneNo int,\n",
    "    Address varchar(255),\n",
    "    EmpID, int\n",
    "\n",
    ");\n"
   ]
  },
  {
   "cell_type": "markdown",
   "metadata": {},
   "source": [
    "## Manipulate employee tables\n",
    "    \n",
    "    1. Add data \n",
    "    2. View data\n",
    "    3. Manipulate data"
   ]
  },
  {
   "cell_type": "code",
   "execution_count": 8,
   "metadata": {
    "id": "XuxxtGVaStth"
   },
   "outputs": [
    {
     "name": "stdout",
     "output_type": "stream",
     "text": [
      " * sqlite://\n",
      "2 rows affected.\n"
     ]
    },
    {
     "data": {
      "text/plain": [
       "[]"
      ]
     },
     "execution_count": 8,
     "metadata": {},
     "output_type": "execute_result"
    }
   ],
   "source": [
    "%%sql\n",
    "---# Now that we have created the tables, let's populate them.\n",
    "INSERT INTO Employee\n",
    "(EmpID, EmplFname,EmpLName,Age,EmailID,PhoneNo,Address)\n",
    "VALUES \n",
    "(1,'Vardhan','Kumar',22,'vardy@abc.com',9876543210,'Delhi'),\n",
    "(2,'Himani', 'Sharma',32,'himani@abc.com',9977554422,'Mumbai');"
   ]
  },
  {
   "cell_type": "code",
   "execution_count": 9,
   "metadata": {},
   "outputs": [
    {
     "name": "stdout",
     "output_type": "stream",
     "text": [
      " * sqlite://\n",
      "Done.\n"
     ]
    },
    {
     "data": {
      "text/html": [
       "<table>\n",
       "    <thead>\n",
       "        <tr>\n",
       "            <th>EmpID</th>\n",
       "            <th>EmplFname</th>\n",
       "            <th>EmpLName</th>\n",
       "            <th>Age</th>\n",
       "            <th>EmailID</th>\n",
       "            <th>PhoneNo</th>\n",
       "            <th>Address</th>\n",
       "        </tr>\n",
       "    </thead>\n",
       "    <tbody>\n",
       "        <tr>\n",
       "            <td>1</td>\n",
       "            <td>Vardhan</td>\n",
       "            <td>Kumar</td>\n",
       "            <td>22</td>\n",
       "            <td>vardy@abc.com</td>\n",
       "            <td>9876543210</td>\n",
       "            <td>Delhi</td>\n",
       "        </tr>\n",
       "        <tr>\n",
       "            <td>2</td>\n",
       "            <td>Himani</td>\n",
       "            <td>Sharma</td>\n",
       "            <td>32</td>\n",
       "            <td>himani@abc.com</td>\n",
       "            <td>9977554422</td>\n",
       "            <td>Mumbai</td>\n",
       "        </tr>\n",
       "    </tbody>\n",
       "</table>"
      ],
      "text/plain": [
       "[(1, 'Vardhan', 'Kumar', 22, 'vardy@abc.com', 9876543210, 'Delhi'),\n",
       " (2, 'Himani', 'Sharma', 32, 'himani@abc.com', 9977554422, 'Mumbai')]"
      ]
     },
     "execution_count": 9,
     "metadata": {},
     "output_type": "execute_result"
    }
   ],
   "source": [
    "%%sql\n",
    "SELECT * FROM Employee;"
   ]
  },
  {
   "cell_type": "code",
   "execution_count": 11,
   "metadata": {},
   "outputs": [
    {
     "name": "stdout",
     "output_type": "stream",
     "text": [
      " * sqlite://\n",
      "Done.\n"
     ]
    },
    {
     "data": {
      "text/html": [
       "<table>\n",
       "    <thead>\n",
       "        <tr>\n",
       "            <th>EmpID</th>\n",
       "            <th>EmplFname</th>\n",
       "            <th>EmpLName</th>\n",
       "            <th>Age</th>\n",
       "            <th>EmailID</th>\n",
       "            <th>PhoneNo</th>\n",
       "            <th>Address</th>\n",
       "        </tr>\n",
       "    </thead>\n",
       "    <tbody>\n",
       "        <tr>\n",
       "            <td>1</td>\n",
       "            <td>Vardhan</td>\n",
       "            <td>Kumar</td>\n",
       "            <td>22</td>\n",
       "            <td>vardy@abc.com</td>\n",
       "            <td>9876543210</td>\n",
       "            <td>Delhi</td>\n",
       "        </tr>\n",
       "        <tr>\n",
       "            <td>2</td>\n",
       "            <td>Himani</td>\n",
       "            <td>Sharma</td>\n",
       "            <td>32</td>\n",
       "            <td>himani@abc.com</td>\n",
       "            <td>9977554422</td>\n",
       "            <td>Mumbai</td>\n",
       "        </tr>\n",
       "    </tbody>\n",
       "</table>"
      ],
      "text/plain": [
       "[(1, 'Vardhan', 'Kumar', 22, 'vardy@abc.com', 9876543210, 'Delhi'),\n",
       " (2, 'Himani', 'Sharma', 32, 'himani@abc.com', 9977554422, 'Mumbai')]"
      ]
     },
     "execution_count": 11,
     "metadata": {},
     "output_type": "execute_result"
    }
   ],
   "source": [
    "%%sql\n",
    "SELECT * FROM Employee\n",
    "GROUP BY Age\n",
    "HAVING Age > 20;"
   ]
  },
  {
   "cell_type": "markdown",
   "metadata": {},
   "source": [
    "## Manipulate Projects tables"
   ]
  },
  {
   "cell_type": "code",
   "execution_count": 13,
   "metadata": {},
   "outputs": [
    {
     "name": "stdout",
     "output_type": "stream",
     "text": [
      " * sqlite://\n",
      "1 rows affected.\n"
     ]
    },
    {
     "data": {
      "text/plain": [
       "[]"
      ]
     },
     "execution_count": 13,
     "metadata": {},
     "output_type": "execute_result"
    }
   ],
   "source": [
    "%%sql\n",
    "-- # lets fill the other tables with data\n",
    "INSERT INTO Project(ProjectId,EmpID,ClientID,ProjectName,ProjectStartDate)\n",
    "VALUES\n",
    "(1,2,5,\"Testing SQL\",\"12.12.2024\");"
   ]
  },
  {
   "cell_type": "code",
   "execution_count": 15,
   "metadata": {},
   "outputs": [
    {
     "name": "stdout",
     "output_type": "stream",
     "text": [
      " * sqlite://\n",
      "Done.\n"
     ]
    },
    {
     "data": {
      "text/html": [
       "<table>\n",
       "    <thead>\n",
       "        <tr>\n",
       "            <th>ProjectId</th>\n",
       "            <th>EmpID</th>\n",
       "            <th>ClientID</th>\n",
       "            <th>ProjectName</th>\n",
       "            <th>ProjectStartDate</th>\n",
       "        </tr>\n",
       "    </thead>\n",
       "    <tbody>\n",
       "        <tr>\n",
       "            <td>1</td>\n",
       "            <td>2</td>\n",
       "            <td>5</td>\n",
       "            <td>Testing SQL</td>\n",
       "            <td>12.12.2024</td>\n",
       "        </tr>\n",
       "    </tbody>\n",
       "</table>"
      ],
      "text/plain": [
       "[(1, 2, 5, 'Testing SQL', '12.12.2024')]"
      ]
     },
     "execution_count": 15,
     "metadata": {},
     "output_type": "execute_result"
    }
   ],
   "source": [
    "%%sql\n",
    "SELECT * FROM Project;"
   ]
  },
  {
   "cell_type": "code",
   "execution_count": null,
   "metadata": {},
   "outputs": [],
   "source": []
  }
 ],
 "metadata": {
  "colab": {
   "collapsed_sections": [],
   "name": "Copy of SQLjoins.ipynb",
   "provenance": [
    {
     "file_id": "1T6GOFAek7nlKNlQxchWlFtFSnF-qYavo",
     "timestamp": 1636971115877
    }
   ]
  },
  "kernelspec": {
   "display_name": "Python 3 (ipykernel)",
   "language": "python",
   "name": "python3"
  },
  "language_info": {
   "codemirror_mode": {
    "name": "ipython",
    "version": 3
   },
   "file_extension": ".py",
   "mimetype": "text/x-python",
   "name": "python",
   "nbconvert_exporter": "python",
   "pygments_lexer": "ipython3",
   "version": "3.10.6"
  }
 },
 "nbformat": 4,
 "nbformat_minor": 1
}
