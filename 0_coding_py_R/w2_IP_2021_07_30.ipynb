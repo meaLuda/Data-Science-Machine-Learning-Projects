{
 "cells": [
  {
   "cell_type": "markdown",
   "metadata": {
    "id": "nNI3CI-shirh"
   },
   "source": [
    "# Week 2 Moringa IP \n",
    "# ___________ TODO __________________\n",
    "\n",
    "You will write python code that performs the following procedures\n",
    "\n",
    "> Delete a contact from the dictionary when the user specifies the its key \n",
    "\n",
    "> Print out the first 2 contacts.\n",
    "\n",
    "> Display the total no. of contacts left in the dictionary.\n",
    "Add 2 new contacts in the dictionary. \n",
    "\n",
    "> Print out all the contacts."
   ]
  },
  {
   "cell_type": "code",
   "execution_count": 1,
   "metadata": {
    "colab": {
     "base_uri": "https://localhost:8080/"
    },
    "executionInfo": {
     "elapsed": 11,
     "status": "ok",
     "timestamp": 1627634015886,
     "user": {
      "displayName": "Eliud Munyala",
      "photoUrl": "",
      "userId": "09572496916808459189"
     },
     "user_tz": -180
    },
    "id": "TbiJQ3vQh37r",
    "outputId": "16e34502-4a3f-43b6-9314-448447e003d3"
   },
   "outputs": [],
   "source": [
    "# Perfom some functions on this dictionary\n",
    "\n",
    "contact_book = {'Parul' : 'parul@moringa.org',\n",
    "\n",
    "        'Thomas' : 'thomas@moringa.org',\n",
    "\n",
    "        'Ashley' : 'ashley@moringa.org',\n",
    "\n",
    "        'Kellen' : 'kellen@moringa.org',\n",
    "\n",
    "        'June' : 'june@moringa.org',\n",
    "\n",
    "        'Joseph' : 'joe@moringa.org',\n",
    "\n",
    "        'Lillian' : 'lillian@moringa.org',\n",
    "\n",
    "        'Arnold' : 'arnold@moringa.org' \n",
    "}\n"
   ]
  },
  {
   "cell_type": "code",
   "execution_count": 2,
   "metadata": {},
   "outputs": [
    {
     "name": "stdout",
     "output_type": "stream",
     "text": [
      "Parul  --->  parul@moringa.org\n",
      "Thomas  --->  thomas@moringa.org\n",
      "Ashley  --->  ashley@moringa.org\n",
      "Kellen  --->  kellen@moringa.org\n",
      "June  --->  june@moringa.org\n",
      "Joseph  --->  joe@moringa.org\n",
      "Lillian  --->  lillian@moringa.org\n",
      "Arnold  --->  arnold@moringa.org\n"
     ]
    }
   ],
   "source": [
    "for i,k in contact_book.items():\n",
    "  print(i,\" ---> \",k)"
   ]
  },
  {
   "cell_type": "code",
   "execution_count": 3,
   "metadata": {
    "colab": {
     "base_uri": "https://localhost:8080/"
    },
    "executionInfo": {
     "elapsed": 2969,
     "status": "ok",
     "timestamp": 1627638668822,
     "user": {
      "displayName": "Eliud Munyala",
      "photoUrl": "",
      "userId": "09572496916808459189"
     },
     "user_tz": -180
    },
    "id": "tYoBGNpGjDCR",
    "outputId": "7fe0269a-aef6-46d5-bac5-28707d8f0484"
   },
   "outputs": [
    {
     "name": "stdout",
     "output_type": "stream",
     "text": [
      "Following are names(keys) in our contact book \n",
      "\t\t ['Parul']\n",
      "\t\t ['Thomas']\n",
      "\t\t ['Ashley']\n",
      "\t\t ['Kellen']\n",
      "\t\t ['June']\n",
      "\t\t ['Joseph']\n",
      "\t\t ['Lillian']\n",
      "\t\t ['Arnold']\n",
      "Who do you want to remove from the contact book? \n",
      " \n",
      " Type Done if you are ok \n",
      "Unkown value sorry!\n"
     ]
    }
   ],
   "source": [
    "# Q1. Delete a contact from the dictionary when the user specifies the its key\n",
    "\n",
    "# enter key you want to delete\n",
    "print(\"Following are names(keys) in our contact book \")\n",
    "for i in contact_book:\n",
    "  contact_names = [i]\n",
    "  print(\"\\t\\t\", contact_names)\n",
    "\n",
    "print(\"Who do you want to remove from the contact book? \")\n",
    "print(\" \\n Type Done if you are ok \")\n",
    "removed = False\n",
    "\n",
    "name = str(input(\"Enter key : \"))\n",
    "\n",
    "# check if name entered by our user is in the contact book keys\n",
    "if name in contact_book.keys():\n",
    "  del contact_book[name]\n",
    "  print(contact_book)\n",
    "  print(name + \" was deleted from contact book\")\n",
    "elif name not in contact_book.keys():\n",
    "  print(\"Unkown value sorry!\")"
   ]
  },
  {
   "cell_type": "code",
   "execution_count": 73,
   "metadata": {
    "colab": {
     "base_uri": "https://localhost:8080/"
    },
    "executionInfo": {
     "elapsed": 326,
     "status": "ok",
     "timestamp": 1627640914506,
     "user": {
      "displayName": "Eliud Munyala",
      "photoUrl": "",
      "userId": "09572496916808459189"
     },
     "user_tz": -180
    },
    "id": "IYhFpPk_iSIx",
    "outputId": "119640d7-7984-46b9-fa9a-c480cbbfa420"
   },
   "outputs": [
    {
     "name": "stdout",
     "output_type": "stream",
     "text": [
      "{'Thomas': 'thomas@moringa.org', 'Joseph': 'joe@moringa.org', 'Arnold': 'arnold@moringa.org'}\n",
      "\n",
      "\n",
      "First two contacts are : \n",
      "('Thomas', 'thomas@moringa.org')\n",
      "('Joseph', 'joe@moringa.org')\n",
      "\n",
      " or \n",
      "[('Thomas', 'thomas@moringa.org'), ('Joseph', 'joe@moringa.org')]\n"
     ]
    }
   ],
   "source": [
    "#Q2.  Print out the first 2 contacts\n",
    "print(contact_book)\n",
    "\n",
    "# save all the items in the dictionary \n",
    "c_items = contact_book.items()\n",
    "\n",
    "# convert the items into a list by using list() function\n",
    "first_two = list(c_items)\n",
    "print(\"\\n\")\n",
    "\n",
    "# print out first two items on the list\n",
    "i = 0\n",
    "print(\"First two contacts are : \")\n",
    "while i < 2:\n",
    "  print(first_two[i])\n",
    "  i += 1\n",
    "\n",
    "print(\"\\n or \")\n",
    "# or slice first two in the list \n",
    "print(first_two[:2])"
   ]
  },
  {
   "cell_type": "code",
   "execution_count": 82,
   "metadata": {
    "colab": {
     "base_uri": "https://localhost:8080/"
    },
    "executionInfo": {
     "elapsed": 313,
     "status": "ok",
     "timestamp": 1627641385820,
     "user": {
      "displayName": "Eliud Munyala",
      "photoUrl": "",
      "userId": "09572496916808459189"
     },
     "user_tz": -180
    },
    "id": "vWPuQoNr9ZDC",
    "outputId": "e4f1232a-8485-463f-d400-64afb5d5a8cb"
   },
   "outputs": [
    {
     "name": "stdout",
     "output_type": "stream",
     "text": [
      "You have  5  number of contacts currently\n",
      "Newly added contactS are \n",
      " \n",
      "Thomas thomas@moringa.org\n",
      "Joseph joe@moringa.org\n",
      "Arnold arnold@moringa.org\n",
      "James james@moringa.org\n",
      "Jane jane@moringa.org\n"
     ]
    }
   ],
   "source": [
    "# Q3. Display the total no. of contacts left in the dictionary.\n",
    "# Add 2 new contacts in the dictionary. \n",
    "\n",
    "# convert dictionary to a list\n",
    "c_length = len(contact_book)\n",
    "\n",
    "print(\"You have \", c_length, \" number of contacts currently\")\n",
    "\n",
    "# addind two more contacts\n",
    "print(\"addeing contactS are \\n \")\n",
    "\n",
    "contact_book[\"James\"] = \"james@moringa.org\"\n",
    "contact_book[\"Jane\"] = \"jane@moringa.org\""
   ]
  },
  {
   "cell_type": "code",
   "execution_count": 90,
   "metadata": {
    "colab": {
     "base_uri": "https://localhost:8080/"
    },
    "executionInfo": {
     "elapsed": 416,
     "status": "ok",
     "timestamp": 1627641620905,
     "user": {
      "displayName": "Eliud Munyala",
      "photoUrl": "",
      "userId": "09572496916808459189"
     },
     "user_tz": -180
    },
    "id": "Yft0hYXe-3Z3",
    "outputId": "6c6478fa-e371-4c79-99a8-da1e9724b5bb"
   },
   "outputs": [
    {
     "name": "stdout",
     "output_type": "stream",
     "text": [
      "Name :  Thomas \n",
      "EMail :  thomas@moringa.org  \n",
      "\n",
      "Name :  Joseph \n",
      "EMail :  joe@moringa.org  \n",
      "\n",
      "Name :  Arnold \n",
      "EMail :  arnold@moringa.org  \n",
      "\n",
      "Name :  James \n",
      "EMail :  james@moringa.org  \n",
      "\n",
      "Name :  Jane \n",
      "EMail :  jane@moringa.org  \n",
      "\n"
     ]
    }
   ],
   "source": [
    "# Q4. print out all the contacts\n",
    "for name,mail in contact_book.items():\n",
    "  print(\"Name : \", name,\"\\nEMail : \", mail, \" \\n\")"
   ]
  }
 ],
 "metadata": {
  "colab": {
   "authorship_tag": "ABX9TyPbKwecGM5FuCxmwXkbtou1",
   "collapsed_sections": [],
   "name": "Moringa_Data_Science_Prep_W2_Independent_Project_2021_07_30_eliud_munyala_Python_Notebook.ipynb",
   "provenance": []
  },
  "kernelspec": {
   "display_name": "Python 3 (ipykernel)",
   "language": "python",
   "name": "python3"
  },
  "language_info": {
   "codemirror_mode": {
    "name": "ipython",
    "version": 3
   },
   "file_extension": ".py",
   "mimetype": "text/x-python",
   "name": "python",
   "nbconvert_exporter": "python",
   "pygments_lexer": "ipython3",
   "version": "3.10.5"
  }
 },
 "nbformat": 4,
 "nbformat_minor": 4
}
