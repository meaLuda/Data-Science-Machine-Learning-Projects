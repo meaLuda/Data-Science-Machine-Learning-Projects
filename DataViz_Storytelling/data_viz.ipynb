{
 "cells": [
  {
   "cell_type": "markdown",
   "id": "d0dd942e",
   "metadata": {},
   "source": [
    "# Basic Data Visiualization: \n",
    "- Bar graphs\n",
    "- Pie charts"
   ]
  },
  {
   "cell_type": "code",
   "execution_count": 1,
   "id": "f1f6a528-7855-4187-b544-1f45e5e34539",
   "metadata": {},
   "outputs": [
    {
     "name": "stderr",
     "output_type": "stream",
     "text": [
      "2022-04-27 07:15:03.111041: W tensorflow/stream_executor/platform/default/dso_loader.cc:64] Could not load dynamic library 'libcudart.so.11.0'; dlerror: libcudart.so.11.0: cannot open shared object file: No such file or directory\n",
      "2022-04-27 07:15:03.111144: I tensorflow/stream_executor/cuda/cudart_stub.cc:29] Ignore above cudart dlerror if you do not have a GPU set up on your machine.\n"
     ]
    }
   ],
   "source": [
    "# imports\n",
    "import tensorflow as tf"
   ]
  }
 ],
 "metadata": {
  "interpreter": {
   "hash": "b102dd91821e75c9f88fc330d6715d23f099a1db61992b7545bc720b1ce0384a"
  },
  "kernelspec": {
   "display_name": "Python 3.7.11 ('tensor_env')",
   "language": "python",
   "name": "python3"
  },
  "language_info": {
   "codemirror_mode": {
    "name": "ipython",
    "version": 3
   },
   "file_extension": ".py",
   "mimetype": "text/x-python",
   "name": "python",
   "nbconvert_exporter": "python",
   "pygments_lexer": "ipython3",
   "version": "3.8.10"
  }
 },
 "nbformat": 4,
 "nbformat_minor": 5
}
